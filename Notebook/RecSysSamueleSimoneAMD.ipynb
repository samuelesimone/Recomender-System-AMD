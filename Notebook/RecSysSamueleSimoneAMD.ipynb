{
  "cells": [
    {
      "cell_type": "markdown",
      "source": [
        "# System Specification"
      ],
      "metadata": {
        "id": "qmjbl2xmKWic"
      }
    },
    {
      "cell_type": "code",
      "source": [
        "!df -h"
      ],
      "metadata": {
        "colab": {
          "base_uri": "https://localhost:8080/"
        },
        "id": "c01rm5hUKbH4",
        "outputId": "6d62876a-71c7-4b70-8096-ef4b8a7b5e7b"
      },
      "execution_count": 1,
      "outputs": [
        {
          "output_type": "stream",
          "name": "stdout",
          "text": [
            "Filesystem      Size  Used Avail Use% Mounted on\n",
            "overlay         108G   24G   85G  22% /\n",
            "tmpfs            64M     0   64M   0% /dev\n",
            "shm             5.8G     0  5.8G   0% /dev/shm\n",
            "/dev/root       2.0G 1005M  952M  52% /usr/sbin/docker-init\n",
            "tmpfs           6.4G   88K  6.4G   1% /var/colab\n",
            "/dev/sda1        41G   25G   16G  61% /etc/hosts\n",
            "tmpfs           6.4G     0  6.4G   0% /proc/acpi\n",
            "tmpfs           6.4G     0  6.4G   0% /proc/scsi\n",
            "tmpfs           6.4G     0  6.4G   0% /sys/firmware\n"
          ]
        }
      ]
    },
    {
      "cell_type": "code",
      "source": [
        "!cat /proc/cpuinfo"
      ],
      "metadata": {
        "colab": {
          "base_uri": "https://localhost:8080/"
        },
        "id": "WWSiJS44KerV",
        "outputId": "035af936-9f67-4f56-94bc-59a947252273"
      },
      "execution_count": 2,
      "outputs": [
        {
          "output_type": "stream",
          "name": "stdout",
          "text": [
            "processor\t: 0\n",
            "vendor_id\t: GenuineIntel\n",
            "cpu family\t: 6\n",
            "model\t\t: 79\n",
            "model name\t: Intel(R) Xeon(R) CPU @ 2.20GHz\n",
            "stepping\t: 0\n",
            "microcode\t: 0xffffffff\n",
            "cpu MHz\t\t: 2200.220\n",
            "cache size\t: 56320 KB\n",
            "physical id\t: 0\n",
            "siblings\t: 2\n",
            "core id\t\t: 0\n",
            "cpu cores\t: 1\n",
            "apicid\t\t: 0\n",
            "initial apicid\t: 0\n",
            "fpu\t\t: yes\n",
            "fpu_exception\t: yes\n",
            "cpuid level\t: 13\n",
            "wp\t\t: yes\n",
            "flags\t\t: fpu vme de pse tsc msr pae mce cx8 apic sep mtrr pge mca cmov pat pse36 clflush mmx fxsr sse sse2 ss ht syscall nx pdpe1gb rdtscp lm constant_tsc rep_good nopl xtopology nonstop_tsc cpuid tsc_known_freq pni pclmulqdq ssse3 fma cx16 pcid sse4_1 sse4_2 x2apic movbe popcnt aes xsave avx f16c rdrand hypervisor lahf_lm abm 3dnowprefetch invpcid_single ssbd ibrs ibpb stibp fsgsbase tsc_adjust bmi1 hle avx2 smep bmi2 erms invpcid rtm rdseed adx smap xsaveopt arat md_clear arch_capabilities\n",
            "bugs\t\t: cpu_meltdown spectre_v1 spectre_v2 spec_store_bypass l1tf mds swapgs taa mmio_stale_data retbleed\n",
            "bogomips\t: 4400.44\n",
            "clflush size\t: 64\n",
            "cache_alignment\t: 64\n",
            "address sizes\t: 46 bits physical, 48 bits virtual\n",
            "power management:\n",
            "\n",
            "processor\t: 1\n",
            "vendor_id\t: GenuineIntel\n",
            "cpu family\t: 6\n",
            "model\t\t: 79\n",
            "model name\t: Intel(R) Xeon(R) CPU @ 2.20GHz\n",
            "stepping\t: 0\n",
            "microcode\t: 0xffffffff\n",
            "cpu MHz\t\t: 2200.220\n",
            "cache size\t: 56320 KB\n",
            "physical id\t: 0\n",
            "siblings\t: 2\n",
            "core id\t\t: 0\n",
            "cpu cores\t: 1\n",
            "apicid\t\t: 1\n",
            "initial apicid\t: 1\n",
            "fpu\t\t: yes\n",
            "fpu_exception\t: yes\n",
            "cpuid level\t: 13\n",
            "wp\t\t: yes\n",
            "flags\t\t: fpu vme de pse tsc msr pae mce cx8 apic sep mtrr pge mca cmov pat pse36 clflush mmx fxsr sse sse2 ss ht syscall nx pdpe1gb rdtscp lm constant_tsc rep_good nopl xtopology nonstop_tsc cpuid tsc_known_freq pni pclmulqdq ssse3 fma cx16 pcid sse4_1 sse4_2 x2apic movbe popcnt aes xsave avx f16c rdrand hypervisor lahf_lm abm 3dnowprefetch invpcid_single ssbd ibrs ibpb stibp fsgsbase tsc_adjust bmi1 hle avx2 smep bmi2 erms invpcid rtm rdseed adx smap xsaveopt arat md_clear arch_capabilities\n",
            "bugs\t\t: cpu_meltdown spectre_v1 spectre_v2 spec_store_bypass l1tf mds swapgs taa mmio_stale_data retbleed\n",
            "bogomips\t: 4400.44\n",
            "clflush size\t: 64\n",
            "cache_alignment\t: 64\n",
            "address sizes\t: 46 bits physical, 48 bits virtual\n",
            "power management:\n",
            "\n"
          ]
        }
      ]
    },
    {
      "cell_type": "code",
      "source": [
        "!cat /proc/meminfo"
      ],
      "metadata": {
        "colab": {
          "base_uri": "https://localhost:8080/"
        },
        "id": "mLgm-F_sKm6H",
        "outputId": "7c9979e1-fd93-4f76-dd04-f36088391f89"
      },
      "execution_count": 3,
      "outputs": [
        {
          "output_type": "stream",
          "name": "stdout",
          "text": [
            "MemTotal:       13294256 kB\n",
            "MemFree:         9443320 kB\n",
            "MemAvailable:   12163276 kB\n",
            "Buffers:           62556 kB\n",
            "Cached:          2851880 kB\n",
            "SwapCached:            0 kB\n",
            "Active:           833360 kB\n",
            "Inactive:        2793812 kB\n",
            "Active(anon):       1048 kB\n",
            "Inactive(anon):   713088 kB\n",
            "Active(file):     832312 kB\n",
            "Inactive(file):  2080724 kB\n",
            "Unevictable:           0 kB\n",
            "Mlocked:               0 kB\n",
            "SwapTotal:             0 kB\n",
            "SwapFree:              0 kB\n",
            "Dirty:              1912 kB\n",
            "Writeback:             0 kB\n",
            "AnonPages:        711964 kB\n",
            "Mapped:           280524 kB\n",
            "Shmem:              1400 kB\n",
            "KReclaimable:      96040 kB\n",
            "Slab:             130776 kB\n",
            "SReclaimable:      96040 kB\n",
            "SUnreclaim:        34736 kB\n",
            "KernelStack:        4464 kB\n",
            "PageTables:        14756 kB\n",
            "NFS_Unstable:          0 kB\n",
            "Bounce:                0 kB\n",
            "WritebackTmp:          0 kB\n",
            "CommitLimit:     6647128 kB\n",
            "Committed_AS:    1968160 kB\n",
            "VmallocTotal:   34359738367 kB\n",
            "VmallocUsed:        9428 kB\n",
            "VmallocChunk:          0 kB\n",
            "Percpu:             1296 kB\n",
            "HardwareCorrupted:     0 kB\n",
            "AnonHugePages:     16384 kB\n",
            "ShmemHugePages:        0 kB\n",
            "ShmemPmdMapped:        0 kB\n",
            "FileHugePages:         0 kB\n",
            "FilePmdMapped:         0 kB\n",
            "CmaTotal:              0 kB\n",
            "CmaFree:               0 kB\n",
            "HugePages_Total:       0\n",
            "HugePages_Free:        0\n",
            "HugePages_Rsvd:        0\n",
            "HugePages_Surp:        0\n",
            "Hugepagesize:       2048 kB\n",
            "Hugetlb:               0 kB\n",
            "DirectMap4k:       80696 kB\n",
            "DirectMap2M:     3061760 kB\n",
            "DirectMap1G:    12582912 kB\n"
          ]
        }
      ]
    },
    {
      "cell_type": "markdown",
      "metadata": {
        "id": "nc7kfjt5OGOT"
      },
      "source": [
        "# Environment settings"
      ]
    },
    {
      "cell_type": "markdown",
      "metadata": {
        "id": "YAyL4Xmzkz4b"
      },
      "source": [
        "PySpark installation"
      ]
    },
    {
      "cell_type": "code",
      "execution_count": 4,
      "metadata": {
        "colab": {
          "base_uri": "https://localhost:8080/"
        },
        "id": "EDTAAwnrkajE",
        "outputId": "35223906-030b-442f-d57e-be9e8b860f8a"
      },
      "outputs": [
        {
          "output_type": "stream",
          "name": "stdout",
          "text": [
            "\u001b[2K     \u001b[90m━━━━━━━━━━━━━━━━━━━━━━━━━━━━━━━━━━━━━━━\u001b[0m \u001b[32m310.8/310.8 MB\u001b[0m \u001b[31m4.6 MB/s\u001b[0m eta \u001b[36m0:00:00\u001b[0m\n",
            "\u001b[?25h  Preparing metadata (setup.py) ... \u001b[?25l\u001b[?25hdone\n",
            "  Building wheel for pyspark (setup.py) ... \u001b[?25l\u001b[?25hdone\n"
          ]
        }
      ],
      "source": [
        "!pip install pyspark -q"
      ]
    },
    {
      "cell_type": "markdown",
      "metadata": {
        "id": "no22ZyJ9IuE6"
      },
      "source": [
        "Loading all the libraries used in the project"
      ]
    },
    {
      "cell_type": "code",
      "execution_count": 5,
      "metadata": {
        "id": "H9mvXFQQIs2n"
      },
      "outputs": [],
      "source": [
        "#importing the required pyspark library\n",
        "import pyspark\n",
        "from pyspark import SparkConf\n",
        "from pyspark.sql import SparkSession\n",
        "from pyspark.ml.evaluation import RegressionEvaluator\n",
        "from pyspark.ml.recommendation import ALS\n",
        "from pyspark.sql.functions import split\n",
        "from pyspark.sql.functions import array_contains\n",
        "from pyspark.sql.functions import col\n",
        "from pyspark.sql.functions import from_json\n",
        "from pyspark.sql.functions import when\n",
        "from pyspark.sql import functions as F\n",
        "from pyspark.ml.feature import VectorAssembler\n",
        "from pyspark.ml.feature import StringIndexer\n",
        "from pyspark.ml.feature import MinMaxScaler\n",
        "from pyspark.ml.feature import Normalizer\n",
        "from pyspark.ml.linalg import Vectors\n",
        "from pyspark.sql import Row\n",
        "from pyspark.sql.window import Window\n",
        "#import for manage global var\n",
        "import os\n",
        "#import for graphics\n",
        "import matplotlib.pyplot as plt\n",
        "import pandas as pd\n",
        "#import for regular expression\n",
        "import re\n",
        "import numpy as np\n",
        "from sklearn.metrics.pairwise import cosine_similarity\n",
        "from sklearn.model_selection import train_test_split\n",
        "from sklearn.neighbors import KNeighborsClassifier\n",
        "from sklearn.model_selection import cross_val_score\n",
        "from sklearn.metrics import accuracy_score"
      ]
    },
    {
      "cell_type": "markdown",
      "metadata": {
        "id": "VBSBvu8vk7nb"
      },
      "source": [
        "Create envirorment pySpark and import libraries"
      ]
    },
    {
      "cell_type": "code",
      "execution_count": 6,
      "metadata": {
        "colab": {
          "base_uri": "https://localhost:8080/",
          "height": 216
        },
        "id": "czdRKR6zk48f",
        "outputId": "0044a6fe-a1eb-4d2c-e07c-0e195114d763"
      },
      "outputs": [
        {
          "output_type": "execute_result",
          "data": {
            "text/plain": [
              "<pyspark.sql.session.SparkSession at 0x7f3f56166b60>"
            ],
            "text/html": [
              "\n",
              "            <div>\n",
              "                <p><b>SparkSession - in-memory</b></p>\n",
              "                \n",
              "        <div>\n",
              "            <p><b>SparkContext</b></p>\n",
              "\n",
              "            <p><a href=\"http://605b7dcbf3a8:4040\">Spark UI</a></p>\n",
              "\n",
              "            <dl>\n",
              "              <dt>Version</dt>\n",
              "                <dd><code>v3.4.0</code></dd>\n",
              "              <dt>Master</dt>\n",
              "                <dd><code>local[*]</code></dd>\n",
              "              <dt>AppName</dt>\n",
              "                <dd><code>pyspark-shell</code></dd>\n",
              "            </dl>\n",
              "        </div>\n",
              "        \n",
              "            </div>\n",
              "        "
            ]
          },
          "metadata": {},
          "execution_count": 6
        }
      ],
      "source": [
        "# create a SparkConf object\n",
        "conf = SparkConf()\n",
        "conf.set(\"spark.kryoserializer.buffer.max\", \"1GB\")\n",
        "# Enable eager evaluation to show all rows\n",
        "conf.set(\"spark.sql.repl.eagerEval.enabled\", True)\n",
        "conf.set(\"spark.sql.pivotMaxValues\", \"180000\")\n",
        "conf.set(\"spark.executor.memory\", \"4g\")\n",
        "conf.set(\"spark.driver.memory\", \"8g\")\n",
        "\n",
        "# create a SparkSession with the configuration\n",
        "spark = SparkSession.builder.config(conf=conf).getOrCreate()\n",
        "\n",
        "#Setup Spark Session\n",
        "spark\n"
      ]
    },
    {
      "cell_type": "markdown",
      "metadata": {
        "id": "-i6VR9JbOULa"
      },
      "source": [
        "# Dataset management"
      ]
    },
    {
      "cell_type": "markdown",
      "metadata": {
        "id": "227P26UWk62M"
      },
      "source": [
        "Kaggle API and Donwload Datasets"
      ]
    },
    {
      "cell_type": "markdown",
      "metadata": {
        "id": "Zzz84a5xMUgb"
      },
      "source": [
        "Please remember to put your Kaggle credential before executing the cell."
      ]
    },
    {
      "cell_type": "code",
      "execution_count": 7,
      "metadata": {
        "id": "3BiSrbynlI-x"
      },
      "outputs": [],
      "source": [
        "os.environ['KAGGLE_USERNAME'] = \"X\"\n",
        "os.environ['KAGGLE_KEY'] = \"X\""
      ]
    },
    {
      "cell_type": "code",
      "execution_count": 8,
      "metadata": {
        "colab": {
          "base_uri": "https://localhost:8080/"
        },
        "id": "EeTKHC8elMeT",
        "outputId": "989db7de-351e-431b-8de0-e10270a4af6b"
      },
      "outputs": [
        {
          "output_type": "stream",
          "name": "stdout",
          "text": [
            "Downloading yelp-dataset.zip to /content\n",
            "100% 4.06G/4.07G [00:51<00:00, 51.1MB/s]\n",
            "100% 4.07G/4.07G [00:51<00:00, 85.0MB/s]\n"
          ]
        }
      ],
      "source": [
        "!kaggle datasets download -d yelp-dataset/yelp-dataset"
      ]
    },
    {
      "cell_type": "code",
      "execution_count": 9,
      "metadata": {
        "colab": {
          "base_uri": "https://localhost:8080/"
        },
        "id": "f2drW35jlshw",
        "outputId": "714f0d5b-17f5-470c-fcf2-52fa094bd83d"
      },
      "outputs": [
        {
          "output_type": "stream",
          "name": "stdout",
          "text": [
            "Archive:  /content/yelp-dataset.zip\n",
            "  inflating: yelp-dataset/Dataset_User_Agreement.pdf  \n",
            "  inflating: yelp-dataset/yelp_academic_dataset_business.json  \n",
            "  inflating: yelp-dataset/yelp_academic_dataset_checkin.json  \n",
            "  inflating: yelp-dataset/yelp_academic_dataset_review.json  \n",
            "  inflating: yelp-dataset/yelp_academic_dataset_tip.json  \n",
            "  inflating: yelp-dataset/yelp_academic_dataset_user.json  \n"
          ]
        }
      ],
      "source": [
        "! unzip \"/content/yelp-dataset.zip\" -d yelp-dataset"
      ]
    },
    {
      "cell_type": "markdown",
      "metadata": {
        "id": "N7on_NA-PAPA"
      },
      "source": [
        "# Loading data using Pyspark"
      ]
    },
    {
      "cell_type": "markdown",
      "metadata": {
        "id": "oQitscH-lP6i"
      },
      "source": [
        "Creations of Pyspark Dataframes"
      ]
    },
    {
      "cell_type": "code",
      "execution_count": 10,
      "metadata": {
        "id": "U6HxWE9glO9M"
      },
      "outputs": [],
      "source": [
        "df_review = spark.read.json('/content/yelp-dataset/yelp_academic_dataset_review.json')"
      ]
    },
    {
      "cell_type": "code",
      "execution_count": 11,
      "metadata": {
        "id": "nwfAOCdGlUAj"
      },
      "outputs": [],
      "source": [
        "df_review = df_review.withColumnRenamed('stars', 'stars_review')\n",
        "df_review = df_review.select(\"review_id\",\"user_id\",\"business_id\",\"stars_review\")"
      ]
    },
    {
      "cell_type": "code",
      "execution_count": 12,
      "metadata": {
        "colab": {
          "base_uri": "https://localhost:8080/"
        },
        "id": "9ojNWstXmFEI",
        "outputId": "a6356391-412c-4ee8-8dd5-16e72087c3fc"
      },
      "outputs": [
        {
          "output_type": "stream",
          "name": "stdout",
          "text": [
            "+--------------------+--------------------+--------------------+------------+\n",
            "|           review_id|             user_id|         business_id|stars_review|\n",
            "+--------------------+--------------------+--------------------+------------+\n",
            "|KU_O5udG6zpxOg-Vc...|mh_-eMZ6K5RLWhZyI...|XQfwVwDr-v0ZS3_Cb...|         3.0|\n",
            "|BiTunyQ73aT9WBnpR...|OyoGAe7OKpv6SyGZT...|7ATYjTIgM3jUlt4UM...|         5.0|\n",
            "|saUsX_uimxRlCVr67...|8g_iMtfSiwikVnbP2...|YjUWPpI6HXG530lwP...|         3.0|\n",
            "|AqPFMleE6RsU23_au...|_7bHUi9Uuf5__HHc_...|kxX2SOes4o-D3ZQBk...|         5.0|\n",
            "|Sx8TMOWLNuJBWer-0...|bcjbaE6dDog4jkNY9...|e4Vwtrqf-wpJfwesg...|         4.0|\n",
            "+--------------------+--------------------+--------------------+------------+\n",
            "only showing top 5 rows\n",
            "\n"
          ]
        }
      ],
      "source": [
        "df_review.show(5)"
      ]
    },
    {
      "cell_type": "code",
      "execution_count": 13,
      "metadata": {
        "id": "lq0ZHVPdllKZ"
      },
      "outputs": [],
      "source": [
        "df_users = spark.read.json('/content/yelp-dataset/yelp_academic_dataset_user.json')"
      ]
    },
    {
      "cell_type": "code",
      "execution_count": 14,
      "metadata": {
        "id": "7tzyiVvtll7n"
      },
      "outputs": [],
      "source": [
        "df_users = df_users.withColumnRenamed('name', 'username')\n",
        "df_users = df_users.select(\"average_stars\",\"username\",\"user_id\")"
      ]
    },
    {
      "cell_type": "code",
      "execution_count": 15,
      "metadata": {
        "colab": {
          "base_uri": "https://localhost:8080/"
        },
        "id": "MhGF_xvmln6b",
        "outputId": "4ebbeb47-ccc0-4be3-e778-f6a95b16d883"
      },
      "outputs": [
        {
          "output_type": "stream",
          "name": "stdout",
          "text": [
            "+-------------+--------+--------------------+\n",
            "|average_stars|username|             user_id|\n",
            "+-------------+--------+--------------------+\n",
            "|         3.91|  Walker|qVc8ODYU5SZjKXVBg...|\n",
            "|         3.74|  Daniel|j14WgRoU_-2ZE1aw1...|\n",
            "|         3.32|   Steph|2WnXYQFK0hXEoTxPt...|\n",
            "|         4.27|    Gwen|SZDeASXq7o05mMNLs...|\n",
            "|         3.54|   Karen|hA5lMy-EnncsH4JoR...|\n",
            "+-------------+--------+--------------------+\n",
            "only showing top 5 rows\n",
            "\n"
          ]
        }
      ],
      "source": [
        "df_users.show(5)"
      ]
    },
    {
      "cell_type": "code",
      "execution_count": 16,
      "metadata": {
        "colab": {
          "base_uri": "https://localhost:8080/"
        },
        "id": "HKkDOfgjl5Mp",
        "outputId": "cc983608-7c6b-48ca-bd59-bfa08e66943e"
      },
      "outputs": [
        {
          "output_type": "stream",
          "name": "stdout",
          "text": [
            "+--------------------+--------------------+--------------------+--------------------+-------------+-------+--------------------+-----+-----+\n",
            "|             address|          attributes|         business_id|          categories|         city|is_open|                name|stars|state|\n",
            "+--------------------+--------------------+--------------------+--------------------+-------------+-------+--------------------+-----+-----+\n",
            "|1616 Chapala St, ...|{null, null, null...|Pns2l4eNsfO8kk83d...|Doctors, Traditio...|Santa Barbara|      0|Abby Rappoport, L...|  5.0|   CA|\n",
            "|87 Grasso Plaza S...|{null, null, null...|mpf3x-BjTdTEA3yCZ...|Shipping Centers,...|       Affton|      1|       The UPS Store|  3.0|   MO|\n",
            "|5255 E Broadway Blvd|{null, null, null...|tUFrWirKiKi_TAnsV...|Department Stores...|       Tucson|      0|              Target|  3.5|   AZ|\n",
            "|         935 Race St|{null, null, u'no...|MTSW4McQd7CbVtyjq...|Restaurants, Food...| Philadelphia|      1|  St Honore Pastries|  4.0|   PA|\n",
            "|       101 Walnut St|{null, null, null...|mWMc6_wTdE0EUBKIG...|Brewpubs, Breweri...|   Green Lane|      1|Perkiomen Valley ...|  4.5|   PA|\n",
            "+--------------------+--------------------+--------------------+--------------------+-------------+-------+--------------------+-----+-----+\n",
            "only showing top 5 rows\n",
            "\n"
          ]
        }
      ],
      "source": [
        "df_business = spark.read.json('/content/yelp-dataset/yelp_academic_dataset_business.json')\n",
        "columns_to_drop = [\"hours\",\"latitude\",\"longitude\",\"postal_code\",\"review_count\"]\n",
        "df_business = df_business.drop(*columns_to_drop)\n",
        "df_business.show(5)"
      ]
    },
    {
      "cell_type": "markdown",
      "metadata": {
        "id": "Vcp9DwuTPQB4"
      },
      "source": [
        "# Exploring the dataset by visualization"
      ]
    },
    {
      "cell_type": "markdown",
      "metadata": {
        "id": "lrbuaoUNmWSj"
      },
      "source": [
        "Visualization of the data"
      ]
    },
    {
      "cell_type": "code",
      "execution_count": 17,
      "metadata": {
        "id": "-HyUdnNypfMb"
      },
      "outputs": [],
      "source": [
        "# Pyspark df conversion into Pandas df\n",
        "df_business_pandas = df_business.toPandas()"
      ]
    },
    {
      "cell_type": "code",
      "execution_count": 18,
      "metadata": {
        "colab": {
          "base_uri": "https://localhost:8080/",
          "height": 580
        },
        "id": "zaVDDNRMmYU0",
        "outputId": "c1b6d12d-bedb-448c-f70a-d5bae4606138"
      },
      "outputs": [
        {
          "output_type": "display_data",
          "data": {
            "text/plain": [
              "<Figure size 1000x600 with 1 Axes>"
            ],
            "image/png": "[encoded data removed]"
          },
          "metadata": {}
        }
      ],
      "source": [
        "# Counting business for each state\n",
        "state_counts = df_business_pandas['state'].value_counts()\n",
        "\n",
        "# Plot the data\n",
        "plt.figure(figsize=(10, 6))\n",
        "state_counts.plot(kind='bar')\n",
        "plt.xlabel('State')\n",
        "plt.ylabel('Count')\n",
        "plt.title('Business counting per state')\n",
        "plt.show()"
      ]
    },
    {
      "cell_type": "markdown",
      "metadata": {
        "id": "nF6cWClRWtBr"
      },
      "source": [
        "Due the high dimension of the df it's difficult to create others type of graphics."
      ]
    },
    {
      "cell_type": "markdown",
      "metadata": {
        "id": "jtZpSL4RPcLx"
      },
      "source": [
        "# Data filtering & Pandas conversion"
      ]
    },
    {
      "cell_type": "markdown",
      "metadata": {
        "id": "oSGl5kt6m2oa"
      },
      "source": [
        "Based on the visualization of the data I'm proceeding to create a recomender system for Pennsylvania that contains more businesses. Then I consider only open businesses.\n",
        "\n",
        "However I put a variable called *state* in order to choose in which states you want to run the Recomender System and a variable called *type_business* to change categories."
      ]
    },
    {
      "cell_type": "code",
      "execution_count": 19,
      "metadata": {
        "id": "dRDzbrLpoqh_"
      },
      "outputs": [],
      "source": [
        "state = 'PA'"
      ]
    },
    {
      "cell_type": "code",
      "execution_count": 20,
      "metadata": {
        "id": "h36OJHZpp-PZ"
      },
      "outputs": [],
      "source": [
        "type_business='Restaurant.*'"
      ]
    },
    {
      "cell_type": "code",
      "execution_count": 21,
      "metadata": {
        "id": "oBcZNpp9ms2P"
      },
      "outputs": [],
      "source": [
        "# Filtering data\n",
        "restaurant_df = df_business_pandas[(df_business_pandas['state'] == state) & (df_business_pandas['is_open'] == 1) & df_business_pandas['categories'].str.contains(type_business)==True].reset_index()"
      ]
    },
    {
      "cell_type": "code",
      "execution_count": 22,
      "metadata": {
        "colab": {
          "base_uri": "https://localhost:8080/",
          "height": 990
        },
        "id": "vIlAbohxm1pQ",
        "outputId": "873c0987-6074-47c1-efea-a1022e83f705"
      },
      "outputs": [
        {
          "output_type": "execute_result",
          "data": {
            "text/plain": [
              "       index             address  \\\n",
              "0          3         935 Race St   \n",
              "1         15         205 Race St   \n",
              "2         19       1224 South St   \n",
              "3         33   10 Rittenhouse Pl   \n",
              "4         35  901 N Delaware Ave   \n",
              "...      ...                 ...   \n",
              "8067  150269           3 Main St   \n",
              "8068  150297  600 Baltimore Pike   \n",
              "8069  150306      6024 Ridge Ave   \n",
              "8070  150325     19 N Bishop Ave   \n",
              "8071  150336       1108 S 9th St   \n",
              "\n",
              "                                             attributes  \\\n",
              "0     (None, None, u'none', None, None, None, None, ...   \n",
              "1     (None, None, 'full_bar', {'touristy': False, '...   \n",
              "2     (None, None, u'none', {'touristy': False, 'hip...   \n",
              "3     (None, None, u'none', {'romantic': False, 'int...   \n",
              "4     (None, None, None, {'touristy': False, 'hipste...   \n",
              "...                                                 ...   \n",
              "8067  (None, None, None, {'touristy': False, 'hipste...   \n",
              "8068  (None, None, None, {'touristy': False, 'hipste...   \n",
              "8069  (None, None, u'none', {'touristy': None, 'hips...   \n",
              "8070  (None, None, None, None, None, None, None, Tru...   \n",
              "8071  (None, None, u'none', {'touristy': None, 'hips...   \n",
              "\n",
              "                 business_id  \\\n",
              "0     MTSW4McQd7CbVtyjqoe9mw   \n",
              "1     MUTTqe8uqyMdBl186RmNeA   \n",
              "2     ROeacJQwBeh05Rqg7F6TCg   \n",
              "3     kV_Q1oqis8Qli8dUoGpTyQ   \n",
              "4     aPNXGTDkf-4bjhyMBQxqpQ   \n",
              "...                      ...   \n",
              "8067  2dVJ7R-3JMmu2v4DJYtBbw   \n",
              "8068  Wko0HNelt55ZIp3Dm3eD2g   \n",
              "8069  wVxXRFf10zTTAs11nr4xeA   \n",
              "8070  l9eLGG9ZKpLJzboZq-9LRQ   \n",
              "8071  WnT9NIzQgLlILjPT0kEcsQ   \n",
              "\n",
              "                                             categories             city  \\\n",
              "0     Restaurants, Food, Bubble Tea, Coffee & Tea, B...     Philadelphia   \n",
              "1                     Sushi Bars, Restaurants, Japanese     Philadelphia   \n",
              "2                                   Korean, Restaurants     Philadelphia   \n",
              "3                                    Pizza, Restaurants          Ardmore   \n",
              "4     Eatertainment, Arts & Entertainment, Brewpubs,...     Philadelphia   \n",
              "...                                                 ...              ...   \n",
              "8067  Nightlife, Cafes, Hotels, Bars, Hotels & Trave...    Schwenksville   \n",
              "8068  Convenience Stores, Sandwiches, Restaurants, F...      Springfield   \n",
              "8069  Restaurants, Specialty Food, Food, Sandwiches,...     Philadelphia   \n",
              "8070  Restaurants, Sandwiches, Convenience Stores, C...  Clifton Heights   \n",
              "8071                               Restaurants, Mexican     Philadelphia   \n",
              "\n",
              "      is_open                           name  stars state  \n",
              "0           1             St Honore Pastries    4.0    PA  \n",
              "1           1                       Tuna Bar    4.0    PA  \n",
              "2           1                            BAP    4.5    PA  \n",
              "3           1                  Ardmore Pizza    3.5    PA  \n",
              "4           1                     Craft Hall    3.5    PA  \n",
              "...       ...                            ...    ...   ...  \n",
              "8067        1             Spring Mount Hotel    2.0    PA  \n",
              "8068        1              Swiss Farms Store    3.5    PA  \n",
              "8069        1                   PrimoHoagies    3.0    PA  \n",
              "8070        1                           Wawa    3.0    PA  \n",
              "8071        1  Adelita Taqueria & Restaurant    4.5    PA  \n",
              "\n",
              "[8072 rows x 10 columns]"
            ],
            "text/html": [
              "\n",
              "  <div id=\"df-31c739a5-c348-49e4-aeeb-051385eae086\">\n",
              "    <div class=\"colab-df-container\">\n",
              "      <div>\n",
              "<style scoped>\n",
              "    .dataframe tbody tr th:only-of-type {\n",
              "        vertical-align: middle;\n",
              "    }\n",
              "\n",
              "    .dataframe tbody tr th {\n",
              "        vertical-align: top;\n",
              "    }\n",
              "\n",
              "    .dataframe thead th {\n",
              "        text-align: right;\n",
              "    }\n",
              "</style>\n",
              "<table border=\"1\" class=\"dataframe\">\n",
              "  <thead>\n",
              "    <tr style=\"text-align: right;\">\n",
              "      <th></th>\n",
              "      <th>index</th>\n",
              "      <th>address</th>\n",
              "      <th>attributes</th>\n",
              "      <th>business_id</th>\n",
              "      <th>categories</th>\n",
              "      <th>city</th>\n",
              "      <th>is_open</th>\n",
              "      <th>name</th>\n",
              "      <th>stars</th>\n",
              "      <th>state</th>\n",
              "    </tr>\n",
              "  </thead>\n",
              "  <tbody>\n",
              "    <tr>\n",
              "      <th>0</th>\n",
              "      <td>3</td>\n",
              "      <td>935 Race St</td>\n",
              "      <td>(None, None, u'none', None, None, None, None, ...</td>\n",
              "      <td>MTSW4McQd7CbVtyjqoe9mw</td>\n",
              "      <td>Restaurants, Food, Bubble Tea, Coffee &amp; Tea, B...</td>\n",
              "      <td>Philadelphia</td>\n",
              "      <td>1</td>\n",
              "      <td>St Honore Pastries</td>\n",
              "      <td>4.0</td>\n",
              "      <td>PA</td>\n",
              "    </tr>\n",
              "    <tr>\n",
              "      <th>1</th>\n",
              "      <td>15</td>\n",
              "      <td>205 Race St</td>\n",
              "      <td>(None, None, 'full_bar', {'touristy': False, '...</td>\n",
              "      <td>MUTTqe8uqyMdBl186RmNeA</td>\n",
              "      <td>Sushi Bars, Restaurants, Japanese</td>\n",
              "      <td>Philadelphia</td>\n",
              "      <td>1</td>\n",
              "      <td>Tuna Bar</td>\n",
              "      <td>4.0</td>\n",
              "      <td>PA</td>\n",
              "    </tr>\n",
              "    <tr>\n",
              "      <th>2</th>\n",
              "      <td>19</td>\n",
              "      <td>1224 South St</td>\n",
              "      <td>(None, None, u'none', {'touristy': False, 'hip...</td>\n",
              "      <td>ROeacJQwBeh05Rqg7F6TCg</td>\n",
              "      <td>Korean, Restaurants</td>\n",
              "      <td>Philadelphia</td>\n",
              "      <td>1</td>\n",
              "      <td>BAP</td>\n",
              "      <td>4.5</td>\n",
              "      <td>PA</td>\n",
              "    </tr>\n",
              "    <tr>\n",
              "      <th>3</th>\n",
              "      <td>33</td>\n",
              "      <td>10 Rittenhouse Pl</td>\n",
              "      <td>(None, None, u'none', {'romantic': False, 'int...</td>\n",
              "      <td>kV_Q1oqis8Qli8dUoGpTyQ</td>\n",
              "      <td>Pizza, Restaurants</td>\n",
              "      <td>Ardmore</td>\n",
              "      <td>1</td>\n",
              "      <td>Ardmore Pizza</td>\n",
              "      <td>3.5</td>\n",
              "      <td>PA</td>\n",
              "    </tr>\n",
              "    <tr>\n",
              "      <th>4</th>\n",
              "      <td>35</td>\n",
              "      <td>901 N Delaware Ave</td>\n",
              "      <td>(None, None, None, {'touristy': False, 'hipste...</td>\n",
              "      <td>aPNXGTDkf-4bjhyMBQxqpQ</td>\n",
              "      <td>Eatertainment, Arts &amp; Entertainment, Brewpubs,...</td>\n",
              "      <td>Philadelphia</td>\n",
              "      <td>1</td>\n",
              "      <td>Craft Hall</td>\n",
              "      <td>3.5</td>\n",
              "      <td>PA</td>\n",
              "    </tr>\n",
              "    <tr>\n",
              "      <th>...</th>\n",
              "      <td>...</td>\n",
              "      <td>...</td>\n",
              "      <td>...</td>\n",
              "      <td>...</td>\n",
              "      <td>...</td>\n",
              "      <td>...</td>\n",
              "      <td>...</td>\n",
              "      <td>...</td>\n",
              "      <td>...</td>\n",
              "      <td>...</td>\n",
              "    </tr>\n",
              "    <tr>\n",
              "      <th>8067</th>\n",
              "      <td>150269</td>\n",
              "      <td>3 Main St</td>\n",
              "      <td>(None, None, None, {'touristy': False, 'hipste...</td>\n",
              "      <td>2dVJ7R-3JMmu2v4DJYtBbw</td>\n",
              "      <td>Nightlife, Cafes, Hotels, Bars, Hotels &amp; Trave...</td>\n",
              "      <td>Schwenksville</td>\n",
              "      <td>1</td>\n",
              "      <td>Spring Mount Hotel</td>\n",
              "      <td>2.0</td>\n",
              "      <td>PA</td>\n",
              "    </tr>\n",
              "    <tr>\n",
              "      <th>8068</th>\n",
              "      <td>150297</td>\n",
              "      <td>600 Baltimore Pike</td>\n",
              "      <td>(None, None, None, {'touristy': False, 'hipste...</td>\n",
              "      <td>Wko0HNelt55ZIp3Dm3eD2g</td>\n",
              "      <td>Convenience Stores, Sandwiches, Restaurants, F...</td>\n",
              "      <td>Springfield</td>\n",
              "      <td>1</td>\n",
              "      <td>Swiss Farms Store</td>\n",
              "      <td>3.5</td>\n",
              "      <td>PA</td>\n",
              "    </tr>\n",
              "    <tr>\n",
              "      <th>8069</th>\n",
              "      <td>150306</td>\n",
              "      <td>6024 Ridge Ave</td>\n",
              "      <td>(None, None, u'none', {'touristy': None, 'hips...</td>\n",
              "      <td>wVxXRFf10zTTAs11nr4xeA</td>\n",
              "      <td>Restaurants, Specialty Food, Food, Sandwiches,...</td>\n",
              "      <td>Philadelphia</td>\n",
              "      <td>1</td>\n",
              "      <td>PrimoHoagies</td>\n",
              "      <td>3.0</td>\n",
              "      <td>PA</td>\n",
              "    </tr>\n",
              "    <tr>\n",
              "      <th>8070</th>\n",
              "      <td>150325</td>\n",
              "      <td>19 N Bishop Ave</td>\n",
              "      <td>(None, None, None, None, None, None, None, Tru...</td>\n",
              "      <td>l9eLGG9ZKpLJzboZq-9LRQ</td>\n",
              "      <td>Restaurants, Sandwiches, Convenience Stores, C...</td>\n",
              "      <td>Clifton Heights</td>\n",
              "      <td>1</td>\n",
              "      <td>Wawa</td>\n",
              "      <td>3.0</td>\n",
              "      <td>PA</td>\n",
              "    </tr>\n",
              "    <tr>\n",
              "      <th>8071</th>\n",
              "      <td>150336</td>\n",
              "      <td>1108 S 9th St</td>\n",
              "      <td>(None, None, u'none', {'touristy': None, 'hips...</td>\n",
              "      <td>WnT9NIzQgLlILjPT0kEcsQ</td>\n",
              "      <td>Restaurants, Mexican</td>\n",
              "      <td>Philadelphia</td>\n",
              "      <td>1</td>\n",
              "      <td>Adelita Taqueria &amp; Restaurant</td>\n",
              "      <td>4.5</td>\n",
              "      <td>PA</td>\n",
              "    </tr>\n",
              "  </tbody>\n",
              "</table>\n",
              "<p>8072 rows × 10 columns</p>\n",
              "</div>\n",
              "      <button class=\"colab-df-convert\" onclick=\"convertToInteractive('df-31c739a5-c348-49e4-aeeb-051385eae086')\"\n",
              "              title=\"Convert this dataframe to an interactive table.\"\n",
              "              style=\"display:none;\">\n",
              "        \n",
              "  <svg xmlns=\"http://www.w3.org/2000/svg\" height=\"24px\"viewBox=\"0 0 24 24\"\n",
              "       width=\"24px\">\n",
              "    <path d=\"M0 0h24v24H0V0z\" fill=\"none\"/>\n",
              "    <path d=\"M18.56 5.44l.94 2.06.94-2.06 2.06-.94-2.06-.94-.94-2.06-.94 2.06-2.06.94zm-11 1L8.5 8.5l.94-2.06 2.06-.94-2.06-.94L8.5 2.5l-.94 2.06-2.06.94zm10 10l.94 2.06.94-2.06 2.06-.94-2.06-.94-.94-2.06-.94 2.06-2.06.94z\"/><path d=\"M17.41 7.96l-1.37-1.37c-.4-.4-.92-.59-1.43-.59-.52 0-1.04.2-1.43.59L10.3 9.45l-7.72 7.72c-.78.78-.78 2.05 0 2.83L4 21.41c.39.39.9.59 1.41.59.51 0 1.02-.2 1.41-.59l7.78-7.78 2.81-2.81c.8-.78.8-2.07 0-2.86zM5.41 20L4 18.59l7.72-7.72 1.47 1.35L5.41 20z\"/>\n",
              "  </svg>\n",
              "      </button>\n",
              "      \n",
              "  <style>\n",
              "    .colab-df-container {\n",
              "      display:flex;\n",
              "      flex-wrap:wrap;\n",
              "      gap: 12px;\n",
              "    }\n",
              "\n",
              "    .colab-df-convert {\n",
              "      background-color: #E8F0FE;\n",
              "      border: none;\n",
              "      border-radius: 50%;\n",
              "      cursor: pointer;\n",
              "      display: none;\n",
              "      fill: #1967D2;\n",
              "      height: 32px;\n",
              "      padding: 0 0 0 0;\n",
              "      width: 32px;\n",
              "    }\n",
              "\n",
              "    .colab-df-convert:hover {\n",
              "      background-color: #E2EBFA;\n",
              "      box-shadow: 0px 1px 2px rgba(60, 64, 67, 0.3), 0px 1px 3px 1px rgba(60, 64, 67, 0.15);\n",
              "      fill: #174EA6;\n",
              "    }\n",
              "\n",
              "    [theme=dark] .colab-df-convert {\n",
              "      background-color: #3B4455;\n",
              "      fill: #D2E3FC;\n",
              "    }\n",
              "\n",
              "    [theme=dark] .colab-df-convert:hover {\n",
              "      background-color: #434B5C;\n",
              "      box-shadow: 0px 1px 3px 1px rgba(0, 0, 0, 0.15);\n",
              "      filter: drop-shadow(0px 1px 2px rgba(0, 0, 0, 0.3));\n",
              "      fill: #FFFFFF;\n",
              "    }\n",
              "  </style>\n",
              "\n",
              "      <script>\n",
              "        const buttonEl =\n",
              "          document.querySelector('#df-31c739a5-c348-49e4-aeeb-051385eae086 button.colab-df-convert');\n",
              "        buttonEl.style.display =\n",
              "          google.colab.kernel.accessAllowed ? 'block' : 'none';\n",
              "\n",
              "        async function convertToInteractive(key) {\n",
              "          const element = document.querySelector('#df-31c739a5-c348-49e4-aeeb-051385eae086');\n",
              "          const dataTable =\n",
              "            await google.colab.kernel.invokeFunction('convertToInteractive',\n",
              "                                                     [key], {});\n",
              "          if (!dataTable) return;\n",
              "\n",
              "          const docLinkHtml = 'Like what you see? Visit the ' +\n",
              "            '<a target=\"_blank\" href=https://colab.research.google.com/notebooks/data_table.ipynb>data table notebook</a>'\n",
              "            + ' to learn more about interactive tables.';\n",
              "          element.innerHTML = '';\n",
              "          dataTable['output_type'] = 'display_data';\n",
              "          await google.colab.output.renderOutput(dataTable, element);\n",
              "          const docLink = document.createElement('div');\n",
              "          docLink.innerHTML = docLinkHtml;\n",
              "          element.appendChild(docLink);\n",
              "        }\n",
              "      </script>\n",
              "    </div>\n",
              "  </div>\n",
              "  "
            ]
          },
          "metadata": {},
          "execution_count": 22
        }
      ],
      "source": [
        "restaurant_df"
      ]
    },
    {
      "cell_type": "code",
      "execution_count": 23,
      "metadata": {
        "colab": {
          "base_uri": "https://localhost:8080/",
          "height": 419
        },
        "id": "MY0HlU0Vp2Mf",
        "outputId": "e673db42-f374-4797-f7a3-6e06c40729ed"
      },
      "outputs": [
        {
          "output_type": "execute_result",
          "data": {
            "text/plain": [
              "                               name  stars\n",
              "0                St Honore Pastries    4.0\n",
              "1                          Tuna Bar    4.0\n",
              "2                               BAP    4.5\n",
              "3                     Ardmore Pizza    3.5\n",
              "4                        Craft Hall    3.5\n",
              "...                             ...    ...\n",
              "8067             Spring Mount Hotel    2.0\n",
              "8068              Swiss Farms Store    3.5\n",
              "8069                   PrimoHoagies    3.0\n",
              "8070                           Wawa    3.0\n",
              "8071  Adelita Taqueria & Restaurant    4.5\n",
              "\n",
              "[8072 rows x 2 columns]"
            ],
            "text/html": [
              "\n",
              "  <div id=\"df-702f0ae3-638a-4f77-8e9b-04e6435814f8\">\n",
              "    <div class=\"colab-df-container\">\n",
              "      <div>\n",
              "<style scoped>\n",
              "    .dataframe tbody tr th:only-of-type {\n",
              "        vertical-align: middle;\n",
              "    }\n",
              "\n",
              "    .dataframe tbody tr th {\n",
              "        vertical-align: top;\n",
              "    }\n",
              "\n",
              "    .dataframe thead th {\n",
              "        text-align: right;\n",
              "    }\n",
              "</style>\n",
              "<table border=\"1\" class=\"dataframe\">\n",
              "  <thead>\n",
              "    <tr style=\"text-align: right;\">\n",
              "      <th></th>\n",
              "      <th>name</th>\n",
              "      <th>stars</th>\n",
              "    </tr>\n",
              "  </thead>\n",
              "  <tbody>\n",
              "    <tr>\n",
              "      <th>0</th>\n",
              "      <td>St Honore Pastries</td>\n",
              "      <td>4.0</td>\n",
              "    </tr>\n",
              "    <tr>\n",
              "      <th>1</th>\n",
              "      <td>Tuna Bar</td>\n",
              "      <td>4.0</td>\n",
              "    </tr>\n",
              "    <tr>\n",
              "      <th>2</th>\n",
              "      <td>BAP</td>\n",
              "      <td>4.5</td>\n",
              "    </tr>\n",
              "    <tr>\n",
              "      <th>3</th>\n",
              "      <td>Ardmore Pizza</td>\n",
              "      <td>3.5</td>\n",
              "    </tr>\n",
              "    <tr>\n",
              "      <th>4</th>\n",
              "      <td>Craft Hall</td>\n",
              "      <td>3.5</td>\n",
              "    </tr>\n",
              "    <tr>\n",
              "      <th>...</th>\n",
              "      <td>...</td>\n",
              "      <td>...</td>\n",
              "    </tr>\n",
              "    <tr>\n",
              "      <th>8067</th>\n",
              "      <td>Spring Mount Hotel</td>\n",
              "      <td>2.0</td>\n",
              "    </tr>\n",
              "    <tr>\n",
              "      <th>8068</th>\n",
              "      <td>Swiss Farms Store</td>\n",
              "      <td>3.5</td>\n",
              "    </tr>\n",
              "    <tr>\n",
              "      <th>8069</th>\n",
              "      <td>PrimoHoagies</td>\n",
              "      <td>3.0</td>\n",
              "    </tr>\n",
              "    <tr>\n",
              "      <th>8070</th>\n",
              "      <td>Wawa</td>\n",
              "      <td>3.0</td>\n",
              "    </tr>\n",
              "    <tr>\n",
              "      <th>8071</th>\n",
              "      <td>Adelita Taqueria &amp; Restaurant</td>\n",
              "      <td>4.5</td>\n",
              "    </tr>\n",
              "  </tbody>\n",
              "</table>\n",
              "<p>8072 rows × 2 columns</p>\n",
              "</div>\n",
              "      <button class=\"colab-df-convert\" onclick=\"convertToInteractive('df-702f0ae3-638a-4f77-8e9b-04e6435814f8')\"\n",
              "              title=\"Convert this dataframe to an interactive table.\"\n",
              "              style=\"display:none;\">\n",
              "        \n",
              "  <svg xmlns=\"http://www.w3.org/2000/svg\" height=\"24px\"viewBox=\"0 0 24 24\"\n",
              "       width=\"24px\">\n",
              "    <path d=\"M0 0h24v24H0V0z\" fill=\"none\"/>\n",
              "    <path d=\"M18.56 5.44l.94 2.06.94-2.06 2.06-.94-2.06-.94-.94-2.06-.94 2.06-2.06.94zm-11 1L8.5 8.5l.94-2.06 2.06-.94-2.06-.94L8.5 2.5l-.94 2.06-2.06.94zm10 10l.94 2.06.94-2.06 2.06-.94-2.06-.94-.94-2.06-.94 2.06-2.06.94z\"/><path d=\"M17.41 7.96l-1.37-1.37c-.4-.4-.92-.59-1.43-.59-.52 0-1.04.2-1.43.59L10.3 9.45l-7.72 7.72c-.78.78-.78 2.05 0 2.83L4 21.41c.39.39.9.59 1.41.59.51 0 1.02-.2 1.41-.59l7.78-7.78 2.81-2.81c.8-.78.8-2.07 0-2.86zM5.41 20L4 18.59l7.72-7.72 1.47 1.35L5.41 20z\"/>\n",
              "  </svg>\n",
              "      </button>\n",
              "      \n",
              "  <style>\n",
              "    .colab-df-container {\n",
              "      display:flex;\n",
              "      flex-wrap:wrap;\n",
              "      gap: 12px;\n",
              "    }\n",
              "\n",
              "    .colab-df-convert {\n",
              "      background-color: #E8F0FE;\n",
              "      border: none;\n",
              "      border-radius: 50%;\n",
              "      cursor: pointer;\n",
              "      display: none;\n",
              "      fill: #1967D2;\n",
              "      height: 32px;\n",
              "      padding: 0 0 0 0;\n",
              "      width: 32px;\n",
              "    }\n",
              "\n",
              "    .colab-df-convert:hover {\n",
              "      background-color: #E2EBFA;\n",
              "      box-shadow: 0px 1px 2px rgba(60, 64, 67, 0.3), 0px 1px 3px 1px rgba(60, 64, 67, 0.15);\n",
              "      fill: #174EA6;\n",
              "    }\n",
              "\n",
              "    [theme=dark] .colab-df-convert {\n",
              "      background-color: #3B4455;\n",
              "      fill: #D2E3FC;\n",
              "    }\n",
              "\n",
              "    [theme=dark] .colab-df-convert:hover {\n",
              "      background-color: #434B5C;\n",
              "      box-shadow: 0px 1px 3px 1px rgba(0, 0, 0, 0.15);\n",
              "      filter: drop-shadow(0px 1px 2px rgba(0, 0, 0, 0.3));\n",
              "      fill: #FFFFFF;\n",
              "    }\n",
              "  </style>\n",
              "\n",
              "      <script>\n",
              "        const buttonEl =\n",
              "          document.querySelector('#df-702f0ae3-638a-4f77-8e9b-04e6435814f8 button.colab-df-convert');\n",
              "        buttonEl.style.display =\n",
              "          google.colab.kernel.accessAllowed ? 'block' : 'none';\n",
              "\n",
              "        async function convertToInteractive(key) {\n",
              "          const element = document.querySelector('#df-702f0ae3-638a-4f77-8e9b-04e6435814f8');\n",
              "          const dataTable =\n",
              "            await google.colab.kernel.invokeFunction('convertToInteractive',\n",
              "                                                     [key], {});\n",
              "          if (!dataTable) return;\n",
              "\n",
              "          const docLinkHtml = 'Like what you see? Visit the ' +\n",
              "            '<a target=\"_blank\" href=https://colab.research.google.com/notebooks/data_table.ipynb>data table notebook</a>'\n",
              "            + ' to learn more about interactive tables.';\n",
              "          element.innerHTML = '';\n",
              "          dataTable['output_type'] = 'display_data';\n",
              "          await google.colab.output.renderOutput(dataTable, element);\n",
              "          const docLink = document.createElement('div');\n",
              "          docLink.innerHTML = docLinkHtml;\n",
              "          element.appendChild(docLink);\n",
              "        }\n",
              "      </script>\n",
              "    </div>\n",
              "  </div>\n",
              "  "
            ]
          },
          "metadata": {},
          "execution_count": 23
        }
      ],
      "source": [
        "restaurant_df_sel = restaurant_df[['name','stars']]\n",
        "restaurant_df_sel"
      ]
    },
    {
      "cell_type": "markdown",
      "metadata": {
        "id": "YoGdVSW7PuDb"
      },
      "source": [
        "# Data Preprocessing"
      ]
    },
    {
      "cell_type": "markdown",
      "metadata": {
        "id": "3EBVxi9grMjF"
      },
      "source": [
        "Attributes extraction "
      ]
    },
    {
      "cell_type": "code",
      "execution_count": 24,
      "metadata": {
        "colab": {
          "base_uri": "https://localhost:8080/"
        },
        "id": "fUw10eJUrIGf",
        "outputId": "60a96f8e-8a86-4e5a-e778-b7091c2e69fc"
      },
      "outputs": [
        {
          "output_type": "stream",
          "name": "stdout",
          "text": [
            "Row(AcceptsInsurance=None, AgesAllowed=None, Alcohol=\"u'none'\", Ambience=None, BYOB=None, BYOBCorkage=None, BestNights=None, BikeParking='True', BusinessAcceptsBitcoin=None, BusinessAcceptsCreditCards='False', BusinessParking=\"{'garage': False, 'street': True, 'validated': False, 'lot': False, 'valet': False}\", ByAppointmentOnly='False', Caters='True', CoatCheck=None, Corkage=None, DietaryRestrictions=None, DogsAllowed=None, DriveThru=None, GoodForDancing=None, GoodForKids=None, GoodForMeal=None, HairSpecializesIn=None, HappyHour=None, HasTV=None, Music=None, NoiseLevel=None, Open24Hours=None, OutdoorSeating='False', RestaurantsAttire=None, RestaurantsCounterService=None, RestaurantsDelivery='False', RestaurantsGoodForGroups=None, RestaurantsPriceRange2='1', RestaurantsReservations=None, RestaurantsTableService=None, RestaurantsTakeOut='True', Smoking=None, WheelchairAccessible=None, WiFi=\"u'free'\")\n"
          ]
        }
      ],
      "source": [
        "print(restaurant_df['attributes'][0])"
      ]
    },
    {
      "cell_type": "markdown",
      "metadata": {
        "id": "6Gol8UoarRCA"
      },
      "source": [
        "From the format Row I want to extract key-value pairs"
      ]
    },
    {
      "cell_type": "code",
      "execution_count": 25,
      "metadata": {
        "id": "ltg9ZIrzrQRb"
      },
      "outputs": [],
      "source": [
        "# Function for extracting key-value from attributes\n",
        "def extract_values(row):\n",
        "    if row is None or row == \"{}\":\n",
        "        return {}\n",
        "    \n",
        "    attributes = {}\n",
        "    pattern = r\"(\\w+)\\s*=\\s*([^,]+)\"\n",
        "    matches = re.findall(pattern, row)\n",
        "    \n",
        "    for key, value in matches:\n",
        "        value = value.strip(\"'\")\n",
        "        attributes[key] = value\n",
        "    \n",
        "    return attributes\n",
        "\n",
        "# Apply the function over all the rows of column attributes\n",
        "restaurant_df['attributes'] = restaurant_df['attributes'].apply(str).apply(extract_values)\n"
      ]
    },
    {
      "cell_type": "code",
      "execution_count": 26,
      "metadata": {
        "id": "NcQThuLurvRF"
      },
      "outputs": [],
      "source": [
        "# Show the results"
      ]
    },
    {
      "cell_type": "code",
      "execution_count": 27,
      "metadata": {
        "colab": {
          "base_uri": "https://localhost:8080/"
        },
        "id": "-ttwKT8Or07s",
        "outputId": "a5df28f1-a631-43b7-d193-3f0aae2b69de"
      },
      "outputs": [
        {
          "output_type": "execute_result",
          "data": {
            "text/plain": [
              "0       {'AcceptsInsurance': 'None', 'AgesAllowed': 'N...\n",
              "1       {'AcceptsInsurance': 'None', 'AgesAllowed': 'N...\n",
              "2       {'AcceptsInsurance': 'None', 'AgesAllowed': 'N...\n",
              "3       {'AcceptsInsurance': 'None', 'AgesAllowed': 'N...\n",
              "4       {'AcceptsInsurance': 'None', 'AgesAllowed': 'N...\n",
              "                              ...                        \n",
              "8067    {'AcceptsInsurance': 'None', 'AgesAllowed': 'N...\n",
              "8068    {'AcceptsInsurance': 'None', 'AgesAllowed': 'N...\n",
              "8069    {'AcceptsInsurance': 'None', 'AgesAllowed': 'N...\n",
              "8070    {'AcceptsInsurance': 'None', 'AgesAllowed': 'N...\n",
              "8071    {'AcceptsInsurance': 'None', 'AgesAllowed': 'N...\n",
              "Name: attributes, Length: 8072, dtype: object"
            ]
          },
          "metadata": {},
          "execution_count": 27
        }
      ],
      "source": [
        "restaurant_df['attributes']"
      ]
    },
    {
      "cell_type": "code",
      "execution_count": 28,
      "metadata": {
        "id": "3Kn2LcH4r1f4"
      },
      "outputs": [],
      "source": [
        "# dummy variables matrix from categories column\n",
        "df_categories_dm = pd.Series(restaurant_df['categories']).str.get_dummies(',')"
      ]
    },
    {
      "cell_type": "code",
      "execution_count": 29,
      "metadata": {
        "colab": {
          "base_uri": "https://localhost:8080/",
          "height": 534
        },
        "id": "WLyEkTslsDJ7",
        "outputId": "3553d03e-174a-4fdb-e1af-875bffe42037"
      },
      "outputs": [
        {
          "output_type": "execute_result",
          "data": {
            "text/plain": [
              "       Acai Bowls   Accessories   Accountants   Active Life   Adult  \\\n",
              "0               0             0             0             0       0   \n",
              "1               0             0             0             0       0   \n",
              "2               0             0             0             0       0   \n",
              "3               0             0             0             0       0   \n",
              "4               0             0             0             0       0   \n",
              "...           ...           ...           ...           ...     ...   \n",
              "8067            0             0             0             0       0   \n",
              "8068            0             0             0             0       0   \n",
              "8069            0             0             0             0       0   \n",
              "8070            0             0             0             0       0   \n",
              "8071            0             0             0             0       0   \n",
              "\n",
              "       Adult Entertainment   Afghan   African   Airport Lounges  \\\n",
              "0                        0        0         0                 0   \n",
              "1                        0        0         0                 0   \n",
              "2                        0        0         0                 0   \n",
              "3                        0        0         0                 0   \n",
              "4                        0        0         0                 0   \n",
              "...                    ...      ...       ...               ...   \n",
              "8067                     0        0         0                 0   \n",
              "8068                     0        0         0                 0   \n",
              "8069                     0        0         0                 0   \n",
              "8070                     0        0         0                 0   \n",
              "8071                     0        0         0                 0   \n",
              "\n",
              "       Airport Shuttles  ...  Venues & Event Spaces  Video Game Stores  \\\n",
              "0                     0  ...                      0                  0   \n",
              "1                     0  ...                      0                  0   \n",
              "2                     0  ...                      0                  0   \n",
              "3                     0  ...                      0                  0   \n",
              "4                     0  ...                      0                  0   \n",
              "...                 ...  ...                    ...                ...   \n",
              "8067                  0  ...                      0                  0   \n",
              "8068                  0  ...                      0                  0   \n",
              "8069                  0  ...                      0                  0   \n",
              "8070                  0  ...                      0                  0   \n",
              "8071                  0  ...                      0                  0   \n",
              "\n",
              "      Vietnamese  Waffles  Wedding Planning  Wheel & Rim Repair  Wine Bars  \\\n",
              "0              0        0                 0                   0          0   \n",
              "1              0        0                 0                   0          0   \n",
              "2              0        0                 0                   0          0   \n",
              "3              0        0                 0                   0          0   \n",
              "4              0        0                 0                   0          0   \n",
              "...          ...      ...               ...                 ...        ...   \n",
              "8067           0        0                 0                   0          0   \n",
              "8068           0        0                 0                   0          0   \n",
              "8069           0        0                 0                   0          0   \n",
              "8070           0        0                 0                   0          0   \n",
              "8071           0        0                 0                   0          0   \n",
              "\n",
              "      Wineries  Wraps  Yoga  \n",
              "0            0      0     0  \n",
              "1            0      0     0  \n",
              "2            0      0     0  \n",
              "3            0      0     0  \n",
              "4            0      0     0  \n",
              "...        ...    ...   ...  \n",
              "8067         0      0     0  \n",
              "8068         0      0     0  \n",
              "8069         0      0     0  \n",
              "8070         0      0     0  \n",
              "8071         0      0     0  \n",
              "\n",
              "[8072 rows x 688 columns]"
            ],
            "text/html": [
              "\n",
              "  <div id=\"df-b987ca83-64af-49d0-aa28-d803bf8e863b\">\n",
              "    <div class=\"colab-df-container\">\n",
              "      <div>\n",
              "<style scoped>\n",
              "    .dataframe tbody tr th:only-of-type {\n",
              "        vertical-align: middle;\n",
              "    }\n",
              "\n",
              "    .dataframe tbody tr th {\n",
              "        vertical-align: top;\n",
              "    }\n",
              "\n",
              "    .dataframe thead th {\n",
              "        text-align: right;\n",
              "    }\n",
              "</style>\n",
              "<table border=\"1\" class=\"dataframe\">\n",
              "  <thead>\n",
              "    <tr style=\"text-align: right;\">\n",
              "      <th></th>\n",
              "      <th>Acai Bowls</th>\n",
              "      <th>Accessories</th>\n",
              "      <th>Accountants</th>\n",
              "      <th>Active Life</th>\n",
              "      <th>Adult</th>\n",
              "      <th>Adult Entertainment</th>\n",
              "      <th>Afghan</th>\n",
              "      <th>African</th>\n",
              "      <th>Airport Lounges</th>\n",
              "      <th>Airport Shuttles</th>\n",
              "      <th>...</th>\n",
              "      <th>Venues &amp; Event Spaces</th>\n",
              "      <th>Video Game Stores</th>\n",
              "      <th>Vietnamese</th>\n",
              "      <th>Waffles</th>\n",
              "      <th>Wedding Planning</th>\n",
              "      <th>Wheel &amp; Rim Repair</th>\n",
              "      <th>Wine Bars</th>\n",
              "      <th>Wineries</th>\n",
              "      <th>Wraps</th>\n",
              "      <th>Yoga</th>\n",
              "    </tr>\n",
              "  </thead>\n",
              "  <tbody>\n",
              "    <tr>\n",
              "      <th>0</th>\n",
              "      <td>0</td>\n",
              "      <td>0</td>\n",
              "      <td>0</td>\n",
              "      <td>0</td>\n",
              "      <td>0</td>\n",
              "      <td>0</td>\n",
              "      <td>0</td>\n",
              "      <td>0</td>\n",
              "      <td>0</td>\n",
              "      <td>0</td>\n",
              "      <td>...</td>\n",
              "      <td>0</td>\n",
              "      <td>0</td>\n",
              "      <td>0</td>\n",
              "      <td>0</td>\n",
              "      <td>0</td>\n",
              "      <td>0</td>\n",
              "      <td>0</td>\n",
              "      <td>0</td>\n",
              "      <td>0</td>\n",
              "      <td>0</td>\n",
              "    </tr>\n",
              "    <tr>\n",
              "      <th>1</th>\n",
              "      <td>0</td>\n",
              "      <td>0</td>\n",
              "      <td>0</td>\n",
              "      <td>0</td>\n",
              "      <td>0</td>\n",
              "      <td>0</td>\n",
              "      <td>0</td>\n",
              "      <td>0</td>\n",
              "      <td>0</td>\n",
              "      <td>0</td>\n",
              "      <td>...</td>\n",
              "      <td>0</td>\n",
              "      <td>0</td>\n",
              "      <td>0</td>\n",
              "      <td>0</td>\n",
              "      <td>0</td>\n",
              "      <td>0</td>\n",
              "      <td>0</td>\n",
              "      <td>0</td>\n",
              "      <td>0</td>\n",
              "      <td>0</td>\n",
              "    </tr>\n",
              "    <tr>\n",
              "      <th>2</th>\n",
              "      <td>0</td>\n",
              "      <td>0</td>\n",
              "      <td>0</td>\n",
              "      <td>0</td>\n",
              "      <td>0</td>\n",
              "      <td>0</td>\n",
              "      <td>0</td>\n",
              "      <td>0</td>\n",
              "      <td>0</td>\n",
              "      <td>0</td>\n",
              "      <td>...</td>\n",
              "      <td>0</td>\n",
              "      <td>0</td>\n",
              "      <td>0</td>\n",
              "      <td>0</td>\n",
              "      <td>0</td>\n",
              "      <td>0</td>\n",
              "      <td>0</td>\n",
              "      <td>0</td>\n",
              "      <td>0</td>\n",
              "      <td>0</td>\n",
              "    </tr>\n",
              "    <tr>\n",
              "      <th>3</th>\n",
              "      <td>0</td>\n",
              "      <td>0</td>\n",
              "      <td>0</td>\n",
              "      <td>0</td>\n",
              "      <td>0</td>\n",
              "      <td>0</td>\n",
              "      <td>0</td>\n",
              "      <td>0</td>\n",
              "      <td>0</td>\n",
              "      <td>0</td>\n",
              "      <td>...</td>\n",
              "      <td>0</td>\n",
              "      <td>0</td>\n",
              "      <td>0</td>\n",
              "      <td>0</td>\n",
              "      <td>0</td>\n",
              "      <td>0</td>\n",
              "      <td>0</td>\n",
              "      <td>0</td>\n",
              "      <td>0</td>\n",
              "      <td>0</td>\n",
              "    </tr>\n",
              "    <tr>\n",
              "      <th>4</th>\n",
              "      <td>0</td>\n",
              "      <td>0</td>\n",
              "      <td>0</td>\n",
              "      <td>0</td>\n",
              "      <td>0</td>\n",
              "      <td>0</td>\n",
              "      <td>0</td>\n",
              "      <td>0</td>\n",
              "      <td>0</td>\n",
              "      <td>0</td>\n",
              "      <td>...</td>\n",
              "      <td>0</td>\n",
              "      <td>0</td>\n",
              "      <td>0</td>\n",
              "      <td>0</td>\n",
              "      <td>0</td>\n",
              "      <td>0</td>\n",
              "      <td>0</td>\n",
              "      <td>0</td>\n",
              "      <td>0</td>\n",
              "      <td>0</td>\n",
              "    </tr>\n",
              "    <tr>\n",
              "      <th>...</th>\n",
              "      <td>...</td>\n",
              "      <td>...</td>\n",
              "      <td>...</td>\n",
              "      <td>...</td>\n",
              "      <td>...</td>\n",
              "      <td>...</td>\n",
              "      <td>...</td>\n",
              "      <td>...</td>\n",
              "      <td>...</td>\n",
              "      <td>...</td>\n",
              "      <td>...</td>\n",
              "      <td>...</td>\n",
              "      <td>...</td>\n",
              "      <td>...</td>\n",
              "      <td>...</td>\n",
              "      <td>...</td>\n",
              "      <td>...</td>\n",
              "      <td>...</td>\n",
              "      <td>...</td>\n",
              "      <td>...</td>\n",
              "      <td>...</td>\n",
              "    </tr>\n",
              "    <tr>\n",
              "      <th>8067</th>\n",
              "      <td>0</td>\n",
              "      <td>0</td>\n",
              "      <td>0</td>\n",
              "      <td>0</td>\n",
              "      <td>0</td>\n",
              "      <td>0</td>\n",
              "      <td>0</td>\n",
              "      <td>0</td>\n",
              "      <td>0</td>\n",
              "      <td>0</td>\n",
              "      <td>...</td>\n",
              "      <td>0</td>\n",
              "      <td>0</td>\n",
              "      <td>0</td>\n",
              "      <td>0</td>\n",
              "      <td>0</td>\n",
              "      <td>0</td>\n",
              "      <td>0</td>\n",
              "      <td>0</td>\n",
              "      <td>0</td>\n",
              "      <td>0</td>\n",
              "    </tr>\n",
              "    <tr>\n",
              "      <th>8068</th>\n",
              "      <td>0</td>\n",
              "      <td>0</td>\n",
              "      <td>0</td>\n",
              "      <td>0</td>\n",
              "      <td>0</td>\n",
              "      <td>0</td>\n",
              "      <td>0</td>\n",
              "      <td>0</td>\n",
              "      <td>0</td>\n",
              "      <td>0</td>\n",
              "      <td>...</td>\n",
              "      <td>0</td>\n",
              "      <td>0</td>\n",
              "      <td>0</td>\n",
              "      <td>0</td>\n",
              "      <td>0</td>\n",
              "      <td>0</td>\n",
              "      <td>0</td>\n",
              "      <td>0</td>\n",
              "      <td>0</td>\n",
              "      <td>0</td>\n",
              "    </tr>\n",
              "    <tr>\n",
              "      <th>8069</th>\n",
              "      <td>0</td>\n",
              "      <td>0</td>\n",
              "      <td>0</td>\n",
              "      <td>0</td>\n",
              "      <td>0</td>\n",
              "      <td>0</td>\n",
              "      <td>0</td>\n",
              "      <td>0</td>\n",
              "      <td>0</td>\n",
              "      <td>0</td>\n",
              "      <td>...</td>\n",
              "      <td>0</td>\n",
              "      <td>0</td>\n",
              "      <td>0</td>\n",
              "      <td>0</td>\n",
              "      <td>0</td>\n",
              "      <td>0</td>\n",
              "      <td>0</td>\n",
              "      <td>0</td>\n",
              "      <td>0</td>\n",
              "      <td>0</td>\n",
              "    </tr>\n",
              "    <tr>\n",
              "      <th>8070</th>\n",
              "      <td>0</td>\n",
              "      <td>0</td>\n",
              "      <td>0</td>\n",
              "      <td>0</td>\n",
              "      <td>0</td>\n",
              "      <td>0</td>\n",
              "      <td>0</td>\n",
              "      <td>0</td>\n",
              "      <td>0</td>\n",
              "      <td>0</td>\n",
              "      <td>...</td>\n",
              "      <td>0</td>\n",
              "      <td>0</td>\n",
              "      <td>0</td>\n",
              "      <td>0</td>\n",
              "      <td>0</td>\n",
              "      <td>0</td>\n",
              "      <td>0</td>\n",
              "      <td>0</td>\n",
              "      <td>0</td>\n",
              "      <td>0</td>\n",
              "    </tr>\n",
              "    <tr>\n",
              "      <th>8071</th>\n",
              "      <td>0</td>\n",
              "      <td>0</td>\n",
              "      <td>0</td>\n",
              "      <td>0</td>\n",
              "      <td>0</td>\n",
              "      <td>0</td>\n",
              "      <td>0</td>\n",
              "      <td>0</td>\n",
              "      <td>0</td>\n",
              "      <td>0</td>\n",
              "      <td>...</td>\n",
              "      <td>0</td>\n",
              "      <td>0</td>\n",
              "      <td>0</td>\n",
              "      <td>0</td>\n",
              "      <td>0</td>\n",
              "      <td>0</td>\n",
              "      <td>0</td>\n",
              "      <td>0</td>\n",
              "      <td>0</td>\n",
              "      <td>0</td>\n",
              "    </tr>\n",
              "  </tbody>\n",
              "</table>\n",
              "<p>8072 rows × 688 columns</p>\n",
              "</div>\n",
              "      <button class=\"colab-df-convert\" onclick=\"convertToInteractive('df-b987ca83-64af-49d0-aa28-d803bf8e863b')\"\n",
              "              title=\"Convert this dataframe to an interactive table.\"\n",
              "              style=\"display:none;\">\n",
              "        \n",
              "  <svg xmlns=\"http://www.w3.org/2000/svg\" height=\"24px\"viewBox=\"0 0 24 24\"\n",
              "       width=\"24px\">\n",
              "    <path d=\"M0 0h24v24H0V0z\" fill=\"none\"/>\n",
              "    <path d=\"M18.56 5.44l.94 2.06.94-2.06 2.06-.94-2.06-.94-.94-2.06-.94 2.06-2.06.94zm-11 1L8.5 8.5l.94-2.06 2.06-.94-2.06-.94L8.5 2.5l-.94 2.06-2.06.94zm10 10l.94 2.06.94-2.06 2.06-.94-2.06-.94-.94-2.06-.94 2.06-2.06.94z\"/><path d=\"M17.41 7.96l-1.37-1.37c-.4-.4-.92-.59-1.43-.59-.52 0-1.04.2-1.43.59L10.3 9.45l-7.72 7.72c-.78.78-.78 2.05 0 2.83L4 21.41c.39.39.9.59 1.41.59.51 0 1.02-.2 1.41-.59l7.78-7.78 2.81-2.81c.8-.78.8-2.07 0-2.86zM5.41 20L4 18.59l7.72-7.72 1.47 1.35L5.41 20z\"/>\n",
              "  </svg>\n",
              "      </button>\n",
              "      \n",
              "  <style>\n",
              "    .colab-df-container {\n",
              "      display:flex;\n",
              "      flex-wrap:wrap;\n",
              "      gap: 12px;\n",
              "    }\n",
              "\n",
              "    .colab-df-convert {\n",
              "      background-color: #E8F0FE;\n",
              "      border: none;\n",
              "      border-radius: 50%;\n",
              "      cursor: pointer;\n",
              "      display: none;\n",
              "      fill: #1967D2;\n",
              "      height: 32px;\n",
              "      padding: 0 0 0 0;\n",
              "      width: 32px;\n",
              "    }\n",
              "\n",
              "    .colab-df-convert:hover {\n",
              "      background-color: #E2EBFA;\n",
              "      box-shadow: 0px 1px 2px rgba(60, 64, 67, 0.3), 0px 1px 3px 1px rgba(60, 64, 67, 0.15);\n",
              "      fill: #174EA6;\n",
              "    }\n",
              "\n",
              "    [theme=dark] .colab-df-convert {\n",
              "      background-color: #3B4455;\n",
              "      fill: #D2E3FC;\n",
              "    }\n",
              "\n",
              "    [theme=dark] .colab-df-convert:hover {\n",
              "      background-color: #434B5C;\n",
              "      box-shadow: 0px 1px 3px 1px rgba(0, 0, 0, 0.15);\n",
              "      filter: drop-shadow(0px 1px 2px rgba(0, 0, 0, 0.3));\n",
              "      fill: #FFFFFF;\n",
              "    }\n",
              "  </style>\n",
              "\n",
              "      <script>\n",
              "        const buttonEl =\n",
              "          document.querySelector('#df-b987ca83-64af-49d0-aa28-d803bf8e863b button.colab-df-convert');\n",
              "        buttonEl.style.display =\n",
              "          google.colab.kernel.accessAllowed ? 'block' : 'none';\n",
              "\n",
              "        async function convertToInteractive(key) {\n",
              "          const element = document.querySelector('#df-b987ca83-64af-49d0-aa28-d803bf8e863b');\n",
              "          const dataTable =\n",
              "            await google.colab.kernel.invokeFunction('convertToInteractive',\n",
              "                                                     [key], {});\n",
              "          if (!dataTable) return;\n",
              "\n",
              "          const docLinkHtml = 'Like what you see? Visit the ' +\n",
              "            '<a target=\"_blank\" href=https://colab.research.google.com/notebooks/data_table.ipynb>data table notebook</a>'\n",
              "            + ' to learn more about interactive tables.';\n",
              "          element.innerHTML = '';\n",
              "          dataTable['output_type'] = 'display_data';\n",
              "          await google.colab.output.renderOutput(dataTable, element);\n",
              "          const docLink = document.createElement('div');\n",
              "          docLink.innerHTML = docLinkHtml;\n",
              "          element.appendChild(docLink);\n",
              "        }\n",
              "      </script>\n",
              "    </div>\n",
              "  </div>\n",
              "  "
            ]
          },
          "metadata": {},
          "execution_count": 29
        }
      ],
      "source": [
        "df_categories_dm"
      ]
    },
    {
      "cell_type": "code",
      "execution_count": 30,
      "metadata": {
        "id": "5HrkA5hxskII"
      },
      "outputs": [],
      "source": [
        "# Extract unique keys in \"attributes\"\n",
        "unique_keys = set()\n",
        "restaurant_df_attr = pd.DataFrame()\n",
        "def extract_keys(attributes):\n",
        "    if attributes:\n",
        "        unique_keys.update(attributes.keys())\n",
        "\n",
        "restaurant_df['attributes'].apply(extract_keys)\n",
        "\n",
        "# Create a column for each key and populate it with 0 or 1\n",
        "for key in unique_keys:\n",
        "    restaurant_df_attr[key] = restaurant_df['attributes'].apply(lambda x: 1 if x and key in x and x[key] == 'True' else 0)\n"
      ]
    },
    {
      "cell_type": "code",
      "execution_count": 31,
      "metadata": {
        "colab": {
          "base_uri": "https://localhost:8080/",
          "height": 483
        },
        "id": "-B-uH18zxPbQ",
        "outputId": "390a8900-8a39-40a8-a736-9852fcd3be74"
      },
      "outputs": [
        {
          "output_type": "execute_result",
          "data": {
            "text/plain": [
              "      BusinessParking  DietaryRestrictions  BYOBCorkage  RestaurantsTakeOut  \\\n",
              "0                   0                    0            0                   1   \n",
              "1                   0                    0            0                   1   \n",
              "2                   0                    0            0                   1   \n",
              "3                   0                    0            0                   1   \n",
              "4                   0                    0            0                   1   \n",
              "...               ...                  ...          ...                 ...   \n",
              "8067                0                    0            0                   0   \n",
              "8068                0                    0            0                   1   \n",
              "8069                0                    0            0                   1   \n",
              "8070                0                    0            0                   1   \n",
              "8071                0                    0            0                   1   \n",
              "\n",
              "      RestaurantsPriceRange2  Open24Hours  DriveThru  GoodForKids  \\\n",
              "0                          0            0          0            0   \n",
              "1                          0            0          0            0   \n",
              "2                          0            0          0            1   \n",
              "3                          0            0          0            1   \n",
              "4                          0            0          0            1   \n",
              "...                      ...          ...        ...          ...   \n",
              "8067                       0            0          0            0   \n",
              "8068                       0            0          0            1   \n",
              "8069                       0            0          0            1   \n",
              "8070                       0            0          0            0   \n",
              "8071                       0            0          0            1   \n",
              "\n",
              "      RestaurantsCounterService  BusinessAcceptsCreditCards  ...  \\\n",
              "0                             0                           0  ...   \n",
              "1                             0                           1  ...   \n",
              "2                             0                           1  ...   \n",
              "3                             0                           1  ...   \n",
              "4                             0                           1  ...   \n",
              "...                         ...                         ...  ...   \n",
              "8067                          0                           0  ...   \n",
              "8068                          0                           1  ...   \n",
              "8069                          0                           1  ...   \n",
              "8070                          0                           1  ...   \n",
              "8071                          0                           1  ...   \n",
              "\n",
              "      OutdoorSeating  Ambience  DogsAllowed  ByAppointmentOnly  BYOB  \\\n",
              "0                  0         0            0                  0     0   \n",
              "1                  1         0            0                  0     0   \n",
              "2                  0         0            0                  0     0   \n",
              "3                  0         0            0                  0     0   \n",
              "4                  1         0            1                  0     0   \n",
              "...              ...       ...          ...                ...   ...   \n",
              "8067               0         0            0                  0     0   \n",
              "8068               0         0            0                  0     0   \n",
              "8069               0         0            0                  0     0   \n",
              "8070               0         0            0                  0     0   \n",
              "8071               0         0            0                  0     0   \n",
              "\n",
              "      BikeParking  RestaurantsReservations  HasTV  BestNights  Corkage  \n",
              "0               1                        0      0           0        0  \n",
              "1               0                        1      0           0        0  \n",
              "2               1                        0      1           0        0  \n",
              "3               1                        0      1           0        0  \n",
              "4               0                        0      1           0        0  \n",
              "...           ...                      ...    ...         ...      ...  \n",
              "8067            0                        0      0           0        0  \n",
              "8068            0                        0      0           0        0  \n",
              "8069            1                        0      1           0        0  \n",
              "8070            1                        0      0           0        0  \n",
              "8071            1                        0      1           0        0  \n",
              "\n",
              "[8072 rows x 39 columns]"
            ],
            "text/html": [
              "\n",
              "  <div id=\"df-9698a9d4-3dd0-48bc-a1c0-1a0385dccde7\">\n",
              "    <div class=\"colab-df-container\">\n",
              "      <div>\n",
              "<style scoped>\n",
              "    .dataframe tbody tr th:only-of-type {\n",
              "        vertical-align: middle;\n",
              "    }\n",
              "\n",
              "    .dataframe tbody tr th {\n",
              "        vertical-align: top;\n",
              "    }\n",
              "\n",
              "    .dataframe thead th {\n",
              "        text-align: right;\n",
              "    }\n",
              "</style>\n",
              "<table border=\"1\" class=\"dataframe\">\n",
              "  <thead>\n",
              "    <tr style=\"text-align: right;\">\n",
              "      <th></th>\n",
              "      <th>BusinessParking</th>\n",
              "      <th>DietaryRestrictions</th>\n",
              "      <th>BYOBCorkage</th>\n",
              "      <th>RestaurantsTakeOut</th>\n",
              "      <th>RestaurantsPriceRange2</th>\n",
              "      <th>Open24Hours</th>\n",
              "      <th>DriveThru</th>\n",
              "      <th>GoodForKids</th>\n",
              "      <th>RestaurantsCounterService</th>\n",
              "      <th>BusinessAcceptsCreditCards</th>\n",
              "      <th>...</th>\n",
              "      <th>OutdoorSeating</th>\n",
              "      <th>Ambience</th>\n",
              "      <th>DogsAllowed</th>\n",
              "      <th>ByAppointmentOnly</th>\n",
              "      <th>BYOB</th>\n",
              "      <th>BikeParking</th>\n",
              "      <th>RestaurantsReservations</th>\n",
              "      <th>HasTV</th>\n",
              "      <th>BestNights</th>\n",
              "      <th>Corkage</th>\n",
              "    </tr>\n",
              "  </thead>\n",
              "  <tbody>\n",
              "    <tr>\n",
              "      <th>0</th>\n",
              "      <td>0</td>\n",
              "      <td>0</td>\n",
              "      <td>0</td>\n",
              "      <td>1</td>\n",
              "      <td>0</td>\n",
              "      <td>0</td>\n",
              "      <td>0</td>\n",
              "      <td>0</td>\n",
              "      <td>0</td>\n",
              "      <td>0</td>\n",
              "      <td>...</td>\n",
              "      <td>0</td>\n",
              "      <td>0</td>\n",
              "      <td>0</td>\n",
              "      <td>0</td>\n",
              "      <td>0</td>\n",
              "      <td>1</td>\n",
              "      <td>0</td>\n",
              "      <td>0</td>\n",
              "      <td>0</td>\n",
              "      <td>0</td>\n",
              "    </tr>\n",
              "    <tr>\n",
              "      <th>1</th>\n",
              "      <td>0</td>\n",
              "      <td>0</td>\n",
              "      <td>0</td>\n",
              "      <td>1</td>\n",
              "      <td>0</td>\n",
              "      <td>0</td>\n",
              "      <td>0</td>\n",
              "      <td>0</td>\n",
              "      <td>0</td>\n",
              "      <td>1</td>\n",
              "      <td>...</td>\n",
              "      <td>1</td>\n",
              "      <td>0</td>\n",
              "      <td>0</td>\n",
              "      <td>0</td>\n",
              "      <td>0</td>\n",
              "      <td>0</td>\n",
              "      <td>1</td>\n",
              "      <td>0</td>\n",
              "      <td>0</td>\n",
              "      <td>0</td>\n",
              "    </tr>\n",
              "    <tr>\n",
              "      <th>2</th>\n",
              "      <td>0</td>\n",
              "      <td>0</td>\n",
              "      <td>0</td>\n",
              "      <td>1</td>\n",
              "      <td>0</td>\n",
              "      <td>0</td>\n",
              "      <td>0</td>\n",
              "      <td>1</td>\n",
              "      <td>0</td>\n",
              "      <td>1</td>\n",
              "      <td>...</td>\n",
              "      <td>0</td>\n",
              "      <td>0</td>\n",
              "      <td>0</td>\n",
              "      <td>0</td>\n",
              "      <td>0</td>\n",
              "      <td>1</td>\n",
              "      <td>0</td>\n",
              "      <td>1</td>\n",
              "      <td>0</td>\n",
              "      <td>0</td>\n",
              "    </tr>\n",
              "    <tr>\n",
              "      <th>3</th>\n",
              "      <td>0</td>\n",
              "      <td>0</td>\n",
              "      <td>0</td>\n",
              "      <td>1</td>\n",
              "      <td>0</td>\n",
              "      <td>0</td>\n",
              "      <td>0</td>\n",
              "      <td>1</td>\n",
              "      <td>0</td>\n",
              "      <td>1</td>\n",
              "      <td>...</td>\n",
              "      <td>0</td>\n",
              "      <td>0</td>\n",
              "      <td>0</td>\n",
              "      <td>0</td>\n",
              "      <td>0</td>\n",
              "      <td>1</td>\n",
              "      <td>0</td>\n",
              "      <td>1</td>\n",
              "      <td>0</td>\n",
              "      <td>0</td>\n",
              "    </tr>\n",
              "    <tr>\n",
              "      <th>4</th>\n",
              "      <td>0</td>\n",
              "      <td>0</td>\n",
              "      <td>0</td>\n",
              "      <td>1</td>\n",
              "      <td>0</td>\n",
              "      <td>0</td>\n",
              "      <td>0</td>\n",
              "      <td>1</td>\n",
              "      <td>0</td>\n",
              "      <td>1</td>\n",
              "      <td>...</td>\n",
              "      <td>1</td>\n",
              "      <td>0</td>\n",
              "      <td>1</td>\n",
              "      <td>0</td>\n",
              "      <td>0</td>\n",
              "      <td>0</td>\n",
              "      <td>0</td>\n",
              "      <td>1</td>\n",
              "      <td>0</td>\n",
              "      <td>0</td>\n",
              "    </tr>\n",
              "    <tr>\n",
              "      <th>...</th>\n",
              "      <td>...</td>\n",
              "      <td>...</td>\n",
              "      <td>...</td>\n",
              "      <td>...</td>\n",
              "      <td>...</td>\n",
              "      <td>...</td>\n",
              "      <td>...</td>\n",
              "      <td>...</td>\n",
              "      <td>...</td>\n",
              "      <td>...</td>\n",
              "      <td>...</td>\n",
              "      <td>...</td>\n",
              "      <td>...</td>\n",
              "      <td>...</td>\n",
              "      <td>...</td>\n",
              "      <td>...</td>\n",
              "      <td>...</td>\n",
              "      <td>...</td>\n",
              "      <td>...</td>\n",
              "      <td>...</td>\n",
              "      <td>...</td>\n",
              "    </tr>\n",
              "    <tr>\n",
              "      <th>8067</th>\n",
              "      <td>0</td>\n",
              "      <td>0</td>\n",
              "      <td>0</td>\n",
              "      <td>0</td>\n",
              "      <td>0</td>\n",
              "      <td>0</td>\n",
              "      <td>0</td>\n",
              "      <td>0</td>\n",
              "      <td>0</td>\n",
              "      <td>0</td>\n",
              "      <td>...</td>\n",
              "      <td>0</td>\n",
              "      <td>0</td>\n",
              "      <td>0</td>\n",
              "      <td>0</td>\n",
              "      <td>0</td>\n",
              "      <td>0</td>\n",
              "      <td>0</td>\n",
              "      <td>0</td>\n",
              "      <td>0</td>\n",
              "      <td>0</td>\n",
              "    </tr>\n",
              "    <tr>\n",
              "      <th>8068</th>\n",
              "      <td>0</td>\n",
              "      <td>0</td>\n",
              "      <td>0</td>\n",
              "      <td>1</td>\n",
              "      <td>0</td>\n",
              "      <td>0</td>\n",
              "      <td>0</td>\n",
              "      <td>1</td>\n",
              "      <td>0</td>\n",
              "      <td>1</td>\n",
              "      <td>...</td>\n",
              "      <td>0</td>\n",
              "      <td>0</td>\n",
              "      <td>0</td>\n",
              "      <td>0</td>\n",
              "      <td>0</td>\n",
              "      <td>0</td>\n",
              "      <td>0</td>\n",
              "      <td>0</td>\n",
              "      <td>0</td>\n",
              "      <td>0</td>\n",
              "    </tr>\n",
              "    <tr>\n",
              "      <th>8069</th>\n",
              "      <td>0</td>\n",
              "      <td>0</td>\n",
              "      <td>0</td>\n",
              "      <td>1</td>\n",
              "      <td>0</td>\n",
              "      <td>0</td>\n",
              "      <td>0</td>\n",
              "      <td>1</td>\n",
              "      <td>0</td>\n",
              "      <td>1</td>\n",
              "      <td>...</td>\n",
              "      <td>0</td>\n",
              "      <td>0</td>\n",
              "      <td>0</td>\n",
              "      <td>0</td>\n",
              "      <td>0</td>\n",
              "      <td>1</td>\n",
              "      <td>0</td>\n",
              "      <td>1</td>\n",
              "      <td>0</td>\n",
              "      <td>0</td>\n",
              "    </tr>\n",
              "    <tr>\n",
              "      <th>8070</th>\n",
              "      <td>0</td>\n",
              "      <td>0</td>\n",
              "      <td>0</td>\n",
              "      <td>1</td>\n",
              "      <td>0</td>\n",
              "      <td>0</td>\n",
              "      <td>0</td>\n",
              "      <td>0</td>\n",
              "      <td>0</td>\n",
              "      <td>1</td>\n",
              "      <td>...</td>\n",
              "      <td>0</td>\n",
              "      <td>0</td>\n",
              "      <td>0</td>\n",
              "      <td>0</td>\n",
              "      <td>0</td>\n",
              "      <td>1</td>\n",
              "      <td>0</td>\n",
              "      <td>0</td>\n",
              "      <td>0</td>\n",
              "      <td>0</td>\n",
              "    </tr>\n",
              "    <tr>\n",
              "      <th>8071</th>\n",
              "      <td>0</td>\n",
              "      <td>0</td>\n",
              "      <td>0</td>\n",
              "      <td>1</td>\n",
              "      <td>0</td>\n",
              "      <td>0</td>\n",
              "      <td>0</td>\n",
              "      <td>1</td>\n",
              "      <td>0</td>\n",
              "      <td>1</td>\n",
              "      <td>...</td>\n",
              "      <td>0</td>\n",
              "      <td>0</td>\n",
              "      <td>0</td>\n",
              "      <td>0</td>\n",
              "      <td>0</td>\n",
              "      <td>1</td>\n",
              "      <td>0</td>\n",
              "      <td>1</td>\n",
              "      <td>0</td>\n",
              "      <td>0</td>\n",
              "    </tr>\n",
              "  </tbody>\n",
              "</table>\n",
              "<p>8072 rows × 39 columns</p>\n",
              "</div>\n",
              "      <button class=\"colab-df-convert\" onclick=\"convertToInteractive('df-9698a9d4-3dd0-48bc-a1c0-1a0385dccde7')\"\n",
              "              title=\"Convert this dataframe to an interactive table.\"\n",
              "              style=\"display:none;\">\n",
              "        \n",
              "  <svg xmlns=\"http://www.w3.org/2000/svg\" height=\"24px\"viewBox=\"0 0 24 24\"\n",
              "       width=\"24px\">\n",
              "    <path d=\"M0 0h24v24H0V0z\" fill=\"none\"/>\n",
              "    <path d=\"M18.56 5.44l.94 2.06.94-2.06 2.06-.94-2.06-.94-.94-2.06-.94 2.06-2.06.94zm-11 1L8.5 8.5l.94-2.06 2.06-.94-2.06-.94L8.5 2.5l-.94 2.06-2.06.94zm10 10l.94 2.06.94-2.06 2.06-.94-2.06-.94-.94-2.06-.94 2.06-2.06.94z\"/><path d=\"M17.41 7.96l-1.37-1.37c-.4-.4-.92-.59-1.43-.59-.52 0-1.04.2-1.43.59L10.3 9.45l-7.72 7.72c-.78.78-.78 2.05 0 2.83L4 21.41c.39.39.9.59 1.41.59.51 0 1.02-.2 1.41-.59l7.78-7.78 2.81-2.81c.8-.78.8-2.07 0-2.86zM5.41 20L4 18.59l7.72-7.72 1.47 1.35L5.41 20z\"/>\n",
              "  </svg>\n",
              "      </button>\n",
              "      \n",
              "  <style>\n",
              "    .colab-df-container {\n",
              "      display:flex;\n",
              "      flex-wrap:wrap;\n",
              "      gap: 12px;\n",
              "    }\n",
              "\n",
              "    .colab-df-convert {\n",
              "      background-color: #E8F0FE;\n",
              "      border: none;\n",
              "      border-radius: 50%;\n",
              "      cursor: pointer;\n",
              "      display: none;\n",
              "      fill: #1967D2;\n",
              "      height: 32px;\n",
              "      padding: 0 0 0 0;\n",
              "      width: 32px;\n",
              "    }\n",
              "\n",
              "    .colab-df-convert:hover {\n",
              "      background-color: #E2EBFA;\n",
              "      box-shadow: 0px 1px 2px rgba(60, 64, 67, 0.3), 0px 1px 3px 1px rgba(60, 64, 67, 0.15);\n",
              "      fill: #174EA6;\n",
              "    }\n",
              "\n",
              "    [theme=dark] .colab-df-convert {\n",
              "      background-color: #3B4455;\n",
              "      fill: #D2E3FC;\n",
              "    }\n",
              "\n",
              "    [theme=dark] .colab-df-convert:hover {\n",
              "      background-color: #434B5C;\n",
              "      box-shadow: 0px 1px 3px 1px rgba(0, 0, 0, 0.15);\n",
              "      filter: drop-shadow(0px 1px 2px rgba(0, 0, 0, 0.3));\n",
              "      fill: #FFFFFF;\n",
              "    }\n",
              "  </style>\n",
              "\n",
              "      <script>\n",
              "        const buttonEl =\n",
              "          document.querySelector('#df-9698a9d4-3dd0-48bc-a1c0-1a0385dccde7 button.colab-df-convert');\n",
              "        buttonEl.style.display =\n",
              "          google.colab.kernel.accessAllowed ? 'block' : 'none';\n",
              "\n",
              "        async function convertToInteractive(key) {\n",
              "          const element = document.querySelector('#df-9698a9d4-3dd0-48bc-a1c0-1a0385dccde7');\n",
              "          const dataTable =\n",
              "            await google.colab.kernel.invokeFunction('convertToInteractive',\n",
              "                                                     [key], {});\n",
              "          if (!dataTable) return;\n",
              "\n",
              "          const docLinkHtml = 'Like what you see? Visit the ' +\n",
              "            '<a target=\"_blank\" href=https://colab.research.google.com/notebooks/data_table.ipynb>data table notebook</a>'\n",
              "            + ' to learn more about interactive tables.';\n",
              "          element.innerHTML = '';\n",
              "          dataTable['output_type'] = 'display_data';\n",
              "          await google.colab.output.renderOutput(dataTable, element);\n",
              "          const docLink = document.createElement('div');\n",
              "          docLink.innerHTML = docLinkHtml;\n",
              "          element.appendChild(docLink);\n",
              "        }\n",
              "      </script>\n",
              "    </div>\n",
              "  </div>\n",
              "  "
            ]
          },
          "metadata": {},
          "execution_count": 31
        }
      ],
      "source": [
        "restaurant_df_attr"
      ]
    },
    {
      "cell_type": "markdown",
      "metadata": {
        "id": "zhQ9yPvKxoK2"
      },
      "source": [
        "Construction of the total df ready to be used for the recomender system"
      ]
    },
    {
      "cell_type": "code",
      "execution_count": 32,
      "metadata": {
        "id": "ySSPFbzNxQwM"
      },
      "outputs": [],
      "source": [
        "df_total = pd.concat([restaurant_df_attr, df_categories_dm, restaurant_df_sel], axis=1)\n",
        "df_total.drop('Restaurants',inplace=True,axis=1)"
      ]
    },
    {
      "cell_type": "code",
      "execution_count": 33,
      "metadata": {
        "colab": {
          "base_uri": "https://localhost:8080/",
          "height": 619
        },
        "id": "T0i3SStYxkzx",
        "outputId": "38e8aede-6bf7-4343-919b-4f25dcf03090"
      },
      "outputs": [
        {
          "output_type": "execute_result",
          "data": {
            "text/plain": [
              "      BusinessParking  DietaryRestrictions  BYOBCorkage  RestaurantsTakeOut  \\\n",
              "0                   0                    0            0                   1   \n",
              "1                   0                    0            0                   1   \n",
              "2                   0                    0            0                   1   \n",
              "3                   0                    0            0                   1   \n",
              "4                   0                    0            0                   1   \n",
              "...               ...                  ...          ...                 ...   \n",
              "8067                0                    0            0                   0   \n",
              "8068                0                    0            0                   1   \n",
              "8069                0                    0            0                   1   \n",
              "8070                0                    0            0                   1   \n",
              "8071                0                    0            0                   1   \n",
              "\n",
              "      RestaurantsPriceRange2  Open24Hours  DriveThru  GoodForKids  \\\n",
              "0                          0            0          0            0   \n",
              "1                          0            0          0            0   \n",
              "2                          0            0          0            1   \n",
              "3                          0            0          0            1   \n",
              "4                          0            0          0            1   \n",
              "...                      ...          ...        ...          ...   \n",
              "8067                       0            0          0            0   \n",
              "8068                       0            0          0            1   \n",
              "8069                       0            0          0            1   \n",
              "8070                       0            0          0            0   \n",
              "8071                       0            0          0            1   \n",
              "\n",
              "      RestaurantsCounterService  BusinessAcceptsCreditCards  ...  Vietnamese  \\\n",
              "0                             0                           0  ...           0   \n",
              "1                             0                           1  ...           0   \n",
              "2                             0                           1  ...           0   \n",
              "3                             0                           1  ...           0   \n",
              "4                             0                           1  ...           0   \n",
              "...                         ...                         ...  ...         ...   \n",
              "8067                          0                           0  ...           0   \n",
              "8068                          0                           1  ...           0   \n",
              "8069                          0                           1  ...           0   \n",
              "8070                          0                           1  ...           0   \n",
              "8071                          0                           1  ...           0   \n",
              "\n",
              "      Waffles  Wedding Planning  Wheel & Rim Repair  Wine Bars  Wineries  \\\n",
              "0           0                 0                   0          0         0   \n",
              "1           0                 0                   0          0         0   \n",
              "2           0                 0                   0          0         0   \n",
              "3           0                 0                   0          0         0   \n",
              "4           0                 0                   0          0         0   \n",
              "...       ...               ...                 ...        ...       ...   \n",
              "8067        0                 0                   0          0         0   \n",
              "8068        0                 0                   0          0         0   \n",
              "8069        0                 0                   0          0         0   \n",
              "8070        0                 0                   0          0         0   \n",
              "8071        0                 0                   0          0         0   \n",
              "\n",
              "      Wraps  Yoga                           name  stars  \n",
              "0         0     0             St Honore Pastries    4.0  \n",
              "1         0     0                       Tuna Bar    4.0  \n",
              "2         0     0                            BAP    4.5  \n",
              "3         0     0                  Ardmore Pizza    3.5  \n",
              "4         0     0                     Craft Hall    3.5  \n",
              "...     ...   ...                            ...    ...  \n",
              "8067      0     0             Spring Mount Hotel    2.0  \n",
              "8068      0     0              Swiss Farms Store    3.5  \n",
              "8069      0     0                   PrimoHoagies    3.0  \n",
              "8070      0     0                           Wawa    3.0  \n",
              "8071      0     0  Adelita Taqueria & Restaurant    4.5  \n",
              "\n",
              "[8072 rows x 728 columns]"
            ],
            "text/html": [
              "\n",
              "  <div id=\"df-c390299d-8d5e-4ef6-bbf6-7d1e7623d431\">\n",
              "    <div class=\"colab-df-container\">\n",
              "      <div>\n",
              "<style scoped>\n",
              "    .dataframe tbody tr th:only-of-type {\n",
              "        vertical-align: middle;\n",
              "    }\n",
              "\n",
              "    .dataframe tbody tr th {\n",
              "        vertical-align: top;\n",
              "    }\n",
              "\n",
              "    .dataframe thead th {\n",
              "        text-align: right;\n",
              "    }\n",
              "</style>\n",
              "<table border=\"1\" class=\"dataframe\">\n",
              "  <thead>\n",
              "    <tr style=\"text-align: right;\">\n",
              "      <th></th>\n",
              "      <th>BusinessParking</th>\n",
              "      <th>DietaryRestrictions</th>\n",
              "      <th>BYOBCorkage</th>\n",
              "      <th>RestaurantsTakeOut</th>\n",
              "      <th>RestaurantsPriceRange2</th>\n",
              "      <th>Open24Hours</th>\n",
              "      <th>DriveThru</th>\n",
              "      <th>GoodForKids</th>\n",
              "      <th>RestaurantsCounterService</th>\n",
              "      <th>BusinessAcceptsCreditCards</th>\n",
              "      <th>...</th>\n",
              "      <th>Vietnamese</th>\n",
              "      <th>Waffles</th>\n",
              "      <th>Wedding Planning</th>\n",
              "      <th>Wheel &amp; Rim Repair</th>\n",
              "      <th>Wine Bars</th>\n",
              "      <th>Wineries</th>\n",
              "      <th>Wraps</th>\n",
              "      <th>Yoga</th>\n",
              "      <th>name</th>\n",
              "      <th>stars</th>\n",
              "    </tr>\n",
              "  </thead>\n",
              "  <tbody>\n",
              "    <tr>\n",
              "      <th>0</th>\n",
              "      <td>0</td>\n",
              "      <td>0</td>\n",
              "      <td>0</td>\n",
              "      <td>1</td>\n",
              "      <td>0</td>\n",
              "      <td>0</td>\n",
              "      <td>0</td>\n",
              "      <td>0</td>\n",
              "      <td>0</td>\n",
              "      <td>0</td>\n",
              "      <td>...</td>\n",
              "      <td>0</td>\n",
              "      <td>0</td>\n",
              "      <td>0</td>\n",
              "      <td>0</td>\n",
              "      <td>0</td>\n",
              "      <td>0</td>\n",
              "      <td>0</td>\n",
              "      <td>0</td>\n",
              "      <td>St Honore Pastries</td>\n",
              "      <td>4.0</td>\n",
              "    </tr>\n",
              "    <tr>\n",
              "      <th>1</th>\n",
              "      <td>0</td>\n",
              "      <td>0</td>\n",
              "      <td>0</td>\n",
              "      <td>1</td>\n",
              "      <td>0</td>\n",
              "      <td>0</td>\n",
              "      <td>0</td>\n",
              "      <td>0</td>\n",
              "      <td>0</td>\n",
              "      <td>1</td>\n",
              "      <td>...</td>\n",
              "      <td>0</td>\n",
              "      <td>0</td>\n",
              "      <td>0</td>\n",
              "      <td>0</td>\n",
              "      <td>0</td>\n",
              "      <td>0</td>\n",
              "      <td>0</td>\n",
              "      <td>0</td>\n",
              "      <td>Tuna Bar</td>\n",
              "      <td>4.0</td>\n",
              "    </tr>\n",
              "    <tr>\n",
              "      <th>2</th>\n",
              "      <td>0</td>\n",
              "      <td>0</td>\n",
              "      <td>0</td>\n",
              "      <td>1</td>\n",
              "      <td>0</td>\n",
              "      <td>0</td>\n",
              "      <td>0</td>\n",
              "      <td>1</td>\n",
              "      <td>0</td>\n",
              "      <td>1</td>\n",
              "      <td>...</td>\n",
              "      <td>0</td>\n",
              "      <td>0</td>\n",
              "      <td>0</td>\n",
              "      <td>0</td>\n",
              "      <td>0</td>\n",
              "      <td>0</td>\n",
              "      <td>0</td>\n",
              "      <td>0</td>\n",
              "      <td>BAP</td>\n",
              "      <td>4.5</td>\n",
              "    </tr>\n",
              "    <tr>\n",
              "      <th>3</th>\n",
              "      <td>0</td>\n",
              "      <td>0</td>\n",
              "      <td>0</td>\n",
              "      <td>1</td>\n",
              "      <td>0</td>\n",
              "      <td>0</td>\n",
              "      <td>0</td>\n",
              "      <td>1</td>\n",
              "      <td>0</td>\n",
              "      <td>1</td>\n",
              "      <td>...</td>\n",
              "      <td>0</td>\n",
              "      <td>0</td>\n",
              "      <td>0</td>\n",
              "      <td>0</td>\n",
              "      <td>0</td>\n",
              "      <td>0</td>\n",
              "      <td>0</td>\n",
              "      <td>0</td>\n",
              "      <td>Ardmore Pizza</td>\n",
              "      <td>3.5</td>\n",
              "    </tr>\n",
              "    <tr>\n",
              "      <th>4</th>\n",
              "      <td>0</td>\n",
              "      <td>0</td>\n",
              "      <td>0</td>\n",
              "      <td>1</td>\n",
              "      <td>0</td>\n",
              "      <td>0</td>\n",
              "      <td>0</td>\n",
              "      <td>1</td>\n",
              "      <td>0</td>\n",
              "      <td>1</td>\n",
              "      <td>...</td>\n",
              "      <td>0</td>\n",
              "      <td>0</td>\n",
              "      <td>0</td>\n",
              "      <td>0</td>\n",
              "      <td>0</td>\n",
              "      <td>0</td>\n",
              "      <td>0</td>\n",
              "      <td>0</td>\n",
              "      <td>Craft Hall</td>\n",
              "      <td>3.5</td>\n",
              "    </tr>\n",
              "    <tr>\n",
              "      <th>...</th>\n",
              "      <td>...</td>\n",
              "      <td>...</td>\n",
              "      <td>...</td>\n",
              "      <td>...</td>\n",
              "      <td>...</td>\n",
              "      <td>...</td>\n",
              "      <td>...</td>\n",
              "      <td>...</td>\n",
              "      <td>...</td>\n",
              "      <td>...</td>\n",
              "      <td>...</td>\n",
              "      <td>...</td>\n",
              "      <td>...</td>\n",
              "      <td>...</td>\n",
              "      <td>...</td>\n",
              "      <td>...</td>\n",
              "      <td>...</td>\n",
              "      <td>...</td>\n",
              "      <td>...</td>\n",
              "      <td>...</td>\n",
              "      <td>...</td>\n",
              "    </tr>\n",
              "    <tr>\n",
              "      <th>8067</th>\n",
              "      <td>0</td>\n",
              "      <td>0</td>\n",
              "      <td>0</td>\n",
              "      <td>0</td>\n",
              "      <td>0</td>\n",
              "      <td>0</td>\n",
              "      <td>0</td>\n",
              "      <td>0</td>\n",
              "      <td>0</td>\n",
              "      <td>0</td>\n",
              "      <td>...</td>\n",
              "      <td>0</td>\n",
              "      <td>0</td>\n",
              "      <td>0</td>\n",
              "      <td>0</td>\n",
              "      <td>0</td>\n",
              "      <td>0</td>\n",
              "      <td>0</td>\n",
              "      <td>0</td>\n",
              "      <td>Spring Mount Hotel</td>\n",
              "      <td>2.0</td>\n",
              "    </tr>\n",
              "    <tr>\n",
              "      <th>8068</th>\n",
              "      <td>0</td>\n",
              "      <td>0</td>\n",
              "      <td>0</td>\n",
              "      <td>1</td>\n",
              "      <td>0</td>\n",
              "      <td>0</td>\n",
              "      <td>0</td>\n",
              "      <td>1</td>\n",
              "      <td>0</td>\n",
              "      <td>1</td>\n",
              "      <td>...</td>\n",
              "      <td>0</td>\n",
              "      <td>0</td>\n",
              "      <td>0</td>\n",
              "      <td>0</td>\n",
              "      <td>0</td>\n",
              "      <td>0</td>\n",
              "      <td>0</td>\n",
              "      <td>0</td>\n",
              "      <td>Swiss Farms Store</td>\n",
              "      <td>3.5</td>\n",
              "    </tr>\n",
              "    <tr>\n",
              "      <th>8069</th>\n",
              "      <td>0</td>\n",
              "      <td>0</td>\n",
              "      <td>0</td>\n",
              "      <td>1</td>\n",
              "      <td>0</td>\n",
              "      <td>0</td>\n",
              "      <td>0</td>\n",
              "      <td>1</td>\n",
              "      <td>0</td>\n",
              "      <td>1</td>\n",
              "      <td>...</td>\n",
              "      <td>0</td>\n",
              "      <td>0</td>\n",
              "      <td>0</td>\n",
              "      <td>0</td>\n",
              "      <td>0</td>\n",
              "      <td>0</td>\n",
              "      <td>0</td>\n",
              "      <td>0</td>\n",
              "      <td>PrimoHoagies</td>\n",
              "      <td>3.0</td>\n",
              "    </tr>\n",
              "    <tr>\n",
              "      <th>8070</th>\n",
              "      <td>0</td>\n",
              "      <td>0</td>\n",
              "      <td>0</td>\n",
              "      <td>1</td>\n",
              "      <td>0</td>\n",
              "      <td>0</td>\n",
              "      <td>0</td>\n",
              "      <td>0</td>\n",
              "      <td>0</td>\n",
              "      <td>1</td>\n",
              "      <td>...</td>\n",
              "      <td>0</td>\n",
              "      <td>0</td>\n",
              "      <td>0</td>\n",
              "      <td>0</td>\n",
              "      <td>0</td>\n",
              "      <td>0</td>\n",
              "      <td>0</td>\n",
              "      <td>0</td>\n",
              "      <td>Wawa</td>\n",
              "      <td>3.0</td>\n",
              "    </tr>\n",
              "    <tr>\n",
              "      <th>8071</th>\n",
              "      <td>0</td>\n",
              "      <td>0</td>\n",
              "      <td>0</td>\n",
              "      <td>1</td>\n",
              "      <td>0</td>\n",
              "      <td>0</td>\n",
              "      <td>0</td>\n",
              "      <td>1</td>\n",
              "      <td>0</td>\n",
              "      <td>1</td>\n",
              "      <td>...</td>\n",
              "      <td>0</td>\n",
              "      <td>0</td>\n",
              "      <td>0</td>\n",
              "      <td>0</td>\n",
              "      <td>0</td>\n",
              "      <td>0</td>\n",
              "      <td>0</td>\n",
              "      <td>0</td>\n",
              "      <td>Adelita Taqueria &amp; Restaurant</td>\n",
              "      <td>4.5</td>\n",
              "    </tr>\n",
              "  </tbody>\n",
              "</table>\n",
              "<p>8072 rows × 728 columns</p>\n",
              "</div>\n",
              "      <button class=\"colab-df-convert\" onclick=\"convertToInteractive('df-c390299d-8d5e-4ef6-bbf6-7d1e7623d431')\"\n",
              "              title=\"Convert this dataframe to an interactive table.\"\n",
              "              style=\"display:none;\">\n",
              "        \n",
              "  <svg xmlns=\"http://www.w3.org/2000/svg\" height=\"24px\"viewBox=\"0 0 24 24\"\n",
              "       width=\"24px\">\n",
              "    <path d=\"M0 0h24v24H0V0z\" fill=\"none\"/>\n",
              "    <path d=\"M18.56 5.44l.94 2.06.94-2.06 2.06-.94-2.06-.94-.94-2.06-.94 2.06-2.06.94zm-11 1L8.5 8.5l.94-2.06 2.06-.94-2.06-.94L8.5 2.5l-.94 2.06-2.06.94zm10 10l.94 2.06.94-2.06 2.06-.94-2.06-.94-.94-2.06-.94 2.06-2.06.94z\"/><path d=\"M17.41 7.96l-1.37-1.37c-.4-.4-.92-.59-1.43-.59-.52 0-1.04.2-1.43.59L10.3 9.45l-7.72 7.72c-.78.78-.78 2.05 0 2.83L4 21.41c.39.39.9.59 1.41.59.51 0 1.02-.2 1.41-.59l7.78-7.78 2.81-2.81c.8-.78.8-2.07 0-2.86zM5.41 20L4 18.59l7.72-7.72 1.47 1.35L5.41 20z\"/>\n",
              "  </svg>\n",
              "      </button>\n",
              "      \n",
              "  <style>\n",
              "    .colab-df-container {\n",
              "      display:flex;\n",
              "      flex-wrap:wrap;\n",
              "      gap: 12px;\n",
              "    }\n",
              "\n",
              "    .colab-df-convert {\n",
              "      background-color: #E8F0FE;\n",
              "      border: none;\n",
              "      border-radius: 50%;\n",
              "      cursor: pointer;\n",
              "      display: none;\n",
              "      fill: #1967D2;\n",
              "      height: 32px;\n",
              "      padding: 0 0 0 0;\n",
              "      width: 32px;\n",
              "    }\n",
              "\n",
              "    .colab-df-convert:hover {\n",
              "      background-color: #E2EBFA;\n",
              "      box-shadow: 0px 1px 2px rgba(60, 64, 67, 0.3), 0px 1px 3px 1px rgba(60, 64, 67, 0.15);\n",
              "      fill: #174EA6;\n",
              "    }\n",
              "\n",
              "    [theme=dark] .colab-df-convert {\n",
              "      background-color: #3B4455;\n",
              "      fill: #D2E3FC;\n",
              "    }\n",
              "\n",
              "    [theme=dark] .colab-df-convert:hover {\n",
              "      background-color: #434B5C;\n",
              "      box-shadow: 0px 1px 3px 1px rgba(0, 0, 0, 0.15);\n",
              "      filter: drop-shadow(0px 1px 2px rgba(0, 0, 0, 0.3));\n",
              "      fill: #FFFFFF;\n",
              "    }\n",
              "  </style>\n",
              "\n",
              "      <script>\n",
              "        const buttonEl =\n",
              "          document.querySelector('#df-c390299d-8d5e-4ef6-bbf6-7d1e7623d431 button.colab-df-convert');\n",
              "        buttonEl.style.display =\n",
              "          google.colab.kernel.accessAllowed ? 'block' : 'none';\n",
              "\n",
              "        async function convertToInteractive(key) {\n",
              "          const element = document.querySelector('#df-c390299d-8d5e-4ef6-bbf6-7d1e7623d431');\n",
              "          const dataTable =\n",
              "            await google.colab.kernel.invokeFunction('convertToInteractive',\n",
              "                                                     [key], {});\n",
              "          if (!dataTable) return;\n",
              "\n",
              "          const docLinkHtml = 'Like what you see? Visit the ' +\n",
              "            '<a target=\"_blank\" href=https://colab.research.google.com/notebooks/data_table.ipynb>data table notebook</a>'\n",
              "            + ' to learn more about interactive tables.';\n",
              "          element.innerHTML = '';\n",
              "          dataTable['output_type'] = 'display_data';\n",
              "          await google.colab.output.renderOutput(dataTable, element);\n",
              "          const docLink = document.createElement('div');\n",
              "          docLink.innerHTML = docLinkHtml;\n",
              "          element.appendChild(docLink);\n",
              "        }\n",
              "      </script>\n",
              "    </div>\n",
              "  </div>\n",
              "  "
            ]
          },
          "metadata": {},
          "execution_count": 33
        }
      ],
      "source": [
        "df_total"
      ]
    },
    {
      "cell_type": "markdown",
      "metadata": {
        "id": "Nymjzk9Bx48u"
      },
      "source": [
        "Last adjustament , convert the floating rate into integer"
      ]
    },
    {
      "cell_type": "code",
      "execution_count": 34,
      "metadata": {
        "id": "lhgwC0QWx8ma"
      },
      "outputs": [],
      "source": [
        "convert_float_to_int = {1.0:1,1.5:2, 2.0:2, 2.5:3, 3.0:3, 3.5:4, 4.0:4, 4.5:5, 5.0:5}\n",
        "df_total['stars'] = df_total['stars'].map(convert_float_to_int)"
      ]
    },
    {
      "cell_type": "code",
      "execution_count": 35,
      "metadata": {
        "colab": {
          "base_uri": "https://localhost:8080/",
          "height": 619
        },
        "id": "I_KaeUmVyGP2",
        "outputId": "4849f698-5aa2-4506-caa5-9d16df3feb55"
      },
      "outputs": [
        {
          "output_type": "execute_result",
          "data": {
            "text/plain": [
              "      BusinessParking  DietaryRestrictions  BYOBCorkage  RestaurantsTakeOut  \\\n",
              "0                   0                    0            0                   1   \n",
              "1                   0                    0            0                   1   \n",
              "2                   0                    0            0                   1   \n",
              "3                   0                    0            0                   1   \n",
              "4                   0                    0            0                   1   \n",
              "...               ...                  ...          ...                 ...   \n",
              "8067                0                    0            0                   0   \n",
              "8068                0                    0            0                   1   \n",
              "8069                0                    0            0                   1   \n",
              "8070                0                    0            0                   1   \n",
              "8071                0                    0            0                   1   \n",
              "\n",
              "      RestaurantsPriceRange2  Open24Hours  DriveThru  GoodForKids  \\\n",
              "0                          0            0          0            0   \n",
              "1                          0            0          0            0   \n",
              "2                          0            0          0            1   \n",
              "3                          0            0          0            1   \n",
              "4                          0            0          0            1   \n",
              "...                      ...          ...        ...          ...   \n",
              "8067                       0            0          0            0   \n",
              "8068                       0            0          0            1   \n",
              "8069                       0            0          0            1   \n",
              "8070                       0            0          0            0   \n",
              "8071                       0            0          0            1   \n",
              "\n",
              "      RestaurantsCounterService  BusinessAcceptsCreditCards  ...  Vietnamese  \\\n",
              "0                             0                           0  ...           0   \n",
              "1                             0                           1  ...           0   \n",
              "2                             0                           1  ...           0   \n",
              "3                             0                           1  ...           0   \n",
              "4                             0                           1  ...           0   \n",
              "...                         ...                         ...  ...         ...   \n",
              "8067                          0                           0  ...           0   \n",
              "8068                          0                           1  ...           0   \n",
              "8069                          0                           1  ...           0   \n",
              "8070                          0                           1  ...           0   \n",
              "8071                          0                           1  ...           0   \n",
              "\n",
              "      Waffles  Wedding Planning  Wheel & Rim Repair  Wine Bars  Wineries  \\\n",
              "0           0                 0                   0          0         0   \n",
              "1           0                 0                   0          0         0   \n",
              "2           0                 0                   0          0         0   \n",
              "3           0                 0                   0          0         0   \n",
              "4           0                 0                   0          0         0   \n",
              "...       ...               ...                 ...        ...       ...   \n",
              "8067        0                 0                   0          0         0   \n",
              "8068        0                 0                   0          0         0   \n",
              "8069        0                 0                   0          0         0   \n",
              "8070        0                 0                   0          0         0   \n",
              "8071        0                 0                   0          0         0   \n",
              "\n",
              "      Wraps  Yoga                           name  stars  \n",
              "0         0     0             St Honore Pastries      4  \n",
              "1         0     0                       Tuna Bar      4  \n",
              "2         0     0                            BAP      5  \n",
              "3         0     0                  Ardmore Pizza      4  \n",
              "4         0     0                     Craft Hall      4  \n",
              "...     ...   ...                            ...    ...  \n",
              "8067      0     0             Spring Mount Hotel      2  \n",
              "8068      0     0              Swiss Farms Store      4  \n",
              "8069      0     0                   PrimoHoagies      3  \n",
              "8070      0     0                           Wawa      3  \n",
              "8071      0     0  Adelita Taqueria & Restaurant      5  \n",
              "\n",
              "[8072 rows x 728 columns]"
            ],
            "text/html": [
              "\n",
              "  <div id=\"df-cc74f67b-c87b-4a0f-8e73-1578c43d1a01\">\n",
              "    <div class=\"colab-df-container\">\n",
              "      <div>\n",
              "<style scoped>\n",
              "    .dataframe tbody tr th:only-of-type {\n",
              "        vertical-align: middle;\n",
              "    }\n",
              "\n",
              "    .dataframe tbody tr th {\n",
              "        vertical-align: top;\n",
              "    }\n",
              "\n",
              "    .dataframe thead th {\n",
              "        text-align: right;\n",
              "    }\n",
              "</style>\n",
              "<table border=\"1\" class=\"dataframe\">\n",
              "  <thead>\n",
              "    <tr style=\"text-align: right;\">\n",
              "      <th></th>\n",
              "      <th>BusinessParking</th>\n",
              "      <th>DietaryRestrictions</th>\n",
              "      <th>BYOBCorkage</th>\n",
              "      <th>RestaurantsTakeOut</th>\n",
              "      <th>RestaurantsPriceRange2</th>\n",
              "      <th>Open24Hours</th>\n",
              "      <th>DriveThru</th>\n",
              "      <th>GoodForKids</th>\n",
              "      <th>RestaurantsCounterService</th>\n",
              "      <th>BusinessAcceptsCreditCards</th>\n",
              "      <th>...</th>\n",
              "      <th>Vietnamese</th>\n",
              "      <th>Waffles</th>\n",
              "      <th>Wedding Planning</th>\n",
              "      <th>Wheel &amp; Rim Repair</th>\n",
              "      <th>Wine Bars</th>\n",
              "      <th>Wineries</th>\n",
              "      <th>Wraps</th>\n",
              "      <th>Yoga</th>\n",
              "      <th>name</th>\n",
              "      <th>stars</th>\n",
              "    </tr>\n",
              "  </thead>\n",
              "  <tbody>\n",
              "    <tr>\n",
              "      <th>0</th>\n",
              "      <td>0</td>\n",
              "      <td>0</td>\n",
              "      <td>0</td>\n",
              "      <td>1</td>\n",
              "      <td>0</td>\n",
              "      <td>0</td>\n",
              "      <td>0</td>\n",
              "      <td>0</td>\n",
              "      <td>0</td>\n",
              "      <td>0</td>\n",
              "      <td>...</td>\n",
              "      <td>0</td>\n",
              "      <td>0</td>\n",
              "      <td>0</td>\n",
              "      <td>0</td>\n",
              "      <td>0</td>\n",
              "      <td>0</td>\n",
              "      <td>0</td>\n",
              "      <td>0</td>\n",
              "      <td>St Honore Pastries</td>\n",
              "      <td>4</td>\n",
              "    </tr>\n",
              "    <tr>\n",
              "      <th>1</th>\n",
              "      <td>0</td>\n",
              "      <td>0</td>\n",
              "      <td>0</td>\n",
              "      <td>1</td>\n",
              "      <td>0</td>\n",
              "      <td>0</td>\n",
              "      <td>0</td>\n",
              "      <td>0</td>\n",
              "      <td>0</td>\n",
              "      <td>1</td>\n",
              "      <td>...</td>\n",
              "      <td>0</td>\n",
              "      <td>0</td>\n",
              "      <td>0</td>\n",
              "      <td>0</td>\n",
              "      <td>0</td>\n",
              "      <td>0</td>\n",
              "      <td>0</td>\n",
              "      <td>0</td>\n",
              "      <td>Tuna Bar</td>\n",
              "      <td>4</td>\n",
              "    </tr>\n",
              "    <tr>\n",
              "      <th>2</th>\n",
              "      <td>0</td>\n",
              "      <td>0</td>\n",
              "      <td>0</td>\n",
              "      <td>1</td>\n",
              "      <td>0</td>\n",
              "      <td>0</td>\n",
              "      <td>0</td>\n",
              "      <td>1</td>\n",
              "      <td>0</td>\n",
              "      <td>1</td>\n",
              "      <td>...</td>\n",
              "      <td>0</td>\n",
              "      <td>0</td>\n",
              "      <td>0</td>\n",
              "      <td>0</td>\n",
              "      <td>0</td>\n",
              "      <td>0</td>\n",
              "      <td>0</td>\n",
              "      <td>0</td>\n",
              "      <td>BAP</td>\n",
              "      <td>5</td>\n",
              "    </tr>\n",
              "    <tr>\n",
              "      <th>3</th>\n",
              "      <td>0</td>\n",
              "      <td>0</td>\n",
              "      <td>0</td>\n",
              "      <td>1</td>\n",
              "      <td>0</td>\n",
              "      <td>0</td>\n",
              "      <td>0</td>\n",
              "      <td>1</td>\n",
              "      <td>0</td>\n",
              "      <td>1</td>\n",
              "      <td>...</td>\n",
              "      <td>0</td>\n",
              "      <td>0</td>\n",
              "      <td>0</td>\n",
              "      <td>0</td>\n",
              "      <td>0</td>\n",
              "      <td>0</td>\n",
              "      <td>0</td>\n",
              "      <td>0</td>\n",
              "      <td>Ardmore Pizza</td>\n",
              "      <td>4</td>\n",
              "    </tr>\n",
              "    <tr>\n",
              "      <th>4</th>\n",
              "      <td>0</td>\n",
              "      <td>0</td>\n",
              "      <td>0</td>\n",
              "      <td>1</td>\n",
              "      <td>0</td>\n",
              "      <td>0</td>\n",
              "      <td>0</td>\n",
              "      <td>1</td>\n",
              "      <td>0</td>\n",
              "      <td>1</td>\n",
              "      <td>...</td>\n",
              "      <td>0</td>\n",
              "      <td>0</td>\n",
              "      <td>0</td>\n",
              "      <td>0</td>\n",
              "      <td>0</td>\n",
              "      <td>0</td>\n",
              "      <td>0</td>\n",
              "      <td>0</td>\n",
              "      <td>Craft Hall</td>\n",
              "      <td>4</td>\n",
              "    </tr>\n",
              "    <tr>\n",
              "      <th>...</th>\n",
              "      <td>...</td>\n",
              "      <td>...</td>\n",
              "      <td>...</td>\n",
              "      <td>...</td>\n",
              "      <td>...</td>\n",
              "      <td>...</td>\n",
              "      <td>...</td>\n",
              "      <td>...</td>\n",
              "      <td>...</td>\n",
              "      <td>...</td>\n",
              "      <td>...</td>\n",
              "      <td>...</td>\n",
              "      <td>...</td>\n",
              "      <td>...</td>\n",
              "      <td>...</td>\n",
              "      <td>...</td>\n",
              "      <td>...</td>\n",
              "      <td>...</td>\n",
              "      <td>...</td>\n",
              "      <td>...</td>\n",
              "      <td>...</td>\n",
              "    </tr>\n",
              "    <tr>\n",
              "      <th>8067</th>\n",
              "      <td>0</td>\n",
              "      <td>0</td>\n",
              "      <td>0</td>\n",
              "      <td>0</td>\n",
              "      <td>0</td>\n",
              "      <td>0</td>\n",
              "      <td>0</td>\n",
              "      <td>0</td>\n",
              "      <td>0</td>\n",
              "      <td>0</td>\n",
              "      <td>...</td>\n",
              "      <td>0</td>\n",
              "      <td>0</td>\n",
              "      <td>0</td>\n",
              "      <td>0</td>\n",
              "      <td>0</td>\n",
              "      <td>0</td>\n",
              "      <td>0</td>\n",
              "      <td>0</td>\n",
              "      <td>Spring Mount Hotel</td>\n",
              "      <td>2</td>\n",
              "    </tr>\n",
              "    <tr>\n",
              "      <th>8068</th>\n",
              "      <td>0</td>\n",
              "      <td>0</td>\n",
              "      <td>0</td>\n",
              "      <td>1</td>\n",
              "      <td>0</td>\n",
              "      <td>0</td>\n",
              "      <td>0</td>\n",
              "      <td>1</td>\n",
              "      <td>0</td>\n",
              "      <td>1</td>\n",
              "      <td>...</td>\n",
              "      <td>0</td>\n",
              "      <td>0</td>\n",
              "      <td>0</td>\n",
              "      <td>0</td>\n",
              "      <td>0</td>\n",
              "      <td>0</td>\n",
              "      <td>0</td>\n",
              "      <td>0</td>\n",
              "      <td>Swiss Farms Store</td>\n",
              "      <td>4</td>\n",
              "    </tr>\n",
              "    <tr>\n",
              "      <th>8069</th>\n",
              "      <td>0</td>\n",
              "      <td>0</td>\n",
              "      <td>0</td>\n",
              "      <td>1</td>\n",
              "      <td>0</td>\n",
              "      <td>0</td>\n",
              "      <td>0</td>\n",
              "      <td>1</td>\n",
              "      <td>0</td>\n",
              "      <td>1</td>\n",
              "      <td>...</td>\n",
              "      <td>0</td>\n",
              "      <td>0</td>\n",
              "      <td>0</td>\n",
              "      <td>0</td>\n",
              "      <td>0</td>\n",
              "      <td>0</td>\n",
              "      <td>0</td>\n",
              "      <td>0</td>\n",
              "      <td>PrimoHoagies</td>\n",
              "      <td>3</td>\n",
              "    </tr>\n",
              "    <tr>\n",
              "      <th>8070</th>\n",
              "      <td>0</td>\n",
              "      <td>0</td>\n",
              "      <td>0</td>\n",
              "      <td>1</td>\n",
              "      <td>0</td>\n",
              "      <td>0</td>\n",
              "      <td>0</td>\n",
              "      <td>0</td>\n",
              "      <td>0</td>\n",
              "      <td>1</td>\n",
              "      <td>...</td>\n",
              "      <td>0</td>\n",
              "      <td>0</td>\n",
              "      <td>0</td>\n",
              "      <td>0</td>\n",
              "      <td>0</td>\n",
              "      <td>0</td>\n",
              "      <td>0</td>\n",
              "      <td>0</td>\n",
              "      <td>Wawa</td>\n",
              "      <td>3</td>\n",
              "    </tr>\n",
              "    <tr>\n",
              "      <th>8071</th>\n",
              "      <td>0</td>\n",
              "      <td>0</td>\n",
              "      <td>0</td>\n",
              "      <td>1</td>\n",
              "      <td>0</td>\n",
              "      <td>0</td>\n",
              "      <td>0</td>\n",
              "      <td>1</td>\n",
              "      <td>0</td>\n",
              "      <td>1</td>\n",
              "      <td>...</td>\n",
              "      <td>0</td>\n",
              "      <td>0</td>\n",
              "      <td>0</td>\n",
              "      <td>0</td>\n",
              "      <td>0</td>\n",
              "      <td>0</td>\n",
              "      <td>0</td>\n",
              "      <td>0</td>\n",
              "      <td>Adelita Taqueria &amp; Restaurant</td>\n",
              "      <td>5</td>\n",
              "    </tr>\n",
              "  </tbody>\n",
              "</table>\n",
              "<p>8072 rows × 728 columns</p>\n",
              "</div>\n",
              "      <button class=\"colab-df-convert\" onclick=\"convertToInteractive('df-cc74f67b-c87b-4a0f-8e73-1578c43d1a01')\"\n",
              "              title=\"Convert this dataframe to an interactive table.\"\n",
              "              style=\"display:none;\">\n",
              "        \n",
              "  <svg xmlns=\"http://www.w3.org/2000/svg\" height=\"24px\"viewBox=\"0 0 24 24\"\n",
              "       width=\"24px\">\n",
              "    <path d=\"M0 0h24v24H0V0z\" fill=\"none\"/>\n",
              "    <path d=\"M18.56 5.44l.94 2.06.94-2.06 2.06-.94-2.06-.94-.94-2.06-.94 2.06-2.06.94zm-11 1L8.5 8.5l.94-2.06 2.06-.94-2.06-.94L8.5 2.5l-.94 2.06-2.06.94zm10 10l.94 2.06.94-2.06 2.06-.94-2.06-.94-.94-2.06-.94 2.06-2.06.94z\"/><path d=\"M17.41 7.96l-1.37-1.37c-.4-.4-.92-.59-1.43-.59-.52 0-1.04.2-1.43.59L10.3 9.45l-7.72 7.72c-.78.78-.78 2.05 0 2.83L4 21.41c.39.39.9.59 1.41.59.51 0 1.02-.2 1.41-.59l7.78-7.78 2.81-2.81c.8-.78.8-2.07 0-2.86zM5.41 20L4 18.59l7.72-7.72 1.47 1.35L5.41 20z\"/>\n",
              "  </svg>\n",
              "      </button>\n",
              "      \n",
              "  <style>\n",
              "    .colab-df-container {\n",
              "      display:flex;\n",
              "      flex-wrap:wrap;\n",
              "      gap: 12px;\n",
              "    }\n",
              "\n",
              "    .colab-df-convert {\n",
              "      background-color: #E8F0FE;\n",
              "      border: none;\n",
              "      border-radius: 50%;\n",
              "      cursor: pointer;\n",
              "      display: none;\n",
              "      fill: #1967D2;\n",
              "      height: 32px;\n",
              "      padding: 0 0 0 0;\n",
              "      width: 32px;\n",
              "    }\n",
              "\n",
              "    .colab-df-convert:hover {\n",
              "      background-color: #E2EBFA;\n",
              "      box-shadow: 0px 1px 2px rgba(60, 64, 67, 0.3), 0px 1px 3px 1px rgba(60, 64, 67, 0.15);\n",
              "      fill: #174EA6;\n",
              "    }\n",
              "\n",
              "    [theme=dark] .colab-df-convert {\n",
              "      background-color: #3B4455;\n",
              "      fill: #D2E3FC;\n",
              "    }\n",
              "\n",
              "    [theme=dark] .colab-df-convert:hover {\n",
              "      background-color: #434B5C;\n",
              "      box-shadow: 0px 1px 3px 1px rgba(0, 0, 0, 0.15);\n",
              "      filter: drop-shadow(0px 1px 2px rgba(0, 0, 0, 0.3));\n",
              "      fill: #FFFFFF;\n",
              "    }\n",
              "  </style>\n",
              "\n",
              "      <script>\n",
              "        const buttonEl =\n",
              "          document.querySelector('#df-cc74f67b-c87b-4a0f-8e73-1578c43d1a01 button.colab-df-convert');\n",
              "        buttonEl.style.display =\n",
              "          google.colab.kernel.accessAllowed ? 'block' : 'none';\n",
              "\n",
              "        async function convertToInteractive(key) {\n",
              "          const element = document.querySelector('#df-cc74f67b-c87b-4a0f-8e73-1578c43d1a01');\n",
              "          const dataTable =\n",
              "            await google.colab.kernel.invokeFunction('convertToInteractive',\n",
              "                                                     [key], {});\n",
              "          if (!dataTable) return;\n",
              "\n",
              "          const docLinkHtml = 'Like what you see? Visit the ' +\n",
              "            '<a target=\"_blank\" href=https://colab.research.google.com/notebooks/data_table.ipynb>data table notebook</a>'\n",
              "            + ' to learn more about interactive tables.';\n",
              "          element.innerHTML = '';\n",
              "          dataTable['output_type'] = 'display_data';\n",
              "          await google.colab.output.renderOutput(dataTable, element);\n",
              "          const docLink = document.createElement('div');\n",
              "          docLink.innerHTML = docLinkHtml;\n",
              "          element.appendChild(docLink);\n",
              "        }\n",
              "      </script>\n",
              "    </div>\n",
              "  </div>\n",
              "  "
            ]
          },
          "metadata": {},
          "execution_count": 35
        }
      ],
      "source": [
        "df_total"
      ]
    },
    {
      "cell_type": "markdown",
      "metadata": {
        "id": "lnKwlA5ZQnAX"
      },
      "source": [
        "# Businesses similarity recommandation with Pandas and cosine similarity"
      ]
    },
    {
      "cell_type": "markdown",
      "metadata": {
        "id": "byltCm0Y2auj"
      },
      "source": [
        "Build the recomender system based on the cosine similarity"
      ]
    },
    {
      "cell_type": "code",
      "execution_count": 36,
      "metadata": {
        "colab": {
          "base_uri": "https://localhost:8080/"
        },
        "id": "bOKj1U0v2-Zw",
        "outputId": "25d08004-d592-429a-90c8-1fb121030139"
      },
      "outputs": [
        {
          "output_type": "stream",
          "name": "stdout",
          "text": [
            "Ristorante di riferimento: Adelita Taqueria & Restaurant\n"
          ]
        }
      ],
      "source": [
        "restaurant_index = 8071  # Index of restaurant of interest\n",
        "restaurant_name = df_total.iloc[restaurant_index]['name']\n",
        "\n",
        "print(\"Ristorante di riferimento:\", restaurant_name)"
      ]
    },
    {
      "cell_type": "code",
      "execution_count": 37,
      "metadata": {
        "colab": {
          "base_uri": "https://localhost:8080/"
        },
        "id": "xZ6oTdi43vGJ",
        "outputId": "e330a29d-c28d-4792-f22b-c304f948f03b"
      },
      "outputs": [
        {
          "output_type": "execute_result",
          "data": {
            "text/plain": [
              "0       1\n",
              "1       1\n",
              "2       1\n",
              "3       1\n",
              "4       1\n",
              "       ..\n",
              "8067    0\n",
              "8068    1\n",
              "8069    0\n",
              "8070    0\n",
              "8071    1\n",
              "Name: stars, Length: 8072, dtype: int64"
            ]
          },
          "metadata": {},
          "execution_count": 37
        }
      ],
      "source": [
        "# Convert stars for consider it as attribute\n",
        "convert_stars = {0:0,1:0,2:0,3:0,4:1,5:1}\n",
        "features_df = df_total.drop(['name'], axis=1)\n",
        "features_df['stars'].map(convert_stars)"
      ]
    },
    {
      "cell_type": "code",
      "execution_count": 38,
      "metadata": {
        "id": "3amTu8LR2luF"
      },
      "outputs": [],
      "source": [
        "def cosine_similarity_scratch(vector1, vector2):\n",
        "    dot_product = np.dot(vector1, vector2)\n",
        "    norm_vector1 = np.linalg.norm(vector1)\n",
        "    norm_vector2 = np.linalg.norm(vector2)\n",
        "    \n",
        "    if norm_vector1 == 0 or norm_vector2 == 0:\n",
        "        return 0.0\n",
        "    \n",
        "    similarity = dot_product / (norm_vector1 * norm_vector2)\n",
        "    return similarity\n"
      ]
    },
    {
      "cell_type": "code",
      "execution_count": 39,
      "metadata": {
        "colab": {
          "base_uri": "https://localhost:8080/"
        },
        "id": "wqgMs_EH2jRr",
        "outputId": "e1dd9e9d-9b1e-4b0a-8529-cdb85ab3d9a6"
      },
      "outputs": [
        {
          "output_type": "stream",
          "name": "stdout",
          "text": [
            "                             name  stars  cosine_similarity\n",
            "5990  San Antonio Mexican cousine      5           1.000000\n",
            "6813              El Charro Negro      4           0.942809\n",
            "7109      Los Taquitos de Puebla       4           0.942809\n",
            "3292        El Limon - Norristown      4           0.904534\n",
            "3534             Los Cuatro Soles      5           0.888889\n"
          ]
        }
      ],
      "source": [
        "restaurant_features = features_df.iloc[restaurant_index, 6:-2].values  # Reference restaurant feature vector\n",
        "\n",
        "similarities = []\n",
        "for i in range(len(features_df)):\n",
        "    if i != restaurant_index:\n",
        "        other_restaurant_features = features_df.iloc[i, 6:-2].values\n",
        "        similarity = cosine_similarity_scratch(restaurant_features, other_restaurant_features)\n",
        "        similarities.append(similarity)\n",
        "\n",
        "similarities = np.array(similarities)\n",
        "similar_restaurants = similarities.argsort()[::-1]  # Similar restaurant ordered in a desc way\n",
        "\n",
        "# Visualize 5 top suggested restaurants with cosine sim column\n",
        "top_similar_restaurants = similar_restaurants[:5]\n",
        "recommended_restaurants = df_total.iloc[top_similar_restaurants][['name', 'stars']]\n",
        "recommended_restaurants['cosine_similarity'] = similarities[top_similar_restaurants]\n",
        "\n",
        "print(recommended_restaurants)\n"
      ]
    },
    {
      "cell_type": "code",
      "execution_count": 40,
      "metadata": {
        "id": "UrnV1OR80P1M"
      },
      "outputs": [],
      "source": [
        "features_df = df_total.drop(['name', 'stars'], axis=1)"
      ]
    },
    {
      "cell_type": "code",
      "execution_count": 41,
      "metadata": {
        "id": "yFzmrihb0Fny"
      },
      "outputs": [],
      "source": [
        "similarity_matrix = cosine_similarity(features_df)"
      ]
    },
    {
      "cell_type": "code",
      "execution_count": 42,
      "metadata": {
        "colab": {
          "base_uri": "https://localhost:8080/"
        },
        "id": "aDJxuIeu0WqX",
        "outputId": "4dd7d1da-defd-4219-a5f3-cdd9fa4687c1"
      },
      "outputs": [
        {
          "output_type": "stream",
          "name": "stdout",
          "text": [
            "Ristoranti Raccomandati:\n",
            "San Antonio Mexican cousine (Cosine Similarity: 0.9999999999999999) stars: 5\n",
            "Los Taquitos de Puebla  (Cosine Similarity: 0.9486832980505138) stars: 4\n",
            "El Charro Negro (Cosine Similarity: 0.9486832980505138) stars: 4\n",
            "El Limon - Norristown (Cosine Similarity: 0.9128709291752769) stars: 4\n",
            "Plaza Garibaldi (Cosine Similarity: 0.8999999999999999) stars: 4\n"
          ]
        }
      ],
      "source": [
        "# Similar restaurant in desc similarity order\n",
        "similar_restaurants = similarity_matrix[restaurant_index].argsort()[::-1]  \n",
        "similarities_lib = []\n",
        "# Visualize top 5 similar restaurant by excluding the referred one\n",
        "top_similar_restaurants = similar_restaurants[1:6]\n",
        "recommended_restaurants = df_total.iloc[top_similar_restaurants]\n",
        "\n",
        "print(\"Ristoranti Raccomandati:\")\n",
        "for i, restaurant in recommended_restaurants.iterrows():\n",
        "    restaurant_name = restaurant['name']\n",
        "    restaurant_start = restaurant['stars']\n",
        "    similarity = similarity_matrix[restaurant_index, i]\n",
        "    similarities_lib.append(similarity)\n",
        "    print(f\"{restaurant_name} (Cosine Similarity: {similarity}) stars: {restaurant_start}\")\n"
      ]
    },
    {
      "cell_type": "markdown",
      "metadata": {
        "id": "hZEpdg4kQ1ef"
      },
      "source": [
        "# Businesses similarity recommendation based on K-NN algorithm"
      ]
    },
    {
      "cell_type": "markdown",
      "metadata": {
        "id": "qQYUEIXiyvzm"
      },
      "source": [
        "Let's build the recomender system by using the K-NN algorithm"
      ]
    },
    {
      "cell_type": "code",
      "execution_count": 43,
      "metadata": {
        "id": "_y3jLUIMyK11"
      },
      "outputs": [],
      "source": [
        "# Create X (all the features) and y (target)\n",
        "X = df_total.iloc[:,:-2]\n",
        "y = df_total['stars']"
      ]
    },
    {
      "cell_type": "markdown",
      "metadata": {
        "id": "oeTrTyKBRB93"
      },
      "source": [
        "Splitting of the data in train e test set"
      ]
    },
    {
      "cell_type": "code",
      "execution_count": 44,
      "metadata": {
        "id": "l3Msbr7iDI5B"
      },
      "outputs": [],
      "source": [
        "# Split the data into train and test sets\n",
        "X_train_knn, X_test_knn, y_train_knn, y_test_knn = train_test_split(X, y, test_size=0.2, random_state=1)"
      ]
    },
    {
      "cell_type": "markdown",
      "metadata": {
        "id": "VoArwKacRLHE"
      },
      "source": [
        "Apply the 5-fold cross-validation to estimate the best k for the K-NN"
      ]
    },
    {
      "cell_type": "code",
      "execution_count": 45,
      "metadata": {
        "colab": {
          "base_uri": "https://localhost:8080/"
        },
        "id": "zo_gBJBhBsD5",
        "outputId": "b0c27eff-217a-4b55-8e3d-19f656a48a40"
      },
      "outputs": [
        {
          "output_type": "stream",
          "name": "stdout",
          "text": [
            "Best k value: 20\n"
          ]
        }
      ],
      "source": [
        "# model KNN creation\n",
        "knn = KNeighborsClassifier()\n",
        "\n",
        "# k value to test\n",
        "k_values = [5, 10, 15, 20, 25]\n",
        "\n",
        "# scores list to save perfomance results\n",
        "scores = []\n",
        "\n",
        "# cross-validation application for each k value\n",
        "for k in k_values:\n",
        "    knn.n_neighbors = k\n",
        "    # 5-fold cross-validation\n",
        "    cv_scores = cross_val_score(knn, X_train_knn, y_train_knn, cv=5) \n",
        "    scores.append(cv_scores.mean())\n",
        "\n",
        "# Find the k value that maximize the performance avg\n",
        "best_k = k_values[scores.index(max(scores))]\n",
        "\n",
        "print(f\"Best k value: {best_k}\")\n"
      ]
    },
    {
      "cell_type": "markdown",
      "metadata": {
        "id": "BOmE2u85RM0-"
      },
      "source": [
        "Fitting the model and printing of the results"
      ]
    },
    {
      "cell_type": "code",
      "execution_count": 46,
      "metadata": {
        "colab": {
          "base_uri": "https://localhost:8080/"
        },
        "id": "G-enfhQVDLgs",
        "outputId": "6f6d83f6-544d-44b7-cb19-0e0c95a002d9"
      },
      "outputs": [
        {
          "output_type": "stream",
          "name": "stdout",
          "text": [
            "Score on training set: 0.5624903205823137\n",
            "Score on test set: 0.5219814241486068\n"
          ]
        }
      ],
      "source": [
        "knn = KNeighborsClassifier(n_neighbors=best_k)\n",
        "knn.fit(X_train_knn, y_train_knn)\n",
        "\n",
        "\n",
        "import pickle\n",
        "# Save the Modle to file in the current working directory\n",
        "\n",
        "Pkl_Filename = \"Pickle_KNN_Model.pkl\"  \n",
        "\n",
        "with open(Pkl_Filename, 'wb') as file:  \n",
        "    pickle.dump(knn, file)\n",
        "\n",
        "accuracy_train = knn.score(X_train_knn, y_train_knn)\n",
        "accuracy_test = knn.score(X_test_knn, y_test_knn)\n",
        "\n",
        "print(f\"Score on training set: {accuracy_train}\")\n",
        "print(f\"Score on test set: {accuracy_test}\")"
      ]
    },
    {
      "cell_type": "markdown",
      "metadata": {
        "id": "l23-97k2RWzY"
      },
      "source": [
        "Testing the model and use the last row as the validation test"
      ]
    },
    {
      "cell_type": "code",
      "execution_count": 47,
      "metadata": {
        "id": "cRMvGqgtDRfr"
      },
      "outputs": [],
      "source": [
        "# test set from the df_final table (only last row): \n",
        "test_set = df_total.iloc[-1:,:-2]\n",
        "\n",
        "# validation set from the df_final table (exclude the last row)\n",
        "X_val =  df_total.iloc[:-1,:-2]\n",
        "y_val = df_total['stars'].iloc[:-1]"
      ]
    },
    {
      "cell_type": "code",
      "execution_count": 48,
      "metadata": {
        "id": "aRVCLyipE2xw"
      },
      "outputs": [],
      "source": [
        "# fit model with validation set\n",
        "n_knn = knn.fit(X_val, y_val)"
      ]
    },
    {
      "cell_type": "code",
      "execution_count": 49,
      "metadata": {
        "colab": {
          "base_uri": "https://localhost:8080/",
          "height": 700
        },
        "id": "xSf-DY0UFBiR",
        "outputId": "03821bec-a6fc-4488-d7ca-cc21b3b8b3a5"
      },
      "outputs": [
        {
          "output_type": "execute_result",
          "data": {
            "text/plain": [
              "       distance\n",
              "index          \n",
              "5990   0.000000\n",
              "7109   1.000000\n",
              "6813   1.000000\n",
              "1817   1.414214\n",
              "7382   1.414214\n",
              "4715   1.414214\n",
              "2049   1.414214\n",
              "1094   1.414214\n",
              "5479   1.414214\n",
              "5163   1.414214\n",
              "5564   1.414214\n",
              "3534   1.414214\n",
              "785    1.414214\n",
              "2660   1.414214\n",
              "1118   1.414214\n",
              "3292   1.414214\n",
              "1352   1.414214\n",
              "5155   1.732051\n",
              "5141   1.732051\n",
              "1280   1.732051"
            ],
            "text/html": [
              "\n",
              "  <div id=\"df-235ea1ff-1ccc-4f4c-9a71-47b247475e06\">\n",
              "    <div class=\"colab-df-container\">\n",
              "      <div>\n",
              "<style scoped>\n",
              "    .dataframe tbody tr th:only-of-type {\n",
              "        vertical-align: middle;\n",
              "    }\n",
              "\n",
              "    .dataframe tbody tr th {\n",
              "        vertical-align: top;\n",
              "    }\n",
              "\n",
              "    .dataframe thead th {\n",
              "        text-align: right;\n",
              "    }\n",
              "</style>\n",
              "<table border=\"1\" class=\"dataframe\">\n",
              "  <thead>\n",
              "    <tr style=\"text-align: right;\">\n",
              "      <th></th>\n",
              "      <th>distance</th>\n",
              "    </tr>\n",
              "    <tr>\n",
              "      <th>index</th>\n",
              "      <th></th>\n",
              "    </tr>\n",
              "  </thead>\n",
              "  <tbody>\n",
              "    <tr>\n",
              "      <th>5990</th>\n",
              "      <td>0.000000</td>\n",
              "    </tr>\n",
              "    <tr>\n",
              "      <th>7109</th>\n",
              "      <td>1.000000</td>\n",
              "    </tr>\n",
              "    <tr>\n",
              "      <th>6813</th>\n",
              "      <td>1.000000</td>\n",
              "    </tr>\n",
              "    <tr>\n",
              "      <th>1817</th>\n",
              "      <td>1.414214</td>\n",
              "    </tr>\n",
              "    <tr>\n",
              "      <th>7382</th>\n",
              "      <td>1.414214</td>\n",
              "    </tr>\n",
              "    <tr>\n",
              "      <th>4715</th>\n",
              "      <td>1.414214</td>\n",
              "    </tr>\n",
              "    <tr>\n",
              "      <th>2049</th>\n",
              "      <td>1.414214</td>\n",
              "    </tr>\n",
              "    <tr>\n",
              "      <th>1094</th>\n",
              "      <td>1.414214</td>\n",
              "    </tr>\n",
              "    <tr>\n",
              "      <th>5479</th>\n",
              "      <td>1.414214</td>\n",
              "    </tr>\n",
              "    <tr>\n",
              "      <th>5163</th>\n",
              "      <td>1.414214</td>\n",
              "    </tr>\n",
              "    <tr>\n",
              "      <th>5564</th>\n",
              "      <td>1.414214</td>\n",
              "    </tr>\n",
              "    <tr>\n",
              "      <th>3534</th>\n",
              "      <td>1.414214</td>\n",
              "    </tr>\n",
              "    <tr>\n",
              "      <th>785</th>\n",
              "      <td>1.414214</td>\n",
              "    </tr>\n",
              "    <tr>\n",
              "      <th>2660</th>\n",
              "      <td>1.414214</td>\n",
              "    </tr>\n",
              "    <tr>\n",
              "      <th>1118</th>\n",
              "      <td>1.414214</td>\n",
              "    </tr>\n",
              "    <tr>\n",
              "      <th>3292</th>\n",
              "      <td>1.414214</td>\n",
              "    </tr>\n",
              "    <tr>\n",
              "      <th>1352</th>\n",
              "      <td>1.414214</td>\n",
              "    </tr>\n",
              "    <tr>\n",
              "      <th>5155</th>\n",
              "      <td>1.732051</td>\n",
              "    </tr>\n",
              "    <tr>\n",
              "      <th>5141</th>\n",
              "      <td>1.732051</td>\n",
              "    </tr>\n",
              "    <tr>\n",
              "      <th>1280</th>\n",
              "      <td>1.732051</td>\n",
              "    </tr>\n",
              "  </tbody>\n",
              "</table>\n",
              "</div>\n",
              "      <button class=\"colab-df-convert\" onclick=\"convertToInteractive('df-235ea1ff-1ccc-4f4c-9a71-47b247475e06')\"\n",
              "              title=\"Convert this dataframe to an interactive table.\"\n",
              "              style=\"display:none;\">\n",
              "        \n",
              "  <svg xmlns=\"http://www.w3.org/2000/svg\" height=\"24px\"viewBox=\"0 0 24 24\"\n",
              "       width=\"24px\">\n",
              "    <path d=\"M0 0h24v24H0V0z\" fill=\"none\"/>\n",
              "    <path d=\"M18.56 5.44l.94 2.06.94-2.06 2.06-.94-2.06-.94-.94-2.06-.94 2.06-2.06.94zm-11 1L8.5 8.5l.94-2.06 2.06-.94-2.06-.94L8.5 2.5l-.94 2.06-2.06.94zm10 10l.94 2.06.94-2.06 2.06-.94-2.06-.94-.94-2.06-.94 2.06-2.06.94z\"/><path d=\"M17.41 7.96l-1.37-1.37c-.4-.4-.92-.59-1.43-.59-.52 0-1.04.2-1.43.59L10.3 9.45l-7.72 7.72c-.78.78-.78 2.05 0 2.83L4 21.41c.39.39.9.59 1.41.59.51 0 1.02-.2 1.41-.59l7.78-7.78 2.81-2.81c.8-.78.8-2.07 0-2.86zM5.41 20L4 18.59l7.72-7.72 1.47 1.35L5.41 20z\"/>\n",
              "  </svg>\n",
              "      </button>\n",
              "      \n",
              "  <style>\n",
              "    .colab-df-container {\n",
              "      display:flex;\n",
              "      flex-wrap:wrap;\n",
              "      gap: 12px;\n",
              "    }\n",
              "\n",
              "    .colab-df-convert {\n",
              "      background-color: #E8F0FE;\n",
              "      border: none;\n",
              "      border-radius: 50%;\n",
              "      cursor: pointer;\n",
              "      display: none;\n",
              "      fill: #1967D2;\n",
              "      height: 32px;\n",
              "      padding: 0 0 0 0;\n",
              "      width: 32px;\n",
              "    }\n",
              "\n",
              "    .colab-df-convert:hover {\n",
              "      background-color: #E2EBFA;\n",
              "      box-shadow: 0px 1px 2px rgba(60, 64, 67, 0.3), 0px 1px 3px 1px rgba(60, 64, 67, 0.15);\n",
              "      fill: #174EA6;\n",
              "    }\n",
              "\n",
              "    [theme=dark] .colab-df-convert {\n",
              "      background-color: #3B4455;\n",
              "      fill: #D2E3FC;\n",
              "    }\n",
              "\n",
              "    [theme=dark] .colab-df-convert:hover {\n",
              "      background-color: #434B5C;\n",
              "      box-shadow: 0px 1px 3px 1px rgba(0, 0, 0, 0.15);\n",
              "      filter: drop-shadow(0px 1px 2px rgba(0, 0, 0, 0.3));\n",
              "      fill: #FFFFFF;\n",
              "    }\n",
              "  </style>\n",
              "\n",
              "      <script>\n",
              "        const buttonEl =\n",
              "          document.querySelector('#df-235ea1ff-1ccc-4f4c-9a71-47b247475e06 button.colab-df-convert');\n",
              "        buttonEl.style.display =\n",
              "          google.colab.kernel.accessAllowed ? 'block' : 'none';\n",
              "\n",
              "        async function convertToInteractive(key) {\n",
              "          const element = document.querySelector('#df-235ea1ff-1ccc-4f4c-9a71-47b247475e06');\n",
              "          const dataTable =\n",
              "            await google.colab.kernel.invokeFunction('convertToInteractive',\n",
              "                                                     [key], {});\n",
              "          if (!dataTable) return;\n",
              "\n",
              "          const docLinkHtml = 'Like what you see? Visit the ' +\n",
              "            '<a target=\"_blank\" href=https://colab.research.google.com/notebooks/data_table.ipynb>data table notebook</a>'\n",
              "            + ' to learn more about interactive tables.';\n",
              "          element.innerHTML = '';\n",
              "          dataTable['output_type'] = 'display_data';\n",
              "          await google.colab.output.renderOutput(dataTable, element);\n",
              "          const docLink = document.createElement('div');\n",
              "          docLink.innerHTML = docLinkHtml;\n",
              "          element.appendChild(docLink);\n",
              "        }\n",
              "      </script>\n",
              "    </div>\n",
              "  </div>\n",
              "  "
            ]
          },
          "metadata": {},
          "execution_count": 49
        }
      ],
      "source": [
        "# distances and indeces from validation set (Shanghai Noodle House)\n",
        "distances, indeces =  n_knn.kneighbors(test_set)\n",
        "#n_knn.kneighbors(test_set)[1][0]\n",
        "\n",
        "# create table distances and indeces from \"Shanghai Noodle House\"\n",
        "final_table = pd.DataFrame(n_knn.kneighbors(test_set)[0][0], columns = ['distance'])\n",
        "final_table['index'] = n_knn.kneighbors(test_set)[1][0]\n",
        "final_table.set_index('index')"
      ]
    },
    {
      "cell_type": "markdown",
      "metadata": {
        "id": "CVQtZWONRgUh"
      },
      "source": [
        "Getting the similar restaurants compared with the one taken in the validation test"
      ]
    },
    {
      "cell_type": "code",
      "execution_count": 50,
      "metadata": {
        "colab": {
          "base_uri": "https://localhost:8080/",
          "height": 204
        },
        "id": "e3EMDT9qFGEI",
        "outputId": "3e968d49-bad5-4ea9-ed21-56a7e1d16305"
      },
      "outputs": [
        {
          "output_type": "execute_result",
          "data": {
            "text/plain": [
              "   distance  index                         name  stars\n",
              "0  0.000000   5990  San Antonio Mexican cousine      5\n",
              "1  1.000000   7109      Los Taquitos de Puebla       4\n",
              "2  1.000000   6813              El Charro Negro      4\n",
              "3  1.414214   1817          El Limon - Bensalem      5\n",
              "4  1.414214   7382                Los Mariachis      4"
            ],
            "text/html": [
              "\n",
              "  <div id=\"df-17c5422a-0a3d-4aef-bc5e-a1262314e083\">\n",
              "    <div class=\"colab-df-container\">\n",
              "      <div>\n",
              "<style scoped>\n",
              "    .dataframe tbody tr th:only-of-type {\n",
              "        vertical-align: middle;\n",
              "    }\n",
              "\n",
              "    .dataframe tbody tr th {\n",
              "        vertical-align: top;\n",
              "    }\n",
              "\n",
              "    .dataframe thead th {\n",
              "        text-align: right;\n",
              "    }\n",
              "</style>\n",
              "<table border=\"1\" class=\"dataframe\">\n",
              "  <thead>\n",
              "    <tr style=\"text-align: right;\">\n",
              "      <th></th>\n",
              "      <th>distance</th>\n",
              "      <th>index</th>\n",
              "      <th>name</th>\n",
              "      <th>stars</th>\n",
              "    </tr>\n",
              "  </thead>\n",
              "  <tbody>\n",
              "    <tr>\n",
              "      <th>0</th>\n",
              "      <td>0.000000</td>\n",
              "      <td>5990</td>\n",
              "      <td>San Antonio Mexican cousine</td>\n",
              "      <td>5</td>\n",
              "    </tr>\n",
              "    <tr>\n",
              "      <th>1</th>\n",
              "      <td>1.000000</td>\n",
              "      <td>7109</td>\n",
              "      <td>Los Taquitos de Puebla</td>\n",
              "      <td>4</td>\n",
              "    </tr>\n",
              "    <tr>\n",
              "      <th>2</th>\n",
              "      <td>1.000000</td>\n",
              "      <td>6813</td>\n",
              "      <td>El Charro Negro</td>\n",
              "      <td>4</td>\n",
              "    </tr>\n",
              "    <tr>\n",
              "      <th>3</th>\n",
              "      <td>1.414214</td>\n",
              "      <td>1817</td>\n",
              "      <td>El Limon - Bensalem</td>\n",
              "      <td>5</td>\n",
              "    </tr>\n",
              "    <tr>\n",
              "      <th>4</th>\n",
              "      <td>1.414214</td>\n",
              "      <td>7382</td>\n",
              "      <td>Los Mariachis</td>\n",
              "      <td>4</td>\n",
              "    </tr>\n",
              "  </tbody>\n",
              "</table>\n",
              "</div>\n",
              "      <button class=\"colab-df-convert\" onclick=\"convertToInteractive('df-17c5422a-0a3d-4aef-bc5e-a1262314e083')\"\n",
              "              title=\"Convert this dataframe to an interactive table.\"\n",
              "              style=\"display:none;\">\n",
              "        \n",
              "  <svg xmlns=\"http://www.w3.org/2000/svg\" height=\"24px\"viewBox=\"0 0 24 24\"\n",
              "       width=\"24px\">\n",
              "    <path d=\"M0 0h24v24H0V0z\" fill=\"none\"/>\n",
              "    <path d=\"M18.56 5.44l.94 2.06.94-2.06 2.06-.94-2.06-.94-.94-2.06-.94 2.06-2.06.94zm-11 1L8.5 8.5l.94-2.06 2.06-.94-2.06-.94L8.5 2.5l-.94 2.06-2.06.94zm10 10l.94 2.06.94-2.06 2.06-.94-2.06-.94-.94-2.06-.94 2.06-2.06.94z\"/><path d=\"M17.41 7.96l-1.37-1.37c-.4-.4-.92-.59-1.43-.59-.52 0-1.04.2-1.43.59L10.3 9.45l-7.72 7.72c-.78.78-.78 2.05 0 2.83L4 21.41c.39.39.9.59 1.41.59.51 0 1.02-.2 1.41-.59l7.78-7.78 2.81-2.81c.8-.78.8-2.07 0-2.86zM5.41 20L4 18.59l7.72-7.72 1.47 1.35L5.41 20z\"/>\n",
              "  </svg>\n",
              "      </button>\n",
              "      \n",
              "  <style>\n",
              "    .colab-df-container {\n",
              "      display:flex;\n",
              "      flex-wrap:wrap;\n",
              "      gap: 12px;\n",
              "    }\n",
              "\n",
              "    .colab-df-convert {\n",
              "      background-color: #E8F0FE;\n",
              "      border: none;\n",
              "      border-radius: 50%;\n",
              "      cursor: pointer;\n",
              "      display: none;\n",
              "      fill: #1967D2;\n",
              "      height: 32px;\n",
              "      padding: 0 0 0 0;\n",
              "      width: 32px;\n",
              "    }\n",
              "\n",
              "    .colab-df-convert:hover {\n",
              "      background-color: #E2EBFA;\n",
              "      box-shadow: 0px 1px 2px rgba(60, 64, 67, 0.3), 0px 1px 3px 1px rgba(60, 64, 67, 0.15);\n",
              "      fill: #174EA6;\n",
              "    }\n",
              "\n",
              "    [theme=dark] .colab-df-convert {\n",
              "      background-color: #3B4455;\n",
              "      fill: #D2E3FC;\n",
              "    }\n",
              "\n",
              "    [theme=dark] .colab-df-convert:hover {\n",
              "      background-color: #434B5C;\n",
              "      box-shadow: 0px 1px 3px 1px rgba(0, 0, 0, 0.15);\n",
              "      filter: drop-shadow(0px 1px 2px rgba(0, 0, 0, 0.3));\n",
              "      fill: #FFFFFF;\n",
              "    }\n",
              "  </style>\n",
              "\n",
              "      <script>\n",
              "        const buttonEl =\n",
              "          document.querySelector('#df-17c5422a-0a3d-4aef-bc5e-a1262314e083 button.colab-df-convert');\n",
              "        buttonEl.style.display =\n",
              "          google.colab.kernel.accessAllowed ? 'block' : 'none';\n",
              "\n",
              "        async function convertToInteractive(key) {\n",
              "          const element = document.querySelector('#df-17c5422a-0a3d-4aef-bc5e-a1262314e083');\n",
              "          const dataTable =\n",
              "            await google.colab.kernel.invokeFunction('convertToInteractive',\n",
              "                                                     [key], {});\n",
              "          if (!dataTable) return;\n",
              "\n",
              "          const docLinkHtml = 'Like what you see? Visit the ' +\n",
              "            '<a target=\"_blank\" href=https://colab.research.google.com/notebooks/data_table.ipynb>data table notebook</a>'\n",
              "            + ' to learn more about interactive tables.';\n",
              "          element.innerHTML = '';\n",
              "          dataTable['output_type'] = 'display_data';\n",
              "          await google.colab.output.renderOutput(dataTable, element);\n",
              "          const docLink = document.createElement('div');\n",
              "          docLink.innerHTML = docLinkHtml;\n",
              "          element.appendChild(docLink);\n",
              "        }\n",
              "      </script>\n",
              "    </div>\n",
              "  </div>\n",
              "  "
            ]
          },
          "metadata": {},
          "execution_count": 50
        }
      ],
      "source": [
        "# get names of the restaurant that similar to the one selected\n",
        "result = final_table.join(df_total,on='index')\n",
        "result[['distance','index','name','stars']].head(5)"
      ]
    },
    {
      "cell_type": "markdown",
      "metadata": {
        "id": "46yIQjHjR2tz"
      },
      "source": [
        "# Businesses similarity recommendation with PySpark and cosine similarity"
      ]
    },
    {
      "cell_type": "markdown",
      "metadata": {
        "id": "ETyfrHhxK5n6"
      },
      "source": [
        "Content based recomender system in PySpark"
      ]
    },
    {
      "cell_type": "code",
      "execution_count": 51,
      "metadata": {
        "colab": {
          "base_uri": "https://localhost:8080/"
        },
        "id": "HmjIAM9DK4yy",
        "outputId": "3d7db8fc-43fc-42ef-ac38-97e6791ca5f6"
      },
      "outputs": [
        {
          "output_type": "stream",
          "name": "stdout",
          "text": [
            "+--------------------+--------------------+--------------------+--------------------+--------------+-------+--------------------+-----+-----+\n",
            "|             address|          attributes|         business_id|          categories|          city|is_open|                name|stars|state|\n",
            "+--------------------+--------------------+--------------------+--------------------+--------------+-------+--------------------+-----+-----+\n",
            "|1616 Chapala St, ...|{null, null, null...|Pns2l4eNsfO8kk83d...|Doctors, Traditio...| Santa Barbara|      0|Abby Rappoport, L...|  5.0|   CA|\n",
            "|87 Grasso Plaza S...|{null, null, null...|mpf3x-BjTdTEA3yCZ...|Shipping Centers,...|        Affton|      1|       The UPS Store|  3.0|   MO|\n",
            "|5255 E Broadway Blvd|{null, null, null...|tUFrWirKiKi_TAnsV...|Department Stores...|        Tucson|      0|              Target|  3.5|   AZ|\n",
            "|         935 Race St|{null, null, u'no...|MTSW4McQd7CbVtyjq...|Restaurants, Food...|  Philadelphia|      1|  St Honore Pastries|  4.0|   PA|\n",
            "|       101 Walnut St|{null, null, null...|mWMc6_wTdE0EUBKIG...|Brewpubs, Breweri...|    Green Lane|      1|Perkiomen Valley ...|  4.5|   PA|\n",
            "|       615 S Main St|{null, null, u'no...|CF33F8-E6oudUQ46H...|Burgers, Fast Foo...|  Ashland City|      1|      Sonic Drive-In|  2.0|   TN|\n",
            "|8522 Eager Road, ...|{null, null, null...|n_0UpQx1hsNbnPUSl...|Sporting Goods, F...|     Brentwood|      1|     Famous Footwear|  2.5|   MO|\n",
            "|  400 Pasadena Ave S|                null|qkRM_2X51Yqxk3btl...|Synagogues, Relig...|St. Petersburg|      1|      Temple Beth-El|  3.5|   FL|\n",
            "|   8025 Mackenzie Rd|{null, null, u'fu...|k0hlBqXX-Bt0vf1op...|Pubs, Restaurants...|        Affton|      0|Tsevi's Pub And G...|  3.0|   MO|\n",
            "| 2312 Dickerson Pike|{null, null, u'no...|bBDDEgkFA1Otx9Lfe...|Ice Cream & Froze...|     Nashville|      1|      Sonic Drive-In|  1.5|   TN|\n",
            "|21705 Village Lak...|{null, null, null...|UJsufbvfyfONHeWdv...|Department Stores...| Land O' Lakes|      1|           Marshalls|  3.5|   FL|\n",
            "|                    |{null, null, 'non...|eEOYSgkmpB90uNA7l...|Vietnamese, Food,...|     Tampa Bay|      1|Vietnamese Food T...|  4.0|   FL|\n",
            "|        8901 US 31 S|{null, null, 'non...|il_Ro8jwPlHresjw9...|American (Traditi...|  Indianapolis|      1|             Denny's|  2.5|   IN|\n",
            "|   15 N Missouri Ave|{null, null, null...|jaxMSoInw8Poo3XeM...|General Dentistry...|    Clearwater|      1|        Adams Dental|  5.0|   FL|\n",
            "|       2575 E Bay Dr|{null, null, u'no...|0bPLkL0QhhPO5kt1_...|Food, Delis, Ital...|         Largo|      0|Zio's Italian Market|  4.5|   FL|\n",
            "|         205 Race St|{null, null, 'ful...|MUTTqe8uqyMdBl186...|Sushi Bars, Resta...|  Philadelphia|      1|            Tuna Bar|  4.0|   PA|\n",
            "|     625 N Stone Ave|{null, null, null...|rBmpy_Y1UbBx8ggHl...|Automotive, Auto ...|        Tucson|      1|Arizona Truck Out...|  4.5|   AZ|\n",
            "|        712 Adams St|{null, null, null...|M0XSSHqrASOnhgbWD...|Vape Shops, Tobac...|   New Orleans|      1|      Herb Import Co|  4.0|   LA|\n",
            "|     1241 Airline Dr|                null|8wGISYjYkE2tSqn3c...|Automotive, Car R...|        Kenner|      1|    Nifty Car Rental|  3.5|   LA|\n",
            "|       1224 South St|{null, null, u'no...|ROeacJQwBeh05Rqg7...| Korean, Restaurants|  Philadelphia|      1|                 BAP|  4.5|   PA|\n",
            "+--------------------+--------------------+--------------------+--------------------+--------------+-------+--------------------+-----+-----+\n",
            "only showing top 20 rows\n",
            "\n"
          ]
        }
      ],
      "source": [
        "df_business.show()"
      ]
    },
    {
      "cell_type": "markdown",
      "metadata": {
        "id": "Q6IEGZFNSF8D"
      },
      "source": [
        "Create a list of categories"
      ]
    },
    {
      "cell_type": "code",
      "execution_count": 52,
      "metadata": {
        "id": "QBquO1O_R1ri"
      },
      "outputs": [],
      "source": [
        "df_business_spark = df_business.withColumn(\"categories_list\", split(df_business[\"categories\"], \",\")).drop(df_business[\"categories\"])"
      ]
    },
    {
      "cell_type": "code",
      "execution_count": 53,
      "metadata": {
        "colab": {
          "base_uri": "https://localhost:8080/"
        },
        "id": "9wC2IAniScVI",
        "outputId": "06567ce5-a30f-4490-be9a-9f6b619adff5"
      },
      "outputs": [
        {
          "output_type": "stream",
          "name": "stdout",
          "text": [
            "+--------------------+--------------------+--------------------+--------------+-------+--------------------+-----+-----+--------------------+\n",
            "|             address|          attributes|         business_id|          city|is_open|                name|stars|state|     categories_list|\n",
            "+--------------------+--------------------+--------------------+--------------+-------+--------------------+-----+-----+--------------------+\n",
            "|1616 Chapala St, ...|{null, null, null...|Pns2l4eNsfO8kk83d...| Santa Barbara|      0|Abby Rappoport, L...|  5.0|   CA|[Doctors,  Tradit...|\n",
            "|87 Grasso Plaza S...|{null, null, null...|mpf3x-BjTdTEA3yCZ...|        Affton|      1|       The UPS Store|  3.0|   MO|[Shipping Centers...|\n",
            "|5255 E Broadway Blvd|{null, null, null...|tUFrWirKiKi_TAnsV...|        Tucson|      0|              Target|  3.5|   AZ|[Department Store...|\n",
            "|         935 Race St|{null, null, u'no...|MTSW4McQd7CbVtyjq...|  Philadelphia|      1|  St Honore Pastries|  4.0|   PA|[Restaurants,  Fo...|\n",
            "|       101 Walnut St|{null, null, null...|mWMc6_wTdE0EUBKIG...|    Green Lane|      1|Perkiomen Valley ...|  4.5|   PA|[Brewpubs,  Brewe...|\n",
            "|       615 S Main St|{null, null, u'no...|CF33F8-E6oudUQ46H...|  Ashland City|      1|      Sonic Drive-In|  2.0|   TN|[Burgers,  Fast F...|\n",
            "|8522 Eager Road, ...|{null, null, null...|n_0UpQx1hsNbnPUSl...|     Brentwood|      1|     Famous Footwear|  2.5|   MO|[Sporting Goods, ...|\n",
            "|  400 Pasadena Ave S|                null|qkRM_2X51Yqxk3btl...|St. Petersburg|      1|      Temple Beth-El|  3.5|   FL|[Synagogues,  Rel...|\n",
            "|   8025 Mackenzie Rd|{null, null, u'fu...|k0hlBqXX-Bt0vf1op...|        Affton|      0|Tsevi's Pub And G...|  3.0|   MO|[Pubs,  Restauran...|\n",
            "| 2312 Dickerson Pike|{null, null, u'no...|bBDDEgkFA1Otx9Lfe...|     Nashville|      1|      Sonic Drive-In|  1.5|   TN|[Ice Cream & Froz...|\n",
            "|21705 Village Lak...|{null, null, null...|UJsufbvfyfONHeWdv...| Land O' Lakes|      1|           Marshalls|  3.5|   FL|[Department Store...|\n",
            "|                    |{null, null, 'non...|eEOYSgkmpB90uNA7l...|     Tampa Bay|      1|Vietnamese Food T...|  4.0|   FL|[Vietnamese,  Foo...|\n",
            "|        8901 US 31 S|{null, null, 'non...|il_Ro8jwPlHresjw9...|  Indianapolis|      1|             Denny's|  2.5|   IN|[American (Tradit...|\n",
            "|   15 N Missouri Ave|{null, null, null...|jaxMSoInw8Poo3XeM...|    Clearwater|      1|        Adams Dental|  5.0|   FL|[General Dentistr...|\n",
            "|       2575 E Bay Dr|{null, null, u'no...|0bPLkL0QhhPO5kt1_...|         Largo|      0|Zio's Italian Market|  4.5|   FL|[Food,  Delis,  I...|\n",
            "|         205 Race St|{null, null, 'ful...|MUTTqe8uqyMdBl186...|  Philadelphia|      1|            Tuna Bar|  4.0|   PA|[Sushi Bars,  Res...|\n",
            "|     625 N Stone Ave|{null, null, null...|rBmpy_Y1UbBx8ggHl...|        Tucson|      1|Arizona Truck Out...|  4.5|   AZ|[Automotive,  Aut...|\n",
            "|        712 Adams St|{null, null, null...|M0XSSHqrASOnhgbWD...|   New Orleans|      1|      Herb Import Co|  4.0|   LA|[Vape Shops,  Tob...|\n",
            "|     1241 Airline Dr|                null|8wGISYjYkE2tSqn3c...|        Kenner|      1|    Nifty Car Rental|  3.5|   LA|[Automotive,  Car...|\n",
            "|       1224 South St|{null, null, u'no...|ROeacJQwBeh05Rqg7...|  Philadelphia|      1|                 BAP|  4.5|   PA|[Korean,  Restaur...|\n",
            "+--------------------+--------------------+--------------------+--------------+-------+--------------------+-----+-----+--------------------+\n",
            "only showing top 20 rows\n",
            "\n"
          ]
        }
      ],
      "source": [
        "df_business_spark.show()"
      ]
    },
    {
      "cell_type": "markdown",
      "metadata": {
        "id": "h0Wjcby0STxj"
      },
      "source": [
        "Data filtering based on the data exploration. PA seems from the graphics to have more business then the other. Indeed I selected only the open business (=1) and filtered as Restaurants. You can choose which business you want based on the category list."
      ]
    },
    {
      "cell_type": "code",
      "execution_count": 54,
      "metadata": {
        "id": "JPyL_eTiRIWd"
      },
      "outputs": [],
      "source": [
        "df_business_spark = df_business_spark.filter((df_business_spark.state =='PA') & (df_business_spark.is_open == 1) & (array_contains(df_business_spark['categories_list'], 'Restaurants')))\n"
      ]
    },
    {
      "cell_type": "code",
      "execution_count": 55,
      "metadata": {
        "colab": {
          "base_uri": "https://localhost:8080/"
        },
        "id": "PPHfVUFVSs5v",
        "outputId": "d527b184-48a1-4c93-c986-091390ca918a"
      },
      "outputs": [
        {
          "output_type": "execute_result",
          "data": {
            "text/plain": [
              "2385"
            ]
          },
          "metadata": {},
          "execution_count": 55
        }
      ],
      "source": [
        "df_business_spark.count()"
      ]
    },
    {
      "cell_type": "code",
      "execution_count": 56,
      "metadata": {
        "colab": {
          "base_uri": "https://localhost:8080/"
        },
        "id": "3RdHWR8DBdTy",
        "outputId": "8d54ba7f-34e8-45d8-d7af-b46792d768ad"
      },
      "outputs": [
        {
          "output_type": "stream",
          "name": "stdout",
          "text": [
            "+--------------------+--------------------+-----+\n",
            "|         business_id|                name|stars|\n",
            "+--------------------+--------------------+-----+\n",
            "|MTSW4McQd7CbVtyjq...|  St Honore Pastries|  4.0|\n",
            "|ABxoFuzZy5mqQ8C5F...|        Core de Roma|  5.0|\n",
            "|ppFCk9aQkM338Rgwp...|                Wawa|  3.0|\n",
            "|3BJxm-HnvzdwD1zjm...|Golden Chopstick ...|  3.0|\n",
            "|pmuuoDqNZp7518AUd...|Bagelicious - Kin...|  3.5|\n",
            "|bTve2mwLk5Zc01vRK...|Red Hook Coffee &...|  4.5|\n",
            "|aNXw3PkXVt8ANwLyC...|          McDonald's|  1.5|\n",
            "|GVqXNt0HKJLpciN9e...| Crown Fried Chicken|  2.5|\n",
            "|dChRGpit9fM_kZK5p...|            The Love|  4.0|\n",
            "|CPgWuWGZ4v2sZr5_-...|            Checkers|  2.0|\n",
            "|yFqq66GxRjnhZXPgj...|                 KFC|  2.0|\n",
            "|0l_njS4wGMadAk1b4...|        Panera Bread|  2.5|\n",
            "|kGjpBqAqG4mIuFSgU...|The Royal Indian ...|  4.0|\n",
            "|kLSEk3qXY1KdtFjxH...|          McDonald's|  1.5|\n",
            "|dBCNUSbz5-8nQNrxW...|Blue Sage Vegetar...|  4.5|\n",
            "|kq5Ghhh14r-eCxlVm...|   The Coventry Deli|  4.0|\n",
            "|K5ffo0hkwhG33BDNQ...|Slate Bleu Restau...|  4.0|\n",
            "|HuDNHqKv9n1mWpe4B...|         Minas Pizza|  3.0|\n",
            "|7utsfp2dXJ09j8Gb9...|      Suzy-Jo Donuts|  4.5|\n",
            "|joeRm-_7T0XTkMdKo...|    Paola's Pizzeria|  4.5|\n",
            "+--------------------+--------------------+-----+\n",
            "only showing top 20 rows\n",
            "\n"
          ]
        }
      ],
      "source": [
        "restaurant_df_sel_spark = df_business_spark[['business_id','name','stars']]\n",
        "restaurant_df_sel_spark.show()"
      ]
    },
    {
      "cell_type": "markdown",
      "metadata": {
        "id": "ztOKare5Szvu"
      },
      "source": [
        "I noticed that the column attributes need to be preprocessed in order to be used."
      ]
    },
    {
      "cell_type": "code",
      "execution_count": 57,
      "metadata": {
        "colab": {
          "base_uri": "https://localhost:8080/"
        },
        "id": "HQPJgcgdBtaf",
        "outputId": "341fcca0-fc97-46b3-e8e8-751843b630c3"
      },
      "outputs": [
        {
          "output_type": "stream",
          "name": "stdout",
          "text": [
            "+----------------------------------------------------------------------------------------------------------------------------------------------------------------------------------------------------------------------------------------------------------------------------------------------------------------------------------------------------------------------------------------------------------------------------------------------------------------------------------------------------------------------------------------------------------------------------------------------------------------------+\n",
            "|attributes                                                                                                                                                                                                                                                                                                                                                                                                                                                                                                                                                                                                            |\n",
            "+----------------------------------------------------------------------------------------------------------------------------------------------------------------------------------------------------------------------------------------------------------------------------------------------------------------------------------------------------------------------------------------------------------------------------------------------------------------------------------------------------------------------------------------------------------------------------------------------------------------------+\n",
            "|{null, null, u'none', null, null, null, null, True, null, False, {'garage': False, 'street': True, 'validated': False, 'lot': False, 'valet': False}, False, True, null, null, null, null, null, null, null, null, null, null, null, null, null, null, False, null, null, False, null, 1, null, null, True, null, null, u'free'}                                                                                                                                                                                                                                                                                      |\n",
            "|{null, null, null, null, null, null, null, null, null, null, {u'valet': False, u'garage': False, u'street': False, u'lot': True, u'validated': False}, null, null, null, null, null, null, null, null, null, null, null, null, null, null, null, null, null, null, null, None, null, null, null, null, None, null, null, null}                                                                                                                                                                                                                                                                                        |\n",
            "|{null, null, u'none', {'romantic': False, 'intimate': False, 'classy': False, 'hipster': False, 'divey': False, 'touristy': False, 'trendy': False, 'upscale': False, 'casual': True}, null, null, null, True, null, True, {'garage': False, 'street': True, 'validated': False, 'lot': False, 'valet': False}, False, False, null, null, null, null, null, null, True, null, null, null, True, null, u'average', null, False, u'casual', null, True, True, 1, False, null, True, null, null, u'free'}                                                                                                                |\n",
            "|{null, null, u'none', {'touristy': False, 'hipster': False, 'romantic': False, 'divey': None, 'intimate': False, 'trendy': False, 'upscale': False, 'classy': False, 'casual': None}, null, null, null, True, False, True, {'garage': False, 'street': True, 'validated': False, 'lot': False, 'valet': False}, null, True, null, null, null, False, null, null, True, {'dessert': False, 'latenight': False, 'lunch': True, 'dinner': None, 'brunch': False, 'breakfast': False}, null, False, True, null, u'average', null, False, 'casual', null, True, True, 1, True, True, True, null, True, u'free'}            |\n",
            "|{null, null, null, null, null, null, null, True, null, True, {'garage': False, 'street': False, 'validated': False, 'lot': True, 'valet': False}, null, null, null, null, null, True, null, null, null, null, null, null, null, null, null, null, null, null, null, False, null, 1, null, null, True, null, null, null}                                                                                                                                                                                                                                                                                               |\n",
            "|{null, null, 'none', {'romantic': False, 'intimate': False, 'classy': False, 'hipster': False, 'divey': False, 'touristy': False, 'trendy': False, 'upscale': False, 'casual': True}, null, null, null, True, null, False, {'garage': False, 'street': True, 'validated': False, 'lot': False, 'valet': False}, null, False, null, null, null, null, null, null, True, {'dessert': False, 'latenight': False, 'lunch': True, 'dinner': False, 'brunch': True, 'breakfast': True}, null, null, True, null, u'quiet', null, True, 'casual', null, False, False, 1, False, null, True, null, null, 'free'}               |\n",
            "|{null, null, null, null, null, null, null, null, null, null, {'garage': False, 'street': False, 'validated': False, 'lot': False, 'valet': False}, null, null, null, null, null, null, True, null, True, null, null, null, null, null, null, null, null, null, null, True, null, 1, null, null, True, null, null, u'free'}                                                                                                                                                                                                                                                                                            |\n",
            "|{null, null, u'none', {'touristy': False, 'hipster': False, 'romantic': False, 'divey': False, 'intimate': False, 'trendy': False, 'upscale': False, 'classy': True, 'casual': False}, null, null, null, True, null, True, {'garage': None, 'street': True, 'validated': None, 'lot': False, 'valet': False}, null, null, null, null, null, null, null, null, False, null, null, null, True, null, u'average', null, False, u'casual', null, True, False, 1, False, null, True, null, null, u'no'}                                                                                                                    |\n",
            "|{null, null, u'full_bar', {'touristy': False, 'hipster': False, 'romantic': True, 'divey': False, 'intimate': True, 'trendy': True, 'upscale': False, 'classy': True, 'casual': False}, null, null, null, True, null, True, {'garage': False, 'street': True, 'validated': False, 'lot': False, 'valet': False}, null, False, null, null, null, False, null, null, False, {'dessert': True, 'latenight': None, 'lunch': True, 'dinner': True, 'brunch': True, 'breakfast': None}, null, True, False, null, u'average', null, True, u'casual', null, True, True, 2, True, True, True, null, null, 'no'}                |\n",
            "|{null, null, u'none', {'romantic': False, 'intimate': False, 'classy': False, 'hipster': False, 'divey': False, 'touristy': False, 'trendy': False, 'upscale': False, 'casual': False}, null, null, null, True, null, True, {'garage': False, 'street': False, 'validated': False, 'lot': True, 'valet': False}, null, False, null, null, null, null, True, null, True, {'dessert': False, 'latenight': False, 'lunch': False, 'dinner': False, 'brunch': False, 'breakfast': False}, null, null, True, null, 'average', null, True, 'casual', null, True, True, 1, False, True, True, null, null, u'no'}             |\n",
            "|{null, null, null, None, null, null, null, null, null, True, None, null, True, null, null, null, null, True, null, True, None, null, null, True, null, null, null, False, null, null, True, False, 1, False, null, True, null, null, 'free'}                                                                                                                                                                                                                                                                                                                                                                          |\n",
            "|{null, null, u'none', {'touristy': False, 'hipster': False, 'romantic': False, 'divey': False, 'intimate': False, 'trendy': False, 'upscale': False, 'classy': True, 'casual': True}, null, null, null, True, null, True, {'garage': False, 'street': False, 'validated': False, 'lot': True, 'valet': False}, null, True, null, null, null, null, null, null, True, {'dessert': False, 'latenight': False, 'lunch': True, 'dinner': True, 'brunch': False, 'breakfast': True}, null, null, True, null, u'average', null, False, u'casual', null, True, True, 2, False, null, True, null, null, u'free'}              |\n",
            "|{null, null, u'none', {'touristy': None, 'hipster': None, 'romantic': None, 'divey': None, 'intimate': True, 'trendy': None, 'upscale': None, 'classy': None, 'casual': None}, null, null, null, null, False, True, {'garage': False, 'street': True, 'validated': False, 'lot': False, 'valet': False}, null, True, null, null, null, False, null, null, null, {'dessert': False, 'latenight': False, 'lunch': False, 'dinner': False, 'brunch': False, 'breakfast': False}, null, False, False, null, null, null, False, null, null, True, null, null, True, True, True, null, False, u'no'}                        |\n",
            "|{null, null, null, {'touristy': False, 'hipster': False, 'romantic': False, 'divey': False, 'intimate': False, 'trendy': False, 'upscale': False, 'classy': False, 'casual': False}, null, null, null, False, null, True, {'garage': False, 'street': False, 'validated': False, 'lot': False, 'valet': False}, null, null, null, null, null, null, True, null, True, {'dessert': False, 'latenight': False, 'lunch': False, 'dinner': False, 'brunch': False, 'breakfast': False}, null, null, True, null, null, null, False, 'casual', null, True, True, 1, False, null, True, null, null, null}                    |\n",
            "|{null, null, 'none', {'touristy': False, 'hipster': False, 'romantic': False, 'divey': False, 'intimate': False, 'trendy': False, 'upscale': False, 'classy': True, 'casual': True}, null, 'yes_free', null, False, False, True, {'garage': False, 'street': False, 'validated': False, 'lot': True, 'valet': False}, null, False, null, null, null, False, null, null, False, {u'breakfast': False, u'brunch': False, u'lunch': True, u'dinner': True, u'latenight': False, u'dessert': None}, null, False, False, null, u'average', null, False, 'casual', null, True, True, 2, True, True, True, null, True, u'no'}|\n",
            "|{null, null, u'none', {'touristy': False, 'hipster': False, 'romantic': False, 'divey': False, 'intimate': False, 'trendy': False, 'upscale': False, 'classy': False, 'casual': True}, null, 'yes_free', null, True, null, True, {'garage': False, 'street': False, 'validated': False, 'lot': False, 'valet': False}, null, True, null, False, null, null, null, null, True, {'dessert': False, 'latenight': False, 'lunch': True, 'dinner': False, 'brunch': False, 'breakfast': False}, null, null, True, null, u'average', null, True, 'casual', null, True, True, 1, False, null, True, null, null, null}        |\n",
            "|{null, null, u'full_bar', {'touristy': False, 'hipster': False, 'romantic': True, 'divey': False, 'intimate': False, 'trendy': False, 'upscale': False, 'classy': True, 'casual': False}, null, null, null, True, null, True, {'garage': False, 'street': False, 'validated': False, 'lot': True, 'valet': False}, null, True, null, null, null, null, null, null, False, {'dessert': False, 'latenight': False, 'lunch': False, 'dinner': True, 'brunch': False, 'breakfast': False}, null, True, True, null, u'average', null, True, u'dressy', null, False, True, 3, True, null, True, null, null, u'free'}        |\n",
            "|{null, null, u'none', {'romantic': False, 'intimate': False, 'classy': False, 'hipster': False, 'divey': False, 'touristy': False, 'trendy': False, 'upscale': False, 'casual': True}, null, null, null, False, null, True, {'garage': False, 'street': True, 'validated': False, 'lot': False, 'valet': False}, null, True, null, null, null, null, null, null, True, {'dessert': False, 'latenight': False, 'lunch': True, 'dinner': True, 'brunch': False, 'breakfast': False}, null, null, True, null, 'average', null, False, u'casual', null, True, True, 1, False, null, True, null, null, u'no'}              |\n",
            "|{null, null, null, null, null, null, null, True, null, True, {'garage': False, 'street': True, 'validated': False, 'lot': True, 'valet': False}, null, True, null, null, null, null, null, null, null, null, null, null, null, null, null, null, null, null, null, False, null, 1, null, null, True, null, null, null}                                                                                                                                                                                                                                                                                                |\n",
            "|{null, null, u'none', {'romantic': False, 'intimate': False, 'classy': False, 'hipster': False, 'divey': False, 'touristy': False, 'trendy': False, 'upscale': False, 'casual': True}, True, null, null, True, null, True, {'garage': False, 'street': True, 'validated': False, 'lot': False, 'valet': False}, null, True, null, False, null, null, null, null, True, {'dessert': False, 'latenight': False, 'lunch': True, 'dinner': True, 'brunch': False, 'breakfast': False}, null, null, True, null, u'average', null, True, u'casual', null, False, True, 1, False, False, True, null, True, 'no'}             |\n",
            "+----------------------------------------------------------------------------------------------------------------------------------------------------------------------------------------------------------------------------------------------------------------------------------------------------------------------------------------------------------------------------------------------------------------------------------------------------------------------------------------------------------------------------------------------------------------------------------------------------------------------+\n",
            "only showing top 20 rows\n",
            "\n"
          ]
        }
      ],
      "source": [
        "df_business_spark.select(\"attributes\").show(truncate = False)"
      ]
    },
    {
      "cell_type": "markdown",
      "metadata": {
        "id": "BfJPoZsbTBEv"
      },
      "source": [
        "Attributes extraction"
      ]
    },
    {
      "cell_type": "code",
      "execution_count": 58,
      "metadata": {
        "colab": {
          "base_uri": "https://localhost:8080/"
        },
        "id": "aABvzplHCrIC",
        "outputId": "6d5b76dc-bb20-420c-e899-8e4c65e63753"
      },
      "outputs": [
        {
          "output_type": "stream",
          "name": "stdout",
          "text": [
            "+----------------------+----------------+-----------+-----------+----------------------------------------------------------------------------------------------------------------------------------------------------------------+----+-----------+----------+-----------+----------------------+--------------------------+----------------------------------------------------------------------------------------+-----------------+------+---------+-------+-------------------+-----------+---------+--------------+-----------+---------------------------------------------------------------------------------------------------------------+-----------------+---------+-----+-----+----------+-----------+--------------+-----------------+-------------------------+-------------------+------------------------+----------------------+-----------------------+-----------------------+------------------+-------+--------------------+-------+\n",
            "|business_id           |AcceptsInsurance|AgesAllowed|Alcohol    |Ambience                                                                                                                                                        |BYOB|BYOBCorkage|BestNights|BikeParking|BusinessAcceptsBitcoin|BusinessAcceptsCreditCards|BusinessParking                                                                         |ByAppointmentOnly|Caters|CoatCheck|Corkage|DietaryRestrictions|DogsAllowed|DriveThru|GoodForDancing|GoodForKids|GoodForMeal                                                                                                    |HairSpecializesIn|HappyHour|HasTV|Music|NoiseLevel|Open24Hours|OutdoorSeating|RestaurantsAttire|RestaurantsCounterService|RestaurantsDelivery|RestaurantsGoodForGroups|RestaurantsPriceRange2|RestaurantsReservations|RestaurantsTableService|RestaurantsTakeOut|Smoking|WheelchairAccessible|WiFi   |\n",
            "+----------------------+----------------+-----------+-----------+----------------------------------------------------------------------------------------------------------------------------------------------------------------+----+-----------+----------+-----------+----------------------+--------------------------+----------------------------------------------------------------------------------------+-----------------+------+---------+-------+-------------------+-----------+---------+--------------+-----------+---------------------------------------------------------------------------------------------------------------+-----------------+---------+-----+-----+----------+-----------+--------------+-----------------+-------------------------+-------------------+------------------------+----------------------+-----------------------+-----------------------+------------------+-------+--------------------+-------+\n",
            "|MTSW4McQd7CbVtyjqoe9mw|null            |null       |u'none'    |null                                                                                                                                                            |null|null       |null      |True       |null                  |False                     |{'garage': False, 'street': True, 'validated': False, 'lot': False, 'valet': False}     |False            |True  |null     |null   |null               |null       |null     |null          |null       |null                                                                                                           |null             |null     |null |null |null      |null       |False         |null             |null                     |False              |null                    |1                     |null                   |null                   |True              |null   |null                |u'free'|\n",
            "|ABxoFuzZy5mqQ8C5FJJajQ|null            |null       |null       |null                                                                                                                                                            |null|null       |null      |null       |null                  |null                      |{u'valet': False, u'garage': False, u'street': False, u'lot': True, u'validated': False}|null             |null  |null     |null   |null               |null       |null     |null          |null       |null                                                                                                           |null             |null     |null |null |null      |null       |null          |null             |null                     |None               |null                    |null                  |null                   |null                   |None              |null   |null                |null   |\n",
            "|ppFCk9aQkM338Rgwpl2F5A|null            |null       |u'none'    |{'romantic': False, 'intimate': False, 'classy': False, 'hipster': False, 'divey': False, 'touristy': False, 'trendy': False, 'upscale': False, 'casual': True} |null|null       |null      |True       |null                  |True                      |{'garage': False, 'street': True, 'validated': False, 'lot': False, 'valet': False}     |False            |False |null     |null   |null               |null       |null     |null          |True       |null                                                                                                           |null             |null     |True |null |u'average'|null       |False         |u'casual'        |null                     |True               |True                    |1                     |False                  |null                   |True              |null   |null                |u'free'|\n",
            "|3BJxm-HnvzdwD1zjmSbmyQ|null            |null       |u'none'    |{'touristy': False, 'hipster': False, 'romantic': False, 'divey': None, 'intimate': False, 'trendy': False, 'upscale': False, 'classy': False, 'casual': None}  |null|null       |null      |True       |False                 |True                      |{'garage': False, 'street': True, 'validated': False, 'lot': False, 'valet': False}     |null             |True  |null     |null   |null               |False      |null     |null          |True       |{'dessert': False, 'latenight': False, 'lunch': True, 'dinner': None, 'brunch': False, 'breakfast': False}     |null             |False    |True |null |u'average'|null       |False         |'casual'         |null                     |True               |True                    |1                     |True                   |True                   |True              |null   |True                |u'free'|\n",
            "|pmuuoDqNZp7518AUd-YmPA|null            |null       |null       |null                                                                                                                                                            |null|null       |null      |True       |null                  |True                      |{'garage': False, 'street': False, 'validated': False, 'lot': True, 'valet': False}     |null             |null  |null     |null   |null               |True       |null     |null          |null       |null                                                                                                           |null             |null     |null |null |null      |null       |null          |null             |null                     |False              |null                    |1                     |null                   |null                   |True              |null   |null                |null   |\n",
            "|bTve2mwLk5Zc01vRKqc2KQ|null            |null       |'none'     |{'romantic': False, 'intimate': False, 'classy': False, 'hipster': False, 'divey': False, 'touristy': False, 'trendy': False, 'upscale': False, 'casual': True} |null|null       |null      |True       |null                  |False                     |{'garage': False, 'street': True, 'validated': False, 'lot': False, 'valet': False}     |null             |False |null     |null   |null               |null       |null     |null          |True       |{'dessert': False, 'latenight': False, 'lunch': True, 'dinner': False, 'brunch': True, 'breakfast': True}      |null             |null     |True |null |u'quiet'  |null       |True          |'casual'         |null                     |False              |False                   |1                     |False                  |null                   |True              |null   |null                |'free' |\n",
            "|aNXw3PkXVt8ANwLyCfcmpg|null            |null       |null       |null                                                                                                                                                            |null|null       |null      |null       |null                  |null                      |{'garage': False, 'street': False, 'validated': False, 'lot': False, 'valet': False}    |null             |null  |null     |null   |null               |null       |True     |null          |True       |null                                                                                                           |null             |null     |null |null |null      |null       |null          |null             |null                     |True               |null                    |1                     |null                   |null                   |True              |null   |null                |u'free'|\n",
            "|GVqXNt0HKJLpciN9ePxnWw|null            |null       |u'none'    |{'touristy': False, 'hipster': False, 'romantic': False, 'divey': False, 'intimate': False, 'trendy': False, 'upscale': False, 'classy': True, 'casual': False} |null|null       |null      |True       |null                  |True                      |{'garage': None, 'street': True, 'validated': None, 'lot': False, 'valet': False}       |null             |null  |null     |null   |null               |null       |null     |null          |False      |null                                                                                                           |null             |null     |True |null |u'average'|null       |False         |u'casual'        |null                     |True               |False                   |1                     |False                  |null                   |True              |null   |null                |u'no'  |\n",
            "|dChRGpit9fM_kZK5pafNyA|null            |null       |u'full_bar'|{'touristy': False, 'hipster': False, 'romantic': True, 'divey': False, 'intimate': True, 'trendy': True, 'upscale': False, 'classy': True, 'casual': False}    |null|null       |null      |True       |null                  |True                      |{'garage': False, 'street': True, 'validated': False, 'lot': False, 'valet': False}     |null             |False |null     |null   |null               |False      |null     |null          |False      |{'dessert': True, 'latenight': None, 'lunch': True, 'dinner': True, 'brunch': True, 'breakfast': None}         |null             |True     |False|null |u'average'|null       |True          |u'casual'        |null                     |True               |True                    |2                     |True                   |True                   |True              |null   |null                |'no'   |\n",
            "|CPgWuWGZ4v2sZr5_-1kluw|null            |null       |u'none'    |{'romantic': False, 'intimate': False, 'classy': False, 'hipster': False, 'divey': False, 'touristy': False, 'trendy': False, 'upscale': False, 'casual': False}|null|null       |null      |True       |null                  |True                      |{'garage': False, 'street': False, 'validated': False, 'lot': True, 'valet': False}     |null             |False |null     |null   |null               |null       |True     |null          |True       |{'dessert': False, 'latenight': False, 'lunch': False, 'dinner': False, 'brunch': False, 'breakfast': False}   |null             |null     |True |null |'average' |null       |True          |'casual'         |null                     |True               |True                    |1                     |False                  |True                   |True              |null   |null                |u'no'  |\n",
            "|yFqq66GxRjnhZXPgjA6hnw|null            |null       |null       |None                                                                                                                                                            |null|null       |null      |null       |null                  |True                      |None                                                                                    |null             |True  |null     |null   |null               |null       |True     |null          |True       |None                                                                                                           |null             |null     |True |null |null      |null       |False         |null             |null                     |True               |False                   |1                     |False                  |null                   |True              |null   |null                |'free' |\n",
            "|0l_njS4wGMadAk1b4nZRUA|null            |null       |u'none'    |{'touristy': False, 'hipster': False, 'romantic': False, 'divey': False, 'intimate': False, 'trendy': False, 'upscale': False, 'classy': True, 'casual': True}  |null|null       |null      |True       |null                  |True                      |{'garage': False, 'street': False, 'validated': False, 'lot': True, 'valet': False}     |null             |True  |null     |null   |null               |null       |null     |null          |True       |{'dessert': False, 'latenight': False, 'lunch': True, 'dinner': True, 'brunch': False, 'breakfast': True}      |null             |null     |True |null |u'average'|null       |False         |u'casual'        |null                     |True               |True                    |2                     |False                  |null                   |True              |null   |null                |u'free'|\n",
            "|kGjpBqAqG4mIuFSgU2KKEA|null            |null       |u'none'    |{'touristy': None, 'hipster': None, 'romantic': None, 'divey': None, 'intimate': True, 'trendy': None, 'upscale': None, 'classy': None, 'casual': None}         |null|null       |null      |null       |False                 |True                      |{'garage': False, 'street': True, 'validated': False, 'lot': False, 'valet': False}     |null             |True  |null     |null   |null               |False      |null     |null          |null       |{'dessert': False, 'latenight': False, 'lunch': False, 'dinner': False, 'brunch': False, 'breakfast': False}   |null             |False    |False|null |null      |null       |False         |null             |null                     |True               |null                    |null                  |True                   |True                   |True              |null   |False               |u'no'  |\n",
            "|kLSEk3qXY1KdtFjxHJ9pww|null            |null       |null       |{'touristy': False, 'hipster': False, 'romantic': False, 'divey': False, 'intimate': False, 'trendy': False, 'upscale': False, 'classy': False, 'casual': False}|null|null       |null      |False      |null                  |True                      |{'garage': False, 'street': False, 'validated': False, 'lot': False, 'valet': False}    |null             |null  |null     |null   |null               |null       |True     |null          |True       |{'dessert': False, 'latenight': False, 'lunch': False, 'dinner': False, 'brunch': False, 'breakfast': False}   |null             |null     |True |null |null      |null       |False         |'casual'         |null                     |True               |True                    |1                     |False                  |null                   |True              |null   |null                |null   |\n",
            "|dBCNUSbz5-8nQNrxWo5deg|null            |null       |'none'     |{'touristy': False, 'hipster': False, 'romantic': False, 'divey': False, 'intimate': False, 'trendy': False, 'upscale': False, 'classy': True, 'casual': True}  |null|'yes_free' |null      |False      |False                 |True                      |{'garage': False, 'street': False, 'validated': False, 'lot': True, 'valet': False}     |null             |False |null     |null   |null               |False      |null     |null          |False      |{u'breakfast': False, u'brunch': False, u'lunch': True, u'dinner': True, u'latenight': False, u'dessert': None}|null             |False    |False|null |u'average'|null       |False         |'casual'         |null                     |True               |True                    |2                     |True                   |True                   |True              |null   |True                |u'no'  |\n",
            "|kq5Ghhh14r-eCxlVmlyd8w|null            |null       |u'none'    |{'touristy': False, 'hipster': False, 'romantic': False, 'divey': False, 'intimate': False, 'trendy': False, 'upscale': False, 'classy': False, 'casual': True} |null|'yes_free' |null      |True       |null                  |True                      |{'garage': False, 'street': False, 'validated': False, 'lot': False, 'valet': False}    |null             |True  |null     |False  |null               |null       |null     |null          |True       |{'dessert': False, 'latenight': False, 'lunch': True, 'dinner': False, 'brunch': False, 'breakfast': False}    |null             |null     |True |null |u'average'|null       |True          |'casual'         |null                     |True               |True                    |1                     |False                  |null                   |True              |null   |null                |null   |\n",
            "|K5ffo0hkwhG33BDNQrJF6A|null            |null       |u'full_bar'|{'touristy': False, 'hipster': False, 'romantic': True, 'divey': False, 'intimate': False, 'trendy': False, 'upscale': False, 'classy': True, 'casual': False}  |null|null       |null      |True       |null                  |True                      |{'garage': False, 'street': False, 'validated': False, 'lot': True, 'valet': False}     |null             |True  |null     |null   |null               |null       |null     |null          |False      |{'dessert': False, 'latenight': False, 'lunch': False, 'dinner': True, 'brunch': False, 'breakfast': False}    |null             |True     |True |null |u'average'|null       |True          |u'dressy'        |null                     |False              |True                    |3                     |True                   |null                   |True              |null   |null                |u'free'|\n",
            "|HuDNHqKv9n1mWpe4BqCnwA|null            |null       |u'none'    |{'romantic': False, 'intimate': False, 'classy': False, 'hipster': False, 'divey': False, 'touristy': False, 'trendy': False, 'upscale': False, 'casual': True} |null|null       |null      |False      |null                  |True                      |{'garage': False, 'street': True, 'validated': False, 'lot': False, 'valet': False}     |null             |True  |null     |null   |null               |null       |null     |null          |True       |{'dessert': False, 'latenight': False, 'lunch': True, 'dinner': True, 'brunch': False, 'breakfast': False}     |null             |null     |True |null |'average' |null       |False         |u'casual'        |null                     |True               |True                    |1                     |False                  |null                   |True              |null   |null                |u'no'  |\n",
            "|7utsfp2dXJ09j8Gb9hAIvA|null            |null       |null       |null                                                                                                                                                            |null|null       |null      |True       |null                  |True                      |{'garage': False, 'street': True, 'validated': False, 'lot': True, 'valet': False}      |null             |True  |null     |null   |null               |null       |null     |null          |null       |null                                                                                                           |null             |null     |null |null |null      |null       |null          |null             |null                     |False              |null                    |1                     |null                   |null                   |True              |null   |null                |null   |\n",
            "|joeRm-_7T0XTkMdKo2nbaA|null            |null       |u'none'    |{'romantic': False, 'intimate': False, 'classy': False, 'hipster': False, 'divey': False, 'touristy': False, 'trendy': False, 'upscale': False, 'casual': True} |True|null       |null      |True       |null                  |True                      |{'garage': False, 'street': True, 'validated': False, 'lot': False, 'valet': False}     |null             |True  |null     |False  |null               |null       |null     |null          |True       |{'dessert': False, 'latenight': False, 'lunch': True, 'dinner': True, 'brunch': False, 'breakfast': False}     |null             |null     |True |null |u'average'|null       |True          |u'casual'        |null                     |False              |True                    |1                     |False                  |False                  |True              |null   |True                |'no'   |\n",
            "+----------------------+----------------+-----------+-----------+----------------------------------------------------------------------------------------------------------------------------------------------------------------+----+-----------+----------+-----------+----------------------+--------------------------+----------------------------------------------------------------------------------------+-----------------+------+---------+-------+-------------------+-----------+---------+--------------+-----------+---------------------------------------------------------------------------------------------------------------+-----------------+---------+-----+-----+----------+-----------+--------------+-----------------+-------------------------+-------------------+------------------------+----------------------+-----------------------+-----------------------+------------------+-------+--------------------+-------+\n",
            "only showing top 20 rows\n",
            "\n"
          ]
        }
      ],
      "source": [
        "# Select the struct column and extract the key-value pairs\n",
        "df_business_attr_spark = df_business_spark.select(\"business_id\",*(col(\"attributes\").getItem(key).alias(key) for key in df_business_spark.select(\"attributes.*\").columns))\n",
        "\n",
        "# Show the resulting key-value pairs\n",
        "df_business_attr_spark.show(truncate=False)"
      ]
    },
    {
      "cell_type": "markdown",
      "metadata": {
        "id": "lfitWdOATJTh"
      },
      "source": [
        "Again, some columns has nested attributes. So with *extract_nested_attributes* function the data will be processed and extracted as a new column of the dataset"
      ]
    },
    {
      "cell_type": "code",
      "execution_count": 59,
      "metadata": {
        "id": "xUy_qdFmP2kL"
      },
      "outputs": [],
      "source": [
        "#preprocessing of nested attributes\n",
        "def extract_nested_attributes(df, column_name, attribute_columns):\n",
        "    # Parse the nested column into a MapType column\n",
        "    df = df.withColumn(f\"{column_name}_map\", from_json(col(column_name), \"map<string, boolean>\"))\n",
        "    \n",
        "    # Extract individual attributes into separate columns\n",
        "    for attribute in attribute_columns:\n",
        "        df = df.withColumn(attribute, col(f\"{column_name}_map\")[attribute])\n",
        "    \n",
        "    # Drop the original nested column and map column if desired\n",
        "    df = df.drop(column_name, f\"{column_name}_map\")\n",
        "    \n",
        "    return df\n"
      ]
    },
    {
      "cell_type": "markdown",
      "metadata": {
        "id": "nCRjLOLeTYsE"
      },
      "source": [
        "Preprocessing for Ambience column"
      ]
    },
    {
      "cell_type": "code",
      "execution_count": 60,
      "metadata": {
        "colab": {
          "base_uri": "https://localhost:8080/"
        },
        "id": "fqrC8oU0PeQS",
        "outputId": "d19707ce-2cda-4758-ece0-695f8bcdda22"
      },
      "outputs": [
        {
          "output_type": "stream",
          "name": "stdout",
          "text": [
            "+----------------------+----------------+-----------+-----------+----+-----------+----------+-----------+----------------------+--------------------------+----------------------------------------------------------------------------------------+-----------------+------+---------+-------+-------------------+-----------+---------+--------------+-----------+---------------------------------------------------------------------------------------------------------------+-----------------+---------+-----+-----+----------+-----------+--------------+-----------------+-------------------------+-------------------+------------------------+----------------------+-----------------------+-----------------------+------------------+-------+--------------------+-------+--------+--------+------+-------+-----+--------+------+-------+------+\n",
            "|business_id           |AcceptsInsurance|AgesAllowed|Alcohol    |BYOB|BYOBCorkage|BestNights|BikeParking|BusinessAcceptsBitcoin|BusinessAcceptsCreditCards|BusinessParking                                                                         |ByAppointmentOnly|Caters|CoatCheck|Corkage|DietaryRestrictions|DogsAllowed|DriveThru|GoodForDancing|GoodForKids|GoodForMeal                                                                                                    |HairSpecializesIn|HappyHour|HasTV|Music|NoiseLevel|Open24Hours|OutdoorSeating|RestaurantsAttire|RestaurantsCounterService|RestaurantsDelivery|RestaurantsGoodForGroups|RestaurantsPriceRange2|RestaurantsReservations|RestaurantsTableService|RestaurantsTakeOut|Smoking|WheelchairAccessible|WiFi   |romantic|intimate|classy|hipster|divey|touristy|trendy|upscale|casual|\n",
            "+----------------------+----------------+-----------+-----------+----+-----------+----------+-----------+----------------------+--------------------------+----------------------------------------------------------------------------------------+-----------------+------+---------+-------+-------------------+-----------+---------+--------------+-----------+---------------------------------------------------------------------------------------------------------------+-----------------+---------+-----+-----+----------+-----------+--------------+-----------------+-------------------------+-------------------+------------------------+----------------------+-----------------------+-----------------------+------------------+-------+--------------------+-------+--------+--------+------+-------+-----+--------+------+-------+------+\n",
            "|MTSW4McQd7CbVtyjqoe9mw|null            |null       |u'none'    |null|null       |null      |True       |null                  |False                     |{'garage': False, 'street': True, 'validated': False, 'lot': False, 'valet': False}     |False            |True  |null     |null   |null               |null       |null     |null          |null       |null                                                                                                           |null             |null     |null |null |null      |null       |False         |null             |null                     |False              |null                    |1                     |null                   |null                   |True              |null   |null                |u'free'|null    |null    |null  |null   |null |null    |null  |null   |null  |\n",
            "|ABxoFuzZy5mqQ8C5FJJajQ|null            |null       |null       |null|null       |null      |null       |null                  |null                      |{u'valet': False, u'garage': False, u'street': False, u'lot': True, u'validated': False}|null             |null  |null     |null   |null               |null       |null     |null          |null       |null                                                                                                           |null             |null     |null |null |null      |null       |null          |null             |null                     |None               |null                    |null                  |null                   |null                   |None              |null   |null                |null   |null    |null    |null  |null   |null |null    |null  |null   |null  |\n",
            "|ppFCk9aQkM338Rgwpl2F5A|null            |null       |u'none'    |null|null       |null      |True       |null                  |True                      |{'garage': False, 'street': True, 'validated': False, 'lot': False, 'valet': False}     |False            |False |null     |null   |null               |null       |null     |null          |True       |null                                                                                                           |null             |null     |True |null |u'average'|null       |False         |u'casual'        |null                     |True               |True                    |1                     |False                  |null                   |True              |null   |null                |u'free'|null    |null    |null  |null   |null |null    |null  |null   |null  |\n",
            "|3BJxm-HnvzdwD1zjmSbmyQ|null            |null       |u'none'    |null|null       |null      |True       |False                 |True                      |{'garage': False, 'street': True, 'validated': False, 'lot': False, 'valet': False}     |null             |True  |null     |null   |null               |False      |null     |null          |True       |{'dessert': False, 'latenight': False, 'lunch': True, 'dinner': None, 'brunch': False, 'breakfast': False}     |null             |False    |True |null |u'average'|null       |False         |'casual'         |null                     |True               |True                    |1                     |True                   |True                   |True              |null   |True                |u'free'|null    |null    |null  |null   |null |null    |null  |null   |null  |\n",
            "|pmuuoDqNZp7518AUd-YmPA|null            |null       |null       |null|null       |null      |True       |null                  |True                      |{'garage': False, 'street': False, 'validated': False, 'lot': True, 'valet': False}     |null             |null  |null     |null   |null               |True       |null     |null          |null       |null                                                                                                           |null             |null     |null |null |null      |null       |null          |null             |null                     |False              |null                    |1                     |null                   |null                   |True              |null   |null                |null   |null    |null    |null  |null   |null |null    |null  |null   |null  |\n",
            "|bTve2mwLk5Zc01vRKqc2KQ|null            |null       |'none'     |null|null       |null      |True       |null                  |False                     |{'garage': False, 'street': True, 'validated': False, 'lot': False, 'valet': False}     |null             |False |null     |null   |null               |null       |null     |null          |True       |{'dessert': False, 'latenight': False, 'lunch': True, 'dinner': False, 'brunch': True, 'breakfast': True}      |null             |null     |True |null |u'quiet'  |null       |True          |'casual'         |null                     |False              |False                   |1                     |False                  |null                   |True              |null   |null                |'free' |null    |null    |null  |null   |null |null    |null  |null   |null  |\n",
            "|aNXw3PkXVt8ANwLyCfcmpg|null            |null       |null       |null|null       |null      |null       |null                  |null                      |{'garage': False, 'street': False, 'validated': False, 'lot': False, 'valet': False}    |null             |null  |null     |null   |null               |null       |True     |null          |True       |null                                                                                                           |null             |null     |null |null |null      |null       |null          |null             |null                     |True               |null                    |1                     |null                   |null                   |True              |null   |null                |u'free'|null    |null    |null  |null   |null |null    |null  |null   |null  |\n",
            "|GVqXNt0HKJLpciN9ePxnWw|null            |null       |u'none'    |null|null       |null      |True       |null                  |True                      |{'garage': None, 'street': True, 'validated': None, 'lot': False, 'valet': False}       |null             |null  |null     |null   |null               |null       |null     |null          |False      |null                                                                                                           |null             |null     |True |null |u'average'|null       |False         |u'casual'        |null                     |True               |False                   |1                     |False                  |null                   |True              |null   |null                |u'no'  |null    |null    |null  |null   |null |null    |null  |null   |null  |\n",
            "|dChRGpit9fM_kZK5pafNyA|null            |null       |u'full_bar'|null|null       |null      |True       |null                  |True                      |{'garage': False, 'street': True, 'validated': False, 'lot': False, 'valet': False}     |null             |False |null     |null   |null               |False      |null     |null          |False      |{'dessert': True, 'latenight': None, 'lunch': True, 'dinner': True, 'brunch': True, 'breakfast': None}         |null             |True     |False|null |u'average'|null       |True          |u'casual'        |null                     |True               |True                    |2                     |True                   |True                   |True              |null   |null                |'no'   |null    |null    |null  |null   |null |null    |null  |null   |null  |\n",
            "|CPgWuWGZ4v2sZr5_-1kluw|null            |null       |u'none'    |null|null       |null      |True       |null                  |True                      |{'garage': False, 'street': False, 'validated': False, 'lot': True, 'valet': False}     |null             |False |null     |null   |null               |null       |True     |null          |True       |{'dessert': False, 'latenight': False, 'lunch': False, 'dinner': False, 'brunch': False, 'breakfast': False}   |null             |null     |True |null |'average' |null       |True          |'casual'         |null                     |True               |True                    |1                     |False                  |True                   |True              |null   |null                |u'no'  |null    |null    |null  |null   |null |null    |null  |null   |null  |\n",
            "|yFqq66GxRjnhZXPgjA6hnw|null            |null       |null       |null|null       |null      |null       |null                  |True                      |None                                                                                    |null             |True  |null     |null   |null               |null       |True     |null          |True       |None                                                                                                           |null             |null     |True |null |null      |null       |False         |null             |null                     |True               |False                   |1                     |False                  |null                   |True              |null   |null                |'free' |null    |null    |null  |null   |null |null    |null  |null   |null  |\n",
            "|0l_njS4wGMadAk1b4nZRUA|null            |null       |u'none'    |null|null       |null      |True       |null                  |True                      |{'garage': False, 'street': False, 'validated': False, 'lot': True, 'valet': False}     |null             |True  |null     |null   |null               |null       |null     |null          |True       |{'dessert': False, 'latenight': False, 'lunch': True, 'dinner': True, 'brunch': False, 'breakfast': True}      |null             |null     |True |null |u'average'|null       |False         |u'casual'        |null                     |True               |True                    |2                     |False                  |null                   |True              |null   |null                |u'free'|null    |null    |null  |null   |null |null    |null  |null   |null  |\n",
            "|kGjpBqAqG4mIuFSgU2KKEA|null            |null       |u'none'    |null|null       |null      |null       |False                 |True                      |{'garage': False, 'street': True, 'validated': False, 'lot': False, 'valet': False}     |null             |True  |null     |null   |null               |False      |null     |null          |null       |{'dessert': False, 'latenight': False, 'lunch': False, 'dinner': False, 'brunch': False, 'breakfast': False}   |null             |False    |False|null |null      |null       |False         |null             |null                     |True               |null                    |null                  |True                   |True                   |True              |null   |False               |u'no'  |null    |null    |null  |null   |null |null    |null  |null   |null  |\n",
            "|kLSEk3qXY1KdtFjxHJ9pww|null            |null       |null       |null|null       |null      |False      |null                  |True                      |{'garage': False, 'street': False, 'validated': False, 'lot': False, 'valet': False}    |null             |null  |null     |null   |null               |null       |True     |null          |True       |{'dessert': False, 'latenight': False, 'lunch': False, 'dinner': False, 'brunch': False, 'breakfast': False}   |null             |null     |True |null |null      |null       |False         |'casual'         |null                     |True               |True                    |1                     |False                  |null                   |True              |null   |null                |null   |null    |null    |null  |null   |null |null    |null  |null   |null  |\n",
            "|dBCNUSbz5-8nQNrxWo5deg|null            |null       |'none'     |null|'yes_free' |null      |False      |False                 |True                      |{'garage': False, 'street': False, 'validated': False, 'lot': True, 'valet': False}     |null             |False |null     |null   |null               |False      |null     |null          |False      |{u'breakfast': False, u'brunch': False, u'lunch': True, u'dinner': True, u'latenight': False, u'dessert': None}|null             |False    |False|null |u'average'|null       |False         |'casual'         |null                     |True               |True                    |2                     |True                   |True                   |True              |null   |True                |u'no'  |null    |null    |null  |null   |null |null    |null  |null   |null  |\n",
            "|kq5Ghhh14r-eCxlVmlyd8w|null            |null       |u'none'    |null|'yes_free' |null      |True       |null                  |True                      |{'garage': False, 'street': False, 'validated': False, 'lot': False, 'valet': False}    |null             |True  |null     |False  |null               |null       |null     |null          |True       |{'dessert': False, 'latenight': False, 'lunch': True, 'dinner': False, 'brunch': False, 'breakfast': False}    |null             |null     |True |null |u'average'|null       |True          |'casual'         |null                     |True               |True                    |1                     |False                  |null                   |True              |null   |null                |null   |null    |null    |null  |null   |null |null    |null  |null   |null  |\n",
            "|K5ffo0hkwhG33BDNQrJF6A|null            |null       |u'full_bar'|null|null       |null      |True       |null                  |True                      |{'garage': False, 'street': False, 'validated': False, 'lot': True, 'valet': False}     |null             |True  |null     |null   |null               |null       |null     |null          |False      |{'dessert': False, 'latenight': False, 'lunch': False, 'dinner': True, 'brunch': False, 'breakfast': False}    |null             |True     |True |null |u'average'|null       |True          |u'dressy'        |null                     |False              |True                    |3                     |True                   |null                   |True              |null   |null                |u'free'|null    |null    |null  |null   |null |null    |null  |null   |null  |\n",
            "|HuDNHqKv9n1mWpe4BqCnwA|null            |null       |u'none'    |null|null       |null      |False      |null                  |True                      |{'garage': False, 'street': True, 'validated': False, 'lot': False, 'valet': False}     |null             |True  |null     |null   |null               |null       |null     |null          |True       |{'dessert': False, 'latenight': False, 'lunch': True, 'dinner': True, 'brunch': False, 'breakfast': False}     |null             |null     |True |null |'average' |null       |False         |u'casual'        |null                     |True               |True                    |1                     |False                  |null                   |True              |null   |null                |u'no'  |null    |null    |null  |null   |null |null    |null  |null   |null  |\n",
            "|7utsfp2dXJ09j8Gb9hAIvA|null            |null       |null       |null|null       |null      |True       |null                  |True                      |{'garage': False, 'street': True, 'validated': False, 'lot': True, 'valet': False}      |null             |True  |null     |null   |null               |null       |null     |null          |null       |null                                                                                                           |null             |null     |null |null |null      |null       |null          |null             |null                     |False              |null                    |1                     |null                   |null                   |True              |null   |null                |null   |null    |null    |null  |null   |null |null    |null  |null   |null  |\n",
            "|joeRm-_7T0XTkMdKo2nbaA|null            |null       |u'none'    |True|null       |null      |True       |null                  |True                      |{'garage': False, 'street': True, 'validated': False, 'lot': False, 'valet': False}     |null             |True  |null     |False  |null               |null       |null     |null          |True       |{'dessert': False, 'latenight': False, 'lunch': True, 'dinner': True, 'brunch': False, 'breakfast': False}     |null             |null     |True |null |u'average'|null       |True          |u'casual'        |null                     |False              |True                    |1                     |False                  |False                  |True              |null   |True                |'no'   |null    |null    |null  |null   |null |null    |null  |null   |null  |\n",
            "+----------------------+----------------+-----------+-----------+----+-----------+----------+-----------+----------------------+--------------------------+----------------------------------------------------------------------------------------+-----------------+------+---------+-------+-------------------+-----------+---------+--------------+-----------+---------------------------------------------------------------------------------------------------------------+-----------------+---------+-----+-----+----------+-----------+--------------+-----------------+-------------------------+-------------------+------------------------+----------------------+-----------------------+-----------------------+------------------+-------+--------------------+-------+--------+--------+------+-------+-----+--------+------+-------+------+\n",
            "only showing top 20 rows\n",
            "\n"
          ]
        }
      ],
      "source": [
        "# Define the list of attribute columns to extract\n",
        "ambience_attributes = ['romantic', 'intimate', 'classy', 'hipster', 'divey', 'touristy', 'trendy', 'upscale', 'casual']\n",
        "\n",
        "# Apply the function to extract attributes from the \"Ambience\" column\n",
        "df_business_attr_spark = extract_nested_attributes(df_business_attr_spark, \"Ambience\", ambience_attributes)\n",
        "\n",
        "# Show the resulting DataFrame with new columns\n",
        "df_business_attr_spark.show(truncate=False)\n"
      ]
    },
    {
      "cell_type": "markdown",
      "metadata": {
        "id": "2F05p4wLVIyj"
      },
      "source": [
        "Preprocessing for Business Parking column"
      ]
    },
    {
      "cell_type": "code",
      "execution_count": 61,
      "metadata": {
        "colab": {
          "base_uri": "https://localhost:8080/"
        },
        "id": "zIgStM_uQduH",
        "outputId": "1ec357ae-265f-424b-dab5-7e2142162236"
      },
      "outputs": [
        {
          "output_type": "stream",
          "name": "stdout",
          "text": [
            "+----------------------+----------------+-----------+-----------+----+-----------+----------+-----------+----------------------+--------------------------+-----------------+------+---------+-------+-------------------+-----------+---------+--------------+-----------+---------------------------------------------------------------------------------------------------------------+-----------------+---------+-----+-----+----------+-----------+--------------+-----------------+-------------------------+-------------------+------------------------+----------------------+-----------------------+-----------------------+------------------+-------+--------------------+-------+--------+--------+------+-------+-----+--------+------+-------+------+------+------+---------+----+-----+\n",
            "|business_id           |AcceptsInsurance|AgesAllowed|Alcohol    |BYOB|BYOBCorkage|BestNights|BikeParking|BusinessAcceptsBitcoin|BusinessAcceptsCreditCards|ByAppointmentOnly|Caters|CoatCheck|Corkage|DietaryRestrictions|DogsAllowed|DriveThru|GoodForDancing|GoodForKids|GoodForMeal                                                                                                    |HairSpecializesIn|HappyHour|HasTV|Music|NoiseLevel|Open24Hours|OutdoorSeating|RestaurantsAttire|RestaurantsCounterService|RestaurantsDelivery|RestaurantsGoodForGroups|RestaurantsPriceRange2|RestaurantsReservations|RestaurantsTableService|RestaurantsTakeOut|Smoking|WheelchairAccessible|WiFi   |romantic|intimate|classy|hipster|divey|touristy|trendy|upscale|casual|garage|street|validated|lot |valet|\n",
            "+----------------------+----------------+-----------+-----------+----+-----------+----------+-----------+----------------------+--------------------------+-----------------+------+---------+-------+-------------------+-----------+---------+--------------+-----------+---------------------------------------------------------------------------------------------------------------+-----------------+---------+-----+-----+----------+-----------+--------------+-----------------+-------------------------+-------------------+------------------------+----------------------+-----------------------+-----------------------+------------------+-------+--------------------+-------+--------+--------+------+-------+-----+--------+------+-------+------+------+------+---------+----+-----+\n",
            "|MTSW4McQd7CbVtyjqoe9mw|null            |null       |u'none'    |null|null       |null      |True       |null                  |False                     |False            |True  |null     |null   |null               |null       |null     |null          |null       |null                                                                                                           |null             |null     |null |null |null      |null       |False         |null             |null                     |False              |null                    |1                     |null                   |null                   |True              |null   |null                |u'free'|null    |null    |null  |null   |null |null    |null  |null   |null  |null  |null  |null     |null|null |\n",
            "|ABxoFuzZy5mqQ8C5FJJajQ|null            |null       |null       |null|null       |null      |null       |null                  |null                      |null             |null  |null     |null   |null               |null       |null     |null          |null       |null                                                                                                           |null             |null     |null |null |null      |null       |null          |null             |null                     |None               |null                    |null                  |null                   |null                   |None              |null   |null                |null   |null    |null    |null  |null   |null |null    |null  |null   |null  |null  |null  |null     |null|null |\n",
            "|ppFCk9aQkM338Rgwpl2F5A|null            |null       |u'none'    |null|null       |null      |True       |null                  |True                      |False            |False |null     |null   |null               |null       |null     |null          |True       |null                                                                                                           |null             |null     |True |null |u'average'|null       |False         |u'casual'        |null                     |True               |True                    |1                     |False                  |null                   |True              |null   |null                |u'free'|null    |null    |null  |null   |null |null    |null  |null   |null  |null  |null  |null     |null|null |\n",
            "|3BJxm-HnvzdwD1zjmSbmyQ|null            |null       |u'none'    |null|null       |null      |True       |False                 |True                      |null             |True  |null     |null   |null               |False      |null     |null          |True       |{'dessert': False, 'latenight': False, 'lunch': True, 'dinner': None, 'brunch': False, 'breakfast': False}     |null             |False    |True |null |u'average'|null       |False         |'casual'         |null                     |True               |True                    |1                     |True                   |True                   |True              |null   |True                |u'free'|null    |null    |null  |null   |null |null    |null  |null   |null  |null  |null  |null     |null|null |\n",
            "|pmuuoDqNZp7518AUd-YmPA|null            |null       |null       |null|null       |null      |True       |null                  |True                      |null             |null  |null     |null   |null               |True       |null     |null          |null       |null                                                                                                           |null             |null     |null |null |null      |null       |null          |null             |null                     |False              |null                    |1                     |null                   |null                   |True              |null   |null                |null   |null    |null    |null  |null   |null |null    |null  |null   |null  |null  |null  |null     |null|null |\n",
            "|bTve2mwLk5Zc01vRKqc2KQ|null            |null       |'none'     |null|null       |null      |True       |null                  |False                     |null             |False |null     |null   |null               |null       |null     |null          |True       |{'dessert': False, 'latenight': False, 'lunch': True, 'dinner': False, 'brunch': True, 'breakfast': True}      |null             |null     |True |null |u'quiet'  |null       |True          |'casual'         |null                     |False              |False                   |1                     |False                  |null                   |True              |null   |null                |'free' |null    |null    |null  |null   |null |null    |null  |null   |null  |null  |null  |null     |null|null |\n",
            "|aNXw3PkXVt8ANwLyCfcmpg|null            |null       |null       |null|null       |null      |null       |null                  |null                      |null             |null  |null     |null   |null               |null       |True     |null          |True       |null                                                                                                           |null             |null     |null |null |null      |null       |null          |null             |null                     |True               |null                    |1                     |null                   |null                   |True              |null   |null                |u'free'|null    |null    |null  |null   |null |null    |null  |null   |null  |null  |null  |null     |null|null |\n",
            "|GVqXNt0HKJLpciN9ePxnWw|null            |null       |u'none'    |null|null       |null      |True       |null                  |True                      |null             |null  |null     |null   |null               |null       |null     |null          |False      |null                                                                                                           |null             |null     |True |null |u'average'|null       |False         |u'casual'        |null                     |True               |False                   |1                     |False                  |null                   |True              |null   |null                |u'no'  |null    |null    |null  |null   |null |null    |null  |null   |null  |null  |null  |null     |null|null |\n",
            "|dChRGpit9fM_kZK5pafNyA|null            |null       |u'full_bar'|null|null       |null      |True       |null                  |True                      |null             |False |null     |null   |null               |False      |null     |null          |False      |{'dessert': True, 'latenight': None, 'lunch': True, 'dinner': True, 'brunch': True, 'breakfast': None}         |null             |True     |False|null |u'average'|null       |True          |u'casual'        |null                     |True               |True                    |2                     |True                   |True                   |True              |null   |null                |'no'   |null    |null    |null  |null   |null |null    |null  |null   |null  |null  |null  |null     |null|null |\n",
            "|CPgWuWGZ4v2sZr5_-1kluw|null            |null       |u'none'    |null|null       |null      |True       |null                  |True                      |null             |False |null     |null   |null               |null       |True     |null          |True       |{'dessert': False, 'latenight': False, 'lunch': False, 'dinner': False, 'brunch': False, 'breakfast': False}   |null             |null     |True |null |'average' |null       |True          |'casual'         |null                     |True               |True                    |1                     |False                  |True                   |True              |null   |null                |u'no'  |null    |null    |null  |null   |null |null    |null  |null   |null  |null  |null  |null     |null|null |\n",
            "|yFqq66GxRjnhZXPgjA6hnw|null            |null       |null       |null|null       |null      |null       |null                  |True                      |null             |True  |null     |null   |null               |null       |True     |null          |True       |None                                                                                                           |null             |null     |True |null |null      |null       |False         |null             |null                     |True               |False                   |1                     |False                  |null                   |True              |null   |null                |'free' |null    |null    |null  |null   |null |null    |null  |null   |null  |null  |null  |null     |null|null |\n",
            "|0l_njS4wGMadAk1b4nZRUA|null            |null       |u'none'    |null|null       |null      |True       |null                  |True                      |null             |True  |null     |null   |null               |null       |null     |null          |True       |{'dessert': False, 'latenight': False, 'lunch': True, 'dinner': True, 'brunch': False, 'breakfast': True}      |null             |null     |True |null |u'average'|null       |False         |u'casual'        |null                     |True               |True                    |2                     |False                  |null                   |True              |null   |null                |u'free'|null    |null    |null  |null   |null |null    |null  |null   |null  |null  |null  |null     |null|null |\n",
            "|kGjpBqAqG4mIuFSgU2KKEA|null            |null       |u'none'    |null|null       |null      |null       |False                 |True                      |null             |True  |null     |null   |null               |False      |null     |null          |null       |{'dessert': False, 'latenight': False, 'lunch': False, 'dinner': False, 'brunch': False, 'breakfast': False}   |null             |False    |False|null |null      |null       |False         |null             |null                     |True               |null                    |null                  |True                   |True                   |True              |null   |False               |u'no'  |null    |null    |null  |null   |null |null    |null  |null   |null  |null  |null  |null     |null|null |\n",
            "|kLSEk3qXY1KdtFjxHJ9pww|null            |null       |null       |null|null       |null      |False      |null                  |True                      |null             |null  |null     |null   |null               |null       |True     |null          |True       |{'dessert': False, 'latenight': False, 'lunch': False, 'dinner': False, 'brunch': False, 'breakfast': False}   |null             |null     |True |null |null      |null       |False         |'casual'         |null                     |True               |True                    |1                     |False                  |null                   |True              |null   |null                |null   |null    |null    |null  |null   |null |null    |null  |null   |null  |null  |null  |null     |null|null |\n",
            "|dBCNUSbz5-8nQNrxWo5deg|null            |null       |'none'     |null|'yes_free' |null      |False      |False                 |True                      |null             |False |null     |null   |null               |False      |null     |null          |False      |{u'breakfast': False, u'brunch': False, u'lunch': True, u'dinner': True, u'latenight': False, u'dessert': None}|null             |False    |False|null |u'average'|null       |False         |'casual'         |null                     |True               |True                    |2                     |True                   |True                   |True              |null   |True                |u'no'  |null    |null    |null  |null   |null |null    |null  |null   |null  |null  |null  |null     |null|null |\n",
            "|kq5Ghhh14r-eCxlVmlyd8w|null            |null       |u'none'    |null|'yes_free' |null      |True       |null                  |True                      |null             |True  |null     |False  |null               |null       |null     |null          |True       |{'dessert': False, 'latenight': False, 'lunch': True, 'dinner': False, 'brunch': False, 'breakfast': False}    |null             |null     |True |null |u'average'|null       |True          |'casual'         |null                     |True               |True                    |1                     |False                  |null                   |True              |null   |null                |null   |null    |null    |null  |null   |null |null    |null  |null   |null  |null  |null  |null     |null|null |\n",
            "|K5ffo0hkwhG33BDNQrJF6A|null            |null       |u'full_bar'|null|null       |null      |True       |null                  |True                      |null             |True  |null     |null   |null               |null       |null     |null          |False      |{'dessert': False, 'latenight': False, 'lunch': False, 'dinner': True, 'brunch': False, 'breakfast': False}    |null             |True     |True |null |u'average'|null       |True          |u'dressy'        |null                     |False              |True                    |3                     |True                   |null                   |True              |null   |null                |u'free'|null    |null    |null  |null   |null |null    |null  |null   |null  |null  |null  |null     |null|null |\n",
            "|HuDNHqKv9n1mWpe4BqCnwA|null            |null       |u'none'    |null|null       |null      |False      |null                  |True                      |null             |True  |null     |null   |null               |null       |null     |null          |True       |{'dessert': False, 'latenight': False, 'lunch': True, 'dinner': True, 'brunch': False, 'breakfast': False}     |null             |null     |True |null |'average' |null       |False         |u'casual'        |null                     |True               |True                    |1                     |False                  |null                   |True              |null   |null                |u'no'  |null    |null    |null  |null   |null |null    |null  |null   |null  |null  |null  |null     |null|null |\n",
            "|7utsfp2dXJ09j8Gb9hAIvA|null            |null       |null       |null|null       |null      |True       |null                  |True                      |null             |True  |null     |null   |null               |null       |null     |null          |null       |null                                                                                                           |null             |null     |null |null |null      |null       |null          |null             |null                     |False              |null                    |1                     |null                   |null                   |True              |null   |null                |null   |null    |null    |null  |null   |null |null    |null  |null   |null  |null  |null  |null     |null|null |\n",
            "|joeRm-_7T0XTkMdKo2nbaA|null            |null       |u'none'    |True|null       |null      |True       |null                  |True                      |null             |True  |null     |False  |null               |null       |null     |null          |True       |{'dessert': False, 'latenight': False, 'lunch': True, 'dinner': True, 'brunch': False, 'breakfast': False}     |null             |null     |True |null |u'average'|null       |True          |u'casual'        |null                     |False              |True                    |1                     |False                  |False                  |True              |null   |True                |'no'   |null    |null    |null  |null   |null |null    |null  |null   |null  |null  |null  |null     |null|null |\n",
            "+----------------------+----------------+-----------+-----------+----+-----------+----------+-----------+----------------------+--------------------------+-----------------+------+---------+-------+-------------------+-----------+---------+--------------+-----------+---------------------------------------------------------------------------------------------------------------+-----------------+---------+-----+-----+----------+-----------+--------------+-----------------+-------------------------+-------------------+------------------------+----------------------+-----------------------+-----------------------+------------------+-------+--------------------+-------+--------+--------+------+-------+-----+--------+------+-------+------+------+------+---------+----+-----+\n",
            "only showing top 20 rows\n",
            "\n"
          ]
        }
      ],
      "source": [
        "# Solve nested attributes over BusinessParking column\n",
        "# Define the list of attribute columns to extract\n",
        "business_parking_attributes = ['garage', 'street', 'validated', 'lot', 'valet']\n",
        "\n",
        "# Apply the function to extract attributes from the \"Ambience\" column\n",
        "df_business_attr_spark = extract_nested_attributes(df_business_attr_spark, \"BusinessParking\", business_parking_attributes)\n",
        "\n",
        "# Show the resulting DataFrame with new columns\n",
        "df_business_attr_spark.show(truncate=False)\n"
      ]
    },
    {
      "cell_type": "markdown",
      "metadata": {
        "id": "XAeVtE-uVN-D"
      },
      "source": [
        "Preprocessing for Good For Meal column"
      ]
    },
    {
      "cell_type": "code",
      "execution_count": 62,
      "metadata": {
        "colab": {
          "base_uri": "https://localhost:8080/"
        },
        "id": "rKrgI7UdQ-tJ",
        "outputId": "bde1a7b2-9bbc-4c7c-d069-c9fc06cb2df5"
      },
      "outputs": [
        {
          "output_type": "stream",
          "name": "stdout",
          "text": [
            "+----------------------+----------------+-----------+-----------+----+-----------+----------+-----------+----------------------+--------------------------+-----------------+------+---------+-------+-------------------+-----------+---------+--------------+-----------+-----------------+---------+-----+-----+----------+-----------+--------------+-----------------+-------------------------+-------------------+------------------------+----------------------+-----------------------+-----------------------+------------------+-------+--------------------+-------+--------+--------+------+-------+-----+--------+------+-------+------+------+------+---------+----+-----+-------+---------+-----+------+------+---------+\n",
            "|business_id           |AcceptsInsurance|AgesAllowed|Alcohol    |BYOB|BYOBCorkage|BestNights|BikeParking|BusinessAcceptsBitcoin|BusinessAcceptsCreditCards|ByAppointmentOnly|Caters|CoatCheck|Corkage|DietaryRestrictions|DogsAllowed|DriveThru|GoodForDancing|GoodForKids|HairSpecializesIn|HappyHour|HasTV|Music|NoiseLevel|Open24Hours|OutdoorSeating|RestaurantsAttire|RestaurantsCounterService|RestaurantsDelivery|RestaurantsGoodForGroups|RestaurantsPriceRange2|RestaurantsReservations|RestaurantsTableService|RestaurantsTakeOut|Smoking|WheelchairAccessible|WiFi   |romantic|intimate|classy|hipster|divey|touristy|trendy|upscale|casual|garage|street|validated|lot |valet|dessert|latenight|lunch|dinner|brunch|breakfast|\n",
            "+----------------------+----------------+-----------+-----------+----+-----------+----------+-----------+----------------------+--------------------------+-----------------+------+---------+-------+-------------------+-----------+---------+--------------+-----------+-----------------+---------+-----+-----+----------+-----------+--------------+-----------------+-------------------------+-------------------+------------------------+----------------------+-----------------------+-----------------------+------------------+-------+--------------------+-------+--------+--------+------+-------+-----+--------+------+-------+------+------+------+---------+----+-----+-------+---------+-----+------+------+---------+\n",
            "|MTSW4McQd7CbVtyjqoe9mw|null            |null       |u'none'    |null|null       |null      |True       |null                  |False                     |False            |True  |null     |null   |null               |null       |null     |null          |null       |null             |null     |null |null |null      |null       |False         |null             |null                     |False              |null                    |1                     |null                   |null                   |True              |null   |null                |u'free'|null    |null    |null  |null   |null |null    |null  |null   |null  |null  |null  |null     |null|null |null   |null     |null |null  |null  |null     |\n",
            "|ABxoFuzZy5mqQ8C5FJJajQ|null            |null       |null       |null|null       |null      |null       |null                  |null                      |null             |null  |null     |null   |null               |null       |null     |null          |null       |null             |null     |null |null |null      |null       |null          |null             |null                     |None               |null                    |null                  |null                   |null                   |None              |null   |null                |null   |null    |null    |null  |null   |null |null    |null  |null   |null  |null  |null  |null     |null|null |null   |null     |null |null  |null  |null     |\n",
            "|ppFCk9aQkM338Rgwpl2F5A|null            |null       |u'none'    |null|null       |null      |True       |null                  |True                      |False            |False |null     |null   |null               |null       |null     |null          |True       |null             |null     |True |null |u'average'|null       |False         |u'casual'        |null                     |True               |True                    |1                     |False                  |null                   |True              |null   |null                |u'free'|null    |null    |null  |null   |null |null    |null  |null   |null  |null  |null  |null     |null|null |null   |null     |null |null  |null  |null     |\n",
            "|3BJxm-HnvzdwD1zjmSbmyQ|null            |null       |u'none'    |null|null       |null      |True       |False                 |True                      |null             |True  |null     |null   |null               |False      |null     |null          |True       |null             |False    |True |null |u'average'|null       |False         |'casual'         |null                     |True               |True                    |1                     |True                   |True                   |True              |null   |True                |u'free'|null    |null    |null  |null   |null |null    |null  |null   |null  |null  |null  |null     |null|null |null   |null     |null |null  |null  |null     |\n",
            "|pmuuoDqNZp7518AUd-YmPA|null            |null       |null       |null|null       |null      |True       |null                  |True                      |null             |null  |null     |null   |null               |True       |null     |null          |null       |null             |null     |null |null |null      |null       |null          |null             |null                     |False              |null                    |1                     |null                   |null                   |True              |null   |null                |null   |null    |null    |null  |null   |null |null    |null  |null   |null  |null  |null  |null     |null|null |null   |null     |null |null  |null  |null     |\n",
            "|bTve2mwLk5Zc01vRKqc2KQ|null            |null       |'none'     |null|null       |null      |True       |null                  |False                     |null             |False |null     |null   |null               |null       |null     |null          |True       |null             |null     |True |null |u'quiet'  |null       |True          |'casual'         |null                     |False              |False                   |1                     |False                  |null                   |True              |null   |null                |'free' |null    |null    |null  |null   |null |null    |null  |null   |null  |null  |null  |null     |null|null |null   |null     |null |null  |null  |null     |\n",
            "|aNXw3PkXVt8ANwLyCfcmpg|null            |null       |null       |null|null       |null      |null       |null                  |null                      |null             |null  |null     |null   |null               |null       |True     |null          |True       |null             |null     |null |null |null      |null       |null          |null             |null                     |True               |null                    |1                     |null                   |null                   |True              |null   |null                |u'free'|null    |null    |null  |null   |null |null    |null  |null   |null  |null  |null  |null     |null|null |null   |null     |null |null  |null  |null     |\n",
            "|GVqXNt0HKJLpciN9ePxnWw|null            |null       |u'none'    |null|null       |null      |True       |null                  |True                      |null             |null  |null     |null   |null               |null       |null     |null          |False      |null             |null     |True |null |u'average'|null       |False         |u'casual'        |null                     |True               |False                   |1                     |False                  |null                   |True              |null   |null                |u'no'  |null    |null    |null  |null   |null |null    |null  |null   |null  |null  |null  |null     |null|null |null   |null     |null |null  |null  |null     |\n",
            "|dChRGpit9fM_kZK5pafNyA|null            |null       |u'full_bar'|null|null       |null      |True       |null                  |True                      |null             |False |null     |null   |null               |False      |null     |null          |False      |null             |True     |False|null |u'average'|null       |True          |u'casual'        |null                     |True               |True                    |2                     |True                   |True                   |True              |null   |null                |'no'   |null    |null    |null  |null   |null |null    |null  |null   |null  |null  |null  |null     |null|null |null   |null     |null |null  |null  |null     |\n",
            "|CPgWuWGZ4v2sZr5_-1kluw|null            |null       |u'none'    |null|null       |null      |True       |null                  |True                      |null             |False |null     |null   |null               |null       |True     |null          |True       |null             |null     |True |null |'average' |null       |True          |'casual'         |null                     |True               |True                    |1                     |False                  |True                   |True              |null   |null                |u'no'  |null    |null    |null  |null   |null |null    |null  |null   |null  |null  |null  |null     |null|null |null   |null     |null |null  |null  |null     |\n",
            "|yFqq66GxRjnhZXPgjA6hnw|null            |null       |null       |null|null       |null      |null       |null                  |True                      |null             |True  |null     |null   |null               |null       |True     |null          |True       |null             |null     |True |null |null      |null       |False         |null             |null                     |True               |False                   |1                     |False                  |null                   |True              |null   |null                |'free' |null    |null    |null  |null   |null |null    |null  |null   |null  |null  |null  |null     |null|null |null   |null     |null |null  |null  |null     |\n",
            "|0l_njS4wGMadAk1b4nZRUA|null            |null       |u'none'    |null|null       |null      |True       |null                  |True                      |null             |True  |null     |null   |null               |null       |null     |null          |True       |null             |null     |True |null |u'average'|null       |False         |u'casual'        |null                     |True               |True                    |2                     |False                  |null                   |True              |null   |null                |u'free'|null    |null    |null  |null   |null |null    |null  |null   |null  |null  |null  |null     |null|null |null   |null     |null |null  |null  |null     |\n",
            "|kGjpBqAqG4mIuFSgU2KKEA|null            |null       |u'none'    |null|null       |null      |null       |False                 |True                      |null             |True  |null     |null   |null               |False      |null     |null          |null       |null             |False    |False|null |null      |null       |False         |null             |null                     |True               |null                    |null                  |True                   |True                   |True              |null   |False               |u'no'  |null    |null    |null  |null   |null |null    |null  |null   |null  |null  |null  |null     |null|null |null   |null     |null |null  |null  |null     |\n",
            "|kLSEk3qXY1KdtFjxHJ9pww|null            |null       |null       |null|null       |null      |False      |null                  |True                      |null             |null  |null     |null   |null               |null       |True     |null          |True       |null             |null     |True |null |null      |null       |False         |'casual'         |null                     |True               |True                    |1                     |False                  |null                   |True              |null   |null                |null   |null    |null    |null  |null   |null |null    |null  |null   |null  |null  |null  |null     |null|null |null   |null     |null |null  |null  |null     |\n",
            "|dBCNUSbz5-8nQNrxWo5deg|null            |null       |'none'     |null|'yes_free' |null      |False      |False                 |True                      |null             |False |null     |null   |null               |False      |null     |null          |False      |null             |False    |False|null |u'average'|null       |False         |'casual'         |null                     |True               |True                    |2                     |True                   |True                   |True              |null   |True                |u'no'  |null    |null    |null  |null   |null |null    |null  |null   |null  |null  |null  |null     |null|null |null   |null     |null |null  |null  |null     |\n",
            "|kq5Ghhh14r-eCxlVmlyd8w|null            |null       |u'none'    |null|'yes_free' |null      |True       |null                  |True                      |null             |True  |null     |False  |null               |null       |null     |null          |True       |null             |null     |True |null |u'average'|null       |True          |'casual'         |null                     |True               |True                    |1                     |False                  |null                   |True              |null   |null                |null   |null    |null    |null  |null   |null |null    |null  |null   |null  |null  |null  |null     |null|null |null   |null     |null |null  |null  |null     |\n",
            "|K5ffo0hkwhG33BDNQrJF6A|null            |null       |u'full_bar'|null|null       |null      |True       |null                  |True                      |null             |True  |null     |null   |null               |null       |null     |null          |False      |null             |True     |True |null |u'average'|null       |True          |u'dressy'        |null                     |False              |True                    |3                     |True                   |null                   |True              |null   |null                |u'free'|null    |null    |null  |null   |null |null    |null  |null   |null  |null  |null  |null     |null|null |null   |null     |null |null  |null  |null     |\n",
            "|HuDNHqKv9n1mWpe4BqCnwA|null            |null       |u'none'    |null|null       |null      |False      |null                  |True                      |null             |True  |null     |null   |null               |null       |null     |null          |True       |null             |null     |True |null |'average' |null       |False         |u'casual'        |null                     |True               |True                    |1                     |False                  |null                   |True              |null   |null                |u'no'  |null    |null    |null  |null   |null |null    |null  |null   |null  |null  |null  |null     |null|null |null   |null     |null |null  |null  |null     |\n",
            "|7utsfp2dXJ09j8Gb9hAIvA|null            |null       |null       |null|null       |null      |True       |null                  |True                      |null             |True  |null     |null   |null               |null       |null     |null          |null       |null             |null     |null |null |null      |null       |null          |null             |null                     |False              |null                    |1                     |null                   |null                   |True              |null   |null                |null   |null    |null    |null  |null   |null |null    |null  |null   |null  |null  |null  |null     |null|null |null   |null     |null |null  |null  |null     |\n",
            "|joeRm-_7T0XTkMdKo2nbaA|null            |null       |u'none'    |True|null       |null      |True       |null                  |True                      |null             |True  |null     |False  |null               |null       |null     |null          |True       |null             |null     |True |null |u'average'|null       |True          |u'casual'        |null                     |False              |True                    |1                     |False                  |False                  |True              |null   |True                |'no'   |null    |null    |null  |null   |null |null    |null  |null   |null  |null  |null  |null     |null|null |null   |null     |null |null  |null  |null     |\n",
            "+----------------------+----------------+-----------+-----------+----+-----------+----------+-----------+----------------------+--------------------------+-----------------+------+---------+-------+-------------------+-----------+---------+--------------+-----------+-----------------+---------+-----+-----+----------+-----------+--------------+-----------------+-------------------------+-------------------+------------------------+----------------------+-----------------------+-----------------------+------------------+-------+--------------------+-------+--------+--------+------+-------+-----+--------+------+-------+------+------+------+---------+----+-----+-------+---------+-----+------+------+---------+\n",
            "only showing top 20 rows\n",
            "\n"
          ]
        }
      ],
      "source": [
        "# Solve nested attributes over GoodForMeal column\n",
        "# Define the list of attribute columns to extract\n",
        "good_for_meal_attributes = ['dessert', 'latenight', 'lunch', 'dinner', 'brunch','breakfast']\n",
        "\n",
        "# Apply the function to extract attributes from the \"Ambience\" column\n",
        "df_business_attr_spark = extract_nested_attributes(df_business_attr_spark, \"GoodForMeal\", good_for_meal_attributes)\n",
        "\n",
        "# Show the resulting DataFrame with new columns\n",
        "df_business_attr_spark.show(truncate=False)\n"
      ]
    },
    {
      "cell_type": "markdown",
      "metadata": {
        "id": "9rd7EyQMVTgW"
      },
      "source": [
        "Converting the values of the columns in 0-1 "
      ]
    },
    {
      "cell_type": "code",
      "execution_count": 63,
      "metadata": {
        "colab": {
          "base_uri": "https://localhost:8080/"
        },
        "id": "zLnw_DTkTRsx",
        "outputId": "bdc81728-251a-41fe-87c7-722af81560bf"
      },
      "outputs": [
        {
          "output_type": "stream",
          "name": "stdout",
          "text": [
            "+----------------------+----------------+-----------+-------+----+-----------+----------+-----------+----------------------+--------------------------+-----------------+------+---------+-------+-------------------+-----------+---------+--------------+-----------+-----------------+---------+-----+-----+----------+-----------+--------------+-----------------+-------------------------+-------------------+------------------------+----------------------+-----------------------+-----------------------+------------------+-------+--------------------+----+--------+--------+------+-------+-----+--------+------+-------+------+------+------+---------+---+-----+-------+---------+-----+------+------+---------+\n",
            "|business_id           |AcceptsInsurance|AgesAllowed|Alcohol|BYOB|BYOBCorkage|BestNights|BikeParking|BusinessAcceptsBitcoin|BusinessAcceptsCreditCards|ByAppointmentOnly|Caters|CoatCheck|Corkage|DietaryRestrictions|DogsAllowed|DriveThru|GoodForDancing|GoodForKids|HairSpecializesIn|HappyHour|HasTV|Music|NoiseLevel|Open24Hours|OutdoorSeating|RestaurantsAttire|RestaurantsCounterService|RestaurantsDelivery|RestaurantsGoodForGroups|RestaurantsPriceRange2|RestaurantsReservations|RestaurantsTableService|RestaurantsTakeOut|Smoking|WheelchairAccessible|WiFi|romantic|intimate|classy|hipster|divey|touristy|trendy|upscale|casual|garage|street|validated|lot|valet|dessert|latenight|lunch|dinner|brunch|breakfast|\n",
            "+----------------------+----------------+-----------+-------+----+-----------+----------+-----------+----------------------+--------------------------+-----------------+------+---------+-------+-------------------+-----------+---------+--------------+-----------+-----------------+---------+-----+-----+----------+-----------+--------------+-----------------+-------------------------+-------------------+------------------------+----------------------+-----------------------+-----------------------+------------------+-------+--------------------+----+--------+--------+------+-------+-----+--------+------+-------+------+------+------+---------+---+-----+-------+---------+-----+------+------+---------+\n",
            "|MTSW4McQd7CbVtyjqoe9mw|0               |0          |0      |0   |0          |0         |1          |0                     |0                         |0                |1     |0        |0      |0                  |0          |0        |0             |0          |0                |0        |0    |0    |0         |0          |0             |0                |0                        |0                  |0                       |0                     |0                      |0                      |1                 |0      |0                   |0   |0       |0       |0     |0      |0    |0       |0     |0      |0     |0     |0     |0        |0  |0    |0      |0        |0    |0     |0     |0        |\n",
            "|ABxoFuzZy5mqQ8C5FJJajQ|0               |0          |0      |0   |0          |0         |0          |0                     |0                         |0                |0     |0        |0      |0                  |0          |0        |0             |0          |0                |0        |0    |0    |0         |0          |0             |0                |0                        |0                  |0                       |0                     |0                      |0                      |0                 |0      |0                   |0   |0       |0       |0     |0      |0    |0       |0     |0      |0     |0     |0     |0        |0  |0    |0      |0        |0    |0     |0     |0        |\n",
            "|ppFCk9aQkM338Rgwpl2F5A|0               |0          |0      |0   |0          |0         |1          |0                     |1                         |0                |0     |0        |0      |0                  |0          |0        |0             |1          |0                |0        |1    |0    |0         |0          |0             |0                |0                        |1                  |1                       |0                     |0                      |0                      |1                 |0      |0                   |0   |0       |0       |0     |0      |0    |0       |0     |0      |0     |0     |0     |0        |0  |0    |0      |0        |0    |0     |0     |0        |\n",
            "|3BJxm-HnvzdwD1zjmSbmyQ|0               |0          |0      |0   |0          |0         |1          |0                     |1                         |0                |1     |0        |0      |0                  |0          |0        |0             |1          |0                |0        |1    |0    |0         |0          |0             |0                |0                        |1                  |1                       |0                     |1                      |1                      |1                 |0      |1                   |0   |0       |0       |0     |0      |0    |0       |0     |0      |0     |0     |0     |0        |0  |0    |0      |0        |0    |0     |0     |0        |\n",
            "|pmuuoDqNZp7518AUd-YmPA|0               |0          |0      |0   |0          |0         |1          |0                     |1                         |0                |0     |0        |0      |0                  |1          |0        |0             |0          |0                |0        |0    |0    |0         |0          |0             |0                |0                        |0                  |0                       |0                     |0                      |0                      |1                 |0      |0                   |0   |0       |0       |0     |0      |0    |0       |0     |0      |0     |0     |0     |0        |0  |0    |0      |0        |0    |0     |0     |0        |\n",
            "|bTve2mwLk5Zc01vRKqc2KQ|0               |0          |0      |0   |0          |0         |1          |0                     |0                         |0                |0     |0        |0      |0                  |0          |0        |0             |1          |0                |0        |1    |0    |0         |0          |1             |0                |0                        |0                  |0                       |0                     |0                      |0                      |1                 |0      |0                   |1   |0       |0       |0     |0      |0    |0       |0     |0      |0     |0     |0     |0        |0  |0    |0      |0        |0    |0     |0     |0        |\n",
            "|aNXw3PkXVt8ANwLyCfcmpg|0               |0          |0      |0   |0          |0         |0          |0                     |0                         |0                |0     |0        |0      |0                  |0          |1        |0             |1          |0                |0        |0    |0    |0         |0          |0             |0                |0                        |1                  |0                       |0                     |0                      |0                      |1                 |0      |0                   |0   |0       |0       |0     |0      |0    |0       |0     |0      |0     |0     |0     |0        |0  |0    |0      |0        |0    |0     |0     |0        |\n",
            "|GVqXNt0HKJLpciN9ePxnWw|0               |0          |0      |0   |0          |0         |1          |0                     |1                         |0                |0     |0        |0      |0                  |0          |0        |0             |0          |0                |0        |1    |0    |0         |0          |0             |0                |0                        |1                  |0                       |0                     |0                      |0                      |1                 |0      |0                   |0   |0       |0       |0     |0      |0    |0       |0     |0      |0     |0     |0     |0        |0  |0    |0      |0        |0    |0     |0     |0        |\n",
            "|dChRGpit9fM_kZK5pafNyA|0               |0          |1      |0   |0          |0         |1          |0                     |1                         |0                |0     |0        |0      |0                  |0          |0        |0             |0          |0                |1        |0    |0    |0         |0          |1             |0                |0                        |1                  |1                       |0                     |1                      |1                      |1                 |0      |0                   |0   |0       |0       |0     |0      |0    |0       |0     |0      |0     |0     |0     |0        |0  |0    |0      |0        |0    |0     |0     |0        |\n",
            "|CPgWuWGZ4v2sZr5_-1kluw|0               |0          |0      |0   |0          |0         |1          |0                     |1                         |0                |0     |0        |0      |0                  |0          |1        |0             |1          |0                |0        |1    |0    |0         |0          |1             |0                |0                        |1                  |1                       |0                     |0                      |1                      |1                 |0      |0                   |0   |0       |0       |0     |0      |0    |0       |0     |0      |0     |0     |0     |0        |0  |0    |0      |0        |0    |0     |0     |0        |\n",
            "|yFqq66GxRjnhZXPgjA6hnw|0               |0          |0      |0   |0          |0         |0          |0                     |1                         |0                |1     |0        |0      |0                  |0          |1        |0             |1          |0                |0        |1    |0    |0         |0          |0             |0                |0                        |1                  |0                       |0                     |0                      |0                      |1                 |0      |0                   |1   |0       |0       |0     |0      |0    |0       |0     |0      |0     |0     |0     |0        |0  |0    |0      |0        |0    |0     |0     |0        |\n",
            "|0l_njS4wGMadAk1b4nZRUA|0               |0          |0      |0   |0          |0         |1          |0                     |1                         |0                |1     |0        |0      |0                  |0          |0        |0             |1          |0                |0        |1    |0    |0         |0          |0             |0                |0                        |1                  |1                       |0                     |0                      |0                      |1                 |0      |0                   |0   |0       |0       |0     |0      |0    |0       |0     |0      |0     |0     |0     |0        |0  |0    |0      |0        |0    |0     |0     |0        |\n",
            "|kGjpBqAqG4mIuFSgU2KKEA|0               |0          |0      |0   |0          |0         |0          |0                     |1                         |0                |1     |0        |0      |0                  |0          |0        |0             |0          |0                |0        |0    |0    |0         |0          |0             |0                |0                        |1                  |0                       |0                     |1                      |1                      |1                 |0      |0                   |0   |0       |0       |0     |0      |0    |0       |0     |0      |0     |0     |0     |0        |0  |0    |0      |0        |0    |0     |0     |0        |\n",
            "|kLSEk3qXY1KdtFjxHJ9pww|0               |0          |0      |0   |0          |0         |0          |0                     |1                         |0                |0     |0        |0      |0                  |0          |1        |0             |1          |0                |0        |1    |0    |0         |0          |0             |0                |0                        |1                  |1                       |0                     |0                      |0                      |1                 |0      |0                   |0   |0       |0       |0     |0      |0    |0       |0     |0      |0     |0     |0     |0        |0  |0    |0      |0        |0    |0     |0     |0        |\n",
            "|dBCNUSbz5-8nQNrxWo5deg|0               |0          |0      |0   |1          |0         |0          |0                     |1                         |0                |0     |0        |0      |0                  |0          |0        |0             |0          |0                |0        |0    |0    |0         |0          |0             |0                |0                        |1                  |1                       |0                     |1                      |1                      |1                 |0      |1                   |0   |0       |0       |0     |0      |0    |0       |0     |0      |0     |0     |0     |0        |0  |0    |0      |0        |0    |0     |0     |0        |\n",
            "|kq5Ghhh14r-eCxlVmlyd8w|0               |0          |0      |0   |1          |0         |1          |0                     |1                         |0                |1     |0        |0      |0                  |0          |0        |0             |1          |0                |0        |1    |0    |0         |0          |1             |0                |0                        |1                  |1                       |0                     |0                      |0                      |1                 |0      |0                   |0   |0       |0       |0     |0      |0    |0       |0     |0      |0     |0     |0     |0        |0  |0    |0      |0        |0    |0     |0     |0        |\n",
            "|K5ffo0hkwhG33BDNQrJF6A|0               |0          |1      |0   |0          |0         |1          |0                     |1                         |0                |1     |0        |0      |0                  |0          |0        |0             |0          |0                |1        |1    |0    |0         |0          |1             |0                |0                        |0                  |1                       |0                     |1                      |0                      |1                 |0      |0                   |0   |0       |0       |0     |0      |0    |0       |0     |0      |0     |0     |0     |0        |0  |0    |0      |0        |0    |0     |0     |0        |\n",
            "|HuDNHqKv9n1mWpe4BqCnwA|0               |0          |0      |0   |0          |0         |0          |0                     |1                         |0                |1     |0        |0      |0                  |0          |0        |0             |1          |0                |0        |1    |0    |0         |0          |0             |0                |0                        |1                  |1                       |0                     |0                      |0                      |1                 |0      |0                   |0   |0       |0       |0     |0      |0    |0       |0     |0      |0     |0     |0     |0        |0  |0    |0      |0        |0    |0     |0     |0        |\n",
            "|7utsfp2dXJ09j8Gb9hAIvA|0               |0          |0      |0   |0          |0         |1          |0                     |1                         |0                |1     |0        |0      |0                  |0          |0        |0             |0          |0                |0        |0    |0    |0         |0          |0             |0                |0                        |0                  |0                       |0                     |0                      |0                      |1                 |0      |0                   |0   |0       |0       |0     |0      |0    |0       |0     |0      |0     |0     |0     |0        |0  |0    |0      |0        |0    |0     |0     |0        |\n",
            "|joeRm-_7T0XTkMdKo2nbaA|0               |0          |0      |1   |0          |0         |1          |0                     |1                         |0                |1     |0        |0      |0                  |0          |0        |0             |1          |0                |0        |1    |0    |0         |0          |1             |0                |0                        |0                  |1                       |0                     |0                      |0                      |1                 |0      |1                   |0   |0       |0       |0     |0      |0    |0       |0     |0      |0     |0     |0     |0        |0  |0    |0      |0        |0    |0     |0     |0        |\n",
            "+----------------------+----------------+-----------+-------+----+-----------+----------+-----------+----------------------+--------------------------+-----------------+------+---------+-------+-------------------+-----------+---------+--------------+-----------+-----------------+---------+-----+-----+----------+-----------+--------------+-----------------+-------------------------+-------------------+------------------------+----------------------+-----------------------+-----------------------+------------------+-------+--------------------+----+--------+--------+------+-------+-----+--------+------+-------+------+------+------+---------+---+-----+-------+---------+-----+------+------+---------+\n",
            "only showing top 20 rows\n",
            "\n"
          ]
        }
      ],
      "source": [
        "# Loop through each column and update the values\n",
        "for column in df_business_attr_spark.columns:\n",
        "  if column != \"business_id\":\n",
        "    df_business_attr_spark = df_business_attr_spark.withColumn(\n",
        "        column,\n",
        "        when(col(column) == \"null\", 0)\n",
        "        .when(col(column) == \"u'full_bar'\", 1)\n",
        "        .when(col(column) == \"'yes_free'\", 1)\n",
        "        .when(col(column) == \"'u'free''\", 1)\n",
        "        .when(col(column) == \"'free'\",1)\n",
        "        .when(col(column) == \"False\", 0)\n",
        "        .when(col(column) == \"True\", 1)\n",
        "        .otherwise(0)\n",
        "    )\n",
        "\n",
        "# Show the updated DataFrame\n",
        "df_business_attr_spark.show(truncate=False)\n"
      ]
    },
    {
      "cell_type": "markdown",
      "metadata": {
        "id": "KCK5JaVwPztc"
      },
      "source": [
        "------------------"
      ]
    },
    {
      "cell_type": "markdown",
      "metadata": {
        "id": "rQTw67aEVn2X"
      },
      "source": [
        "Categories 0-1 df"
      ]
    },
    {
      "cell_type": "code",
      "execution_count": 64,
      "metadata": {
        "id": "QmbCbn_jIQJa"
      },
      "outputs": [],
      "source": [
        "# Explode the categories array column to create multiple rows\n",
        "df_categories_explode = df_business_spark.select(\"business_id\", F.explode(\"categories_list\").alias(\"category\"))\n",
        "\n",
        "# Pivot the exploded column to create the dummy variables matrix\n",
        "df_categories_dm = df_categories_explode.groupBy(\"business_id\").pivot(\"category\").agg(F.lit(1)).fillna(0)"
      ]
    },
    {
      "cell_type": "code",
      "execution_count": 65,
      "metadata": {
        "colab": {
          "base_uri": "https://localhost:8080/"
        },
        "id": "IfA8PvfqgpkN",
        "outputId": "0a0a6772-364b-4be8-cbef-31aef16912cf"
      },
      "outputs": [
        {
          "output_type": "stream",
          "name": "stdout",
          "text": [
            "+--------------------+-----------+------------+------+-------+--------+---------------+-----------------------+-------+--------+----------+---------------------+-------------+-----------+-------+---------+------------+---------+-----+----------------+-----+---------+-------------+--------+---------------+--------+----------+-------------------+----------+---------+--------+-----------+--------+--------+--------+--------+------+----------+-------------+----------+----------+----------+--------+---------+-------------+-------------+-------------+--------------+--------+---------------------+--------------+-------------+------------------+-------------+-------------------+--------------------+--------------+----------+------+---------+-------------+------+------------+------+---------+--------+-------+---------------+----------+--------------------+----------+-------+-----------+--------------+----------+------------+--------------------------+--------+---------------+------+----------+---------+-------------+----------------------+---------+----------------+-----+-----------+-----------------------+------------+------------+-------+-----------------+-------------+-----------+---------+-------+-------+------------+-----+-------------+------+--------+-----+--------+------+---------+-----------------+---------------+-------------------+---------------------+---------+--------+-------+----------------+--------+--------------------------+--------------+-------+-----------+------------------+----------------------+------+----------+--------+---------+---------------+-------------+--------+-----------------------+--------+------+----------------+-------+-------+--------+---------------+--------------+-------------+---------------+--------+----------+-----------+--------------+--------+---------------+----------------+----------+---------+--------+-------------+--------------------+----------+--------+--------------+---------------+------------+----------+----------+-----------------------+------------+---------------------+----------------+----------------+---------+-----+------+-----+-------+-----------+-------------------+-----------+---------+----------------------+-----+-------------+------+-----------------+--------+--------------------+--------+------+-----------+-----------+----------+--------+----------------+-----------+-------------+-----------+---------+-----------------+-------------+----------+-----+---------+--------+---------------+------------+-------------+------------+---------------+-----------+-------+---------+---------------+------+----------+-----------+-------------------+----------+-----------+--------+-----+-------------+------------+--------+----------+------+------+-----------+----------------------+-----------+--------+--------+-----------------+-------------+------------+---------------+----------+---------+------+------------+-----+\n",
            "|         business_id| Acai Bowls| Active Life| Adult| Afghan| African| American (New)| American (Traditional)| Arabic| Arcades| Argentine| Arts & Entertainment| Asian Fusion| Automotive| Bagels| Bakeries| Bangladeshi| Barbeque| Bars| Bed & Breakfast| Beer| Beer Bar| Beer Gardens| Belgian| Beverage Store| Bowling| Brazilian| Breakfast & Brunch| Breweries| Brewpubs| British| Bubble Tea| Buffets| Burgers| Burmese| Butcher| Cafes| Cafeteria| Cajun/Creole| Cambodian| Cantonese| Caribbean| Casinos| Caterers| Cheese Shops| Cheesesteaks| Chicken Shop| Chicken Wings| Chinese| Chocolatiers & Shops| Cocktail Bars| Coffee & Tea| Coffee Roasteries| Comfort Food| Convenience Stores| Conveyor Belt Sushi| Country Clubs| Creperies| Cuban| Cupcakes| Custom Cakes| Czech| Dance Clubs| Delis| Desserts| Dim Sum| Diners| Dinner Theater| Dive Bars| Do-It-Yourself Food| Dominican| Donuts| Drugstores| Eatertainment| Ethiopian| Ethnic Food| Event Planning & Services| Falafel| Farmers Market| Farms| Fast Food| Filipino| Fish & Chips| Fitness & Instruction| Florists| Flowers & Gifts| Food| Food Court| Food Delivery Services| Food Stands| Food Trucks| French| Fruits & Veggies| Gas Stations| Gastropubs| Gay Bars| Gelato| German| Gluten-Free| Golf| Golf Lessons| Greek| Grocery| Gyms| Haitian| Halal| Hawaiian| Health & Medical| Health Markets| Himalayan/Nepalese| Hong Kong Style Cafe| Hot Dogs| Hot Pot| Hotels| Hotels & Travel| Iberian| Ice Cream & Frozen Yogurt| Imported Food| Indian| Indonesian| Indoor Playcentre| International Grocery| Irish| Irish Pub| Italian| Japanese| Japanese Curry| Jazz & Blues| Jewelry| Juice Bars & Smoothies| Karaoke| Kebab| Kids Activities| Korean| Kosher| Laotian| Latin American| Live/Raw Food| Local Flavor| Local Services| Lounges| Malaysian| Meat Shops| Mediterranean| Mexican| Middle Eastern| Modern European| Mongolian| Moroccan| Museums| Music Venues| New Mexican Cuisine| Nightlife| Noodles| Nutritionists| Organic Stores| Paint & Sip| Pakistani| Pan Asian| Party & Event Planning| Pasta Shops| Patisserie/Cake Shop| Performing Arts| Persian/Iranian| Peruvian| Pets| Pizza| Poke| Polish| Pool Halls| Pop-Up Restaurants| Portuguese| Pretzels| Professional Services| Pubs| Puerto Rican| Ramen| Recycling Center| Resorts| Restaurant Supplies| Russian| Salad| Salvadoran| Sandwiches| Sardinian| Seafood| Seafood Markets| Senegalese| Shanghainese| Shaved Ice| Shopping| Shopping Centers| Social Clubs| Soul Food| Soup| Southern| Spanish| Specialty Food| Sports Bars| Sports Clubs| Steakhouses| Street Vendors| Sushi Bars| Syrian| Szechuan| Tabletop Games| Tacos| Taiwanese| Tapas Bars| Tapas/Small Plates| Tea Rooms| Teppanyaki| Tex-Mex| Thai| Themed Cafes| Trinidadian| Turkish| Ukrainian| Uzbek| Vegan| Vegetarian| Venues & Event Spaces| Vietnamese| Waffles| Watches| Wedding Planning| Whiskey Bars| Wholesalers| Wine & Spirits| Wine Bars| Wineries| Wraps| Yelp Events| Yoga|\n",
            "+--------------------+-----------+------------+------+-------+--------+---------------+-----------------------+-------+--------+----------+---------------------+-------------+-----------+-------+---------+------------+---------+-----+----------------+-----+---------+-------------+--------+---------------+--------+----------+-------------------+----------+---------+--------+-----------+--------+--------+--------+--------+------+----------+-------------+----------+----------+----------+--------+---------+-------------+-------------+-------------+--------------+--------+---------------------+--------------+-------------+------------------+-------------+-------------------+--------------------+--------------+----------+------+---------+-------------+------+------------+------+---------+--------+-------+---------------+----------+--------------------+----------+-------+-----------+--------------+----------+------------+--------------------------+--------+---------------+------+----------+---------+-------------+----------------------+---------+----------------+-----+-----------+-----------------------+------------+------------+-------+-----------------+-------------+-----------+---------+-------+-------+------------+-----+-------------+------+--------+-----+--------+------+---------+-----------------+---------------+-------------------+---------------------+---------+--------+-------+----------------+--------+--------------------------+--------------+-------+-----------+------------------+----------------------+------+----------+--------+---------+---------------+-------------+--------+-----------------------+--------+------+----------------+-------+-------+--------+---------------+--------------+-------------+---------------+--------+----------+-----------+--------------+--------+---------------+----------------+----------+---------+--------+-------------+--------------------+----------+--------+--------------+---------------+------------+----------+----------+-----------------------+------------+---------------------+----------------+----------------+---------+-----+------+-----+-------+-----------+-------------------+-----------+---------+----------------------+-----+-------------+------+-----------------+--------+--------------------+--------+------+-----------+-----------+----------+--------+----------------+-----------+-------------+-----------+---------+-----------------+-------------+----------+-----+---------+--------+---------------+------------+-------------+------------+---------------+-----------+-------+---------+---------------+------+----------+-----------+-------------------+----------+-----------+--------+-----+-------------+------------+--------+----------+------+------+-----------+----------------------+-----------+--------+--------+-----------------+-------------+------------+---------------+----------+---------+------+------------+-----+\n",
            "|2UDJpaTsYHu9CXmbU...|          0|           0|     0|      0|       0|              0|                      0|      0|       0|         0|                    0|            0|          0|      0|        0|           0|        0|    0|               0|    0|        0|            0|       0|              0|       0|         0|                  0|         0|        0|       0|          0|       0|       0|       0|       0|     0|         0|            0|         0|         0|         0|       0|        0|            0|            0|            0|             0|       0|                    0|             0|            0|                 0|            0|                  0|                   0|             0|         0|     0|        0|            0|     0|           0|     0|        0|       0|      0|              0|         0|                   0|         0|      0|          0|             0|         0|           0|                         0|       0|              0|     0|         0|        0|            0|                     0|        0|               0|    0|          0|                      0|           0|           0|      0|                0|            0|          0|        0|      0|      0|           0|    0|            0|     0|       0|    0|       0|     0|        0|                0|              0|                  0|                    0|        0|       0|      0|               0|       0|                         0|             0|      0|          0|                 0|                     0|     0|         0|       0|        0|              0|            0|       0|                      0|       0|     0|               0|      0|      0|       0|              0|             0|            0|              0|       0|         0|          0|             0|       0|              0|               0|         0|        0|       0|            0|                   0|         0|       0|             0|              0|           0|         0|         0|                      0|           0|                    0|               0|               0|        0|    0|     0|    0|      0|          0|                  0|          0|        0|                     0|    0|            0|     0|                0|       0|                   0|       0|     0|          0|          0|         0|       1|               0|          0|            0|          0|        0|                0|            0|         0|    0|        0|       0|              0|           0|            0|           0|              0|          0|      0|        0|              0|     0|         0|          0|                  0|         0|          0|       0|    0|            0|           0|       0|         0|     0|     0|          0|                     0|          0|       0|       0|                0|            0|           0|              0|         0|        0|     0|           0|    0|\n",
            "|lpbt16sSm4BTcfeq4...|          0|           0|     0|      0|       0|              0|                      0|      0|       0|         0|                    0|            0|          0|      0|        0|           0|        0|    0|               0|    0|        0|            0|       0|              0|       0|         0|                  0|         0|        0|       0|          0|       0|       0|       0|       0|     0|         0|            0|         0|         0|         0|       0|        0|            0|            0|            0|             0|       1|                    0|             0|            0|                 0|            0|                  0|                   0|             0|         0|     0|        0|            0|     0|           0|     0|        0|       0|      0|              0|         0|                   0|         0|      0|          0|             0|         0|           0|                         0|       0|              0|     0|         0|        0|            0|                     0|        0|               0|    0|          0|                      0|           0|           0|      0|                0|            0|          0|        0|      0|      0|           0|    0|            0|     0|       0|    0|       0|     0|        0|                0|              0|                  0|                    0|        0|       0|      0|               0|       0|                         0|             0|      0|          0|                 0|                     0|     0|         0|       0|        0|              0|            0|       0|                      0|       0|     0|               0|      0|      0|       0|              0|             0|            0|              0|       0|         0|          0|             0|       0|              0|               0|         0|        0|       0|            0|                   0|         0|       0|             0|              0|           0|         0|         0|                      0|           0|                    0|               0|               0|        0|    0|     0|    0|      0|          0|                  0|          0|        0|                     0|    0|            0|     0|                0|       0|                   0|       0|     0|          0|          0|         0|       0|               0|          0|            0|          0|        0|                0|            0|         0|    0|        0|       0|              0|           0|            0|           0|              0|          0|      0|        0|              0|     0|         0|          0|                  0|         0|          0|       0|    0|            0|           0|       0|         0|     0|     0|          0|                     0|          0|       0|       0|                0|            0|           0|              0|         0|        0|     0|           0|    0|\n",
            "|R6n618g5agn5lYIp3...|          0|           0|     0|      0|       0|              0|                      0|      0|       0|         0|                    0|            0|          0|      0|        0|           0|        0|    0|               0|    0|        0|            0|       0|              0|       0|         0|                  0|         0|        0|       0|          0|       0|       0|       0|       0|     0|         0|            0|         0|         0|         0|       0|        0|            0|            0|            0|             0|       0|                    0|             0|            1|                 0|            0|                  0|                   0|             0|         0|     0|        0|            0|     0|           0|     1|        0|       0|      0|              0|         0|                   0|         0|      0|          0|             0|         0|           0|                         0|       0|              0|     0|         0|        0|            0|                     0|        0|               0|    1|          0|                      0|           0|           0|      0|                0|            0|          0|        0|      0|      0|           0|    0|            0|     0|       0|    0|       0|     0|        0|                0|              0|                  0|                    0|        0|       0|      0|               0|       0|                         0|             0|      0|          0|                 0|                     0|     0|         0|       0|        0|              0|            0|       0|                      0|       0|     0|               0|      0|      0|       0|              0|             0|            0|              0|       0|         0|          0|             0|       0|              0|               0|         0|        0|       0|            0|                   0|         0|       0|             0|              0|           0|         0|         0|                      0|           0|                    0|               0|               0|        0|    0|     0|    0|      0|          0|                  0|          0|        0|                     0|    0|            0|     0|                0|       0|                   0|       0|     0|          0|          1|         0|       0|               0|          0|            0|          0|        0|                0|            0|         0|    0|        0|       0|              0|           0|            0|           0|              0|          0|      0|        0|              0|     0|         0|          0|                  0|         0|          0|       0|    0|            0|           0|       0|         0|     0|     0|          0|                     0|          0|       0|       0|                0|            0|           0|              0|         0|        0|     0|           0|    0|\n",
            "|-ZzCVD9Ge7KCy4ffh...|          0|           0|     0|      0|       0|              0|                      0|      0|       0|         0|                    0|            0|          0|      0|        0|           0|        0|    0|               0|    0|        0|            0|       0|              0|       0|         0|                  0|         0|        0|       0|          0|       0|       1|       0|       0|     0|         0|            0|         0|         0|         0|       0|        0|            0|            0|            0|             0|       0|                    0|             0|            0|                 0|            0|                  0|                   0|             0|         0|     0|        0|            0|     0|           0|     0|        0|       0|      0|              0|         0|                   0|         0|      0|          0|             0|         0|           0|                         0|       0|              0|     0|         0|        0|            0|                     0|        0|               0|    1|          0|                      0|           0|           0|      0|                0|            0|          0|        0|      0|      0|           0|    0|            0|     0|       0|    0|       0|     0|        0|                0|              0|                  0|                    0|        0|       0|      0|               0|       0|                         1|             0|      0|          0|                 0|                     0|     0|         0|       0|        0|              0|            0|       0|                      0|       0|     0|               0|      0|      0|       0|              0|             0|            0|              0|       0|         0|          0|             0|       0|              0|               0|         0|        0|       0|            0|                   0|         0|       0|             0|              0|           0|         0|         0|                      0|           0|                    0|               0|               0|        0|    0|     0|    0|      0|          0|                  0|          0|        0|                     0|    0|            0|     0|                0|       0|                   0|       0|     0|          0|          0|         0|       0|               0|          0|            0|          0|        0|                0|            0|         0|    0|        0|       0|              0|           0|            0|           0|              0|          0|      0|        0|              0|     0|         0|          0|                  0|         0|          0|       0|    0|            0|           0|       0|         0|     0|     0|          0|                     0|          0|       0|       0|                0|            0|           0|              0|         0|        0|     0|           0|    0|\n",
            "|zbYmalSB_TiWWh44M...|          0|           0|     0|      0|       0|              0|                      1|      0|       0|         0|                    0|            0|          0|      0|        0|           0|        0|    1|               0|    0|        0|            0|       0|              0|       0|         0|                  0|         0|        0|       0|          0|       0|       0|       0|       0|     0|         0|            0|         0|         0|         0|       0|        0|            0|            0|            0|             0|       0|                    0|             0|            0|                 0|            0|                  0|                   0|             0|         0|     0|        0|            0|     0|           0|     0|        0|       0|      0|              0|         0|                   0|         0|      0|          0|             0|         0|           0|                         0|       0|              0|     0|         0|        0|            0|                     0|        0|               0|    0|          0|                      0|           0|           0|      0|                0|            0|          0|        0|      0|      0|           0|    0|            0|     0|       0|    0|       0|     0|        0|                0|              0|                  0|                    0|        0|       0|      0|               0|       0|                         0|             0|      0|          0|                 0|                     0|     0|         0|       0|        0|              0|            0|       0|                      0|       0|     0|               0|      0|      0|       0|              0|             0|            0|              0|       0|         0|          0|             0|       0|              0|               0|         0|        0|       0|            0|                   0|         1|       0|             0|              0|           0|         0|         0|                      0|           0|                    0|               0|               0|        0|    0|     0|    0|      0|          0|                  0|          0|        0|                     0|    0|            0|     0|                0|       0|                   0|       0|     0|          0|          0|         0|       0|               0|          0|            0|          0|        0|                0|            0|         0|    0|        0|       0|              0|           1|            0|           0|              0|          0|      0|        0|              0|     0|         0|          0|                  0|         0|          0|       0|    0|            0|           0|       0|         0|     0|     0|          0|                     0|          0|       0|       0|                0|            0|           0|              0|         0|        0|     0|           0|    0|\n",
            "|f493WyCHW4N9rCapd...|          0|           0|     0|      0|       0|              0|                      0|      0|       0|         0|                    0|            0|          0|      0|        0|           0|        0|    0|               0|    0|        0|            0|       0|              0|       0|         0|                  0|         0|        0|       0|          0|       0|       0|       0|       0|     0|         0|            0|         0|         0|         0|       0|        0|            0|            0|            0|             1|       1|                    0|             0|            0|                 0|            0|                  0|                   0|             0|         0|     0|        0|            0|     0|           0|     0|        0|       0|      0|              0|         0|                   0|         0|      0|          0|             0|         0|           0|                         0|       0|              0|     0|         0|        0|            0|                     0|        0|               0|    0|          0|                      0|           0|           0|      0|                0|            0|          0|        0|      0|      0|           0|    0|            0|     0|       0|    0|       0|     0|        0|                0|              0|                  0|                    0|        0|       0|      0|               0|       0|                         0|             0|      0|          0|                 0|                     0|     0|         0|       0|        0|              0|            0|       0|                      0|       0|     0|               0|      0|      0|       0|              0|             0|            0|              0|       0|         0|          0|             0|       0|              0|               0|         0|        0|       0|            0|                   0|         0|       0|             0|              0|           0|         0|         0|                      0|           0|                    0|               0|               0|        0|    0|     0|    0|      0|          0|                  0|          0|        0|                     0|    0|            0|     0|                0|       0|                   0|       0|     0|          0|          0|         0|       0|               0|          0|            0|          0|        0|                0|            0|         0|    0|        0|       0|              0|           0|            0|           0|              0|          0|      0|        0|              0|     0|         0|          0|                  0|         0|          0|       0|    0|            0|           0|       0|         0|     0|     0|          0|                     0|          0|       0|       0|                0|            0|           0|              0|         0|        0|     0|           0|    0|\n",
            "|IiatvDg0R1qwPtKPm...|          0|           0|     0|      0|       0|              0|                      0|      0|       0|         0|                    0|            0|          0|      0|        0|           0|        0|    0|               0|    0|        0|            0|       0|              0|       0|         0|                  0|         0|        0|       0|          0|       0|       0|       0|       0|     0|         0|            0|         0|         0|         0|       0|        0|            0|            0|            0|             0|       1|                    0|             0|            0|                 0|            0|                  0|                   0|             0|         0|     0|        0|            0|     0|           0|     0|        0|       0|      0|              0|         0|                   0|         0|      0|          0|             0|         0|           0|                         0|       0|              0|     0|         0|        0|            0|                     0|        0|               0|    0|          0|                      0|           0|           0|      0|                0|            0|          0|        0|      0|      0|           0|    0|            0|     0|       0|    0|       0|     0|        0|                0|              0|                  0|                    0|        0|       0|      0|               0|       0|                         0|             0|      0|          0|                 0|                     0|     0|         0|       0|        0|              0|            0|       0|                      0|       0|     0|               0|      0|      0|       0|              0|             0|            0|              0|       0|         0|          0|             0|       0|              0|               0|         0|        0|       0|            0|                   0|         0|       0|             0|              0|           0|         0|         0|                      0|           0|                    0|               0|               0|        0|    0|     0|    0|      0|          0|                  0|          0|        0|                     0|    0|            0|     0|                0|       0|                   0|       0|     0|          0|          0|         0|       0|               0|          0|            0|          0|        0|                0|            0|         0|    0|        0|       0|              0|           0|            0|           0|              0|          0|      0|        0|              0|     0|         0|          0|                  0|         0|          0|       0|    0|            0|           0|       0|         0|     0|     0|          0|                     0|          0|       0|       0|                0|            0|           0|              0|         0|        0|     0|           0|    0|\n",
            "|2fJ-WxJlUN6azp3bz...|          0|           0|     0|      0|       0|              0|                      0|      0|       0|         0|                    0|            0|          0|      0|        0|           0|        0|    0|               0|    0|        0|            0|       0|              0|       0|         0|                  0|         0|        0|       0|          0|       0|       0|       0|       0|     0|         0|            0|         0|         0|         0|       0|        0|            0|            0|            0|             0|       1|                    0|             0|            0|                 0|            0|                  0|                   0|             0|         0|     0|        0|            0|     0|           0|     0|        0|       0|      0|              0|         0|                   0|         0|      0|          0|             0|         0|           0|                         0|       0|              0|     0|         0|        0|            0|                     0|        0|               0|    0|          0|                      0|           0|           0|      0|                0|            0|          0|        0|      0|      0|           0|    0|            0|     0|       0|    0|       0|     0|        0|                0|              0|                  0|                    0|        0|       0|      0|               0|       0|                         0|             0|      0|          0|                 0|                     0|     0|         0|       0|        0|              0|            0|       0|                      0|       0|     0|               0|      0|      0|       0|              0|             0|            0|              0|       0|         0|          0|             0|       0|              0|               0|         0|        0|       0|            0|                   0|         0|       0|             0|              0|           0|         0|         0|                      0|           0|                    0|               0|               0|        0|    0|     0|    0|      0|          0|                  0|          0|        0|                     0|    0|            0|     0|                0|       0|                   0|       0|     0|          0|          0|         0|       0|               0|          0|            0|          0|        0|                0|            0|         0|    0|        0|       0|              0|           0|            0|           0|              0|          0|      0|        0|              0|     0|         0|          0|                  0|         0|          0|       0|    0|            0|           0|       0|         0|     0|     0|          0|                     0|          1|       0|       0|                0|            0|           0|              0|         0|        0|     0|           0|    0|\n",
            "|U3cgoW533NMhBthVO...|          0|           0|     0|      0|       0|              0|                      1|      0|       0|         0|                    0|            0|          0|      0|        0|           0|        0|    1|               0|    0|        0|            0|       0|              0|       0|         0|                  0|         0|        0|       0|          0|       0|       0|       0|       0|     0|         0|            0|         0|         0|         0|       0|        0|            0|            0|            0|             0|       0|                    0|             0|            0|                 0|            0|                  0|                   0|             0|         0|     0|        0|            0|     0|           0|     0|        0|       0|      0|              0|         0|                   0|         0|      0|          0|             0|         0|           0|                         0|       0|              0|     0|         0|        0|            0|                     0|        0|               0|    0|          0|                      0|           0|           0|      0|                0|            0|          0|        0|      0|      0|           0|    0|            0|     0|       0|    0|       0|     0|        0|                0|              0|                  0|                    0|        0|       0|      0|               0|       0|                         0|             0|      0|          0|                 0|                     0|     0|         0|       0|        0|              0|            0|       0|                      0|       0|     0|               0|      0|      0|       0|              0|             0|            0|              0|       0|         0|          0|             0|       0|              0|               0|         0|        0|       0|            0|                   0|         1|       0|             0|              0|           0|         0|         0|                      0|           0|                    0|               0|               0|        0|    1|     0|    0|      0|          0|                  0|          0|        0|                     0|    1|            0|     0|                0|       0|                   0|       0|     0|          0|          0|         0|       0|               0|          0|            0|          0|        0|                0|            0|         0|    0|        0|       0|              0|           0|            0|           0|              0|          0|      0|        0|              0|     0|         0|          0|                  0|         0|          0|       0|    0|            0|           0|       0|         0|     0|     0|          0|                     0|          0|       0|       0|                0|            0|           0|              0|         0|        0|     0|           0|    0|\n",
            "|peg-QfuNihvtk4P1j...|          0|           0|     0|      0|       0|              0|                      0|      0|       0|         0|                    0|            0|          0|      0|        0|           0|        0|    0|               0|    0|        0|            0|       0|              0|       0|         0|                  0|         0|        0|       0|          0|       0|       0|       0|       0|     0|         0|            0|         0|         0|         0|       0|        0|            0|            0|            0|             0|       0|                    0|             0|            0|                 0|            0|                  1|                   0|             0|         0|     0|        0|            0|     0|           0|     1|        0|       0|      0|              0|         0|                   0|         0|      0|          0|             0|         0|           0|                         0|       0|              0|     0|         0|        0|            0|                     0|        0|               0|    1|          0|                      0|           0|           0|      0|                0|            0|          0|        0|      0|      0|           0|    0|            0|     0|       1|    0|       0|     0|        0|                0|              0|                  0|                    0|        0|       0|      0|               0|       0|                         0|             0|      0|          0|                 0|                     0|     0|         0|       0|        0|              0|            0|       0|                      0|       0|     0|               0|      0|      0|       0|              0|             0|            0|              0|       0|         0|          0|             0|       0|              0|               0|         0|        0|       0|            0|                   0|         0|       0|             0|              0|           0|         0|         0|                      0|           0|                    0|               0|               0|        0|    0|     0|    0|      0|          0|                  0|          0|        0|                     0|    0|            0|     0|                0|       0|                   0|       0|     0|          0|          0|         0|       0|               0|          0|            0|          0|        0|                0|            0|         0|    0|        0|       0|              0|           0|            0|           0|              0|          0|      0|        0|              0|     0|         0|          0|                  0|         0|          0|       0|    0|            0|           0|       0|         0|     0|     0|          0|                     0|          0|       0|       0|                0|            0|           0|              0|         0|        0|     0|           0|    0|\n",
            "|4AuBXliaKg3bDKVaa...|          0|           0|     0|      0|       0|              0|                      0|      0|       0|         0|                    0|            0|          0|      0|        0|           0|        0|    0|               0|    0|        0|            0|       0|              0|       0|         0|                  0|         0|        0|       0|          0|       0|       0|       0|       0|     0|         0|            0|         0|         0|         0|       0|        0|            0|            0|            0|             0|       1|                    0|             0|            0|                 0|            0|                  0|                   0|             0|         0|     0|        0|            0|     0|           0|     0|        0|       0|      0|              0|         0|                   0|         0|      0|          0|             0|         0|           0|                         0|       0|              0|     0|         1|        0|            0|                     0|        0|               0|    0|          0|                      0|           0|           0|      0|                0|            0|          0|        0|      0|      0|           0|    0|            0|     0|       0|    0|       0|     0|        0|                0|              0|                  0|                    0|        0|       0|      0|               0|       0|                         0|             0|      0|          0|                 0|                     0|     0|         0|       0|        0|              0|            0|       0|                      0|       0|     0|               0|      0|      0|       0|              0|             0|            0|              0|       0|         0|          0|             0|       0|              0|               0|         0|        0|       0|            0|                   0|         0|       0|             0|              0|           0|         0|         0|                      0|           0|                    0|               0|               0|        0|    0|     0|    0|      0|          0|                  0|          0|        0|                     0|    0|            0|     0|                0|       0|                   0|       0|     0|          0|          0|         0|       0|               0|          0|            0|          0|        0|                0|            0|         0|    0|        0|       0|              0|           0|            0|           0|              0|          0|      0|        0|              0|     0|         0|          0|                  0|         0|          0|       0|    0|            0|           0|       0|         0|     0|     0|          0|                     0|          0|       0|       0|                0|            0|           0|              0|         0|        0|     0|           0|    0|\n",
            "|2PwFAmpkrHvQwdIu6...|          0|           0|     0|      0|       0|              0|                      0|      0|       0|         0|                    0|            0|          0|      0|        0|           0|        0|    0|               0|    0|        0|            0|       0|              0|       0|         0|                  0|         0|        0|       0|          0|       0|       0|       0|       0|     0|         0|            0|         0|         0|         0|       0|        0|            0|            0|            0|             0|       0|                    0|             0|            0|                 0|            0|                  0|                   0|             0|         0|     0|        0|            0|     0|           0|     1|        0|       0|      0|              0|         0|                   0|         0|      0|          0|             0|         0|           0|                         0|       0|              0|     0|         0|        0|            0|                     0|        0|               0|    0|          0|                      0|           0|           0|      0|                0|            0|          0|        0|      0|      0|           0|    0|            0|     0|       0|    0|       0|     0|        0|                0|              0|                  0|                    0|        0|       0|      0|               0|       0|                         0|             0|      0|          0|                 0|                     0|     0|         0|       0|        0|              0|            0|       0|                      0|       0|     0|               0|      0|      0|       0|              0|             0|            0|              0|       0|         0|          0|             0|       0|              0|               0|         0|        0|       0|            0|                   0|         0|       0|             0|              0|           0|         0|         0|                      0|           0|                    0|               0|               0|        0|    0|     0|    0|      0|          0|                  0|          0|        0|                     0|    0|            0|     0|                0|       0|                   0|       0|     0|          0|          1|         0|       0|               0|          0|            0|          0|        0|                0|            0|         0|    0|        0|       0|              0|           0|            0|           1|              0|          0|      0|        0|              0|     0|         0|          0|                  0|         0|          0|       0|    0|            0|           0|       0|         0|     0|     0|          0|                     0|          0|       0|       0|                0|            0|           0|              0|         0|        0|     0|           0|    0|\n",
            "|LEUrvUGgG-04Dk30M...|          0|           0|     0|      0|       0|              0|                      0|      0|       0|         0|                    0|            0|          0|      0|        0|           0|        0|    0|               0|    0|        0|            0|       0|              0|       0|         0|                  0|         0|        0|       0|          0|       0|       0|       0|       0|     0|         0|            0|         0|         0|         0|       0|        0|            0|            0|            0|             0|       0|                    0|             0|            1|                 0|            0|                  0|                   0|             0|         0|     0|        0|            0|     0|           0|     0|        0|       0|      0|              0|         0|                   0|         0|      1|          0|             0|         0|           0|                         0|       0|              0|     0|         0|        0|            0|                     0|        0|               0|    1|          0|                      0|           0|           0|      0|                0|            0|          0|        0|      0|      0|           0|    0|            0|     0|       0|    0|       0|     0|        0|                0|              0|                  0|                    0|        0|       0|      0|               0|       0|                         0|             0|      0|          0|                 0|                     0|     0|         0|       0|        0|              0|            0|       0|                      0|       0|     0|               0|      0|      0|       0|              0|             0|            0|              0|       0|         0|          0|             0|       0|              0|               0|         0|        0|       0|            0|                   0|         0|       0|             0|              0|           0|         0|         0|                      0|           0|                    0|               0|               0|        0|    0|     0|    0|      0|          0|                  0|          0|        0|                     0|    0|            0|     0|                0|       0|                   0|       0|     0|          0|          0|         0|       0|               0|          0|            0|          0|        0|                0|            0|         0|    0|        0|       0|              0|           0|            0|           0|              0|          0|      0|        0|              0|     0|         0|          0|                  0|         0|          0|       0|    0|            0|           0|       0|         0|     0|     0|          0|                     0|          0|       0|       0|                0|            0|           0|              0|         0|        0|     0|           0|    0|\n",
            "|SzIxeQzrATYbL8IFj...|          0|           0|     0|      0|       0|              0|                      0|      0|       0|         0|                    0|            0|          0|      0|        0|           0|        0|    0|               0|    0|        0|            0|       0|              0|       0|         0|                  0|         0|        0|       0|          0|       0|       0|       0|       0|     0|         0|            0|         0|         0|         0|       0|        0|            0|            0|            0|             0|       0|                    0|             0|            0|                 0|            0|                  0|                   0|             0|         0|     0|        0|            0|     0|           0|     0|        0|       0|      0|              0|         0|                   0|         0|      0|          0|             0|         0|           0|                         0|       0|              0|     0|         0|        0|            0|                     0|        0|               0|    0|          0|                      0|           0|           0|      0|                0|            0|          0|        0|      0|      0|           0|    0|            0|     0|       0|    0|       0|     0|        0|                0|              0|                  0|                    0|        0|       0|      0|               0|       0|                         0|             0|      0|          0|                 0|                     0|     0|         0|       0|        0|              0|            0|       0|                      0|       0|     0|               0|      0|      0|       0|              0|             0|            0|              0|       0|         0|          0|             0|       0|              0|               0|         0|        0|       0|            0|                   0|         0|       0|             0|              0|           0|         0|         0|                      0|           0|                    0|               0|               0|        0|    0|     1|    0|      0|          0|                  0|          0|        0|                     0|    0|            0|     0|                0|       0|                   0|       0|     0|          0|          0|         0|       0|               0|          0|            0|          0|        0|                0|            0|         0|    0|        0|       0|              0|           0|            0|           0|              0|          0|      0|        0|              0|     0|         0|          0|                  0|         0|          0|       0|    0|            0|           0|       0|         0|     0|     0|          0|                     0|          0|       0|       0|                0|            0|           0|              0|         0|        0|     0|           0|    0|\n",
            "|l9eLGG9ZKpLJzboZq...|          0|           0|     0|      0|       0|              0|                      0|      0|       0|         0|                    0|            0|          0|      0|        0|           0|        0|    0|               0|    0|        0|            0|       0|              0|       0|         0|                  0|         0|        0|       0|          0|       0|       0|       0|       0|     0|         0|            0|         0|         0|         0|       0|        0|            0|            0|            0|             0|       0|                    0|             0|            1|                 0|            0|                  1|                   0|             0|         0|     0|        0|            0|     0|           0|     0|        0|       0|      0|              0|         0|                   0|         0|      0|          0|             0|         0|           0|                         0|       0|              0|     0|         0|        0|            0|                     0|        0|               0|    1|          0|                      0|           0|           0|      0|                0|            0|          0|        0|      0|      0|           0|    0|            0|     0|       0|    0|       0|     0|        0|                0|              0|                  0|                    0|        0|       0|      0|               0|       0|                         0|             0|      0|          0|                 0|                     0|     0|         0|       0|        0|              0|            0|       0|                      0|       0|     0|               0|      0|      0|       0|              0|             0|            0|              0|       0|         0|          0|             0|       0|              0|               0|         0|        0|       0|            0|                   0|         0|       0|             0|              0|           0|         0|         0|                      0|           0|                    0|               0|               0|        0|    0|     0|    0|      0|          0|                  0|          0|        0|                     0|    0|            0|     0|                0|       0|                   0|       0|     0|          0|          1|         0|       0|               0|          0|            0|          0|        0|                0|            0|         0|    0|        0|       0|              0|           0|            0|           0|              0|          0|      0|        0|              0|     0|         0|          0|                  0|         0|          0|       0|    0|            0|           0|       0|         0|     0|     0|          0|                     0|          0|       0|       0|                0|            0|           0|              0|         0|        0|     0|           0|    0|\n",
            "|YPnksHT2DQA0AhcxP...|          0|           0|     0|      0|       0|              0|                      0|      0|       0|         0|                    0|            0|          0|      0|        1|           0|        0|    0|               0|    0|        0|            0|       0|              0|       0|         0|                  0|         0|        0|       0|          0|       0|       0|       0|       0|     1|         0|            0|         0|         0|         0|       0|        0|            0|            0|            0|             0|       0|                    0|             0|            0|                 0|            0|                  0|                   0|             0|         0|     0|        0|            0|     0|           0|     0|        0|       0|      0|              0|         0|                   0|         0|      0|          0|             0|         0|           0|                         0|       0|              0|     0|         0|        0|            0|                     0|        0|               0|    1|          0|                      0|           0|           0|      0|                0|            0|          0|        0|      0|      0|           0|    0|            0|     0|       0|    0|       0|     0|        0|                0|              0|                  0|                    0|        0|       0|      0|               0|       0|                         0|             0|      0|          0|                 0|                     0|     0|         0|       1|        0|              0|            0|       0|                      0|       0|     0|               0|      0|      0|       0|              0|             0|            0|              0|       0|         0|          0|             0|       0|              0|               0|         0|        0|       0|            0|                   0|         0|       0|             0|              0|           0|         0|         0|                      0|           0|                    0|               0|               0|        0|    0|     0|    0|      0|          0|                  0|          0|        0|                     0|    0|            0|     0|                0|       0|                   0|       0|     0|          0|          0|         0|       0|               0|          0|            0|          0|        0|                0|            0|         0|    0|        0|       0|              0|           0|            0|           0|              0|          0|      0|        0|              0|     0|         0|          0|                  0|         0|          0|       0|    0|            0|           0|       0|         0|     0|     0|          0|                     0|          0|       0|       0|                0|            0|           0|              0|         0|        0|     0|           0|    0|\n",
            "|XT1xF_7s3bJdm2UOr...|          0|           0|     0|      0|       0|              0|                      0|      0|       0|         0|                    0|            0|          0|      0|        0|           0|        0|    0|               0|    0|        0|            0|       0|              0|       0|         0|                  0|         0|        0|       0|          0|       0|       0|       0|       0|     0|         0|            0|         0|         0|         0|       0|        0|            0|            0|            0|             0|       0|                    0|             0|            0|                 0|            0|                  0|                   0|             0|         0|     0|        0|            0|     0|           0|     0|        0|       0|      0|              0|         0|                   0|         0|      0|          0|             0|         0|           1|                         0|       0|              0|     0|         0|        0|            0|                     0|        0|               0|    1|          0|                      0|           0|           0|      0|                0|            0|          0|        0|      0|      0|           1|    0|            0|     0|       0|    0|       0|     1|        0|                0|              0|                  0|                    0|        0|       0|      0|               0|       0|                         0|             1|      0|          0|                 0|                     0|     0|         0|       0|        0|              0|            0|       0|                      0|       0|     0|               0|      0|      0|       0|              0|             0|            0|              0|       0|         0|          0|             0|       0|              1|               0|         0|        0|       0|            0|                   0|         0|       0|             0|              0|           0|         0|         0|                      0|           0|                    0|               0|               0|        0|    0|     0|    0|      0|          0|                  0|          0|        0|                     0|    0|            0|     0|                0|       0|                   0|       0|     0|          0|          0|         0|       0|               0|          0|            0|          0|        0|                0|            0|         0|    0|        0|       0|              1|           0|            0|           0|              1|          0|      0|        0|              0|     0|         0|          0|                  0|         0|          0|       0|    0|            0|           0|       0|         0|     0|     0|          0|                     0|          0|       0|       0|                0|            0|           0|              0|         0|        0|     0|           0|    0|\n",
            "|a0ndB5JL9ZMPaIb5S...|          0|           0|     0|      0|       0|              0|                      1|      0|       0|         0|                    0|            0|          0|      0|        0|           0|        0|    0|               0|    0|        0|            0|       0|              0|       0|         0|                  1|         0|        0|       0|          0|       0|       0|       0|       0|     0|         0|            0|         0|         0|         0|       0|        0|            0|            1|            0|             0|       0|                    0|             0|            0|                 0|            0|                  0|                   0|             0|         0|     0|        0|            0|     0|           0|     1|        0|       0|      0|              0|         0|                   0|         0|      0|          0|             0|         0|           0|                         0|       0|              0|     0|         0|        0|            0|                     0|        0|               0|    0|          0|                      0|           0|           0|      0|                0|            0|          0|        0|      0|      0|           0|    0|            0|     0|       0|    0|       0|     0|        0|                0|              0|                  0|                    0|        0|       0|      0|               0|       0|                         0|             0|      0|          0|                 0|                     0|     0|         0|       0|        0|              0|            0|       0|                      0|       0|     0|               0|      0|      0|       0|              0|             0|            0|              0|       0|         0|          0|             0|       0|              0|               0|         0|        0|       0|            0|                   0|         0|       0|             0|              0|           0|         0|         0|                      0|           0|                    0|               0|               0|        0|    0|     0|    0|      0|          0|                  0|          0|        0|                     0|    0|            0|     0|                0|       0|                   0|       0|     0|          0|          1|         0|       1|               0|          0|            0|          0|        0|                0|            0|         0|    0|        0|       0|              0|           0|            0|           0|              0|          0|      0|        0|              0|     0|         0|          0|                  0|         0|          0|       0|    0|            0|           0|       0|         0|     0|     0|          0|                     0|          0|       0|       0|                0|            0|           0|              0|         0|        0|     0|           0|    0|\n",
            "|G0Fhi9lh1sSZSSPuX...|          0|           0|     0|      0|       0|              1|                      0|      0|       0|         0|                    0|            0|          0|      0|        0|           0|        0|    1|               0|    0|        0|            0|       0|              0|       0|         0|                  0|         0|        0|       0|          0|       0|       0|       0|       0|     0|         0|            0|         0|         0|         0|       0|        0|            0|            0|            0|             0|       0|                    0|             0|            0|                 0|            0|                  0|                   0|             0|         0|     0|        0|            0|     0|           0|     0|        0|       0|      0|              0|         0|                   0|         0|      0|          0|             0|         0|           0|                         0|       0|              0|     0|         0|        0|            0|                     0|        0|               0|    0|          0|                      0|           0|           0|      0|                0|            0|          0|        0|      0|      0|           0|    0|            0|     0|       0|    0|       0|     0|        0|                0|              0|                  0|                    0|        0|       0|      0|               0|       0|                         0|             0|      0|          0|                 0|                     0|     0|         0|       0|        0|              0|            0|       0|                      0|       0|     0|               0|      0|      0|       0|              0|             0|            0|              0|       0|         0|          0|             0|       0|              0|               0|         0|        0|       0|            0|                   0|         1|       0|             0|              0|           0|         0|         0|                      0|           0|                    0|               0|               0|        0|    0|     0|    0|      0|          0|                  0|          0|        0|                     0|    0|            0|     0|                0|       0|                   0|       0|     0|          0|          0|         0|       0|               0|          0|            0|          0|        0|                0|            0|         0|    0|        0|       0|              0|           0|            0|           0|              0|          0|      0|        0|              0|     0|         0|          0|                  0|         0|          0|       0|    0|            0|           0|       0|         0|     0|     0|          0|                     0|          0|       0|       0|                0|            0|           0|              0|         1|        0|     0|           0|    0|\n",
            "|jYi4Gy91Mmhq7WzGc...|          0|           0|     0|      0|       0|              0|                      0|      0|       0|         0|                    0|            0|          0|      0|        0|           0|        0|    0|               0|    0|        0|            0|       0|              0|       0|         0|                  0|         0|        0|       0|          0|       0|       0|       0|       0|     0|         0|            0|         0|         0|         0|       0|        0|            0|            0|            0|             0|       0|                    0|             0|            0|                 0|            0|                  0|                   0|             0|         0|     0|        0|            0|     0|           0|     0|        0|       0|      0|              0|         0|                   0|         0|      0|          0|             0|         0|           0|                         0|       0|              0|     0|         0|        0|            0|                     0|        0|               0|    0|          0|                      0|           0|           0|      0|                0|            0|          0|        0|      0|      0|           0|    0|            0|     0|       0|    0|       0|     0|        0|                0|              0|                  0|                    0|        0|       0|      0|               0|       0|                         0|             0|      0|          0|                 0|                     0|     0|         0|       0|        0|              0|            0|       0|                      0|       0|     0|               0|      0|      0|       0|              0|             0|            0|              0|       0|         0|          0|             0|       0|              0|               0|         0|        0|       0|            0|                   0|         0|       0|             0|              0|           0|         0|         0|                      0|           0|                    0|               0|               0|        0|    0|     1|    0|      0|          0|                  0|          0|        0|                     0|    0|            0|     0|                0|       0|                   0|       0|     0|          0|          0|         0|       0|               0|          0|            0|          0|        0|                0|            0|         0|    0|        0|       0|              0|           0|            0|           0|              0|          0|      0|        0|              0|     0|         0|          0|                  0|         0|          0|       0|    0|            0|           0|       0|         0|     0|     0|          0|                     0|          0|       0|       0|                0|            0|           0|              0|         0|        0|     0|           0|    0|\n",
            "+--------------------+-----------+------------+------+-------+--------+---------------+-----------------------+-------+--------+----------+---------------------+-------------+-----------+-------+---------+------------+---------+-----+----------------+-----+---------+-------------+--------+---------------+--------+----------+-------------------+----------+---------+--------+-----------+--------+--------+--------+--------+------+----------+-------------+----------+----------+----------+--------+---------+-------------+-------------+-------------+--------------+--------+---------------------+--------------+-------------+------------------+-------------+-------------------+--------------------+--------------+----------+------+---------+-------------+------+------------+------+---------+--------+-------+---------------+----------+--------------------+----------+-------+-----------+--------------+----------+------------+--------------------------+--------+---------------+------+----------+---------+-------------+----------------------+---------+----------------+-----+-----------+-----------------------+------------+------------+-------+-----------------+-------------+-----------+---------+-------+-------+------------+-----+-------------+------+--------+-----+--------+------+---------+-----------------+---------------+-------------------+---------------------+---------+--------+-------+----------------+--------+--------------------------+--------------+-------+-----------+------------------+----------------------+------+----------+--------+---------+---------------+-------------+--------+-----------------------+--------+------+----------------+-------+-------+--------+---------------+--------------+-------------+---------------+--------+----------+-----------+--------------+--------+---------------+----------------+----------+---------+--------+-------------+--------------------+----------+--------+--------------+---------------+------------+----------+----------+-----------------------+------------+---------------------+----------------+----------------+---------+-----+------+-----+-------+-----------+-------------------+-----------+---------+----------------------+-----+-------------+------+-----------------+--------+--------------------+--------+------+-----------+-----------+----------+--------+----------------+-----------+-------------+-----------+---------+-----------------+-------------+----------+-----+---------+--------+---------------+------------+-------------+------------+---------------+-----------+-------+---------+---------------+------+----------+-----------+-------------------+----------+-----------+--------+-----+-------------+------------+--------+----------+------+------+-----------+----------------------+-----------+--------+--------+-----------------+-------------+------------+---------------+----------+---------+------+------------+-----+\n",
            "only showing top 20 rows\n",
            "\n"
          ]
        }
      ],
      "source": [
        "df_categories_dm = df_categories_dm.drop(\"Restaurants\")\n",
        "df_categories_dm.show()"
      ]
    },
    {
      "cell_type": "markdown",
      "metadata": {
        "id": "cX_K2Zp1Vq_G"
      },
      "source": [
        "Construction of the final df obtained by join."
      ]
    },
    {
      "cell_type": "code",
      "execution_count": 66,
      "metadata": {
        "id": "VeAAMwlaUdjC"
      },
      "outputs": [],
      "source": [
        "df_final_spark = df_categories_dm.join(df_business_attr_spark, on='business_id', how=\"inner\").join(restaurant_df_sel_spark, on='business_id',how=\"inner\")"
      ]
    },
    {
      "cell_type": "code",
      "execution_count": 67,
      "metadata": {
        "colab": {
          "base_uri": "https://localhost:8080/"
        },
        "id": "aZ0O4H20yFMv",
        "outputId": "b3c77f6d-8661-47c8-d54a-e46afff1d30a"
      },
      "outputs": [
        {
          "output_type": "stream",
          "name": "stdout",
          "text": [
            "root\n",
            " |-- business_id: string (nullable = true)\n",
            " |--  Acai Bowls: integer (nullable = true)\n",
            " |--  Active Life: integer (nullable = true)\n",
            " |--  Adult: integer (nullable = true)\n",
            " |--  Afghan: integer (nullable = true)\n",
            " |--  African: integer (nullable = true)\n",
            " |--  American (New): integer (nullable = true)\n",
            " |--  American (Traditional): integer (nullable = true)\n",
            " |--  Arabic: integer (nullable = true)\n",
            " |--  Arcades: integer (nullable = true)\n",
            " |--  Argentine: integer (nullable = true)\n",
            " |--  Arts & Entertainment: integer (nullable = true)\n",
            " |--  Asian Fusion: integer (nullable = true)\n",
            " |--  Automotive: integer (nullable = true)\n",
            " |--  Bagels: integer (nullable = true)\n",
            " |--  Bakeries: integer (nullable = true)\n",
            " |--  Bangladeshi: integer (nullable = true)\n",
            " |--  Barbeque: integer (nullable = true)\n",
            " |--  Bars: integer (nullable = true)\n",
            " |--  Bed & Breakfast: integer (nullable = true)\n",
            " |--  Beer: integer (nullable = true)\n",
            " |--  Beer Bar: integer (nullable = true)\n",
            " |--  Beer Gardens: integer (nullable = true)\n",
            " |--  Belgian: integer (nullable = true)\n",
            " |--  Beverage Store: integer (nullable = true)\n",
            " |--  Bowling: integer (nullable = true)\n",
            " |--  Brazilian: integer (nullable = true)\n",
            " |--  Breakfast & Brunch: integer (nullable = true)\n",
            " |--  Breweries: integer (nullable = true)\n",
            " |--  Brewpubs: integer (nullable = true)\n",
            " |--  British: integer (nullable = true)\n",
            " |--  Bubble Tea: integer (nullable = true)\n",
            " |--  Buffets: integer (nullable = true)\n",
            " |--  Burgers: integer (nullable = true)\n",
            " |--  Burmese: integer (nullable = true)\n",
            " |--  Butcher: integer (nullable = true)\n",
            " |--  Cafes: integer (nullable = true)\n",
            " |--  Cafeteria: integer (nullable = true)\n",
            " |--  Cajun/Creole: integer (nullable = true)\n",
            " |--  Cambodian: integer (nullable = true)\n",
            " |--  Cantonese: integer (nullable = true)\n",
            " |--  Caribbean: integer (nullable = true)\n",
            " |--  Casinos: integer (nullable = true)\n",
            " |--  Caterers: integer (nullable = true)\n",
            " |--  Cheese Shops: integer (nullable = true)\n",
            " |--  Cheesesteaks: integer (nullable = true)\n",
            " |--  Chicken Shop: integer (nullable = true)\n",
            " |--  Chicken Wings: integer (nullable = true)\n",
            " |--  Chinese: integer (nullable = true)\n",
            " |--  Chocolatiers & Shops: integer (nullable = true)\n",
            " |--  Cocktail Bars: integer (nullable = true)\n",
            " |--  Coffee & Tea: integer (nullable = true)\n",
            " |--  Coffee Roasteries: integer (nullable = true)\n",
            " |--  Comfort Food: integer (nullable = true)\n",
            " |--  Convenience Stores: integer (nullable = true)\n",
            " |--  Conveyor Belt Sushi: integer (nullable = true)\n",
            " |--  Country Clubs: integer (nullable = true)\n",
            " |--  Creperies: integer (nullable = true)\n",
            " |--  Cuban: integer (nullable = true)\n",
            " |--  Cupcakes: integer (nullable = true)\n",
            " |--  Custom Cakes: integer (nullable = true)\n",
            " |--  Czech: integer (nullable = true)\n",
            " |--  Dance Clubs: integer (nullable = true)\n",
            " |--  Delis: integer (nullable = true)\n",
            " |--  Desserts: integer (nullable = true)\n",
            " |--  Dim Sum: integer (nullable = true)\n",
            " |--  Diners: integer (nullable = true)\n",
            " |--  Dinner Theater: integer (nullable = true)\n",
            " |--  Dive Bars: integer (nullable = true)\n",
            " |--  Do-It-Yourself Food: integer (nullable = true)\n",
            " |--  Dominican: integer (nullable = true)\n",
            " |--  Donuts: integer (nullable = true)\n",
            " |--  Drugstores: integer (nullable = true)\n",
            " |--  Eatertainment: integer (nullable = true)\n",
            " |--  Ethiopian: integer (nullable = true)\n",
            " |--  Ethnic Food: integer (nullable = true)\n",
            " |--  Event Planning & Services: integer (nullable = true)\n",
            " |--  Falafel: integer (nullable = true)\n",
            " |--  Farmers Market: integer (nullable = true)\n",
            " |--  Farms: integer (nullable = true)\n",
            " |--  Fast Food: integer (nullable = true)\n",
            " |--  Filipino: integer (nullable = true)\n",
            " |--  Fish & Chips: integer (nullable = true)\n",
            " |--  Fitness & Instruction: integer (nullable = true)\n",
            " |--  Florists: integer (nullable = true)\n",
            " |--  Flowers & Gifts: integer (nullable = true)\n",
            " |--  Food: integer (nullable = true)\n",
            " |--  Food Court: integer (nullable = true)\n",
            " |--  Food Delivery Services: integer (nullable = true)\n",
            " |--  Food Stands: integer (nullable = true)\n",
            " |--  Food Trucks: integer (nullable = true)\n",
            " |--  French: integer (nullable = true)\n",
            " |--  Fruits & Veggies: integer (nullable = true)\n",
            " |--  Gas Stations: integer (nullable = true)\n",
            " |--  Gastropubs: integer (nullable = true)\n",
            " |--  Gay Bars: integer (nullable = true)\n",
            " |--  Gelato: integer (nullable = true)\n",
            " |--  German: integer (nullable = true)\n",
            " |--  Gluten-Free: integer (nullable = true)\n",
            " |--  Golf: integer (nullable = true)\n",
            " |--  Golf Lessons: integer (nullable = true)\n",
            " |--  Greek: integer (nullable = true)\n",
            " |--  Grocery: integer (nullable = true)\n",
            " |--  Gyms: integer (nullable = true)\n",
            " |--  Haitian: integer (nullable = true)\n",
            " |--  Halal: integer (nullable = true)\n",
            " |--  Hawaiian: integer (nullable = true)\n",
            " |--  Health & Medical: integer (nullable = true)\n",
            " |--  Health Markets: integer (nullable = true)\n",
            " |--  Himalayan/Nepalese: integer (nullable = true)\n",
            " |--  Hong Kong Style Cafe: integer (nullable = true)\n",
            " |--  Hot Dogs: integer (nullable = true)\n",
            " |--  Hot Pot: integer (nullable = true)\n",
            " |--  Hotels: integer (nullable = true)\n",
            " |--  Hotels & Travel: integer (nullable = true)\n",
            " |--  Iberian: integer (nullable = true)\n",
            " |--  Ice Cream & Frozen Yogurt: integer (nullable = true)\n",
            " |--  Imported Food: integer (nullable = true)\n",
            " |--  Indian: integer (nullable = true)\n",
            " |--  Indonesian: integer (nullable = true)\n",
            " |--  Indoor Playcentre: integer (nullable = true)\n",
            " |--  International Grocery: integer (nullable = true)\n",
            " |--  Irish: integer (nullable = true)\n",
            " |--  Irish Pub: integer (nullable = true)\n",
            " |--  Italian: integer (nullable = true)\n",
            " |--  Japanese: integer (nullable = true)\n",
            " |--  Japanese Curry: integer (nullable = true)\n",
            " |--  Jazz & Blues: integer (nullable = true)\n",
            " |--  Jewelry: integer (nullable = true)\n",
            " |--  Juice Bars & Smoothies: integer (nullable = true)\n",
            " |--  Karaoke: integer (nullable = true)\n",
            " |--  Kebab: integer (nullable = true)\n",
            " |--  Kids Activities: integer (nullable = true)\n",
            " |--  Korean: integer (nullable = true)\n",
            " |--  Kosher: integer (nullable = true)\n",
            " |--  Laotian: integer (nullable = true)\n",
            " |--  Latin American: integer (nullable = true)\n",
            " |--  Live/Raw Food: integer (nullable = true)\n",
            " |--  Local Flavor: integer (nullable = true)\n",
            " |--  Local Services: integer (nullable = true)\n",
            " |--  Lounges: integer (nullable = true)\n",
            " |--  Malaysian: integer (nullable = true)\n",
            " |--  Meat Shops: integer (nullable = true)\n",
            " |--  Mediterranean: integer (nullable = true)\n",
            " |--  Mexican: integer (nullable = true)\n",
            " |--  Middle Eastern: integer (nullable = true)\n",
            " |--  Modern European: integer (nullable = true)\n",
            " |--  Mongolian: integer (nullable = true)\n",
            " |--  Moroccan: integer (nullable = true)\n",
            " |--  Museums: integer (nullable = true)\n",
            " |--  Music Venues: integer (nullable = true)\n",
            " |--  New Mexican Cuisine: integer (nullable = true)\n",
            " |--  Nightlife: integer (nullable = true)\n",
            " |--  Noodles: integer (nullable = true)\n",
            " |--  Nutritionists: integer (nullable = true)\n",
            " |--  Organic Stores: integer (nullable = true)\n",
            " |--  Paint & Sip: integer (nullable = true)\n",
            " |--  Pakistani: integer (nullable = true)\n",
            " |--  Pan Asian: integer (nullable = true)\n",
            " |--  Party & Event Planning: integer (nullable = true)\n",
            " |--  Pasta Shops: integer (nullable = true)\n",
            " |--  Patisserie/Cake Shop: integer (nullable = true)\n",
            " |--  Performing Arts: integer (nullable = true)\n",
            " |--  Persian/Iranian: integer (nullable = true)\n",
            " |--  Peruvian: integer (nullable = true)\n",
            " |--  Pets: integer (nullable = true)\n",
            " |--  Pizza: integer (nullable = true)\n",
            " |--  Poke: integer (nullable = true)\n",
            " |--  Polish: integer (nullable = true)\n",
            " |--  Pool Halls: integer (nullable = true)\n",
            " |--  Pop-Up Restaurants: integer (nullable = true)\n",
            " |--  Portuguese: integer (nullable = true)\n",
            " |--  Pretzels: integer (nullable = true)\n",
            " |--  Professional Services: integer (nullable = true)\n",
            " |--  Pubs: integer (nullable = true)\n",
            " |--  Puerto Rican: integer (nullable = true)\n",
            " |--  Ramen: integer (nullable = true)\n",
            " |--  Recycling Center: integer (nullable = true)\n",
            " |--  Resorts: integer (nullable = true)\n",
            " |--  Restaurant Supplies: integer (nullable = true)\n",
            " |--  Russian: integer (nullable = true)\n",
            " |--  Salad: integer (nullable = true)\n",
            " |--  Salvadoran: integer (nullable = true)\n",
            " |--  Sandwiches: integer (nullable = true)\n",
            " |--  Sardinian: integer (nullable = true)\n",
            " |--  Seafood: integer (nullable = true)\n",
            " |--  Seafood Markets: integer (nullable = true)\n",
            " |--  Senegalese: integer (nullable = true)\n",
            " |--  Shanghainese: integer (nullable = true)\n",
            " |--  Shaved Ice: integer (nullable = true)\n",
            " |--  Shopping: integer (nullable = true)\n",
            " |--  Shopping Centers: integer (nullable = true)\n",
            " |--  Social Clubs: integer (nullable = true)\n",
            " |--  Soul Food: integer (nullable = true)\n",
            " |--  Soup: integer (nullable = true)\n",
            " |--  Southern: integer (nullable = true)\n",
            " |--  Spanish: integer (nullable = true)\n",
            " |--  Specialty Food: integer (nullable = true)\n",
            " |--  Sports Bars: integer (nullable = true)\n",
            " |--  Sports Clubs: integer (nullable = true)\n",
            " |--  Steakhouses: integer (nullable = true)\n",
            " |--  Street Vendors: integer (nullable = true)\n",
            " |--  Sushi Bars: integer (nullable = true)\n",
            " |--  Syrian: integer (nullable = true)\n",
            " |--  Szechuan: integer (nullable = true)\n",
            " |--  Tabletop Games: integer (nullable = true)\n",
            " |--  Tacos: integer (nullable = true)\n",
            " |--  Taiwanese: integer (nullable = true)\n",
            " |--  Tapas Bars: integer (nullable = true)\n",
            " |--  Tapas/Small Plates: integer (nullable = true)\n",
            " |--  Tea Rooms: integer (nullable = true)\n",
            " |--  Teppanyaki: integer (nullable = true)\n",
            " |--  Tex-Mex: integer (nullable = true)\n",
            " |--  Thai: integer (nullable = true)\n",
            " |--  Themed Cafes: integer (nullable = true)\n",
            " |--  Trinidadian: integer (nullable = true)\n",
            " |--  Turkish: integer (nullable = true)\n",
            " |--  Ukrainian: integer (nullable = true)\n",
            " |--  Uzbek: integer (nullable = true)\n",
            " |--  Vegan: integer (nullable = true)\n",
            " |--  Vegetarian: integer (nullable = true)\n",
            " |--  Venues & Event Spaces: integer (nullable = true)\n",
            " |--  Vietnamese: integer (nullable = true)\n",
            " |--  Waffles: integer (nullable = true)\n",
            " |--  Watches: integer (nullable = true)\n",
            " |--  Wedding Planning: integer (nullable = true)\n",
            " |--  Whiskey Bars: integer (nullable = true)\n",
            " |--  Wholesalers: integer (nullable = true)\n",
            " |--  Wine & Spirits: integer (nullable = true)\n",
            " |--  Wine Bars: integer (nullable = true)\n",
            " |--  Wineries: integer (nullable = true)\n",
            " |--  Wraps: integer (nullable = true)\n",
            " |--  Yelp Events: integer (nullable = true)\n",
            " |--  Yoga: integer (nullable = true)\n",
            " |-- AcceptsInsurance: integer (nullable = false)\n",
            " |-- AgesAllowed: integer (nullable = false)\n",
            " |-- Alcohol: integer (nullable = false)\n",
            " |-- BYOB: integer (nullable = false)\n",
            " |-- BYOBCorkage: integer (nullable = false)\n",
            " |-- BestNights: integer (nullable = false)\n",
            " |-- BikeParking: integer (nullable = false)\n",
            " |-- BusinessAcceptsBitcoin: integer (nullable = false)\n",
            " |-- BusinessAcceptsCreditCards: integer (nullable = false)\n",
            " |-- ByAppointmentOnly: integer (nullable = false)\n",
            " |-- Caters: integer (nullable = false)\n",
            " |-- CoatCheck: integer (nullable = false)\n",
            " |-- Corkage: integer (nullable = false)\n",
            " |-- DietaryRestrictions: integer (nullable = false)\n",
            " |-- DogsAllowed: integer (nullable = false)\n",
            " |-- DriveThru: integer (nullable = false)\n",
            " |-- GoodForDancing: integer (nullable = false)\n",
            " |-- GoodForKids: integer (nullable = false)\n",
            " |-- HairSpecializesIn: integer (nullable = false)\n",
            " |-- HappyHour: integer (nullable = false)\n",
            " |-- HasTV: integer (nullable = false)\n",
            " |-- Music: integer (nullable = false)\n",
            " |-- NoiseLevel: integer (nullable = false)\n",
            " |-- Open24Hours: integer (nullable = false)\n",
            " |-- OutdoorSeating: integer (nullable = false)\n",
            " |-- RestaurantsAttire: integer (nullable = false)\n",
            " |-- RestaurantsCounterService: integer (nullable = false)\n",
            " |-- RestaurantsDelivery: integer (nullable = false)\n",
            " |-- RestaurantsGoodForGroups: integer (nullable = false)\n",
            " |-- RestaurantsPriceRange2: integer (nullable = false)\n",
            " |-- RestaurantsReservations: integer (nullable = false)\n",
            " |-- RestaurantsTableService: integer (nullable = false)\n",
            " |-- RestaurantsTakeOut: integer (nullable = false)\n",
            " |-- Smoking: integer (nullable = false)\n",
            " |-- WheelchairAccessible: integer (nullable = false)\n",
            " |-- WiFi: integer (nullable = false)\n",
            " |-- romantic: integer (nullable = false)\n",
            " |-- intimate: integer (nullable = false)\n",
            " |-- classy: integer (nullable = false)\n",
            " |-- hipster: integer (nullable = false)\n",
            " |-- divey: integer (nullable = false)\n",
            " |-- touristy: integer (nullable = false)\n",
            " |-- trendy: integer (nullable = false)\n",
            " |-- upscale: integer (nullable = false)\n",
            " |-- casual: integer (nullable = false)\n",
            " |-- garage: integer (nullable = false)\n",
            " |-- street: integer (nullable = false)\n",
            " |-- validated: integer (nullable = false)\n",
            " |-- lot: integer (nullable = false)\n",
            " |-- valet: integer (nullable = false)\n",
            " |-- dessert: integer (nullable = false)\n",
            " |-- latenight: integer (nullable = false)\n",
            " |-- lunch: integer (nullable = false)\n",
            " |-- dinner: integer (nullable = false)\n",
            " |-- brunch: integer (nullable = false)\n",
            " |-- breakfast: integer (nullable = false)\n",
            " |-- name: string (nullable = true)\n",
            " |-- stars: double (nullable = true)\n",
            "\n"
          ]
        }
      ],
      "source": [
        "df_final_spark.printSchema()"
      ]
    },
    {
      "cell_type": "markdown",
      "metadata": {
        "id": "jpPqnJvcV0Sm"
      },
      "source": [
        "Converting stars from floating number to integer"
      ]
    },
    {
      "cell_type": "code",
      "execution_count": 68,
      "metadata": {
        "id": "o0DXFrlYW--h"
      },
      "outputs": [],
      "source": [
        "from pyspark.sql.functions import col, when\n",
        "# Map floating number stars into integer\n",
        "# Create a dictionary to map floating-point stars to integers\n",
        "stars_toint = {1.0: 1, 1.5: 2, 2.0: 2, 2.5: 3, 3.0: 3, 3.5: 4, 4.0: 4, 4.5: 5, 5.0: 5}\n",
        "\n",
        "# Use the 'when' and 'otherwise' functions to apply the mapping\n",
        "df_final_spark = df_final_spark.withColumn('stars', when(col('stars').isin(list(stars_toint.keys())), col('stars')).otherwise(0))\n",
        "df_final_spark = df_final_spark.replace(stars_toint, subset='stars')\n"
      ]
    },
    {
      "cell_type": "code",
      "execution_count": 69,
      "metadata": {
        "colab": {
          "base_uri": "https://localhost:8080/"
        },
        "id": "5rbwWFj2Wpe5",
        "outputId": "4e10be3a-a5ba-439f-d7a7-649b03bfe78a"
      },
      "outputs": [
        {
          "output_type": "stream",
          "name": "stdout",
          "text": [
            "+--------------------+-----------+------------+------+-------+--------+---------------+-----------------------+-------+--------+----------+---------------------+-------------+-----------+-------+---------+------------+---------+-----+----------------+-----+---------+-------------+--------+---------------+--------+----------+-------------------+----------+---------+--------+-----------+--------+--------+--------+--------+------+----------+-------------+----------+----------+----------+--------+---------+-------------+-------------+-------------+--------------+--------+---------------------+--------------+-------------+------------------+-------------+-------------------+--------------------+--------------+----------+------+---------+-------------+------+------------+------+---------+--------+-------+---------------+----------+--------------------+----------+-------+-----------+--------------+----------+------------+--------------------------+--------+---------------+------+----------+---------+-------------+----------------------+---------+----------------+-----+-----------+-----------------------+------------+------------+-------+-----------------+-------------+-----------+---------+-------+-------+------------+-----+-------------+------+--------+-----+--------+------+---------+-----------------+---------------+-------------------+---------------------+---------+--------+-------+----------------+--------+--------------------------+--------------+-------+-----------+------------------+----------------------+------+----------+--------+---------+---------------+-------------+--------+-----------------------+--------+------+----------------+-------+-------+--------+---------------+--------------+-------------+---------------+--------+----------+-----------+--------------+--------+---------------+----------------+----------+---------+--------+-------------+--------------------+----------+--------+--------------+---------------+------------+----------+----------+-----------------------+------------+---------------------+----------------+----------------+---------+-----+------+-----+-------+-----------+-------------------+-----------+---------+----------------------+-----+-------------+------+-----------------+--------+--------------------+--------+------+-----------+-----------+----------+--------+----------------+-----------+-------------+-----------+---------+-----------------+-------------+----------+-----+---------+--------+---------------+------------+-------------+------------+---------------+-----------+-------+---------+---------------+------+----------+-----------+-------------------+----------+-----------+--------+-----+-------------+------------+--------+----------+------+------+-----------+----------------------+-----------+--------+--------+-----------------+-------------+------------+---------------+----------+---------+------+------------+-----+----------------+-----------+-------+----+-----------+----------+-----------+----------------------+--------------------------+-----------------+------+---------+-------+-------------------+-----------+---------+--------------+-----------+-----------------+---------+-----+-----+----------+-----------+--------------+-----------------+-------------------------+-------------------+------------------------+----------------------+-----------------------+-----------------------+------------------+-------+--------------------+----+--------+--------+------+-------+-----+--------+------+-------+------+------+------+---------+---+-----+-------+---------+-----+------+------+---------+--------------------+-----+\n",
            "|         business_id| Acai Bowls| Active Life| Adult| Afghan| African| American (New)| American (Traditional)| Arabic| Arcades| Argentine| Arts & Entertainment| Asian Fusion| Automotive| Bagels| Bakeries| Bangladeshi| Barbeque| Bars| Bed & Breakfast| Beer| Beer Bar| Beer Gardens| Belgian| Beverage Store| Bowling| Brazilian| Breakfast & Brunch| Breweries| Brewpubs| British| Bubble Tea| Buffets| Burgers| Burmese| Butcher| Cafes| Cafeteria| Cajun/Creole| Cambodian| Cantonese| Caribbean| Casinos| Caterers| Cheese Shops| Cheesesteaks| Chicken Shop| Chicken Wings| Chinese| Chocolatiers & Shops| Cocktail Bars| Coffee & Tea| Coffee Roasteries| Comfort Food| Convenience Stores| Conveyor Belt Sushi| Country Clubs| Creperies| Cuban| Cupcakes| Custom Cakes| Czech| Dance Clubs| Delis| Desserts| Dim Sum| Diners| Dinner Theater| Dive Bars| Do-It-Yourself Food| Dominican| Donuts| Drugstores| Eatertainment| Ethiopian| Ethnic Food| Event Planning & Services| Falafel| Farmers Market| Farms| Fast Food| Filipino| Fish & Chips| Fitness & Instruction| Florists| Flowers & Gifts| Food| Food Court| Food Delivery Services| Food Stands| Food Trucks| French| Fruits & Veggies| Gas Stations| Gastropubs| Gay Bars| Gelato| German| Gluten-Free| Golf| Golf Lessons| Greek| Grocery| Gyms| Haitian| Halal| Hawaiian| Health & Medical| Health Markets| Himalayan/Nepalese| Hong Kong Style Cafe| Hot Dogs| Hot Pot| Hotels| Hotels & Travel| Iberian| Ice Cream & Frozen Yogurt| Imported Food| Indian| Indonesian| Indoor Playcentre| International Grocery| Irish| Irish Pub| Italian| Japanese| Japanese Curry| Jazz & Blues| Jewelry| Juice Bars & Smoothies| Karaoke| Kebab| Kids Activities| Korean| Kosher| Laotian| Latin American| Live/Raw Food| Local Flavor| Local Services| Lounges| Malaysian| Meat Shops| Mediterranean| Mexican| Middle Eastern| Modern European| Mongolian| Moroccan| Museums| Music Venues| New Mexican Cuisine| Nightlife| Noodles| Nutritionists| Organic Stores| Paint & Sip| Pakistani| Pan Asian| Party & Event Planning| Pasta Shops| Patisserie/Cake Shop| Performing Arts| Persian/Iranian| Peruvian| Pets| Pizza| Poke| Polish| Pool Halls| Pop-Up Restaurants| Portuguese| Pretzels| Professional Services| Pubs| Puerto Rican| Ramen| Recycling Center| Resorts| Restaurant Supplies| Russian| Salad| Salvadoran| Sandwiches| Sardinian| Seafood| Seafood Markets| Senegalese| Shanghainese| Shaved Ice| Shopping| Shopping Centers| Social Clubs| Soul Food| Soup| Southern| Spanish| Specialty Food| Sports Bars| Sports Clubs| Steakhouses| Street Vendors| Sushi Bars| Syrian| Szechuan| Tabletop Games| Tacos| Taiwanese| Tapas Bars| Tapas/Small Plates| Tea Rooms| Teppanyaki| Tex-Mex| Thai| Themed Cafes| Trinidadian| Turkish| Ukrainian| Uzbek| Vegan| Vegetarian| Venues & Event Spaces| Vietnamese| Waffles| Watches| Wedding Planning| Whiskey Bars| Wholesalers| Wine & Spirits| Wine Bars| Wineries| Wraps| Yelp Events| Yoga|AcceptsInsurance|AgesAllowed|Alcohol|BYOB|BYOBCorkage|BestNights|BikeParking|BusinessAcceptsBitcoin|BusinessAcceptsCreditCards|ByAppointmentOnly|Caters|CoatCheck|Corkage|DietaryRestrictions|DogsAllowed|DriveThru|GoodForDancing|GoodForKids|HairSpecializesIn|HappyHour|HasTV|Music|NoiseLevel|Open24Hours|OutdoorSeating|RestaurantsAttire|RestaurantsCounterService|RestaurantsDelivery|RestaurantsGoodForGroups|RestaurantsPriceRange2|RestaurantsReservations|RestaurantsTableService|RestaurantsTakeOut|Smoking|WheelchairAccessible|WiFi|romantic|intimate|classy|hipster|divey|touristy|trendy|upscale|casual|garage|street|validated|lot|valet|dessert|latenight|lunch|dinner|brunch|breakfast|                name|stars|\n",
            "+--------------------+-----------+------------+------+-------+--------+---------------+-----------------------+-------+--------+----------+---------------------+-------------+-----------+-------+---------+------------+---------+-----+----------------+-----+---------+-------------+--------+---------------+--------+----------+-------------------+----------+---------+--------+-----------+--------+--------+--------+--------+------+----------+-------------+----------+----------+----------+--------+---------+-------------+-------------+-------------+--------------+--------+---------------------+--------------+-------------+------------------+-------------+-------------------+--------------------+--------------+----------+------+---------+-------------+------+------------+------+---------+--------+-------+---------------+----------+--------------------+----------+-------+-----------+--------------+----------+------------+--------------------------+--------+---------------+------+----------+---------+-------------+----------------------+---------+----------------+-----+-----------+-----------------------+------------+------------+-------+-----------------+-------------+-----------+---------+-------+-------+------------+-----+-------------+------+--------+-----+--------+------+---------+-----------------+---------------+-------------------+---------------------+---------+--------+-------+----------------+--------+--------------------------+--------------+-------+-----------+------------------+----------------------+------+----------+--------+---------+---------------+-------------+--------+-----------------------+--------+------+----------------+-------+-------+--------+---------------+--------------+-------------+---------------+--------+----------+-----------+--------------+--------+---------------+----------------+----------+---------+--------+-------------+--------------------+----------+--------+--------------+---------------+------------+----------+----------+-----------------------+------------+---------------------+----------------+----------------+---------+-----+------+-----+-------+-----------+-------------------+-----------+---------+----------------------+-----+-------------+------+-----------------+--------+--------------------+--------+------+-----------+-----------+----------+--------+----------------+-----------+-------------+-----------+---------+-----------------+-------------+----------+-----+---------+--------+---------------+------------+-------------+------------+---------------+-----------+-------+---------+---------------+------+----------+-----------+-------------------+----------+-----------+--------+-----+-------------+------------+--------+----------+------+------+-----------+----------------------+-----------+--------+--------+-----------------+-------------+------------+---------------+----------+---------+------+------------+-----+----------------+-----------+-------+----+-----------+----------+-----------+----------------------+--------------------------+-----------------+------+---------+-------+-------------------+-----------+---------+--------------+-----------+-----------------+---------+-----+-----+----------+-----------+--------------+-----------------+-------------------------+-------------------+------------------------+----------------------+-----------------------+-----------------------+------------------+-------+--------------------+----+--------+--------+------+-------+-----+--------+------+-------+------+------+------+---------+---+-----+-------+---------+-----+------+------+---------+--------------------+-----+\n",
            "|2UDJpaTsYHu9CXmbU...|          0|           0|     0|      0|       0|              0|                      0|      0|       0|         0|                    0|            0|          0|      0|        0|           0|        0|    0|               0|    0|        0|            0|       0|              0|       0|         0|                  0|         0|        0|       0|          0|       0|       0|       0|       0|     0|         0|            0|         0|         0|         0|       0|        0|            0|            0|            0|             0|       0|                    0|             0|            0|                 0|            0|                  0|                   0|             0|         0|     0|        0|            0|     0|           0|     0|        0|       0|      0|              0|         0|                   0|         0|      0|          0|             0|         0|           0|                         0|       0|              0|     0|         0|        0|            0|                     0|        0|               0|    0|          0|                      0|           0|           0|      0|                0|            0|          0|        0|      0|      0|           0|    0|            0|     0|       0|    0|       0|     0|        0|                0|              0|                  0|                    0|        0|       0|      0|               0|       0|                         0|             0|      0|          0|                 0|                     0|     0|         0|       0|        0|              0|            0|       0|                      0|       0|     0|               0|      0|      0|       0|              0|             0|            0|              0|       0|         0|          0|             0|       0|              0|               0|         0|        0|       0|            0|                   0|         0|       0|             0|              0|           0|         0|         0|                      0|           0|                    0|               0|               0|        0|    0|     0|    0|      0|          0|                  0|          0|        0|                     0|    0|            0|     0|                0|       0|                   0|       0|     0|          0|          0|         0|       1|               0|          0|            0|          0|        0|                0|            0|         0|    0|        0|       0|              0|           0|            0|           0|              0|          0|      0|        0|              0|     0|         0|          0|                  0|         0|          0|       0|    0|            0|           0|       0|         0|     0|     0|          0|                     0|          0|       0|       0|                0|            0|           0|              0|         0|        0|     0|           0|    0|               0|          0|      0|   0|          0|         0|          0|                     0|                         1|                0|     0|        0|      0|                  0|          0|        0|             0|          1|                0|        0|    1|    0|         0|          0|             1|                0|                        0|                  1|                       1|                     0|                      1|                      0|                 1|      0|                   0|   0|       0|       0|     0|      0|    0|       0|     0|      0|     0|     0|     0|        0|  0|    0|      0|        0|    0|     0|     0|        0|Fountain Side Sea...|  3.0|\n",
            "|lpbt16sSm4BTcfeq4...|          0|           0|     0|      0|       0|              0|                      0|      0|       0|         0|                    0|            0|          0|      0|        0|           0|        0|    0|               0|    0|        0|            0|       0|              0|       0|         0|                  0|         0|        0|       0|          0|       0|       0|       0|       0|     0|         0|            0|         0|         0|         0|       0|        0|            0|            0|            0|             0|       1|                    0|             0|            0|                 0|            0|                  0|                   0|             0|         0|     0|        0|            0|     0|           0|     0|        0|       0|      0|              0|         0|                   0|         0|      0|          0|             0|         0|           0|                         0|       0|              0|     0|         0|        0|            0|                     0|        0|               0|    0|          0|                      0|           0|           0|      0|                0|            0|          0|        0|      0|      0|           0|    0|            0|     0|       0|    0|       0|     0|        0|                0|              0|                  0|                    0|        0|       0|      0|               0|       0|                         0|             0|      0|          0|                 0|                     0|     0|         0|       0|        0|              0|            0|       0|                      0|       0|     0|               0|      0|      0|       0|              0|             0|            0|              0|       0|         0|          0|             0|       0|              0|               0|         0|        0|       0|            0|                   0|         0|       0|             0|              0|           0|         0|         0|                      0|           0|                    0|               0|               0|        0|    0|     0|    0|      0|          0|                  0|          0|        0|                     0|    0|            0|     0|                0|       0|                   0|       0|     0|          0|          0|         0|       0|               0|          0|            0|          0|        0|                0|            0|         0|    0|        0|       0|              0|           0|            0|           0|              0|          0|      0|        0|              0|     0|         0|          0|                  0|         0|          0|       0|    0|            0|           0|       0|         0|     0|     0|          0|                     0|          0|       0|       0|                0|            0|           0|              0|         0|        0|     0|           0|    0|               0|          0|      0|   0|          0|         0|          0|                     0|                         1|                0|     0|        0|      0|                  0|          0|        0|             0|          1|                0|        0|    1|    0|         0|          0|             0|                0|                        0|                  1|                       1|                     0|                      0|                      0|                 1|      0|                   0|   0|       0|       0|     0|      0|    0|       0|     0|      0|     0|     0|     0|        0|  0|    0|      0|        0|    0|     0|     0|        0|           Super Wok|  4.0|\n",
            "|R6n618g5agn5lYIp3...|          0|           0|     0|      0|       0|              0|                      0|      0|       0|         0|                    0|            0|          0|      0|        0|           0|        0|    0|               0|    0|        0|            0|       0|              0|       0|         0|                  0|         0|        0|       0|          0|       0|       0|       0|       0|     0|         0|            0|         0|         0|         0|       0|        0|            0|            0|            0|             0|       0|                    0|             0|            1|                 0|            0|                  0|                   0|             0|         0|     0|        0|            0|     0|           0|     1|        0|       0|      0|              0|         0|                   0|         0|      0|          0|             0|         0|           0|                         0|       0|              0|     0|         0|        0|            0|                     0|        0|               0|    1|          0|                      0|           0|           0|      0|                0|            0|          0|        0|      0|      0|           0|    0|            0|     0|       0|    0|       0|     0|        0|                0|              0|                  0|                    0|        0|       0|      0|               0|       0|                         0|             0|      0|          0|                 0|                     0|     0|         0|       0|        0|              0|            0|       0|                      0|       0|     0|               0|      0|      0|       0|              0|             0|            0|              0|       0|         0|          0|             0|       0|              0|               0|         0|        0|       0|            0|                   0|         0|       0|             0|              0|           0|         0|         0|                      0|           0|                    0|               0|               0|        0|    0|     0|    0|      0|          0|                  0|          0|        0|                     0|    0|            0|     0|                0|       0|                   0|       0|     0|          0|          1|         0|       0|               0|          0|            0|          0|        0|                0|            0|         0|    0|        0|       0|              0|           0|            0|           0|              0|          0|      0|        0|              0|     0|         0|          0|                  0|         0|          0|       0|    0|            0|           0|       0|         0|     0|     0|          0|                     0|          0|       0|       0|                0|            0|           0|              0|         0|        0|     0|           0|    0|               0|          0|      0|   0|          0|         0|          0|                     0|                         0|                0|     0|        0|      0|                  0|          0|        0|             0|          1|                0|        0|    1|    0|         0|          0|             0|                0|                        0|                  1|                       1|                     0|                      0|                      0|                 1|      0|                   0|   0|       0|       0|     0|      0|    0|       0|     0|      0|     0|     0|     0|        0|  0|    0|      0|        0|    0|     0|     0|        0|                Wawa|  3.0|\n",
            "|-ZzCVD9Ge7KCy4ffh...|          0|           0|     0|      0|       0|              0|                      0|      0|       0|         0|                    0|            0|          0|      0|        0|           0|        0|    0|               0|    0|        0|            0|       0|              0|       0|         0|                  0|         0|        0|       0|          0|       0|       1|       0|       0|     0|         0|            0|         0|         0|         0|       0|        0|            0|            0|            0|             0|       0|                    0|             0|            0|                 0|            0|                  0|                   0|             0|         0|     0|        0|            0|     0|           0|     0|        0|       0|      0|              0|         0|                   0|         0|      0|          0|             0|         0|           0|                         0|       0|              0|     0|         0|        0|            0|                     0|        0|               0|    1|          0|                      0|           0|           0|      0|                0|            0|          0|        0|      0|      0|           0|    0|            0|     0|       0|    0|       0|     0|        0|                0|              0|                  0|                    0|        0|       0|      0|               0|       0|                         1|             0|      0|          0|                 0|                     0|     0|         0|       0|        0|              0|            0|       0|                      0|       0|     0|               0|      0|      0|       0|              0|             0|            0|              0|       0|         0|          0|             0|       0|              0|               0|         0|        0|       0|            0|                   0|         0|       0|             0|              0|           0|         0|         0|                      0|           0|                    0|               0|               0|        0|    0|     0|    0|      0|          0|                  0|          0|        0|                     0|    0|            0|     0|                0|       0|                   0|       0|     0|          0|          0|         0|       0|               0|          0|            0|          0|        0|                0|            0|         0|    0|        0|       0|              0|           0|            0|           0|              0|          0|      0|        0|              0|     0|         0|          0|                  0|         0|          0|       0|    0|            0|           0|       0|         0|     0|     0|          0|                     0|          0|       0|       0|                0|            0|           0|              0|         0|        0|     0|           0|    0|               0|          0|      0|   0|          0|         0|          0|                     0|                         1|                0|     0|        0|      0|                  0|          0|        0|             0|          1|                0|        0|    1|    0|         0|          0|             1|                0|                        0|                  1|                       1|                     0|                      0|                      0|                 1|      0|                   0|   0|       0|       0|     0|      0|    0|       0|     0|      0|     0|     0|     0|        0|  0|    0|      0|        0|    0|     0|     0|        0|Richman's Ice Cre...|  4.0|\n",
            "|zbYmalSB_TiWWh44M...|          0|           0|     0|      0|       0|              0|                      1|      0|       0|         0|                    0|            0|          0|      0|        0|           0|        0|    1|               0|    0|        0|            0|       0|              0|       0|         0|                  0|         0|        0|       0|          0|       0|       0|       0|       0|     0|         0|            0|         0|         0|         0|       0|        0|            0|            0|            0|             0|       0|                    0|             0|            0|                 0|            0|                  0|                   0|             0|         0|     0|        0|            0|     0|           0|     0|        0|       0|      0|              0|         0|                   0|         0|      0|          0|             0|         0|           0|                         0|       0|              0|     0|         0|        0|            0|                     0|        0|               0|    0|          0|                      0|           0|           0|      0|                0|            0|          0|        0|      0|      0|           0|    0|            0|     0|       0|    0|       0|     0|        0|                0|              0|                  0|                    0|        0|       0|      0|               0|       0|                         0|             0|      0|          0|                 0|                     0|     0|         0|       0|        0|              0|            0|       0|                      0|       0|     0|               0|      0|      0|       0|              0|             0|            0|              0|       0|         0|          0|             0|       0|              0|               0|         0|        0|       0|            0|                   0|         1|       0|             0|              0|           0|         0|         0|                      0|           0|                    0|               0|               0|        0|    0|     0|    0|      0|          0|                  0|          0|        0|                     0|    0|            0|     0|                0|       0|                   0|       0|     0|          0|          0|         0|       0|               0|          0|            0|          0|        0|                0|            0|         0|    0|        0|       0|              0|           1|            0|           0|              0|          0|      0|        0|              0|     0|         0|          0|                  0|         0|          0|       0|    0|            0|           0|       0|         0|     0|     0|          0|                     0|          0|       0|       0|                0|            0|           0|              0|         0|        0|     0|           0|    0|               0|          0|      0|   0|          0|         0|          1|                     0|                         1|                0|     1|        0|      0|                  0|          0|        0|             0|          1|                0|        1|    1|    0|         0|          0|             1|                0|                        0|                  0|                       1|                     0|                      1|                      0|                 1|      0|                   0|   0|       0|       0|     0|      0|    0|       0|     0|      0|     0|     0|     0|        0|  0|    0|      0|        0|    0|     0|     0|        0| Casey's Ridley Park|  3.0|\n",
            "|f493WyCHW4N9rCapd...|          0|           0|     0|      0|       0|              0|                      0|      0|       0|         0|                    0|            0|          0|      0|        0|           0|        0|    0|               0|    0|        0|            0|       0|              0|       0|         0|                  0|         0|        0|       0|          0|       0|       0|       0|       0|     0|         0|            0|         0|         0|         0|       0|        0|            0|            0|            0|             1|       1|                    0|             0|            0|                 0|            0|                  0|                   0|             0|         0|     0|        0|            0|     0|           0|     0|        0|       0|      0|              0|         0|                   0|         0|      0|          0|             0|         0|           0|                         0|       0|              0|     0|         0|        0|            0|                     0|        0|               0|    0|          0|                      0|           0|           0|      0|                0|            0|          0|        0|      0|      0|           0|    0|            0|     0|       0|    0|       0|     0|        0|                0|              0|                  0|                    0|        0|       0|      0|               0|       0|                         0|             0|      0|          0|                 0|                     0|     0|         0|       0|        0|              0|            0|       0|                      0|       0|     0|               0|      0|      0|       0|              0|             0|            0|              0|       0|         0|          0|             0|       0|              0|               0|         0|        0|       0|            0|                   0|         0|       0|             0|              0|           0|         0|         0|                      0|           0|                    0|               0|               0|        0|    0|     0|    0|      0|          0|                  0|          0|        0|                     0|    0|            0|     0|                0|       0|                   0|       0|     0|          0|          0|         0|       0|               0|          0|            0|          0|        0|                0|            0|         0|    0|        0|       0|              0|           0|            0|           0|              0|          0|      0|        0|              0|     0|         0|          0|                  0|         0|          0|       0|    0|            0|           0|       0|         0|     0|     0|          0|                     0|          0|       0|       0|                0|            0|           0|              0|         0|        0|     0|           0|    0|               0|          0|      0|   0|          0|         0|          1|                     0|                         1|                0|     0|        0|      0|                  0|          0|        0|             0|          1|                0|        0|    0|    0|         0|          0|             0|                0|                        0|                  1|                       0|                     0|                      0|                      0|                 1|      0|                   0|   0|       0|       0|     0|      0|    0|       0|     0|      0|     0|     0|     0|        0|  0|    0|      0|        0|    0|     0|     0|        0|       Golden Garden|  4.0|\n",
            "|IiatvDg0R1qwPtKPm...|          0|           0|     0|      0|       0|              0|                      0|      0|       0|         0|                    0|            0|          0|      0|        0|           0|        0|    0|               0|    0|        0|            0|       0|              0|       0|         0|                  0|         0|        0|       0|          0|       0|       0|       0|       0|     0|         0|            0|         0|         0|         0|       0|        0|            0|            0|            0|             0|       1|                    0|             0|            0|                 0|            0|                  0|                   0|             0|         0|     0|        0|            0|     0|           0|     0|        0|       0|      0|              0|         0|                   0|         0|      0|          0|             0|         0|           0|                         0|       0|              0|     0|         0|        0|            0|                     0|        0|               0|    0|          0|                      0|           0|           0|      0|                0|            0|          0|        0|      0|      0|           0|    0|            0|     0|       0|    0|       0|     0|        0|                0|              0|                  0|                    0|        0|       0|      0|               0|       0|                         0|             0|      0|          0|                 0|                     0|     0|         0|       0|        0|              0|            0|       0|                      0|       0|     0|               0|      0|      0|       0|              0|             0|            0|              0|       0|         0|          0|             0|       0|              0|               0|         0|        0|       0|            0|                   0|         0|       0|             0|              0|           0|         0|         0|                      0|           0|                    0|               0|               0|        0|    0|     0|    0|      0|          0|                  0|          0|        0|                     0|    0|            0|     0|                0|       0|                   0|       0|     0|          0|          0|         0|       0|               0|          0|            0|          0|        0|                0|            0|         0|    0|        0|       0|              0|           0|            0|           0|              0|          0|      0|        0|              0|     0|         0|          0|                  0|         0|          0|       0|    0|            0|           0|       0|         0|     0|     0|          0|                     0|          0|       0|       0|                0|            0|           0|              0|         0|        0|     0|           0|    0|               0|          0|      0|   0|          0|         0|          1|                     0|                         1|                0|     0|        0|      0|                  0|          0|        0|             0|          1|                0|        0|    1|    0|         0|          0|             0|                0|                        0|                  1|                       1|                     0|                      0|                      0|                 1|      0|                   0|   0|       0|       0|     0|      0|    0|       0|     0|      0|     0|     0|     0|        0|  0|    0|      0|        0|    0|     0|     0|        0|Panda Pavilion of...|  4.0|\n",
            "|2fJ-WxJlUN6azp3bz...|          0|           0|     0|      0|       0|              0|                      0|      0|       0|         0|                    0|            0|          0|      0|        0|           0|        0|    0|               0|    0|        0|            0|       0|              0|       0|         0|                  0|         0|        0|       0|          0|       0|       0|       0|       0|     0|         0|            0|         0|         0|         0|       0|        0|            0|            0|            0|             0|       1|                    0|             0|            0|                 0|            0|                  0|                   0|             0|         0|     0|        0|            0|     0|           0|     0|        0|       0|      0|              0|         0|                   0|         0|      0|          0|             0|         0|           0|                         0|       0|              0|     0|         0|        0|            0|                     0|        0|               0|    0|          0|                      0|           0|           0|      0|                0|            0|          0|        0|      0|      0|           0|    0|            0|     0|       0|    0|       0|     0|        0|                0|              0|                  0|                    0|        0|       0|      0|               0|       0|                         0|             0|      0|          0|                 0|                     0|     0|         0|       0|        0|              0|            0|       0|                      0|       0|     0|               0|      0|      0|       0|              0|             0|            0|              0|       0|         0|          0|             0|       0|              0|               0|         0|        0|       0|            0|                   0|         0|       0|             0|              0|           0|         0|         0|                      0|           0|                    0|               0|               0|        0|    0|     0|    0|      0|          0|                  0|          0|        0|                     0|    0|            0|     0|                0|       0|                   0|       0|     0|          0|          0|         0|       0|               0|          0|            0|          0|        0|                0|            0|         0|    0|        0|       0|              0|           0|            0|           0|              0|          0|      0|        0|              0|     0|         0|          0|                  0|         0|          0|       0|    0|            0|           0|       0|         0|     0|     0|          0|                     0|          1|       0|       0|                0|            0|           0|              0|         0|        0|     0|           0|    0|               0|          0|      0|   0|          0|         0|          1|                     0|                         0|                0|     0|        0|      0|                  0|          0|        0|             0|          1|                0|        0|    0|    0|         0|          0|             0|                0|                        0|                  1|                       1|                     0|                      0|                      1|                 1|      0|                   0|   0|       0|       0|     0|      0|    0|       0|     0|      0|     0|     0|     0|        0|  0|    0|      0|        0|    0|     0|     0|        0|              Pho Ha|  4.0|\n",
            "|U3cgoW533NMhBthVO...|          0|           0|     0|      0|       0|              0|                      1|      0|       0|         0|                    0|            0|          0|      0|        0|           0|        0|    1|               0|    0|        0|            0|       0|              0|       0|         0|                  0|         0|        0|       0|          0|       0|       0|       0|       0|     0|         0|            0|         0|         0|         0|       0|        0|            0|            0|            0|             0|       0|                    0|             0|            0|                 0|            0|                  0|                   0|             0|         0|     0|        0|            0|     0|           0|     0|        0|       0|      0|              0|         0|                   0|         0|      0|          0|             0|         0|           0|                         0|       0|              0|     0|         0|        0|            0|                     0|        0|               0|    0|          0|                      0|           0|           0|      0|                0|            0|          0|        0|      0|      0|           0|    0|            0|     0|       0|    0|       0|     0|        0|                0|              0|                  0|                    0|        0|       0|      0|               0|       0|                         0|             0|      0|          0|                 0|                     0|     0|         0|       0|        0|              0|            0|       0|                      0|       0|     0|               0|      0|      0|       0|              0|             0|            0|              0|       0|         0|          0|             0|       0|              0|               0|         0|        0|       0|            0|                   0|         1|       0|             0|              0|           0|         0|         0|                      0|           0|                    0|               0|               0|        0|    1|     0|    0|      0|          0|                  0|          0|        0|                     0|    1|            0|     0|                0|       0|                   0|       0|     0|          0|          0|         0|       0|               0|          0|            0|          0|        0|                0|            0|         0|    0|        0|       0|              0|           0|            0|           0|              0|          0|      0|        0|              0|     0|         0|          0|                  0|         0|          0|       0|    0|            0|           0|       0|         0|     0|     0|          0|                     0|          0|       0|       0|                0|            0|           0|              0|         0|        0|     0|           0|    0|               0|          0|      1|   0|          0|         0|          1|                     0|                         1|                0|     0|        0|      0|                  0|          0|        0|             0|          1|                0|        1|    1|    0|         0|          0|             0|                0|                        0|                  0|                       1|                     0|                      0|                      1|                 1|      0|                   1|   0|       0|       0|     0|      0|    0|       0|     0|      0|     0|     0|     0|        0|  0|    0|      0|        0|    0|     0|     0|        0|     Langhorne Hotel|  4.0|\n",
            "|peg-QfuNihvtk4P1j...|          0|           0|     0|      0|       0|              0|                      0|      0|       0|         0|                    0|            0|          0|      0|        0|           0|        0|    0|               0|    0|        0|            0|       0|              0|       0|         0|                  0|         0|        0|       0|          0|       0|       0|       0|       0|     0|         0|            0|         0|         0|         0|       0|        0|            0|            0|            0|             0|       0|                    0|             0|            0|                 0|            0|                  1|                   0|             0|         0|     0|        0|            0|     0|           0|     1|        0|       0|      0|              0|         0|                   0|         0|      0|          0|             0|         0|           0|                         0|       0|              0|     0|         0|        0|            0|                     0|        0|               0|    1|          0|                      0|           0|           0|      0|                0|            0|          0|        0|      0|      0|           0|    0|            0|     0|       1|    0|       0|     0|        0|                0|              0|                  0|                    0|        0|       0|      0|               0|       0|                         0|             0|      0|          0|                 0|                     0|     0|         0|       0|        0|              0|            0|       0|                      0|       0|     0|               0|      0|      0|       0|              0|             0|            0|              0|       0|         0|          0|             0|       0|              0|               0|         0|        0|       0|            0|                   0|         0|       0|             0|              0|           0|         0|         0|                      0|           0|                    0|               0|               0|        0|    0|     0|    0|      0|          0|                  0|          0|        0|                     0|    0|            0|     0|                0|       0|                   0|       0|     0|          0|          0|         0|       0|               0|          0|            0|          0|        0|                0|            0|         0|    0|        0|       0|              0|           0|            0|           0|              0|          0|      0|        0|              0|     0|         0|          0|                  0|         0|          0|       0|    0|            0|           0|       0|         0|     0|     0|          0|                     0|          0|       0|       0|                0|            0|           0|              0|         0|        0|     0|           0|    0|               0|          0|      0|   0|          0|         0|          1|                     0|                         1|                0|     1|        0|      0|                  0|          0|        0|             0|          1|                0|        0|    0|    0|         0|          0|             1|                0|                        0|                  1|                       0|                     0|                      0|                      0|                 1|      0|                   0|   0|       0|       0|     0|      0|    0|       0|     0|      0|     0|     0|     0|        0|  0|    0|      0|        0|    0|     0|     0|        0|Old Nelson Food C...|  4.0|\n",
            "|4AuBXliaKg3bDKVaa...|          0|           0|     0|      0|       0|              0|                      0|      0|       0|         0|                    0|            0|          0|      0|        0|           0|        0|    0|               0|    0|        0|            0|       0|              0|       0|         0|                  0|         0|        0|       0|          0|       0|       0|       0|       0|     0|         0|            0|         0|         0|         0|       0|        0|            0|            0|            0|             0|       1|                    0|             0|            0|                 0|            0|                  0|                   0|             0|         0|     0|        0|            0|     0|           0|     0|        0|       0|      0|              0|         0|                   0|         0|      0|          0|             0|         0|           0|                         0|       0|              0|     0|         1|        0|            0|                     0|        0|               0|    0|          0|                      0|           0|           0|      0|                0|            0|          0|        0|      0|      0|           0|    0|            0|     0|       0|    0|       0|     0|        0|                0|              0|                  0|                    0|        0|       0|      0|               0|       0|                         0|             0|      0|          0|                 0|                     0|     0|         0|       0|        0|              0|            0|       0|                      0|       0|     0|               0|      0|      0|       0|              0|             0|            0|              0|       0|         0|          0|             0|       0|              0|               0|         0|        0|       0|            0|                   0|         0|       0|             0|              0|           0|         0|         0|                      0|           0|                    0|               0|               0|        0|    0|     0|    0|      0|          0|                  0|          0|        0|                     0|    0|            0|     0|                0|       0|                   0|       0|     0|          0|          0|         0|       0|               0|          0|            0|          0|        0|                0|            0|         0|    0|        0|       0|              0|           0|            0|           0|              0|          0|      0|        0|              0|     0|         0|          0|                  0|         0|          0|       0|    0|            0|           0|       0|         0|     0|     0|          0|                     0|          0|       0|       0|                0|            0|           0|              0|         0|        0|     0|           0|    0|               0|          0|      0|   0|          0|         0|          1|                     0|                         1|                0|     1|        0|      0|                  0|          0|        0|             0|          1|                0|        0|    1|    0|         0|          0|             0|                0|                        0|                  1|                       1|                     0|                      0|                      0|                 1|      0|                   0|   0|       0|       0|     0|      0|    0|       0|     0|      0|     0|     0|     0|        0|  0|    0|      0|        0|    0|     0|     0|        0|       Panda Express|  3.0|\n",
            "|2PwFAmpkrHvQwdIu6...|          0|           0|     0|      0|       0|              0|                      0|      0|       0|         0|                    0|            0|          0|      0|        0|           0|        0|    0|               0|    0|        0|            0|       0|              0|       0|         0|                  0|         0|        0|       0|          0|       0|       0|       0|       0|     0|         0|            0|         0|         0|         0|       0|        0|            0|            0|            0|             0|       0|                    0|             0|            0|                 0|            0|                  0|                   0|             0|         0|     0|        0|            0|     0|           0|     1|        0|       0|      0|              0|         0|                   0|         0|      0|          0|             0|         0|           0|                         0|       0|              0|     0|         0|        0|            0|                     0|        0|               0|    0|          0|                      0|           0|           0|      0|                0|            0|          0|        0|      0|      0|           0|    0|            0|     0|       0|    0|       0|     0|        0|                0|              0|                  0|                    0|        0|       0|      0|               0|       0|                         0|             0|      0|          0|                 0|                     0|     0|         0|       0|        0|              0|            0|       0|                      0|       0|     0|               0|      0|      0|       0|              0|             0|            0|              0|       0|         0|          0|             0|       0|              0|               0|         0|        0|       0|            0|                   0|         0|       0|             0|              0|           0|         0|         0|                      0|           0|                    0|               0|               0|        0|    0|     0|    0|      0|          0|                  0|          0|        0|                     0|    0|            0|     0|                0|       0|                   0|       0|     0|          0|          1|         0|       0|               0|          0|            0|          0|        0|                0|            0|         0|    0|        0|       0|              0|           0|            0|           1|              0|          0|      0|        0|              0|     0|         0|          0|                  0|         0|          0|       0|    0|            0|           0|       0|         0|     0|     0|          0|                     0|          0|       0|       0|                0|            0|           0|              0|         0|        0|     0|           0|    0|               0|          0|      0|   0|          0|         0|          0|                     0|                         0|                0|     0|        0|      0|                  0|          0|        0|             0|          0|                0|        0|    1|    0|         0|          0|             0|                0|                        0|                  0|                       1|                     0|                      0|                      0|                 1|      0|                   0|   0|       0|       0|     0|      0|    0|       0|     0|      0|     0|     0|     0|        0|  0|    0|      0|        0|    0|     0|     0|        0|Liberty Steaks & ...|  3.0|\n",
            "|LEUrvUGgG-04Dk30M...|          0|           0|     0|      0|       0|              0|                      0|      0|       0|         0|                    0|            0|          0|      0|        0|           0|        0|    0|               0|    0|        0|            0|       0|              0|       0|         0|                  0|         0|        0|       0|          0|       0|       0|       0|       0|     0|         0|            0|         0|         0|         0|       0|        0|            0|            0|            0|             0|       0|                    0|             0|            1|                 0|            0|                  0|                   0|             0|         0|     0|        0|            0|     0|           0|     0|        0|       0|      0|              0|         0|                   0|         0|      1|          0|             0|         0|           0|                         0|       0|              0|     0|         0|        0|            0|                     0|        0|               0|    1|          0|                      0|           0|           0|      0|                0|            0|          0|        0|      0|      0|           0|    0|            0|     0|       0|    0|       0|     0|        0|                0|              0|                  0|                    0|        0|       0|      0|               0|       0|                         0|             0|      0|          0|                 0|                     0|     0|         0|       0|        0|              0|            0|       0|                      0|       0|     0|               0|      0|      0|       0|              0|             0|            0|              0|       0|         0|          0|             0|       0|              0|               0|         0|        0|       0|            0|                   0|         0|       0|             0|              0|           0|         0|         0|                      0|           0|                    0|               0|               0|        0|    0|     0|    0|      0|          0|                  0|          0|        0|                     0|    0|            0|     0|                0|       0|                   0|       0|     0|          0|          0|         0|       0|               0|          0|            0|          0|        0|                0|            0|         0|    0|        0|       0|              0|           0|            0|           0|              0|          0|      0|        0|              0|     0|         0|          0|                  0|         0|          0|       0|    0|            0|           0|       0|         0|     0|     0|          0|                     0|          0|       0|       0|                0|            0|           0|              0|         0|        0|     0|           0|    0|               0|          0|      0|   0|          0|         0|          0|                     0|                         1|                0|     0|        0|      0|                  0|          0|        0|             0|          0|                0|        0|    0|    0|         0|          0|             0|                0|                        0|                  1|                       0|                     0|                      0|                      0|                 1|      0|                   0|   0|       0|       0|     0|      0|    0|       0|     0|      0|     0|     0|     0|        0|  0|    0|      0|        0|    0|     0|     0|        0|             Dunkin'|  3.0|\n",
            "|SzIxeQzrATYbL8IFj...|          0|           0|     0|      0|       0|              0|                      0|      0|       0|         0|                    0|            0|          0|      0|        0|           0|        0|    0|               0|    0|        0|            0|       0|              0|       0|         0|                  0|         0|        0|       0|          0|       0|       0|       0|       0|     0|         0|            0|         0|         0|         0|       0|        0|            0|            0|            0|             0|       0|                    0|             0|            0|                 0|            0|                  0|                   0|             0|         0|     0|        0|            0|     0|           0|     0|        0|       0|      0|              0|         0|                   0|         0|      0|          0|             0|         0|           0|                         0|       0|              0|     0|         0|        0|            0|                     0|        0|               0|    0|          0|                      0|           0|           0|      0|                0|            0|          0|        0|      0|      0|           0|    0|            0|     0|       0|    0|       0|     0|        0|                0|              0|                  0|                    0|        0|       0|      0|               0|       0|                         0|             0|      0|          0|                 0|                     0|     0|         0|       0|        0|              0|            0|       0|                      0|       0|     0|               0|      0|      0|       0|              0|             0|            0|              0|       0|         0|          0|             0|       0|              0|               0|         0|        0|       0|            0|                   0|         0|       0|             0|              0|           0|         0|         0|                      0|           0|                    0|               0|               0|        0|    0|     1|    0|      0|          0|                  0|          0|        0|                     0|    0|            0|     0|                0|       0|                   0|       0|     0|          0|          0|         0|       0|               0|          0|            0|          0|        0|                0|            0|         0|    0|        0|       0|              0|           0|            0|           0|              0|          0|      0|        0|              0|     0|         0|          0|                  0|         0|          0|       0|    0|            0|           0|       0|         0|     0|     0|          0|                     0|          0|       0|       0|                0|            0|           0|              0|         0|        0|     0|           0|    0|               0|          0|      0|   0|          0|         0|          0|                     0|                         0|                0|     0|        0|      0|                  0|          0|        0|             0|          0|                0|        0|    0|    0|         0|          0|             0|                0|                        0|                  1|                       0|                     0|                      0|                      0|                 1|      0|                   0|   0|       0|       0|     0|      0|    0|       0|     0|      0|     0|     0|     0|        0|  0|    0|      0|        0|    0|     0|     0|        0|Porfirio’s Pizza ...|  4.0|\n",
            "|l9eLGG9ZKpLJzboZq...|          0|           0|     0|      0|       0|              0|                      0|      0|       0|         0|                    0|            0|          0|      0|        0|           0|        0|    0|               0|    0|        0|            0|       0|              0|       0|         0|                  0|         0|        0|       0|          0|       0|       0|       0|       0|     0|         0|            0|         0|         0|         0|       0|        0|            0|            0|            0|             0|       0|                    0|             0|            1|                 0|            0|                  1|                   0|             0|         0|     0|        0|            0|     0|           0|     0|        0|       0|      0|              0|         0|                   0|         0|      0|          0|             0|         0|           0|                         0|       0|              0|     0|         0|        0|            0|                     0|        0|               0|    1|          0|                      0|           0|           0|      0|                0|            0|          0|        0|      0|      0|           0|    0|            0|     0|       0|    0|       0|     0|        0|                0|              0|                  0|                    0|        0|       0|      0|               0|       0|                         0|             0|      0|          0|                 0|                     0|     0|         0|       0|        0|              0|            0|       0|                      0|       0|     0|               0|      0|      0|       0|              0|             0|            0|              0|       0|         0|          0|             0|       0|              0|               0|         0|        0|       0|            0|                   0|         0|       0|             0|              0|           0|         0|         0|                      0|           0|                    0|               0|               0|        0|    0|     0|    0|      0|          0|                  0|          0|        0|                     0|    0|            0|     0|                0|       0|                   0|       0|     0|          0|          1|         0|       0|               0|          0|            0|          0|        0|                0|            0|         0|    0|        0|       0|              0|           0|            0|           0|              0|          0|      0|        0|              0|     0|         0|          0|                  0|         0|          0|       0|    0|            0|           0|       0|         0|     0|     0|          0|                     0|          0|       0|       0|                0|            0|           0|              0|         0|        0|     0|           0|    0|               0|          0|      0|   0|          0|         0|          1|                     0|                         1|                0|     1|        0|      0|                  0|          0|        0|             0|          0|                0|        0|    0|    0|         0|          0|             0|                0|                        0|                  1|                       0|                     0|                      0|                      0|                 1|      0|                   0|   0|       0|       0|     0|      0|    0|       0|     0|      0|     0|     0|     0|        0|  0|    0|      0|        0|    0|     0|     0|        0|                Wawa|  3.0|\n",
            "|YPnksHT2DQA0AhcxP...|          0|           0|     0|      0|       0|              0|                      0|      0|       0|         0|                    0|            0|          0|      0|        1|           0|        0|    0|               0|    0|        0|            0|       0|              0|       0|         0|                  0|         0|        0|       0|          0|       0|       0|       0|       0|     1|         0|            0|         0|         0|         0|       0|        0|            0|            0|            0|             0|       0|                    0|             0|            0|                 0|            0|                  0|                   0|             0|         0|     0|        0|            0|     0|           0|     0|        0|       0|      0|              0|         0|                   0|         0|      0|          0|             0|         0|           0|                         0|       0|              0|     0|         0|        0|            0|                     0|        0|               0|    1|          0|                      0|           0|           0|      0|                0|            0|          0|        0|      0|      0|           0|    0|            0|     0|       0|    0|       0|     0|        0|                0|              0|                  0|                    0|        0|       0|      0|               0|       0|                         0|             0|      0|          0|                 0|                     0|     0|         0|       1|        0|              0|            0|       0|                      0|       0|     0|               0|      0|      0|       0|              0|             0|            0|              0|       0|         0|          0|             0|       0|              0|               0|         0|        0|       0|            0|                   0|         0|       0|             0|              0|           0|         0|         0|                      0|           0|                    0|               0|               0|        0|    0|     0|    0|      0|          0|                  0|          0|        0|                     0|    0|            0|     0|                0|       0|                   0|       0|     0|          0|          0|         0|       0|               0|          0|            0|          0|        0|                0|            0|         0|    0|        0|       0|              0|           0|            0|           0|              0|          0|      0|        0|              0|     0|         0|          0|                  0|         0|          0|       0|    0|            0|           0|       0|         0|     0|     0|          0|                     0|          0|       0|       0|                0|            0|           0|              0|         0|        0|     0|           0|    0|               0|          0|      0|   0|          0|         0|          0|                     0|                         1|                0|     1|        0|      0|                  0|          0|        0|             0|          1|                0|        0|    1|    0|         0|          0|             0|                0|                        0|                  1|                       1|                     0|                      0|                      0|                 1|      0|                   0|   0|       0|       0|     0|      0|    0|       0|     0|      0|     0|     0|     0|        0|  0|    0|      0|        0|    0|     0|     0|        0|       Corner Bakery|  4.0|\n",
            "|XT1xF_7s3bJdm2UOr...|          0|           0|     0|      0|       0|              0|                      0|      0|       0|         0|                    0|            0|          0|      0|        0|           0|        0|    0|               0|    0|        0|            0|       0|              0|       0|         0|                  0|         0|        0|       0|          0|       0|       0|       0|       0|     0|         0|            0|         0|         0|         0|       0|        0|            0|            0|            0|             0|       0|                    0|             0|            0|                 0|            0|                  0|                   0|             0|         0|     0|        0|            0|     0|           0|     0|        0|       0|      0|              0|         0|                   0|         0|      0|          0|             0|         0|           1|                         0|       0|              0|     0|         0|        0|            0|                     0|        0|               0|    1|          0|                      0|           0|           0|      0|                0|            0|          0|        0|      0|      0|           1|    0|            0|     0|       0|    0|       0|     1|        0|                0|              0|                  0|                    0|        0|       0|      0|               0|       0|                         0|             1|      0|          0|                 0|                     0|     0|         0|       0|        0|              0|            0|       0|                      0|       0|     0|               0|      0|      0|       0|              0|             0|            0|              0|       0|         0|          0|             0|       0|              1|               0|         0|        0|       0|            0|                   0|         0|       0|             0|              0|           0|         0|         0|                      0|           0|                    0|               0|               0|        0|    0|     0|    0|      0|          0|                  0|          0|        0|                     0|    0|            0|     0|                0|       0|                   0|       0|     0|          0|          0|         0|       0|               0|          0|            0|          0|        0|                0|            0|         0|    0|        0|       0|              1|           0|            0|           0|              1|          0|      0|        0|              0|     0|         0|          0|                  0|         0|          0|       0|    0|            0|           0|       0|         0|     0|     0|          0|                     0|          0|       0|       0|                0|            0|           0|              0|         0|        0|     0|           0|    0|               0|          0|      0|   0|          0|         0|          1|                     0|                         0|                0|     0|        0|      0|                  0|          0|        0|             0|          1|                0|        0|    1|    0|         0|          0|             0|                0|                        0|                  0|                       0|                     0|                      0|                      0|                 1|      0|                   0|   0|       0|       0|     0|      0|    0|       0|     0|      0|     0|     0|     0|        0|  0|    0|      0|        0|    0|     0|     0|        0|  Halal Gyro Express|  5.0|\n",
            "|a0ndB5JL9ZMPaIb5S...|          0|           0|     0|      0|       0|              0|                      1|      0|       0|         0|                    0|            0|          0|      0|        0|           0|        0|    0|               0|    0|        0|            0|       0|              0|       0|         0|                  1|         0|        0|       0|          0|       0|       0|       0|       0|     0|         0|            0|         0|         0|         0|       0|        0|            0|            1|            0|             0|       0|                    0|             0|            0|                 0|            0|                  0|                   0|             0|         0|     0|        0|            0|     0|           0|     1|        0|       0|      0|              0|         0|                   0|         0|      0|          0|             0|         0|           0|                         0|       0|              0|     0|         0|        0|            0|                     0|        0|               0|    0|          0|                      0|           0|           0|      0|                0|            0|          0|        0|      0|      0|           0|    0|            0|     0|       0|    0|       0|     0|        0|                0|              0|                  0|                    0|        0|       0|      0|               0|       0|                         0|             0|      0|          0|                 0|                     0|     0|         0|       0|        0|              0|            0|       0|                      0|       0|     0|               0|      0|      0|       0|              0|             0|            0|              0|       0|         0|          0|             0|       0|              0|               0|         0|        0|       0|            0|                   0|         0|       0|             0|              0|           0|         0|         0|                      0|           0|                    0|               0|               0|        0|    0|     0|    0|      0|          0|                  0|          0|        0|                     0|    0|            0|     0|                0|       0|                   0|       0|     0|          0|          1|         0|       1|               0|          0|            0|          0|        0|                0|            0|         0|    0|        0|       0|              0|           0|            0|           0|              0|          0|      0|        0|              0|     0|         0|          0|                  0|         0|          0|       0|    0|            0|           0|       0|         0|     0|     0|          0|                     0|          0|       0|       0|                0|            0|           0|              0|         0|        0|     0|           0|    0|               0|          0|      0|   0|          0|         0|          1|                     1|                         1|                0|     1|        0|      0|                  0|          0|        0|             0|          1|                0|        0|    1|    0|         0|          0|             1|                0|                        0|                  1|                       0|                     0|                      0|                      0|                 1|      0|                   0|   0|       0|       0|     0|      0|    0|       0|     0|      0|     0|     0|     0|        0|  0|    0|      0|        0|    0|     0|     0|        0|Lorenzo's Steaks ...|  4.0|\n",
            "|G0Fhi9lh1sSZSSPuX...|          0|           0|     0|      0|       0|              1|                      0|      0|       0|         0|                    0|            0|          0|      0|        0|           0|        0|    1|               0|    0|        0|            0|       0|              0|       0|         0|                  0|         0|        0|       0|          0|       0|       0|       0|       0|     0|         0|            0|         0|         0|         0|       0|        0|            0|            0|            0|             0|       0|                    0|             0|            0|                 0|            0|                  0|                   0|             0|         0|     0|        0|            0|     0|           0|     0|        0|       0|      0|              0|         0|                   0|         0|      0|          0|             0|         0|           0|                         0|       0|              0|     0|         0|        0|            0|                     0|        0|               0|    0|          0|                      0|           0|           0|      0|                0|            0|          0|        0|      0|      0|           0|    0|            0|     0|       0|    0|       0|     0|        0|                0|              0|                  0|                    0|        0|       0|      0|               0|       0|                         0|             0|      0|          0|                 0|                     0|     0|         0|       0|        0|              0|            0|       0|                      0|       0|     0|               0|      0|      0|       0|              0|             0|            0|              0|       0|         0|          0|             0|       0|              0|               0|         0|        0|       0|            0|                   0|         1|       0|             0|              0|           0|         0|         0|                      0|           0|                    0|               0|               0|        0|    0|     0|    0|      0|          0|                  0|          0|        0|                     0|    0|            0|     0|                0|       0|                   0|       0|     0|          0|          0|         0|       0|               0|          0|            0|          0|        0|                0|            0|         0|    0|        0|       0|              0|           0|            0|           0|              0|          0|      0|        0|              0|     0|         0|          0|                  0|         0|          0|       0|    0|            0|           0|       0|         0|     0|     0|          0|                     0|          0|       0|       0|                0|            0|           0|              0|         1|        0|     0|           0|    0|               0|          0|      1|   0|          0|         0|          0|                     0|                         1|                0|     1|        0|      0|                  0|          1|        0|             0|          1|                0|        1|    1|    0|         0|          0|             1|                0|                        0|                  1|                       1|                     0|                      1|                      1|                 1|      0|                   1|   0|       0|       0|     0|      0|    0|       0|     0|      0|     0|     0|     0|        0|  0|    0|      0|        0|    0|     0|     0|        0|Harvest Seasonal ...|  4.0|\n",
            "|jYi4Gy91Mmhq7WzGc...|          0|           0|     0|      0|       0|              0|                      0|      0|       0|         0|                    0|            0|          0|      0|        0|           0|        0|    0|               0|    0|        0|            0|       0|              0|       0|         0|                  0|         0|        0|       0|          0|       0|       0|       0|       0|     0|         0|            0|         0|         0|         0|       0|        0|            0|            0|            0|             0|       0|                    0|             0|            0|                 0|            0|                  0|                   0|             0|         0|     0|        0|            0|     0|           0|     0|        0|       0|      0|              0|         0|                   0|         0|      0|          0|             0|         0|           0|                         0|       0|              0|     0|         0|        0|            0|                     0|        0|               0|    0|          0|                      0|           0|           0|      0|                0|            0|          0|        0|      0|      0|           0|    0|            0|     0|       0|    0|       0|     0|        0|                0|              0|                  0|                    0|        0|       0|      0|               0|       0|                         0|             0|      0|          0|                 0|                     0|     0|         0|       0|        0|              0|            0|       0|                      0|       0|     0|               0|      0|      0|       0|              0|             0|            0|              0|       0|         0|          0|             0|       0|              0|               0|         0|        0|       0|            0|                   0|         0|       0|             0|              0|           0|         0|         0|                      0|           0|                    0|               0|               0|        0|    0|     1|    0|      0|          0|                  0|          0|        0|                     0|    0|            0|     0|                0|       0|                   0|       0|     0|          0|          0|         0|       0|               0|          0|            0|          0|        0|                0|            0|         0|    0|        0|       0|              0|           0|            0|           0|              0|          0|      0|        0|              0|     0|         0|          0|                  0|         0|          0|       0|    0|            0|           0|       0|         0|     0|     0|          0|                     0|          0|       0|       0|                0|            0|           0|              0|         0|        0|     0|           0|    0|               0|          0|      0|   0|          0|         0|          0|                     0|                         1|                0|     0|        0|      0|                  0|          0|        0|             0|          0|                0|        0|    1|    0|         0|          0|             0|                0|                        0|                  0|                       1|                     0|                      0|                      0|                 1|      0|                   1|   0|       0|       0|     0|      0|    0|       0|     0|      0|     0|     0|     0|        0|  0|    0|      0|        0|    0|     0|     0|        0|       Yunique Pizza|  4.0|\n",
            "+--------------------+-----------+------------+------+-------+--------+---------------+-----------------------+-------+--------+----------+---------------------+-------------+-----------+-------+---------+------------+---------+-----+----------------+-----+---------+-------------+--------+---------------+--------+----------+-------------------+----------+---------+--------+-----------+--------+--------+--------+--------+------+----------+-------------+----------+----------+----------+--------+---------+-------------+-------------+-------------+--------------+--------+---------------------+--------------+-------------+------------------+-------------+-------------------+--------------------+--------------+----------+------+---------+-------------+------+------------+------+---------+--------+-------+---------------+----------+--------------------+----------+-------+-----------+--------------+----------+------------+--------------------------+--------+---------------+------+----------+---------+-------------+----------------------+---------+----------------+-----+-----------+-----------------------+------------+------------+-------+-----------------+-------------+-----------+---------+-------+-------+------------+-----+-------------+------+--------+-----+--------+------+---------+-----------------+---------------+-------------------+---------------------+---------+--------+-------+----------------+--------+--------------------------+--------------+-------+-----------+------------------+----------------------+------+----------+--------+---------+---------------+-------------+--------+-----------------------+--------+------+----------------+-------+-------+--------+---------------+--------------+-------------+---------------+--------+----------+-----------+--------------+--------+---------------+----------------+----------+---------+--------+-------------+--------------------+----------+--------+--------------+---------------+------------+----------+----------+-----------------------+------------+---------------------+----------------+----------------+---------+-----+------+-----+-------+-----------+-------------------+-----------+---------+----------------------+-----+-------------+------+-----------------+--------+--------------------+--------+------+-----------+-----------+----------+--------+----------------+-----------+-------------+-----------+---------+-----------------+-------------+----------+-----+---------+--------+---------------+------------+-------------+------------+---------------+-----------+-------+---------+---------------+------+----------+-----------+-------------------+----------+-----------+--------+-----+-------------+------------+--------+----------+------+------+-----------+----------------------+-----------+--------+--------+-----------------+-------------+------------+---------------+----------+---------+------+------------+-----+----------------+-----------+-------+----+-----------+----------+-----------+----------------------+--------------------------+-----------------+------+---------+-------+-------------------+-----------+---------+--------------+-----------+-----------------+---------+-----+-----+----------+-----------+--------------+-----------------+-------------------------+-------------------+------------------------+----------------------+-----------------------+-----------------------+------------------+-------+--------------------+----+--------+--------+------+-------+-----+--------+------+-------+------+------+------+---------+---+-----+-------+---------+-----+------+------+---------+--------------------+-----+\n",
            "only showing top 20 rows\n",
            "\n"
          ]
        }
      ],
      "source": [
        "df_final_spark.show()"
      ]
    },
    {
      "cell_type": "markdown",
      "metadata": {
        "id": "9_7b5zwAX7kp"
      },
      "source": [
        "Build the recomender system based on the cosine similarity in PySpark"
      ]
    },
    {
      "cell_type": "code",
      "execution_count": 70,
      "metadata": {
        "id": "G6aMA2tuYR4y"
      },
      "outputs": [],
      "source": [
        "# Exclude the 'business_id' column from df_final\n",
        "columns = [c for c in df_final_spark.columns if c != 'business_id']\n",
        "\n",
        "# Convert binary values to integers\n",
        "df_numeric = df_final_spark.select(['business_id'] + [col(c).cast('integer') for c in columns])\n",
        "\n",
        "# Fill NaN values with 0\n",
        "df_filled = df_numeric.fillna(0, subset=columns)\n",
        "\n",
        "# Use VectorAssembler to create a feature vector column\n",
        "assembler = VectorAssembler(inputCols=columns, outputCol='features')\n",
        "df_matrix = assembler.transform(df_filled).select('business_id', 'features')\n"
      ]
    },
    {
      "cell_type": "code",
      "execution_count": 71,
      "metadata": {
        "colab": {
          "base_uri": "https://localhost:8080/"
        },
        "id": "AgcNXktcZz24",
        "outputId": "d23f080f-70f3-44c3-ebf5-70873630b787"
      },
      "outputs": [
        {
          "output_type": "stream",
          "name": "stdout",
          "text": [
            "+--------------------+--------------------+\n",
            "|         business_id|            features|\n",
            "+--------------------+--------------------+\n",
            "|2UDJpaTsYHu9CXmbU...|(291,[184,241,250...|\n",
            "|lpbt16sSm4BTcfeq4...|(291,[47,241,250,...|\n",
            "|R6n618g5agn5lYIp3...|(291,[50,62,85,18...|\n",
            "|-ZzCVD9Ge7KCy4ffh...|(291,[32,85,115,2...|\n",
            "|zbYmalSB_TiWWh44M...|(291,[6,17,151,19...|\n",
            "+--------------------+--------------------+\n",
            "only showing top 5 rows\n",
            "\n"
          ]
        }
      ],
      "source": [
        "df_matrix.show(5)"
      ]
    },
    {
      "cell_type": "code",
      "execution_count": 72,
      "metadata": {
        "colab": {
          "base_uri": "https://localhost:8080/"
        },
        "id": "J4b66-ykSUhz",
        "outputId": "979a25a6-4ca6-4321-ef21-b1aac9b2200f"
      },
      "outputs": [
        {
          "output_type": "execute_result",
          "data": {
            "text/plain": [
              "2385"
            ]
          },
          "metadata": {},
          "execution_count": 72
        }
      ],
      "source": [
        "df_matrix.count()"
      ]
    },
    {
      "cell_type": "markdown",
      "metadata": {
        "id": "qJapzL2UV_kU"
      },
      "source": [
        "Experimenting the recomender system using the same restaurant of the Content based system in Pandas"
      ]
    },
    {
      "cell_type": "code",
      "execution_count": 73,
      "metadata": {
        "colab": {
          "base_uri": "https://localhost:8080/"
        },
        "id": "IZfYqUJ-t5Wa",
        "outputId": "0136000a-c681-4427-dab8-70abbdc7fbf1"
      },
      "outputs": [
        {
          "output_type": "execute_result",
          "data": {
            "text/plain": [
              "[Row(business_id='WnT9NIzQgLlILjPT0kEcsQ')]"
            ]
          },
          "metadata": {},
          "execution_count": 73
        }
      ],
      "source": [
        "restaurant_df_sel_spark.filter(col('name')=='Adelita Taqueria & Restaurant' ).select('business_id').take(1)"
      ]
    },
    {
      "cell_type": "code",
      "execution_count": 74,
      "metadata": {
        "id": "-RVE2Xc6iFDq"
      },
      "outputs": [],
      "source": [
        "ID_DEL_RISTORANTE_DI_RIFERIMENTO = 'WnT9NIzQgLlILjPT0kEcsQ'"
      ]
    },
    {
      "cell_type": "code",
      "execution_count": 75,
      "metadata": {
        "colab": {
          "base_uri": "https://localhost:8080/"
        },
        "id": "Bmem9KEFbca-",
        "outputId": "a5cd09aa-3e94-4510-9878-33d8b0e96ec5"
      },
      "outputs": [
        {
          "output_type": "stream",
          "name": "stdout",
          "text": [
            "+--------------------+--------------------+-----+\n",
            "|         business_id|                name|stars|\n",
            "+--------------------+--------------------+-----+\n",
            "|WnT9NIzQgLlILjPT0...|Adelita Taqueria ...|  4.5|\n",
            "+--------------------+--------------------+-----+\n",
            "\n"
          ]
        }
      ],
      "source": [
        "restaurant_df_sel_spark.filter(col('business_id')== ID_DEL_RISTORANTE_DI_RIFERIMENTO).show()"
      ]
    },
    {
      "cell_type": "markdown",
      "metadata": {
        "id": "E0n7K_fKWNCa"
      },
      "source": [
        "Adapting the cosine simalirity function for spark"
      ]
    },
    {
      "cell_type": "code",
      "execution_count": 76,
      "metadata": {
        "id": "lIfnIPX7je5D"
      },
      "outputs": [],
      "source": [
        "def cosine_similarity_spark(vector1, vector2):\n",
        "    vector1 = np.array(vector1).reshape(1, -1)\n",
        "    vector2 = np.array(vector2).reshape(1, -1)\n",
        "    \n",
        "    dot_product = np.dot(vector1, vector2.T)\n",
        "    norm_vector1 = np.linalg.norm(vector1)\n",
        "    norm_vector2 = np.linalg.norm(vector2)\n",
        "    \n",
        "    if norm_vector1 == 0 or norm_vector2 == 0:\n",
        "        return 0.0\n",
        "    \n",
        "    similarity = dot_product / (norm_vector1 * norm_vector2)\n",
        "    \n",
        "    # Handle cases where the similarity is slightly greater than 1 or less than -1\n",
        "    similarity = np.maximum(-1, np.minimum(1, similarity))\n",
        "    \n",
        "    return similarity\n"
      ]
    },
    {
      "cell_type": "markdown",
      "metadata": {
        "id": "flDhoBPcWcPf"
      },
      "source": [
        "Choose how many restaurant you want to recomend."
      ]
    },
    {
      "cell_type": "code",
      "execution_count": 77,
      "metadata": {
        "id": "wyhT45k3vTuq"
      },
      "outputs": [],
      "source": [
        "num_top_recom = 15"
      ]
    },
    {
      "cell_type": "markdown",
      "metadata": {
        "id": "eNHxY_xQWm8P"
      },
      "source": [
        "Calculate the similarity based on the reference business"
      ]
    },
    {
      "cell_type": "code",
      "execution_count": 78,
      "metadata": {
        "id": "_CmfOuoSs4e0"
      },
      "outputs": [],
      "source": [
        "# cosine imilarity calculation (interest restaurant,others)\n",
        "reference_business_id = ID_DEL_RISTORANTE_DI_RIFERIMENTO\n",
        "reference_restaurant = df_matrix.filter(col(\"business_id\") == reference_business_id).select(\"features\").first()[0]\n",
        "similarities = df_matrix.rdd.map(lambda row: (row.business_id, cosine_similarity_spark(reference_restaurant, row.features)))\n"
      ]
    },
    {
      "cell_type": "code",
      "execution_count": 79,
      "metadata": {
        "id": "2YDUQNDPyJ6n"
      },
      "outputs": [],
      "source": [
        "# Filters similar restaurants by excluding the reference restaurant\n",
        "similar_restaurants = similarities.filter(lambda x: x[0] != reference_business_id)\n",
        "# Sort restaurants by similarity in descending order\n",
        "similar_restaurants = similar_restaurants.sortBy(lambda x: x[1], ascending=False)"
      ]
    },
    {
      "cell_type": "code",
      "execution_count": 80,
      "metadata": {
        "id": "aP3OLDIJyOKR"
      },
      "outputs": [],
      "source": [
        "# Get the first num_top_recom similar restaurants\n",
        "similar_restaurants = similar_restaurants.take(num_top_recom)\n",
        "# Create a list of rows for the DataFrame of similar restaurants\n",
        "rows = [Row(business_id=r[0], cosine_similarity=r[1].tolist()) for r in similar_restaurants]\n",
        "# Create the DataFrame of similar restaurants\n",
        "similar_restaurants_df = spark.createDataFrame(rows)"
      ]
    },
    {
      "cell_type": "code",
      "execution_count": 81,
      "metadata": {
        "colab": {
          "base_uri": "https://localhost:8080/"
        },
        "id": "Jbx48ALpztUZ",
        "outputId": "00807743-8c81-48e1-beac-604f7355afac"
      },
      "outputs": [
        {
          "output_type": "execute_result",
          "data": {
            "text/plain": [
              "['business_id', 'cosine_similarity']"
            ]
          },
          "metadata": {},
          "execution_count": 81
        }
      ],
      "source": [
        "similar_restaurants_df.columns"
      ]
    },
    {
      "cell_type": "code",
      "execution_count": 82,
      "metadata": {
        "id": "3hWtGcA80mnu"
      },
      "outputs": [],
      "source": [
        "# Merge the DataFrame of similar restaurants with the original DataFrame to get all the information\n",
        "similar_restaurants_df = similar_restaurants_df.join(restaurant_df_sel_spark, on='business_id',how='inner')"
      ]
    },
    {
      "cell_type": "code",
      "execution_count": 83,
      "metadata": {
        "colab": {
          "base_uri": "https://localhost:8080/"
        },
        "id": "--va6-Ok0o5b",
        "outputId": "aba86ab1-b687-4f68-b6b3-6c109a82f128"
      },
      "outputs": [
        {
          "output_type": "execute_result",
          "data": {
            "text/plain": [
              "['business_id', 'cosine_similarity', 'name', 'stars']"
            ]
          },
          "metadata": {},
          "execution_count": 83
        }
      ],
      "source": [
        "similar_restaurants_df.columns"
      ]
    },
    {
      "cell_type": "markdown",
      "metadata": {
        "id": "jF-F1tvSW-Xg"
      },
      "source": [
        "Displaying the similar restaurant respect the target and ordering it in a descending manner by the cosine similarity"
      ]
    },
    {
      "cell_type": "code",
      "execution_count": 84,
      "metadata": {
        "colab": {
          "base_uri": "https://localhost:8080/"
        },
        "id": "C2nhv1M603YM",
        "outputId": "d3a9064d-0852-46c7-de8f-8946ba22e723"
      },
      "outputs": [
        {
          "output_type": "stream",
          "name": "stdout",
          "text": [
            "+----------------------+----------------------+---------------------------+-----+\n",
            "|business_id           |cosine_similarity     |name                       |stars|\n",
            "+----------------------+----------------------+---------------------------+-----+\n",
            "|F2QwLwzS3vF9os0_EBobXA|[[1.0]]               |San Antonio Mexican cousine|4.5  |\n",
            "|DwOhLOd9Say7BXn5iBKxZA|[[0.9803789354850793]]|Los Taquitos de Puebla     |3.5  |\n",
            "|EoQiJ5D-pyWczjElN24oZg|[[0.9714285714285714]]|El Primo Taqueria          |4.5  |\n",
            "|XQewVfTaosZ3U-4g_yH7Nw|[[0.9714285714285714]]|Los Cuatro Soles           |4.5  |\n",
            "|mKJ_WV7TvrjyDjmb_hUVsA|[[0.9710083124552245]]|El Limon - Bensalem        |4.5  |\n",
            "|SVf23pjKERkedqCdWl6ECA|[[0.9660917830792959]]|Teresa's Mesa              |4.0  |\n",
            "|5ItgryJvadUrKVljjJ8l4g|[[0.9660917830792959]]|Que Chula Es Puebla        |4.0  |\n",
            "|rNg75hKR0UIB5-jX5WiVQg|[[0.9660917830792959]]|Los Mariachis              |3.5  |\n",
            "|1MVMKUvZfWwIqkhxP3rYvQ|[[0.9613406389911041]]|Indian Garden              |4.0  |\n",
            "|sKUs4ISUgn3j6SeLYvSByg|[[0.9613406389911041]]|El Charro Negro            |4.0  |\n",
            "|x1CtK2qnlCr_1DJFNo1_vw|[[0.9583148474999098]]|El Limon - Norristown      |4.0  |\n",
            "|venWfi69QVylbyrvaPt0nQ|[[0.9578414886923188]]|Cafe Ynez                  |4.5  |\n",
            "|t0Qyogb4x--K9i5b0AoDCg|[[0.9578414886923188]]|Taco Maya                  |4.5  |\n",
            "|fcAaBcYFo1YqetIjs9l8Iw|[[0.9566222088265397]]|Sungate Diner              |4.5  |\n",
            "|uh-387pbyipzjCMcj5Dy6w|[[0.9566222088265397]]|Las Palmas Del Sur         |4.5  |\n",
            "+----------------------+----------------------+---------------------------+-----+\n",
            "\n"
          ]
        }
      ],
      "source": [
        "similar_restaurants_df = similar_restaurants_df.orderBy(col(\"cosine_similarity\").desc())\n",
        "# Display the entire DataFrame\n",
        "similar_restaurants_df.show(truncate=False)\n"
      ]
    },
    {
      "cell_type": "markdown",
      "metadata": {
        "id": "v4WypsEwX85B"
      },
      "source": [
        "-----------------------"
      ]
    },
    {
      "cell_type": "code",
      "execution_count": 85,
      "metadata": {
        "colab": {
          "base_uri": "https://localhost:8080/"
        },
        "id": "taw21Hb0Umhv",
        "outputId": "0df9af27-2795-4f8e-d5c1-87714461da91"
      },
      "outputs": [
        {
          "output_type": "stream",
          "name": "stdout",
          "text": [
            "+--------------------+--------------------+------------+\n",
            "|             user_id|         business_id|stars_review|\n",
            "+--------------------+--------------------+------------+\n",
            "|mh_-eMZ6K5RLWhZyI...|XQfwVwDr-v0ZS3_Cb...|         3.0|\n",
            "|OyoGAe7OKpv6SyGZT...|7ATYjTIgM3jUlt4UM...|         5.0|\n",
            "|8g_iMtfSiwikVnbP2...|YjUWPpI6HXG530lwP...|         3.0|\n",
            "|_7bHUi9Uuf5__HHc_...|kxX2SOes4o-D3ZQBk...|         5.0|\n",
            "|bcjbaE6dDog4jkNY9...|e4Vwtrqf-wpJfwesg...|         4.0|\n",
            "|eUta8W_HdHMXPzLBB...|04UD14gamNjLY0IDY...|         1.0|\n",
            "|r3zeYsv1XFBRA4dJp...|gmjsEdUsKpj9Xxu6p...|         5.0|\n",
            "|yfFzsLmaWF2d4Sr0U...|LHSTtnW3YHCeUkRDG...|         5.0|\n",
            "|wSTuiTk-sKNdcFypr...|B5XSoSG3SfvQGtKEG...|         3.0|\n",
            "|59MxRhNVhU9MYndMk...|gebiRewfieSdtt17P...|         3.0|\n",
            "|1WHRWwQmZOZDAhp2Q...|uMvVYRgGNXf5boolA...|         5.0|\n",
            "|ZbqSHbgCjzVAqaa7N...|EQ-TZ2eeD_E0BHuvo...|         4.0|\n",
            "|9OAtfnWag-ajVxRbU...|lj-E32x9_FA7GmUrB...|         4.0|\n",
            "|smOvOajNG0lS4Pq7d...|RZtGWDLCAtuipwaZ-...|         4.0|\n",
            "|4Uh27DgGzsp6PqrH9...|otQS34_MymijPTdNB...|         4.0|\n",
            "|1C2lxzUo1Hyye4RFI...|BVndHaLihEYbr76Z0...|         5.0|\n",
            "|Dd1jQj7S-BFGqRbAp...|YtSqYv1Q_pOltsVPS...|         5.0|\n",
            "|j2wlzrntrbKwyOcOi...|rBdG_23USc7DletfZ...|         4.0|\n",
            "|NDZvyYHTUWWu-kqgQ...|CLEWowfkj-wKYJlQD...|         5.0|\n",
            "|IQsF3Rc6IgCzjVV9D...|eFvzHawVJofxSnD7T...|         5.0|\n",
            "+--------------------+--------------------+------------+\n",
            "only showing top 20 rows\n",
            "\n"
          ]
        }
      ],
      "source": [
        "df_review_spark = df_review.select('user_id','business_id','stars_review')\n",
        "df_review_spark.show()"
      ]
    },
    {
      "cell_type": "code",
      "execution_count": 86,
      "metadata": {
        "colab": {
          "base_uri": "https://localhost:8080/"
        },
        "id": "lVsYFpRVVAAA",
        "outputId": "93ac6ded-4768-4582-a280-882a46b6c32f"
      },
      "outputs": [
        {
          "output_type": "stream",
          "name": "stdout",
          "text": [
            "+--------------------+--------------------+--------------------+\n",
            "|         business_id|                name|             address|\n",
            "+--------------------+--------------------+--------------------+\n",
            "|MTSW4McQd7CbVtyjq...|  St Honore Pastries|         935 Race St|\n",
            "|ABxoFuzZy5mqQ8C5F...|        Core de Roma|    201 Jefferson St|\n",
            "|ppFCk9aQkM338Rgwp...|                Wawa|    3604 Chestnut St|\n",
            "|3BJxm-HnvzdwD1zjm...|Golden Chopstick ...|1800 Spring Garde...|\n",
            "|pmuuoDqNZp7518AUd...|Bagelicious - Kin...|    216 W Beidler Rd|\n",
            "|bTve2mwLk5Zc01vRK...|Red Hook Coffee &...|        765 S 4th St|\n",
            "|aNXw3PkXVt8ANwLyC...|          McDonald's|       2333 Welsh Rd|\n",
            "|GVqXNt0HKJLpciN9e...| Crown Fried Chicken|     1128 S Broad St|\n",
            "|dChRGpit9fM_kZK5p...|            The Love|       130 S 18th St|\n",
            "|CPgWuWGZ4v2sZr5_-...|            Checkers|       1208 N. Broad|\n",
            "|yFqq66GxRjnhZXPgj...|                 KFC|       716 Adams Ave|\n",
            "|0l_njS4wGMadAk1b4...|        Panera Bread|    150 Allendale Rd|\n",
            "|kGjpBqAqG4mIuFSgU...|The Royal Indian ...|       272 S 20th St|\n",
            "|kLSEk3qXY1KdtFjxH...|          McDonald's|501 Franklin Mill...|\n",
            "|dBCNUSbz5-8nQNrxW...|Blue Sage Vegetar...|     727 2nd St Pike|\n",
            "|kq5Ghhh14r-eCxlVm...|   The Coventry Deli|      2000 Market St|\n",
            "|K5ffo0hkwhG33BDNQ...|Slate Bleu Restau...|       100 S Main St|\n",
            "|HuDNHqKv9n1mWpe4B...|         Minas Pizza|      6151 Ridge Ave|\n",
            "|7utsfp2dXJ09j8Gb9...|      Suzy-Jo Donuts|         49 E 4th St|\n",
            "|joeRm-_7T0XTkMdKo...|    Paola's Pizzeria|     128 N Wayne Ave|\n",
            "+--------------------+--------------------+--------------------+\n",
            "only showing top 20 rows\n",
            "\n"
          ]
        }
      ],
      "source": [
        "df_business_spark = df_business_spark.select('business_id', 'name', 'address')\n",
        "df_business_spark.show()"
      ]
    },
    {
      "cell_type": "markdown",
      "metadata": {
        "id": "AgTY3ku98btq"
      },
      "source": [
        "# Collaborative filtering with ALS ml library"
      ]
    },
    {
      "cell_type": "code",
      "execution_count": 87,
      "metadata": {
        "id": "O_gN20e9hg-x"
      },
      "outputs": [],
      "source": [
        "#converto prima user_id in numeri\n",
        "from pyspark.ml.feature import StringIndexer\n",
        "\n",
        "# Create a StringIndexer transformer\n",
        "indexer = StringIndexer(inputCol=\"user_id\", outputCol=\"user_id_index\")\n",
        "\n",
        "# Fit the indexer on the df_Review_spark DataFrame\n",
        "indexer_model = indexer.fit(df_review_spark)\n",
        "\n",
        "# Transform the df_Review_spark DataFrame to add the numerical index column\n",
        "df_review_spark_indexed = indexer_model.transform(df_review_spark)\n",
        "\n"
      ]
    },
    {
      "cell_type": "code",
      "execution_count": 88,
      "metadata": {
        "colab": {
          "base_uri": "https://localhost:8080/"
        },
        "id": "uqdQN6M6iZ8s",
        "outputId": "c9d5fe4b-71bd-4569-f000-511d0f2db833"
      },
      "outputs": [
        {
          "output_type": "stream",
          "name": "stdout",
          "text": [
            "+--------------------+------------+-------------+\n",
            "|         business_id|stars_review|user_id_index|\n",
            "+--------------------+------------+-------------+\n",
            "|XQfwVwDr-v0ZS3_Cb...|         3.0|      27777.0|\n",
            "+--------------------+------------+-------------+\n",
            "only showing top 1 row\n",
            "\n"
          ]
        }
      ],
      "source": [
        "df_review_spark_indexed = df_review_spark_indexed.drop(col('user_id'))\n",
        "df_review_spark_indexed.show(1)"
      ]
    },
    {
      "cell_type": "code",
      "execution_count": 89,
      "metadata": {
        "colab": {
          "base_uri": "https://localhost:8080/"
        },
        "id": "J0zPjW5Gid-D",
        "outputId": "99bae4e0-bb34-4a88-a502-ae870db8e816"
      },
      "outputs": [
        {
          "output_type": "stream",
          "name": "stdout",
          "text": [
            "+------------+-------------+-----------------+\n",
            "|stars_review|user_id_index|business_id_index|\n",
            "+------------+-------------+-----------------+\n",
            "|         3.0|      27777.0|           7807.0|\n",
            "+------------+-------------+-----------------+\n",
            "only showing top 1 row\n",
            "\n"
          ]
        }
      ],
      "source": [
        "#converto prima user_id in numeri\n",
        "from pyspark.ml.feature import StringIndexer\n",
        "\n",
        "# Create a StringIndexer transformer\n",
        "indexer = StringIndexer(inputCol=\"business_id\", outputCol=\"business_id_index\")\n",
        "\n",
        "# Fit the indexer on the df_Review_spark DataFrame\n",
        "indexer_model = indexer.fit(df_review_spark_indexed)\n",
        "\n",
        "# Transform the df_Review_spark DataFrame to add the numerical index column\n",
        "df_review_spark_indexed = indexer_model.transform(df_review_spark_indexed).drop('business_id')\n",
        "\n",
        "df_review_spark_indexed.show(1)\n"
      ]
    },
    {
      "cell_type": "code",
      "execution_count": 90,
      "metadata": {
        "id": "KX2T5rREmH0k"
      },
      "outputs": [],
      "source": [
        "(training, test) = df_review_spark_indexed.randomSplit([0.8, 0.2])"
      ]
    },
    {
      "cell_type": "code",
      "execution_count": 91,
      "metadata": {
        "id": "bnF6wxWChRvp"
      },
      "outputs": [],
      "source": [
        "# Build the recommendation model using ALS on the training data\n",
        "als = ALS(maxIter=5, regParam=0.01, userCol=\"user_id_index\", itemCol=\"business_id_index\", ratingCol=\"stars_review\")\n",
        "model = als.fit(training)"
      ]
    },
    {
      "cell_type": "code",
      "execution_count": 92,
      "metadata": {
        "id": "B3q4sF9GrHg-"
      },
      "outputs": [],
      "source": [
        "predictions = model.transform(test)\n",
        "#predictions.show()"
      ]
    },
    {
      "cell_type": "code",
      "execution_count": 93,
      "metadata": {
        "colab": {
          "base_uri": "https://localhost:8080/"
        },
        "id": "EZvVYfI0u-mz",
        "outputId": "c487c8eb-9230-47d8-f34e-cc4c66908315"
      },
      "outputs": [
        {
          "output_type": "stream",
          "name": "stdout",
          "text": [
            "+------------+-------------+-----------------+\n",
            "|stars_review|user_id_index|business_id_index|\n",
            "+------------+-------------+-----------------+\n",
            "|         5.0|      14269.0|          31418.0|\n",
            "|         5.0|      14269.0|           5217.0|\n",
            "|         4.0|      14269.0|           1294.0|\n",
            "|         4.0|      14269.0|          13794.0|\n",
            "|         4.0|      14269.0|            574.0|\n",
            "|         5.0|      14269.0|           2054.0|\n",
            "|         5.0|      14269.0|          12704.0|\n",
            "|         5.0|      14269.0|           2916.0|\n",
            "|         5.0|      14269.0|          21210.0|\n",
            "|         5.0|      14269.0|           7736.0|\n",
            "|         5.0|      14269.0|          13529.0|\n",
            "|         5.0|      14269.0|          12999.0|\n",
            "+------------+-------------+-----------------+\n",
            "\n"
          ]
        }
      ],
      "source": [
        "single_user = test.filter(test['user_id_index']== 14269.0)\n",
        "# User had 10 ratings in the test data set \n",
        "# Realistically this should be some sort of hold out set!\n",
        "single_user.show()"
      ]
    },
    {
      "cell_type": "code",
      "execution_count": 94,
      "metadata": {
        "id": "kKDO7VKZ8mTp"
      },
      "outputs": [],
      "source": [
        "predictions = predictions.orderBy(\"user_id_index\", col(\"prediction\").desc())\n"
      ]
    },
    {
      "cell_type": "code",
      "execution_count": 95,
      "metadata": {
        "id": "PWwkPU3b8o3J"
      },
      "outputs": [],
      "source": [
        "from pyspark.sql.functions import expr\n",
        "\n",
        "predictions = predictions.withColumn(\"rank\", expr(\"row_number() over (partition by user_id_index order by prediction desc)\"))\n",
        "predictions = predictions.withColumn(\"dcg\", expr(\"1 / (log2(rank + 1))\"))\n"
      ]
    },
    {
      "cell_type": "code",
      "execution_count": 96,
      "metadata": {
        "id": "yUCjD3Yy8rUf"
      },
      "outputs": [],
      "source": [
        "predictions = predictions.withColumn(\"idcg\", expr(\"1 / (log2(1 + rank))\"))\n"
      ]
    },
    {
      "cell_type": "code",
      "execution_count": 97,
      "metadata": {
        "id": "_mYAlZAj8w6y"
      },
      "outputs": [],
      "source": [
        "ndcg = (\n",
        "    predictions\n",
        "    .groupBy(\"user_id_index\")\n",
        "    .agg(expr(\"sum(dcg) as dcg_sum\"), expr(\"sum(idcg) as idcg_sum\"))\n",
        "    .select(expr(\"avg(dcg_sum / idcg_sum)\").alias(\"ndcg\"))\n",
        "    .collect()[0][0]\n",
        ")\n"
      ]
    },
    {
      "cell_type": "code",
      "execution_count": 98,
      "metadata": {
        "colab": {
          "base_uri": "https://localhost:8080/"
        },
        "id": "vYfm1lo9-WVX",
        "outputId": "f09c70c2-05a5-440a-a9af-38c597c841b4"
      },
      "outputs": [
        {
          "output_type": "stream",
          "name": "stdout",
          "text": [
            "1.0\n"
          ]
        }
      ],
      "source": [
        "print(ndcg)"
      ]
    },
    {
      "cell_type": "markdown",
      "metadata": {
        "id": "mpmmUD078ITl"
      },
      "source": [
        "# Content Based Recommender System from scratch in PySpark"
      ]
    },
    {
      "cell_type": "code",
      "execution_count": 99,
      "metadata": {
        "id": "_DPs96-Mhlya"
      },
      "outputs": [],
      "source": [
        "df_final_content_spark = df_final_spark.drop(col('name'))"
      ]
    },
    {
      "cell_type": "markdown",
      "metadata": {
        "id": "yjiBTh0Ah09q"
      },
      "source": [
        "I turn business_ids into numbers. \n",
        "df_final_content_spark is my restaurant matrix"
      ]
    },
    {
      "cell_type": "code",
      "execution_count": 100,
      "metadata": {
        "colab": {
          "base_uri": "https://localhost:8080/"
        },
        "id": "vE_IyHCAhIfv",
        "outputId": "f687bfcb-153a-464c-dd2e-815ac13c4ff5"
      },
      "outputs": [
        {
          "output_type": "stream",
          "name": "stdout",
          "text": [
            "+-----------+------------+------+-------+--------+---------------+-----------------------+-------+--------+----------+---------------------+-------------+-----------+-------+---------+------------+---------+-----+----------------+-----+---------+-------------+--------+---------------+--------+----------+-------------------+----------+---------+--------+-----------+--------+--------+--------+--------+------+----------+-------------+----------+----------+----------+--------+---------+-------------+-------------+-------------+--------------+--------+---------------------+--------------+-------------+------------------+-------------+-------------------+--------------------+--------------+----------+------+---------+-------------+------+------------+------+---------+--------+-------+---------------+----------+--------------------+----------+-------+-----------+--------------+----------+------------+--------------------------+--------+---------------+------+----------+---------+-------------+----------------------+---------+----------------+-----+-----------+-----------------------+------------+------------+-------+-----------------+-------------+-----------+---------+-------+-------+------------+-----+-------------+------+--------+-----+--------+------+---------+-----------------+---------------+-------------------+---------------------+---------+--------+-------+----------------+--------+--------------------------+--------------+-------+-----------+------------------+----------------------+------+----------+--------+---------+---------------+-------------+--------+-----------------------+--------+------+----------------+-------+-------+--------+---------------+--------------+-------------+---------------+--------+----------+-----------+--------------+--------+---------------+----------------+----------+---------+--------+-------------+--------------------+----------+--------+--------------+---------------+------------+----------+----------+-----------------------+------------+---------------------+----------------+----------------+---------+-----+------+-----+-------+-----------+-------------------+-----------+---------+----------------------+-----+-------------+------+-----------------+--------+--------------------+--------+------+-----------+-----------+----------+--------+----------------+-----------+-------------+-----------+---------+-----------------+-------------+----------+-----+---------+--------+---------------+------------+-------------+------------+---------------+-----------+-------+---------+---------------+------+----------+-----------+-------------------+----------+-----------+--------+-----+-------------+------------+--------+----------+------+------+-----------+----------------------+-----------+--------+--------+-----------------+-------------+------------+---------------+----------+---------+------+------------+-----+----------------+-----------+-------+----+-----------+----------+-----------+----------------------+--------------------------+-----------------+------+---------+-------+-------------------+-----------+---------+--------------+-----------+-----------------+---------+-----+-----+----------+-----------+--------------+-----------------+-------------------------+-------------------+------------------------+----------------------+-----------------------+-----------------------+------------------+-------+--------------------+----+--------+--------+------+-------+-----+--------+------+-------+------+------+------+---------+---+-----+-------+---------+-----+------+------+---------+-----+-----------------+\n",
            "| Acai Bowls| Active Life| Adult| Afghan| African| American (New)| American (Traditional)| Arabic| Arcades| Argentine| Arts & Entertainment| Asian Fusion| Automotive| Bagels| Bakeries| Bangladeshi| Barbeque| Bars| Bed & Breakfast| Beer| Beer Bar| Beer Gardens| Belgian| Beverage Store| Bowling| Brazilian| Breakfast & Brunch| Breweries| Brewpubs| British| Bubble Tea| Buffets| Burgers| Burmese| Butcher| Cafes| Cafeteria| Cajun/Creole| Cambodian| Cantonese| Caribbean| Casinos| Caterers| Cheese Shops| Cheesesteaks| Chicken Shop| Chicken Wings| Chinese| Chocolatiers & Shops| Cocktail Bars| Coffee & Tea| Coffee Roasteries| Comfort Food| Convenience Stores| Conveyor Belt Sushi| Country Clubs| Creperies| Cuban| Cupcakes| Custom Cakes| Czech| Dance Clubs| Delis| Desserts| Dim Sum| Diners| Dinner Theater| Dive Bars| Do-It-Yourself Food| Dominican| Donuts| Drugstores| Eatertainment| Ethiopian| Ethnic Food| Event Planning & Services| Falafel| Farmers Market| Farms| Fast Food| Filipino| Fish & Chips| Fitness & Instruction| Florists| Flowers & Gifts| Food| Food Court| Food Delivery Services| Food Stands| Food Trucks| French| Fruits & Veggies| Gas Stations| Gastropubs| Gay Bars| Gelato| German| Gluten-Free| Golf| Golf Lessons| Greek| Grocery| Gyms| Haitian| Halal| Hawaiian| Health & Medical| Health Markets| Himalayan/Nepalese| Hong Kong Style Cafe| Hot Dogs| Hot Pot| Hotels| Hotels & Travel| Iberian| Ice Cream & Frozen Yogurt| Imported Food| Indian| Indonesian| Indoor Playcentre| International Grocery| Irish| Irish Pub| Italian| Japanese| Japanese Curry| Jazz & Blues| Jewelry| Juice Bars & Smoothies| Karaoke| Kebab| Kids Activities| Korean| Kosher| Laotian| Latin American| Live/Raw Food| Local Flavor| Local Services| Lounges| Malaysian| Meat Shops| Mediterranean| Mexican| Middle Eastern| Modern European| Mongolian| Moroccan| Museums| Music Venues| New Mexican Cuisine| Nightlife| Noodles| Nutritionists| Organic Stores| Paint & Sip| Pakistani| Pan Asian| Party & Event Planning| Pasta Shops| Patisserie/Cake Shop| Performing Arts| Persian/Iranian| Peruvian| Pets| Pizza| Poke| Polish| Pool Halls| Pop-Up Restaurants| Portuguese| Pretzels| Professional Services| Pubs| Puerto Rican| Ramen| Recycling Center| Resorts| Restaurant Supplies| Russian| Salad| Salvadoran| Sandwiches| Sardinian| Seafood| Seafood Markets| Senegalese| Shanghainese| Shaved Ice| Shopping| Shopping Centers| Social Clubs| Soul Food| Soup| Southern| Spanish| Specialty Food| Sports Bars| Sports Clubs| Steakhouses| Street Vendors| Sushi Bars| Syrian| Szechuan| Tabletop Games| Tacos| Taiwanese| Tapas Bars| Tapas/Small Plates| Tea Rooms| Teppanyaki| Tex-Mex| Thai| Themed Cafes| Trinidadian| Turkish| Ukrainian| Uzbek| Vegan| Vegetarian| Venues & Event Spaces| Vietnamese| Waffles| Watches| Wedding Planning| Whiskey Bars| Wholesalers| Wine & Spirits| Wine Bars| Wineries| Wraps| Yelp Events| Yoga|AcceptsInsurance|AgesAllowed|Alcohol|BYOB|BYOBCorkage|BestNights|BikeParking|BusinessAcceptsBitcoin|BusinessAcceptsCreditCards|ByAppointmentOnly|Caters|CoatCheck|Corkage|DietaryRestrictions|DogsAllowed|DriveThru|GoodForDancing|GoodForKids|HairSpecializesIn|HappyHour|HasTV|Music|NoiseLevel|Open24Hours|OutdoorSeating|RestaurantsAttire|RestaurantsCounterService|RestaurantsDelivery|RestaurantsGoodForGroups|RestaurantsPriceRange2|RestaurantsReservations|RestaurantsTableService|RestaurantsTakeOut|Smoking|WheelchairAccessible|WiFi|romantic|intimate|classy|hipster|divey|touristy|trendy|upscale|casual|garage|street|validated|lot|valet|dessert|latenight|lunch|dinner|brunch|breakfast|stars|business_id_index|\n",
            "+-----------+------------+------+-------+--------+---------------+-----------------------+-------+--------+----------+---------------------+-------------+-----------+-------+---------+------------+---------+-----+----------------+-----+---------+-------------+--------+---------------+--------+----------+-------------------+----------+---------+--------+-----------+--------+--------+--------+--------+------+----------+-------------+----------+----------+----------+--------+---------+-------------+-------------+-------------+--------------+--------+---------------------+--------------+-------------+------------------+-------------+-------------------+--------------------+--------------+----------+------+---------+-------------+------+------------+------+---------+--------+-------+---------------+----------+--------------------+----------+-------+-----------+--------------+----------+------------+--------------------------+--------+---------------+------+----------+---------+-------------+----------------------+---------+----------------+-----+-----------+-----------------------+------------+------------+-------+-----------------+-------------+-----------+---------+-------+-------+------------+-----+-------------+------+--------+-----+--------+------+---------+-----------------+---------------+-------------------+---------------------+---------+--------+-------+----------------+--------+--------------------------+--------------+-------+-----------+------------------+----------------------+------+----------+--------+---------+---------------+-------------+--------+-----------------------+--------+------+----------------+-------+-------+--------+---------------+--------------+-------------+---------------+--------+----------+-----------+--------------+--------+---------------+----------------+----------+---------+--------+-------------+--------------------+----------+--------+--------------+---------------+------------+----------+----------+-----------------------+------------+---------------------+----------------+----------------+---------+-----+------+-----+-------+-----------+-------------------+-----------+---------+----------------------+-----+-------------+------+-----------------+--------+--------------------+--------+------+-----------+-----------+----------+--------+----------------+-----------+-------------+-----------+---------+-----------------+-------------+----------+-----+---------+--------+---------------+------------+-------------+------------+---------------+-----------+-------+---------+---------------+------+----------+-----------+-------------------+----------+-----------+--------+-----+-------------+------------+--------+----------+------+------+-----------+----------------------+-----------+--------+--------+-----------------+-------------+------------+---------------+----------+---------+------+------------+-----+----------------+-----------+-------+----+-----------+----------+-----------+----------------------+--------------------------+-----------------+------+---------+-------+-------------------+-----------+---------+--------------+-----------+-----------------+---------+-----+-----+----------+-----------+--------------+-----------------+-------------------------+-------------------+------------------------+----------------------+-----------------------+-----------------------+------------------+-------+--------------------+----+--------+--------+------+-------+-----+--------+------+-------+------+------+------+---------+---+-----+-------+---------+-----+------+------+---------+-----+-----------------+\n",
            "|          0|           0|     0|      0|       0|              0|                      0|      0|       0|         0|                    0|            0|          0|      0|        0|           0|        0|    0|               0|    0|        0|            0|       0|              0|       0|         0|                  0|         0|        0|       0|          0|       0|       0|       0|       0|     0|         0|            0|         0|         0|         0|       0|        0|            0|            0|            0|             0|       0|                    0|             0|            0|                 0|            0|                  0|                   0|             0|         0|     0|        0|            0|     0|           0|     0|        0|       0|      0|              0|         0|                   0|         0|      0|          0|             0|         0|           0|                         0|       0|              0|     0|         0|        0|            0|                     0|        0|               0|    0|          0|                      0|           0|           0|      0|                0|            0|          0|        0|      0|      0|           0|    0|            0|     0|       0|    0|       0|     0|        0|                0|              0|                  0|                    0|        0|       0|      0|               0|       0|                         0|             0|      0|          0|                 0|                     0|     0|         0|       0|        0|              0|            0|       0|                      0|       0|     0|               0|      0|      0|       0|              0|             0|            0|              0|       0|         0|          0|             0|       0|              0|               0|         0|        0|       0|            0|                   0|         0|       0|             0|              0|           0|         0|         0|                      0|           0|                    0|               0|               0|        0|    0|     0|    0|      0|          0|                  0|          0|        0|                     0|    0|            0|     0|                0|       0|                   0|       0|     0|          0|          0|         0|       1|               0|          0|            0|          0|        0|                0|            0|         0|    0|        0|       0|              0|           0|            0|           0|              0|          0|      0|        0|              0|     0|         0|          0|                  0|         0|          0|       0|    0|            0|           0|       0|         0|     0|     0|          0|                     0|          0|       0|       0|                0|            0|           0|              0|         0|        0|     0|           0|    0|               0|          0|      0|   0|          0|         0|          0|                     0|                         1|                0|     0|        0|      0|                  0|          0|        0|             0|          1|                0|        0|    1|    0|         0|          0|             1|                0|                        0|                  1|                       1|                     0|                      1|                      0|                 1|      0|                   0|   0|       0|       0|     0|      0|    0|       0|     0|      0|     0|     0|     0|        0|  0|    0|      0|        0|    0|     0|     0|        0|  3.0|            136.0|\n",
            "+-----------+------------+------+-------+--------+---------------+-----------------------+-------+--------+----------+---------------------+-------------+-----------+-------+---------+------------+---------+-----+----------------+-----+---------+-------------+--------+---------------+--------+----------+-------------------+----------+---------+--------+-----------+--------+--------+--------+--------+------+----------+-------------+----------+----------+----------+--------+---------+-------------+-------------+-------------+--------------+--------+---------------------+--------------+-------------+------------------+-------------+-------------------+--------------------+--------------+----------+------+---------+-------------+------+------------+------+---------+--------+-------+---------------+----------+--------------------+----------+-------+-----------+--------------+----------+------------+--------------------------+--------+---------------+------+----------+---------+-------------+----------------------+---------+----------------+-----+-----------+-----------------------+------------+------------+-------+-----------------+-------------+-----------+---------+-------+-------+------------+-----+-------------+------+--------+-----+--------+------+---------+-----------------+---------------+-------------------+---------------------+---------+--------+-------+----------------+--------+--------------------------+--------------+-------+-----------+------------------+----------------------+------+----------+--------+---------+---------------+-------------+--------+-----------------------+--------+------+----------------+-------+-------+--------+---------------+--------------+-------------+---------------+--------+----------+-----------+--------------+--------+---------------+----------------+----------+---------+--------+-------------+--------------------+----------+--------+--------------+---------------+------------+----------+----------+-----------------------+------------+---------------------+----------------+----------------+---------+-----+------+-----+-------+-----------+-------------------+-----------+---------+----------------------+-----+-------------+------+-----------------+--------+--------------------+--------+------+-----------+-----------+----------+--------+----------------+-----------+-------------+-----------+---------+-----------------+-------------+----------+-----+---------+--------+---------------+------------+-------------+------------+---------------+-----------+-------+---------+---------------+------+----------+-----------+-------------------+----------+-----------+--------+-----+-------------+------------+--------+----------+------+------+-----------+----------------------+-----------+--------+--------+-----------------+-------------+------------+---------------+----------+---------+------+------------+-----+----------------+-----------+-------+----+-----------+----------+-----------+----------------------+--------------------------+-----------------+------+---------+-------+-------------------+-----------+---------+--------------+-----------+-----------------+---------+-----+-----+----------+-----------+--------------+-----------------+-------------------------+-------------------+------------------------+----------------------+-----------------------+-----------------------+------------------+-------+--------------------+----+--------+--------+------+-------+-----+--------+------+-------+------+------+------+---------+---+-----+-------+---------+-----+------+------+---------+-----+-----------------+\n",
            "only showing top 1 row\n",
            "\n"
          ]
        }
      ],
      "source": [
        "#converto il business_id in numeri\n",
        "from pyspark.ml.feature import StringIndexer\n",
        "\n",
        "# Create a StringIndexer transformer\n",
        "indexer = StringIndexer(inputCol=\"business_id\", outputCol=\"business_id_index\")\n",
        "\n",
        "# Fit the indexer on the df_Review_spark DataFrame\n",
        "indexer_model = indexer.fit(df_final_content_spark)\n",
        "\n",
        "# Transform the df_Review_spark DataFrame to add the numerical index column\n",
        "df_final_content_spark = indexer_model.transform(df_final_content_spark).drop('business_id')\n",
        "\n",
        "df_final_content_spark.show(1)\n"
      ]
    },
    {
      "cell_type": "code",
      "execution_count": 101,
      "metadata": {
        "colab": {
          "base_uri": "https://localhost:8080/"
        },
        "id": "LalMGTe8iVC5",
        "outputId": "2d06d23d-6228-4463-d520-a566a37b84e8"
      },
      "outputs": [
        {
          "output_type": "stream",
          "name": "stdout",
          "text": [
            "root\n",
            " |--  Acai Bowls: integer (nullable = true)\n",
            " |--  Active Life: integer (nullable = true)\n",
            " |--  Adult: integer (nullable = true)\n",
            " |--  Afghan: integer (nullable = true)\n",
            " |--  African: integer (nullable = true)\n",
            " |--  American (New): integer (nullable = true)\n",
            " |--  American (Traditional): integer (nullable = true)\n",
            " |--  Arabic: integer (nullable = true)\n",
            " |--  Arcades: integer (nullable = true)\n",
            " |--  Argentine: integer (nullable = true)\n",
            " |--  Arts & Entertainment: integer (nullable = true)\n",
            " |--  Asian Fusion: integer (nullable = true)\n",
            " |--  Automotive: integer (nullable = true)\n",
            " |--  Bagels: integer (nullable = true)\n",
            " |--  Bakeries: integer (nullable = true)\n",
            " |--  Bangladeshi: integer (nullable = true)\n",
            " |--  Barbeque: integer (nullable = true)\n",
            " |--  Bars: integer (nullable = true)\n",
            " |--  Bed & Breakfast: integer (nullable = true)\n",
            " |--  Beer: integer (nullable = true)\n",
            " |--  Beer Bar: integer (nullable = true)\n",
            " |--  Beer Gardens: integer (nullable = true)\n",
            " |--  Belgian: integer (nullable = true)\n",
            " |--  Beverage Store: integer (nullable = true)\n",
            " |--  Bowling: integer (nullable = true)\n",
            " |--  Brazilian: integer (nullable = true)\n",
            " |--  Breakfast & Brunch: integer (nullable = true)\n",
            " |--  Breweries: integer (nullable = true)\n",
            " |--  Brewpubs: integer (nullable = true)\n",
            " |--  British: integer (nullable = true)\n",
            " |--  Bubble Tea: integer (nullable = true)\n",
            " |--  Buffets: integer (nullable = true)\n",
            " |--  Burgers: integer (nullable = true)\n",
            " |--  Burmese: integer (nullable = true)\n",
            " |--  Butcher: integer (nullable = true)\n",
            " |--  Cafes: integer (nullable = true)\n",
            " |--  Cafeteria: integer (nullable = true)\n",
            " |--  Cajun/Creole: integer (nullable = true)\n",
            " |--  Cambodian: integer (nullable = true)\n",
            " |--  Cantonese: integer (nullable = true)\n",
            " |--  Caribbean: integer (nullable = true)\n",
            " |--  Casinos: integer (nullable = true)\n",
            " |--  Caterers: integer (nullable = true)\n",
            " |--  Cheese Shops: integer (nullable = true)\n",
            " |--  Cheesesteaks: integer (nullable = true)\n",
            " |--  Chicken Shop: integer (nullable = true)\n",
            " |--  Chicken Wings: integer (nullable = true)\n",
            " |--  Chinese: integer (nullable = true)\n",
            " |--  Chocolatiers & Shops: integer (nullable = true)\n",
            " |--  Cocktail Bars: integer (nullable = true)\n",
            " |--  Coffee & Tea: integer (nullable = true)\n",
            " |--  Coffee Roasteries: integer (nullable = true)\n",
            " |--  Comfort Food: integer (nullable = true)\n",
            " |--  Convenience Stores: integer (nullable = true)\n",
            " |--  Conveyor Belt Sushi: integer (nullable = true)\n",
            " |--  Country Clubs: integer (nullable = true)\n",
            " |--  Creperies: integer (nullable = true)\n",
            " |--  Cuban: integer (nullable = true)\n",
            " |--  Cupcakes: integer (nullable = true)\n",
            " |--  Custom Cakes: integer (nullable = true)\n",
            " |--  Czech: integer (nullable = true)\n",
            " |--  Dance Clubs: integer (nullable = true)\n",
            " |--  Delis: integer (nullable = true)\n",
            " |--  Desserts: integer (nullable = true)\n",
            " |--  Dim Sum: integer (nullable = true)\n",
            " |--  Diners: integer (nullable = true)\n",
            " |--  Dinner Theater: integer (nullable = true)\n",
            " |--  Dive Bars: integer (nullable = true)\n",
            " |--  Do-It-Yourself Food: integer (nullable = true)\n",
            " |--  Dominican: integer (nullable = true)\n",
            " |--  Donuts: integer (nullable = true)\n",
            " |--  Drugstores: integer (nullable = true)\n",
            " |--  Eatertainment: integer (nullable = true)\n",
            " |--  Ethiopian: integer (nullable = true)\n",
            " |--  Ethnic Food: integer (nullable = true)\n",
            " |--  Event Planning & Services: integer (nullable = true)\n",
            " |--  Falafel: integer (nullable = true)\n",
            " |--  Farmers Market: integer (nullable = true)\n",
            " |--  Farms: integer (nullable = true)\n",
            " |--  Fast Food: integer (nullable = true)\n",
            " |--  Filipino: integer (nullable = true)\n",
            " |--  Fish & Chips: integer (nullable = true)\n",
            " |--  Fitness & Instruction: integer (nullable = true)\n",
            " |--  Florists: integer (nullable = true)\n",
            " |--  Flowers & Gifts: integer (nullable = true)\n",
            " |--  Food: integer (nullable = true)\n",
            " |--  Food Court: integer (nullable = true)\n",
            " |--  Food Delivery Services: integer (nullable = true)\n",
            " |--  Food Stands: integer (nullable = true)\n",
            " |--  Food Trucks: integer (nullable = true)\n",
            " |--  French: integer (nullable = true)\n",
            " |--  Fruits & Veggies: integer (nullable = true)\n",
            " |--  Gas Stations: integer (nullable = true)\n",
            " |--  Gastropubs: integer (nullable = true)\n",
            " |--  Gay Bars: integer (nullable = true)\n",
            " |--  Gelato: integer (nullable = true)\n",
            " |--  German: integer (nullable = true)\n",
            " |--  Gluten-Free: integer (nullable = true)\n",
            " |--  Golf: integer (nullable = true)\n",
            " |--  Golf Lessons: integer (nullable = true)\n",
            " |--  Greek: integer (nullable = true)\n",
            " |--  Grocery: integer (nullable = true)\n",
            " |--  Gyms: integer (nullable = true)\n",
            " |--  Haitian: integer (nullable = true)\n",
            " |--  Halal: integer (nullable = true)\n",
            " |--  Hawaiian: integer (nullable = true)\n",
            " |--  Health & Medical: integer (nullable = true)\n",
            " |--  Health Markets: integer (nullable = true)\n",
            " |--  Himalayan/Nepalese: integer (nullable = true)\n",
            " |--  Hong Kong Style Cafe: integer (nullable = true)\n",
            " |--  Hot Dogs: integer (nullable = true)\n",
            " |--  Hot Pot: integer (nullable = true)\n",
            " |--  Hotels: integer (nullable = true)\n",
            " |--  Hotels & Travel: integer (nullable = true)\n",
            " |--  Iberian: integer (nullable = true)\n",
            " |--  Ice Cream & Frozen Yogurt: integer (nullable = true)\n",
            " |--  Imported Food: integer (nullable = true)\n",
            " |--  Indian: integer (nullable = true)\n",
            " |--  Indonesian: integer (nullable = true)\n",
            " |--  Indoor Playcentre: integer (nullable = true)\n",
            " |--  International Grocery: integer (nullable = true)\n",
            " |--  Irish: integer (nullable = true)\n",
            " |--  Irish Pub: integer (nullable = true)\n",
            " |--  Italian: integer (nullable = true)\n",
            " |--  Japanese: integer (nullable = true)\n",
            " |--  Japanese Curry: integer (nullable = true)\n",
            " |--  Jazz & Blues: integer (nullable = true)\n",
            " |--  Jewelry: integer (nullable = true)\n",
            " |--  Juice Bars & Smoothies: integer (nullable = true)\n",
            " |--  Karaoke: integer (nullable = true)\n",
            " |--  Kebab: integer (nullable = true)\n",
            " |--  Kids Activities: integer (nullable = true)\n",
            " |--  Korean: integer (nullable = true)\n",
            " |--  Kosher: integer (nullable = true)\n",
            " |--  Laotian: integer (nullable = true)\n",
            " |--  Latin American: integer (nullable = true)\n",
            " |--  Live/Raw Food: integer (nullable = true)\n",
            " |--  Local Flavor: integer (nullable = true)\n",
            " |--  Local Services: integer (nullable = true)\n",
            " |--  Lounges: integer (nullable = true)\n",
            " |--  Malaysian: integer (nullable = true)\n",
            " |--  Meat Shops: integer (nullable = true)\n",
            " |--  Mediterranean: integer (nullable = true)\n",
            " |--  Mexican: integer (nullable = true)\n",
            " |--  Middle Eastern: integer (nullable = true)\n",
            " |--  Modern European: integer (nullable = true)\n",
            " |--  Mongolian: integer (nullable = true)\n",
            " |--  Moroccan: integer (nullable = true)\n",
            " |--  Museums: integer (nullable = true)\n",
            " |--  Music Venues: integer (nullable = true)\n",
            " |--  New Mexican Cuisine: integer (nullable = true)\n",
            " |--  Nightlife: integer (nullable = true)\n",
            " |--  Noodles: integer (nullable = true)\n",
            " |--  Nutritionists: integer (nullable = true)\n",
            " |--  Organic Stores: integer (nullable = true)\n",
            " |--  Paint & Sip: integer (nullable = true)\n",
            " |--  Pakistani: integer (nullable = true)\n",
            " |--  Pan Asian: integer (nullable = true)\n",
            " |--  Party & Event Planning: integer (nullable = true)\n",
            " |--  Pasta Shops: integer (nullable = true)\n",
            " |--  Patisserie/Cake Shop: integer (nullable = true)\n",
            " |--  Performing Arts: integer (nullable = true)\n",
            " |--  Persian/Iranian: integer (nullable = true)\n",
            " |--  Peruvian: integer (nullable = true)\n",
            " |--  Pets: integer (nullable = true)\n",
            " |--  Pizza: integer (nullable = true)\n",
            " |--  Poke: integer (nullable = true)\n",
            " |--  Polish: integer (nullable = true)\n",
            " |--  Pool Halls: integer (nullable = true)\n",
            " |--  Pop-Up Restaurants: integer (nullable = true)\n",
            " |--  Portuguese: integer (nullable = true)\n",
            " |--  Pretzels: integer (nullable = true)\n",
            " |--  Professional Services: integer (nullable = true)\n",
            " |--  Pubs: integer (nullable = true)\n",
            " |--  Puerto Rican: integer (nullable = true)\n",
            " |--  Ramen: integer (nullable = true)\n",
            " |--  Recycling Center: integer (nullable = true)\n",
            " |--  Resorts: integer (nullable = true)\n",
            " |--  Restaurant Supplies: integer (nullable = true)\n",
            " |--  Russian: integer (nullable = true)\n",
            " |--  Salad: integer (nullable = true)\n",
            " |--  Salvadoran: integer (nullable = true)\n",
            " |--  Sandwiches: integer (nullable = true)\n",
            " |--  Sardinian: integer (nullable = true)\n",
            " |--  Seafood: integer (nullable = true)\n",
            " |--  Seafood Markets: integer (nullable = true)\n",
            " |--  Senegalese: integer (nullable = true)\n",
            " |--  Shanghainese: integer (nullable = true)\n",
            " |--  Shaved Ice: integer (nullable = true)\n",
            " |--  Shopping: integer (nullable = true)\n",
            " |--  Shopping Centers: integer (nullable = true)\n",
            " |--  Social Clubs: integer (nullable = true)\n",
            " |--  Soul Food: integer (nullable = true)\n",
            " |--  Soup: integer (nullable = true)\n",
            " |--  Southern: integer (nullable = true)\n",
            " |--  Spanish: integer (nullable = true)\n",
            " |--  Specialty Food: integer (nullable = true)\n",
            " |--  Sports Bars: integer (nullable = true)\n",
            " |--  Sports Clubs: integer (nullable = true)\n",
            " |--  Steakhouses: integer (nullable = true)\n",
            " |--  Street Vendors: integer (nullable = true)\n",
            " |--  Sushi Bars: integer (nullable = true)\n",
            " |--  Syrian: integer (nullable = true)\n",
            " |--  Szechuan: integer (nullable = true)\n",
            " |--  Tabletop Games: integer (nullable = true)\n",
            " |--  Tacos: integer (nullable = true)\n",
            " |--  Taiwanese: integer (nullable = true)\n",
            " |--  Tapas Bars: integer (nullable = true)\n",
            " |--  Tapas/Small Plates: integer (nullable = true)\n",
            " |--  Tea Rooms: integer (nullable = true)\n",
            " |--  Teppanyaki: integer (nullable = true)\n",
            " |--  Tex-Mex: integer (nullable = true)\n",
            " |--  Thai: integer (nullable = true)\n",
            " |--  Themed Cafes: integer (nullable = true)\n",
            " |--  Trinidadian: integer (nullable = true)\n",
            " |--  Turkish: integer (nullable = true)\n",
            " |--  Ukrainian: integer (nullable = true)\n",
            " |--  Uzbek: integer (nullable = true)\n",
            " |--  Vegan: integer (nullable = true)\n",
            " |--  Vegetarian: integer (nullable = true)\n",
            " |--  Venues & Event Spaces: integer (nullable = true)\n",
            " |--  Vietnamese: integer (nullable = true)\n",
            " |--  Waffles: integer (nullable = true)\n",
            " |--  Watches: integer (nullable = true)\n",
            " |--  Wedding Planning: integer (nullable = true)\n",
            " |--  Whiskey Bars: integer (nullable = true)\n",
            " |--  Wholesalers: integer (nullable = true)\n",
            " |--  Wine & Spirits: integer (nullable = true)\n",
            " |--  Wine Bars: integer (nullable = true)\n",
            " |--  Wineries: integer (nullable = true)\n",
            " |--  Wraps: integer (nullable = true)\n",
            " |--  Yelp Events: integer (nullable = true)\n",
            " |--  Yoga: integer (nullable = true)\n",
            " |-- AcceptsInsurance: integer (nullable = false)\n",
            " |-- AgesAllowed: integer (nullable = false)\n",
            " |-- Alcohol: integer (nullable = false)\n",
            " |-- BYOB: integer (nullable = false)\n",
            " |-- BYOBCorkage: integer (nullable = false)\n",
            " |-- BestNights: integer (nullable = false)\n",
            " |-- BikeParking: integer (nullable = false)\n",
            " |-- BusinessAcceptsBitcoin: integer (nullable = false)\n",
            " |-- BusinessAcceptsCreditCards: integer (nullable = false)\n",
            " |-- ByAppointmentOnly: integer (nullable = false)\n",
            " |-- Caters: integer (nullable = false)\n",
            " |-- CoatCheck: integer (nullable = false)\n",
            " |-- Corkage: integer (nullable = false)\n",
            " |-- DietaryRestrictions: integer (nullable = false)\n",
            " |-- DogsAllowed: integer (nullable = false)\n",
            " |-- DriveThru: integer (nullable = false)\n",
            " |-- GoodForDancing: integer (nullable = false)\n",
            " |-- GoodForKids: integer (nullable = false)\n",
            " |-- HairSpecializesIn: integer (nullable = false)\n",
            " |-- HappyHour: integer (nullable = false)\n",
            " |-- HasTV: integer (nullable = false)\n",
            " |-- Music: integer (nullable = false)\n",
            " |-- NoiseLevel: integer (nullable = false)\n",
            " |-- Open24Hours: integer (nullable = false)\n",
            " |-- OutdoorSeating: integer (nullable = false)\n",
            " |-- RestaurantsAttire: integer (nullable = false)\n",
            " |-- RestaurantsCounterService: integer (nullable = false)\n",
            " |-- RestaurantsDelivery: integer (nullable = false)\n",
            " |-- RestaurantsGoodForGroups: integer (nullable = false)\n",
            " |-- RestaurantsPriceRange2: integer (nullable = false)\n",
            " |-- RestaurantsReservations: integer (nullable = false)\n",
            " |-- RestaurantsTableService: integer (nullable = false)\n",
            " |-- RestaurantsTakeOut: integer (nullable = false)\n",
            " |-- Smoking: integer (nullable = false)\n",
            " |-- WheelchairAccessible: integer (nullable = false)\n",
            " |-- WiFi: integer (nullable = false)\n",
            " |-- romantic: integer (nullable = false)\n",
            " |-- intimate: integer (nullable = false)\n",
            " |-- classy: integer (nullable = false)\n",
            " |-- hipster: integer (nullable = false)\n",
            " |-- divey: integer (nullable = false)\n",
            " |-- touristy: integer (nullable = false)\n",
            " |-- trendy: integer (nullable = false)\n",
            " |-- upscale: integer (nullable = false)\n",
            " |-- casual: integer (nullable = false)\n",
            " |-- garage: integer (nullable = false)\n",
            " |-- street: integer (nullable = false)\n",
            " |-- validated: integer (nullable = false)\n",
            " |-- lot: integer (nullable = false)\n",
            " |-- valet: integer (nullable = false)\n",
            " |-- dessert: integer (nullable = false)\n",
            " |-- latenight: integer (nullable = false)\n",
            " |-- lunch: integer (nullable = false)\n",
            " |-- dinner: integer (nullable = false)\n",
            " |-- brunch: integer (nullable = false)\n",
            " |-- breakfast: integer (nullable = false)\n",
            " |-- stars: double (nullable = true)\n",
            " |-- business_id_index: double (nullable = false)\n",
            "\n"
          ]
        }
      ],
      "source": [
        "df_final_content_spark.printSchema()"
      ]
    },
    {
      "cell_type": "code",
      "execution_count": 102,
      "metadata": {
        "colab": {
          "base_uri": "https://localhost:8080/"
        },
        "id": "F9DGPgbGiZEx",
        "outputId": "acf0a57c-72f5-450d-c9c1-85c4c983ef34"
      },
      "outputs": [
        {
          "output_type": "stream",
          "name": "stdout",
          "text": [
            "root\n",
            " |-- stars_review: double (nullable = true)\n",
            " |-- user_id_index: double (nullable = false)\n",
            " |-- business_id_index: double (nullable = false)\n",
            "\n"
          ]
        }
      ],
      "source": [
        "df_review_spark_indexed.printSchema()"
      ]
    },
    {
      "cell_type": "code",
      "execution_count": 103,
      "metadata": {
        "id": "BS5hdcTof5Tt"
      },
      "outputs": [],
      "source": [
        "merged_df = df_review_spark_indexed.join(df_final_content_spark, on='business_id_index', how='inner')\n",
        "#merged_df.show(2)"
      ]
    },
    {
      "cell_type": "code",
      "execution_count": 104,
      "metadata": {
        "colab": {
          "base_uri": "https://localhost:8080/"
        },
        "id": "raLH9fQpYl5V",
        "outputId": "b64aacba-4a98-40e7-f40d-3aadda4e2d60"
      },
      "outputs": [
        {
          "output_type": "stream",
          "name": "stdout",
          "text": [
            "root\n",
            " |-- business_id_index: double (nullable = false)\n",
            " |-- stars_review: double (nullable = true)\n",
            " |-- user_id_index: double (nullable = false)\n",
            " |--  Acai Bowls: integer (nullable = true)\n",
            " |--  Active Life: integer (nullable = true)\n",
            " |--  Adult: integer (nullable = true)\n",
            " |--  Afghan: integer (nullable = true)\n",
            " |--  African: integer (nullable = true)\n",
            " |--  American (New): integer (nullable = true)\n",
            " |--  American (Traditional): integer (nullable = true)\n",
            " |--  Arabic: integer (nullable = true)\n",
            " |--  Arcades: integer (nullable = true)\n",
            " |--  Argentine: integer (nullable = true)\n",
            " |--  Arts & Entertainment: integer (nullable = true)\n",
            " |--  Asian Fusion: integer (nullable = true)\n",
            " |--  Automotive: integer (nullable = true)\n",
            " |--  Bagels: integer (nullable = true)\n",
            " |--  Bakeries: integer (nullable = true)\n",
            " |--  Bangladeshi: integer (nullable = true)\n",
            " |--  Barbeque: integer (nullable = true)\n",
            " |--  Bars: integer (nullable = true)\n",
            " |--  Bed & Breakfast: integer (nullable = true)\n",
            " |--  Beer: integer (nullable = true)\n",
            " |--  Beer Bar: integer (nullable = true)\n",
            " |--  Beer Gardens: integer (nullable = true)\n",
            " |--  Belgian: integer (nullable = true)\n",
            " |--  Beverage Store: integer (nullable = true)\n",
            " |--  Bowling: integer (nullable = true)\n",
            " |--  Brazilian: integer (nullable = true)\n",
            " |--  Breakfast & Brunch: integer (nullable = true)\n",
            " |--  Breweries: integer (nullable = true)\n",
            " |--  Brewpubs: integer (nullable = true)\n",
            " |--  British: integer (nullable = true)\n",
            " |--  Bubble Tea: integer (nullable = true)\n",
            " |--  Buffets: integer (nullable = true)\n",
            " |--  Burgers: integer (nullable = true)\n",
            " |--  Burmese: integer (nullable = true)\n",
            " |--  Butcher: integer (nullable = true)\n",
            " |--  Cafes: integer (nullable = true)\n",
            " |--  Cafeteria: integer (nullable = true)\n",
            " |--  Cajun/Creole: integer (nullable = true)\n",
            " |--  Cambodian: integer (nullable = true)\n",
            " |--  Cantonese: integer (nullable = true)\n",
            " |--  Caribbean: integer (nullable = true)\n",
            " |--  Casinos: integer (nullable = true)\n",
            " |--  Caterers: integer (nullable = true)\n",
            " |--  Cheese Shops: integer (nullable = true)\n",
            " |--  Cheesesteaks: integer (nullable = true)\n",
            " |--  Chicken Shop: integer (nullable = true)\n",
            " |--  Chicken Wings: integer (nullable = true)\n",
            " |--  Chinese: integer (nullable = true)\n",
            " |--  Chocolatiers & Shops: integer (nullable = true)\n",
            " |--  Cocktail Bars: integer (nullable = true)\n",
            " |--  Coffee & Tea: integer (nullable = true)\n",
            " |--  Coffee Roasteries: integer (nullable = true)\n",
            " |--  Comfort Food: integer (nullable = true)\n",
            " |--  Convenience Stores: integer (nullable = true)\n",
            " |--  Conveyor Belt Sushi: integer (nullable = true)\n",
            " |--  Country Clubs: integer (nullable = true)\n",
            " |--  Creperies: integer (nullable = true)\n",
            " |--  Cuban: integer (nullable = true)\n",
            " |--  Cupcakes: integer (nullable = true)\n",
            " |--  Custom Cakes: integer (nullable = true)\n",
            " |--  Czech: integer (nullable = true)\n",
            " |--  Dance Clubs: integer (nullable = true)\n",
            " |--  Delis: integer (nullable = true)\n",
            " |--  Desserts: integer (nullable = true)\n",
            " |--  Dim Sum: integer (nullable = true)\n",
            " |--  Diners: integer (nullable = true)\n",
            " |--  Dinner Theater: integer (nullable = true)\n",
            " |--  Dive Bars: integer (nullable = true)\n",
            " |--  Do-It-Yourself Food: integer (nullable = true)\n",
            " |--  Dominican: integer (nullable = true)\n",
            " |--  Donuts: integer (nullable = true)\n",
            " |--  Drugstores: integer (nullable = true)\n",
            " |--  Eatertainment: integer (nullable = true)\n",
            " |--  Ethiopian: integer (nullable = true)\n",
            " |--  Ethnic Food: integer (nullable = true)\n",
            " |--  Event Planning & Services: integer (nullable = true)\n",
            " |--  Falafel: integer (nullable = true)\n",
            " |--  Farmers Market: integer (nullable = true)\n",
            " |--  Farms: integer (nullable = true)\n",
            " |--  Fast Food: integer (nullable = true)\n",
            " |--  Filipino: integer (nullable = true)\n",
            " |--  Fish & Chips: integer (nullable = true)\n",
            " |--  Fitness & Instruction: integer (nullable = true)\n",
            " |--  Florists: integer (nullable = true)\n",
            " |--  Flowers & Gifts: integer (nullable = true)\n",
            " |--  Food: integer (nullable = true)\n",
            " |--  Food Court: integer (nullable = true)\n",
            " |--  Food Delivery Services: integer (nullable = true)\n",
            " |--  Food Stands: integer (nullable = true)\n",
            " |--  Food Trucks: integer (nullable = true)\n",
            " |--  French: integer (nullable = true)\n",
            " |--  Fruits & Veggies: integer (nullable = true)\n",
            " |--  Gas Stations: integer (nullable = true)\n",
            " |--  Gastropubs: integer (nullable = true)\n",
            " |--  Gay Bars: integer (nullable = true)\n",
            " |--  Gelato: integer (nullable = true)\n",
            " |--  German: integer (nullable = true)\n",
            " |--  Gluten-Free: integer (nullable = true)\n",
            " |--  Golf: integer (nullable = true)\n",
            " |--  Golf Lessons: integer (nullable = true)\n",
            " |--  Greek: integer (nullable = true)\n",
            " |--  Grocery: integer (nullable = true)\n",
            " |--  Gyms: integer (nullable = true)\n",
            " |--  Haitian: integer (nullable = true)\n",
            " |--  Halal: integer (nullable = true)\n",
            " |--  Hawaiian: integer (nullable = true)\n",
            " |--  Health & Medical: integer (nullable = true)\n",
            " |--  Health Markets: integer (nullable = true)\n",
            " |--  Himalayan/Nepalese: integer (nullable = true)\n",
            " |--  Hong Kong Style Cafe: integer (nullable = true)\n",
            " |--  Hot Dogs: integer (nullable = true)\n",
            " |--  Hot Pot: integer (nullable = true)\n",
            " |--  Hotels: integer (nullable = true)\n",
            " |--  Hotels & Travel: integer (nullable = true)\n",
            " |--  Iberian: integer (nullable = true)\n",
            " |--  Ice Cream & Frozen Yogurt: integer (nullable = true)\n",
            " |--  Imported Food: integer (nullable = true)\n",
            " |--  Indian: integer (nullable = true)\n",
            " |--  Indonesian: integer (nullable = true)\n",
            " |--  Indoor Playcentre: integer (nullable = true)\n",
            " |--  International Grocery: integer (nullable = true)\n",
            " |--  Irish: integer (nullable = true)\n",
            " |--  Irish Pub: integer (nullable = true)\n",
            " |--  Italian: integer (nullable = true)\n",
            " |--  Japanese: integer (nullable = true)\n",
            " |--  Japanese Curry: integer (nullable = true)\n",
            " |--  Jazz & Blues: integer (nullable = true)\n",
            " |--  Jewelry: integer (nullable = true)\n",
            " |--  Juice Bars & Smoothies: integer (nullable = true)\n",
            " |--  Karaoke: integer (nullable = true)\n",
            " |--  Kebab: integer (nullable = true)\n",
            " |--  Kids Activities: integer (nullable = true)\n",
            " |--  Korean: integer (nullable = true)\n",
            " |--  Kosher: integer (nullable = true)\n",
            " |--  Laotian: integer (nullable = true)\n",
            " |--  Latin American: integer (nullable = true)\n",
            " |--  Live/Raw Food: integer (nullable = true)\n",
            " |--  Local Flavor: integer (nullable = true)\n",
            " |--  Local Services: integer (nullable = true)\n",
            " |--  Lounges: integer (nullable = true)\n",
            " |--  Malaysian: integer (nullable = true)\n",
            " |--  Meat Shops: integer (nullable = true)\n",
            " |--  Mediterranean: integer (nullable = true)\n",
            " |--  Mexican: integer (nullable = true)\n",
            " |--  Middle Eastern: integer (nullable = true)\n",
            " |--  Modern European: integer (nullable = true)\n",
            " |--  Mongolian: integer (nullable = true)\n",
            " |--  Moroccan: integer (nullable = true)\n",
            " |--  Museums: integer (nullable = true)\n",
            " |--  Music Venues: integer (nullable = true)\n",
            " |--  New Mexican Cuisine: integer (nullable = true)\n",
            " |--  Nightlife: integer (nullable = true)\n",
            " |--  Noodles: integer (nullable = true)\n",
            " |--  Nutritionists: integer (nullable = true)\n",
            " |--  Organic Stores: integer (nullable = true)\n",
            " |--  Paint & Sip: integer (nullable = true)\n",
            " |--  Pakistani: integer (nullable = true)\n",
            " |--  Pan Asian: integer (nullable = true)\n",
            " |--  Party & Event Planning: integer (nullable = true)\n",
            " |--  Pasta Shops: integer (nullable = true)\n",
            " |--  Patisserie/Cake Shop: integer (nullable = true)\n",
            " |--  Performing Arts: integer (nullable = true)\n",
            " |--  Persian/Iranian: integer (nullable = true)\n",
            " |--  Peruvian: integer (nullable = true)\n",
            " |--  Pets: integer (nullable = true)\n",
            " |--  Pizza: integer (nullable = true)\n",
            " |--  Poke: integer (nullable = true)\n",
            " |--  Polish: integer (nullable = true)\n",
            " |--  Pool Halls: integer (nullable = true)\n",
            " |--  Pop-Up Restaurants: integer (nullable = true)\n",
            " |--  Portuguese: integer (nullable = true)\n",
            " |--  Pretzels: integer (nullable = true)\n",
            " |--  Professional Services: integer (nullable = true)\n",
            " |--  Pubs: integer (nullable = true)\n",
            " |--  Puerto Rican: integer (nullable = true)\n",
            " |--  Ramen: integer (nullable = true)\n",
            " |--  Recycling Center: integer (nullable = true)\n",
            " |--  Resorts: integer (nullable = true)\n",
            " |--  Restaurant Supplies: integer (nullable = true)\n",
            " |--  Russian: integer (nullable = true)\n",
            " |--  Salad: integer (nullable = true)\n",
            " |--  Salvadoran: integer (nullable = true)\n",
            " |--  Sandwiches: integer (nullable = true)\n",
            " |--  Sardinian: integer (nullable = true)\n",
            " |--  Seafood: integer (nullable = true)\n",
            " |--  Seafood Markets: integer (nullable = true)\n",
            " |--  Senegalese: integer (nullable = true)\n",
            " |--  Shanghainese: integer (nullable = true)\n",
            " |--  Shaved Ice: integer (nullable = true)\n",
            " |--  Shopping: integer (nullable = true)\n",
            " |--  Shopping Centers: integer (nullable = true)\n",
            " |--  Social Clubs: integer (nullable = true)\n",
            " |--  Soul Food: integer (nullable = true)\n",
            " |--  Soup: integer (nullable = true)\n",
            " |--  Southern: integer (nullable = true)\n",
            " |--  Spanish: integer (nullable = true)\n",
            " |--  Specialty Food: integer (nullable = true)\n",
            " |--  Sports Bars: integer (nullable = true)\n",
            " |--  Sports Clubs: integer (nullable = true)\n",
            " |--  Steakhouses: integer (nullable = true)\n",
            " |--  Street Vendors: integer (nullable = true)\n",
            " |--  Sushi Bars: integer (nullable = true)\n",
            " |--  Syrian: integer (nullable = true)\n",
            " |--  Szechuan: integer (nullable = true)\n",
            " |--  Tabletop Games: integer (nullable = true)\n",
            " |--  Tacos: integer (nullable = true)\n",
            " |--  Taiwanese: integer (nullable = true)\n",
            " |--  Tapas Bars: integer (nullable = true)\n",
            " |--  Tapas/Small Plates: integer (nullable = true)\n",
            " |--  Tea Rooms: integer (nullable = true)\n",
            " |--  Teppanyaki: integer (nullable = true)\n",
            " |--  Tex-Mex: integer (nullable = true)\n",
            " |--  Thai: integer (nullable = true)\n",
            " |--  Themed Cafes: integer (nullable = true)\n",
            " |--  Trinidadian: integer (nullable = true)\n",
            " |--  Turkish: integer (nullable = true)\n",
            " |--  Ukrainian: integer (nullable = true)\n",
            " |--  Uzbek: integer (nullable = true)\n",
            " |--  Vegan: integer (nullable = true)\n",
            " |--  Vegetarian: integer (nullable = true)\n",
            " |--  Venues & Event Spaces: integer (nullable = true)\n",
            " |--  Vietnamese: integer (nullable = true)\n",
            " |--  Waffles: integer (nullable = true)\n",
            " |--  Watches: integer (nullable = true)\n",
            " |--  Wedding Planning: integer (nullable = true)\n",
            " |--  Whiskey Bars: integer (nullable = true)\n",
            " |--  Wholesalers: integer (nullable = true)\n",
            " |--  Wine & Spirits: integer (nullable = true)\n",
            " |--  Wine Bars: integer (nullable = true)\n",
            " |--  Wineries: integer (nullable = true)\n",
            " |--  Wraps: integer (nullable = true)\n",
            " |--  Yelp Events: integer (nullable = true)\n",
            " |--  Yoga: integer (nullable = true)\n",
            " |-- AcceptsInsurance: integer (nullable = false)\n",
            " |-- AgesAllowed: integer (nullable = false)\n",
            " |-- Alcohol: integer (nullable = false)\n",
            " |-- BYOB: integer (nullable = false)\n",
            " |-- BYOBCorkage: integer (nullable = false)\n",
            " |-- BestNights: integer (nullable = false)\n",
            " |-- BikeParking: integer (nullable = false)\n",
            " |-- BusinessAcceptsBitcoin: integer (nullable = false)\n",
            " |-- BusinessAcceptsCreditCards: integer (nullable = false)\n",
            " |-- ByAppointmentOnly: integer (nullable = false)\n",
            " |-- Caters: integer (nullable = false)\n",
            " |-- CoatCheck: integer (nullable = false)\n",
            " |-- Corkage: integer (nullable = false)\n",
            " |-- DietaryRestrictions: integer (nullable = false)\n",
            " |-- DogsAllowed: integer (nullable = false)\n",
            " |-- DriveThru: integer (nullable = false)\n",
            " |-- GoodForDancing: integer (nullable = false)\n",
            " |-- GoodForKids: integer (nullable = false)\n",
            " |-- HairSpecializesIn: integer (nullable = false)\n",
            " |-- HappyHour: integer (nullable = false)\n",
            " |-- HasTV: integer (nullable = false)\n",
            " |-- Music: integer (nullable = false)\n",
            " |-- NoiseLevel: integer (nullable = false)\n",
            " |-- Open24Hours: integer (nullable = false)\n",
            " |-- OutdoorSeating: integer (nullable = false)\n",
            " |-- RestaurantsAttire: integer (nullable = false)\n",
            " |-- RestaurantsCounterService: integer (nullable = false)\n",
            " |-- RestaurantsDelivery: integer (nullable = false)\n",
            " |-- RestaurantsGoodForGroups: integer (nullable = false)\n",
            " |-- RestaurantsPriceRange2: integer (nullable = false)\n",
            " |-- RestaurantsReservations: integer (nullable = false)\n",
            " |-- RestaurantsTableService: integer (nullable = false)\n",
            " |-- RestaurantsTakeOut: integer (nullable = false)\n",
            " |-- Smoking: integer (nullable = false)\n",
            " |-- WheelchairAccessible: integer (nullable = false)\n",
            " |-- WiFi: integer (nullable = false)\n",
            " |-- romantic: integer (nullable = false)\n",
            " |-- intimate: integer (nullable = false)\n",
            " |-- classy: integer (nullable = false)\n",
            " |-- hipster: integer (nullable = false)\n",
            " |-- divey: integer (nullable = false)\n",
            " |-- touristy: integer (nullable = false)\n",
            " |-- trendy: integer (nullable = false)\n",
            " |-- upscale: integer (nullable = false)\n",
            " |-- casual: integer (nullable = false)\n",
            " |-- garage: integer (nullable = false)\n",
            " |-- street: integer (nullable = false)\n",
            " |-- validated: integer (nullable = false)\n",
            " |-- lot: integer (nullable = false)\n",
            " |-- valet: integer (nullable = false)\n",
            " |-- dessert: integer (nullable = false)\n",
            " |-- latenight: integer (nullable = false)\n",
            " |-- lunch: integer (nullable = false)\n",
            " |-- dinner: integer (nullable = false)\n",
            " |-- brunch: integer (nullable = false)\n",
            " |-- breakfast: integer (nullable = false)\n",
            " |-- stars: double (nullable = true)\n",
            "\n"
          ]
        }
      ],
      "source": [
        "merged_df.printSchema()"
      ]
    },
    {
      "cell_type": "code",
      "execution_count": 105,
      "metadata": {
        "id": "KIn6OFCktEAK"
      },
      "outputs": [],
      "source": [
        "merged_df = merged_df.sample(fraction=0.001, seed=42)\n",
        "#merged_df.count()"
      ]
    },
    {
      "cell_type": "code",
      "execution_count": 106,
      "metadata": {
        "colab": {
          "base_uri": "https://localhost:8080/"
        },
        "id": "Hgow3RyI08uF",
        "outputId": "e10b038b-01eb-43f5-d797-2e570fb54d75"
      },
      "outputs": [
        {
          "output_type": "stream",
          "name": "stdout",
          "text": [
            "+-----------------+------------+-------------+-----------+------------+------+-------+--------+---------------+-----------------------+-------+--------+----------+---------------------+-------------+-----------+-------+---------+------------+---------+-----+----------------+-----+---------+-------------+--------+---------------+--------+----------+-------------------+----------+---------+--------+-----------+--------+--------+--------+--------+------+----------+-------------+----------+----------+----------+--------+---------+-------------+-------------+-------------+--------------+--------+---------------------+--------------+-------------+------------------+-------------+-------------------+--------------------+--------------+----------+------+---------+-------------+------+------------+------+---------+--------+-------+---------------+----------+--------------------+----------+-------+-----------+--------------+----------+------------+--------------------------+--------+---------------+------+----------+---------+-------------+----------------------+---------+----------------+-----+-----------+-----------------------+------------+------------+-------+-----------------+-------------+-----------+---------+-------+-------+------------+-----+-------------+------+--------+-----+--------+------+---------+-----------------+---------------+-------------------+---------------------+---------+--------+-------+----------------+--------+--------------------------+--------------+-------+-----------+------------------+----------------------+------+----------+--------+---------+---------------+-------------+--------+-----------------------+--------+------+----------------+-------+-------+--------+---------------+--------------+-------------+---------------+--------+----------+-----------+--------------+--------+---------------+----------------+----------+---------+--------+-------------+--------------------+----------+--------+--------------+---------------+------------+----------+----------+-----------------------+------------+---------------------+----------------+----------------+---------+-----+------+-----+-------+-----------+-------------------+-----------+---------+----------------------+-----+-------------+------+-----------------+--------+--------------------+--------+------+-----------+-----------+----------+--------+----------------+-----------+-------------+-----------+---------+-----------------+-------------+----------+-----+---------+--------+---------------+------------+-------------+------------+---------------+-----------+-------+---------+---------------+------+----------+-----------+-------------------+----------+-----------+--------+-----+-------------+------------+--------+----------+------+------+-----------+----------------------+-----------+--------+--------+-----------------+-------------+------------+---------------+----------+---------+------+------------+-----+----------------+-----------+-------+----+-----------+----------+-----------+----------------------+--------------------------+-----------------+------+---------+-------+-------------------+-----------+---------+--------------+-----------+-----------------+---------+-----+-----+----------+-----------+--------------+-----------------+-------------------------+-------------------+------------------------+----------------------+-----------------------+-----------------------+------------------+-------+--------------------+----+--------+--------+------+-------+-----+--------+------+-------+------+------+------+---------+---+-----+-------+---------+-----+------+------+---------+-----+\n",
            "|business_id_index|stars_review|user_id_index| Acai Bowls| Active Life| Adult| Afghan| African| American (New)| American (Traditional)| Arabic| Arcades| Argentine| Arts & Entertainment| Asian Fusion| Automotive| Bagels| Bakeries| Bangladeshi| Barbeque| Bars| Bed & Breakfast| Beer| Beer Bar| Beer Gardens| Belgian| Beverage Store| Bowling| Brazilian| Breakfast & Brunch| Breweries| Brewpubs| British| Bubble Tea| Buffets| Burgers| Burmese| Butcher| Cafes| Cafeteria| Cajun/Creole| Cambodian| Cantonese| Caribbean| Casinos| Caterers| Cheese Shops| Cheesesteaks| Chicken Shop| Chicken Wings| Chinese| Chocolatiers & Shops| Cocktail Bars| Coffee & Tea| Coffee Roasteries| Comfort Food| Convenience Stores| Conveyor Belt Sushi| Country Clubs| Creperies| Cuban| Cupcakes| Custom Cakes| Czech| Dance Clubs| Delis| Desserts| Dim Sum| Diners| Dinner Theater| Dive Bars| Do-It-Yourself Food| Dominican| Donuts| Drugstores| Eatertainment| Ethiopian| Ethnic Food| Event Planning & Services| Falafel| Farmers Market| Farms| Fast Food| Filipino| Fish & Chips| Fitness & Instruction| Florists| Flowers & Gifts| Food| Food Court| Food Delivery Services| Food Stands| Food Trucks| French| Fruits & Veggies| Gas Stations| Gastropubs| Gay Bars| Gelato| German| Gluten-Free| Golf| Golf Lessons| Greek| Grocery| Gyms| Haitian| Halal| Hawaiian| Health & Medical| Health Markets| Himalayan/Nepalese| Hong Kong Style Cafe| Hot Dogs| Hot Pot| Hotels| Hotels & Travel| Iberian| Ice Cream & Frozen Yogurt| Imported Food| Indian| Indonesian| Indoor Playcentre| International Grocery| Irish| Irish Pub| Italian| Japanese| Japanese Curry| Jazz & Blues| Jewelry| Juice Bars & Smoothies| Karaoke| Kebab| Kids Activities| Korean| Kosher| Laotian| Latin American| Live/Raw Food| Local Flavor| Local Services| Lounges| Malaysian| Meat Shops| Mediterranean| Mexican| Middle Eastern| Modern European| Mongolian| Moroccan| Museums| Music Venues| New Mexican Cuisine| Nightlife| Noodles| Nutritionists| Organic Stores| Paint & Sip| Pakistani| Pan Asian| Party & Event Planning| Pasta Shops| Patisserie/Cake Shop| Performing Arts| Persian/Iranian| Peruvian| Pets| Pizza| Poke| Polish| Pool Halls| Pop-Up Restaurants| Portuguese| Pretzels| Professional Services| Pubs| Puerto Rican| Ramen| Recycling Center| Resorts| Restaurant Supplies| Russian| Salad| Salvadoran| Sandwiches| Sardinian| Seafood| Seafood Markets| Senegalese| Shanghainese| Shaved Ice| Shopping| Shopping Centers| Social Clubs| Soul Food| Soup| Southern| Spanish| Specialty Food| Sports Bars| Sports Clubs| Steakhouses| Street Vendors| Sushi Bars| Syrian| Szechuan| Tabletop Games| Tacos| Taiwanese| Tapas Bars| Tapas/Small Plates| Tea Rooms| Teppanyaki| Tex-Mex| Thai| Themed Cafes| Trinidadian| Turkish| Ukrainian| Uzbek| Vegan| Vegetarian| Venues & Event Spaces| Vietnamese| Waffles| Watches| Wedding Planning| Whiskey Bars| Wholesalers| Wine & Spirits| Wine Bars| Wineries| Wraps| Yelp Events| Yoga|AcceptsInsurance|AgesAllowed|Alcohol|BYOB|BYOBCorkage|BestNights|BikeParking|BusinessAcceptsBitcoin|BusinessAcceptsCreditCards|ByAppointmentOnly|Caters|CoatCheck|Corkage|DietaryRestrictions|DogsAllowed|DriveThru|GoodForDancing|GoodForKids|HairSpecializesIn|HappyHour|HasTV|Music|NoiseLevel|Open24Hours|OutdoorSeating|RestaurantsAttire|RestaurantsCounterService|RestaurantsDelivery|RestaurantsGoodForGroups|RestaurantsPriceRange2|RestaurantsReservations|RestaurantsTableService|RestaurantsTakeOut|Smoking|WheelchairAccessible|WiFi|romantic|intimate|classy|hipster|divey|touristy|trendy|upscale|casual|garage|street|validated|lot|valet|dessert|latenight|lunch|dinner|brunch|breakfast|stars|\n",
            "+-----------------+------------+-------------+-----------+------------+------+-------+--------+---------------+-----------------------+-------+--------+----------+---------------------+-------------+-----------+-------+---------+------------+---------+-----+----------------+-----+---------+-------------+--------+---------------+--------+----------+-------------------+----------+---------+--------+-----------+--------+--------+--------+--------+------+----------+-------------+----------+----------+----------+--------+---------+-------------+-------------+-------------+--------------+--------+---------------------+--------------+-------------+------------------+-------------+-------------------+--------------------+--------------+----------+------+---------+-------------+------+------------+------+---------+--------+-------+---------------+----------+--------------------+----------+-------+-----------+--------------+----------+------------+--------------------------+--------+---------------+------+----------+---------+-------------+----------------------+---------+----------------+-----+-----------+-----------------------+------------+------------+-------+-----------------+-------------+-----------+---------+-------+-------+------------+-----+-------------+------+--------+-----+--------+------+---------+-----------------+---------------+-------------------+---------------------+---------+--------+-------+----------------+--------+--------------------------+--------------+-------+-----------+------------------+----------------------+------+----------+--------+---------+---------------+-------------+--------+-----------------------+--------+------+----------------+-------+-------+--------+---------------+--------------+-------------+---------------+--------+----------+-----------+--------------+--------+---------------+----------------+----------+---------+--------+-------------+--------------------+----------+--------+--------------+---------------+------------+----------+----------+-----------------------+------------+---------------------+----------------+----------------+---------+-----+------+-----+-------+-----------+-------------------+-----------+---------+----------------------+-----+-------------+------+-----------------+--------+--------------------+--------+------+-----------+-----------+----------+--------+----------------+-----------+-------------+-----------+---------+-----------------+-------------+----------+-----+---------+--------+---------------+------------+-------------+------------+---------------+-----------+-------+---------+---------------+------+----------+-----------+-------------------+----------+-----------+--------+-----+-------------+------------+--------+----------+------+------+-----------+----------------------+-----------+--------+--------+-----------------+-------------+------------+---------------+----------+---------+------+------------+-----+----------------+-----------+-------+----+-----------+----------+-----------+----------------------+--------------------------+-----------------+------+---------+-------+-------------------+-----------+---------+--------------+-----------+-----------------+---------+-----+-----+----------+-----------+--------------+-----------------+-------------------------+-------------------+------------------------+----------------------+-----------------------+-----------------------+------------------+-------+--------------------+----+--------+--------+------+-------+-----+--------+------+-------+------+------+------+---------+---+-----+-------+---------+-----+------+------+---------+-----+\n",
            "|            128.0|         3.0|      61656.0|          0|           0|     0|      0|       0|              0|                      0|      0|       0|         0|                    0|            0|          0|      0|        0|           0|        0|    0|               0|    0|        0|            0|       0|              0|       0|         0|                  0|         0|        0|       0|          0|       0|       0|       0|       0|     0|         0|            0|         0|         0|         0|       0|        0|            0|            0|            0|             0|       0|                    0|             0|            0|                 0|            0|                  0|                   0|             0|         0|     0|        0|            0|     0|           0|     0|        0|       0|      0|              0|         0|                   0|         0|      0|          0|             0|         0|           0|                         0|       0|              0|     0|         1|        0|            0|                     0|        0|               0|    0|          0|                      0|           0|           0|      0|                0|            0|          0|        0|      0|      0|           0|    0|            0|     0|       0|    0|       0|     0|        0|                0|              0|                  0|                    0|        0|       0|      0|               0|       0|                         0|             0|      0|          0|                 0|                     0|     0|         0|       0|        0|              0|            0|       0|                      0|       0|     0|               0|      0|      0|       0|              0|             0|            0|              0|       0|         0|          0|             0|       0|              0|               0|         0|        0|       0|            0|                   0|         0|       0|             0|              0|           0|         0|         0|                      0|           0|                    0|               0|               0|        0|    0|     0|    0|      0|          0|                  0|          0|        0|                     0|    0|            0|     0|                0|       0|                   0|       0|     1|          0|          1|         0|       0|               0|          0|            0|          0|        0|                0|            0|         0|    0|        0|       0|              0|           0|            0|           0|              0|          0|      0|        0|              0|     0|         0|          0|                  0|         0|          0|       0|    0|            0|           0|       0|         0|     0|     0|          0|                     0|          0|       0|       0|                0|            0|           0|              0|         0|        0|     0|           0|    0|               0|          0|      0|   0|          0|         0|          0|                     0|                         1|                0|     0|        0|      0|                  0|          0|        1|             0|          1|                0|        0|    0|    0|         0|          0|             0|                0|                        0|                  1|                       1|                     0|                      0|                      0|                 1|      0|                   0|   0|       0|       0|     0|      0|    0|       0|     0|      0|     0|     0|     0|        0|  0|    0|      0|        0|    0|     0|     0|        0|  3.0|\n",
            "+-----------------+------------+-------------+-----------+------------+------+-------+--------+---------------+-----------------------+-------+--------+----------+---------------------+-------------+-----------+-------+---------+------------+---------+-----+----------------+-----+---------+-------------+--------+---------------+--------+----------+-------------------+----------+---------+--------+-----------+--------+--------+--------+--------+------+----------+-------------+----------+----------+----------+--------+---------+-------------+-------------+-------------+--------------+--------+---------------------+--------------+-------------+------------------+-------------+-------------------+--------------------+--------------+----------+------+---------+-------------+------+------------+------+---------+--------+-------+---------------+----------+--------------------+----------+-------+-----------+--------------+----------+------------+--------------------------+--------+---------------+------+----------+---------+-------------+----------------------+---------+----------------+-----+-----------+-----------------------+------------+------------+-------+-----------------+-------------+-----------+---------+-------+-------+------------+-----+-------------+------+--------+-----+--------+------+---------+-----------------+---------------+-------------------+---------------------+---------+--------+-------+----------------+--------+--------------------------+--------------+-------+-----------+------------------+----------------------+------+----------+--------+---------+---------------+-------------+--------+-----------------------+--------+------+----------------+-------+-------+--------+---------------+--------------+-------------+---------------+--------+----------+-----------+--------------+--------+---------------+----------------+----------+---------+--------+-------------+--------------------+----------+--------+--------------+---------------+------------+----------+----------+-----------------------+------------+---------------------+----------------+----------------+---------+-----+------+-----+-------+-----------+-------------------+-----------+---------+----------------------+-----+-------------+------+-----------------+--------+--------------------+--------+------+-----------+-----------+----------+--------+----------------+-----------+-------------+-----------+---------+-----------------+-------------+----------+-----+---------+--------+---------------+------------+-------------+------------+---------------+-----------+-------+---------+---------------+------+----------+-----------+-------------------+----------+-----------+--------+-----+-------------+------------+--------+----------+------+------+-----------+----------------------+-----------+--------+--------+-----------------+-------------+------------+---------------+----------+---------+------+------------+-----+----------------+-----------+-------+----+-----------+----------+-----------+----------------------+--------------------------+-----------------+------+---------+-------+-------------------+-----------+---------+--------------+-----------+-----------------+---------+-----+-----+----------+-----------+--------------+-----------------+-------------------------+-------------------+------------------------+----------------------+-----------------------+-----------------------+------------------+-------+--------------------+----+--------+--------+------+-------+-----+--------+------+-------+------+------+------+---------+---+-----+-------+---------+-----+------+------+---------+-----+\n",
            "only showing top 1 row\n",
            "\n"
          ]
        }
      ],
      "source": [
        "merged_df.show(1)"
      ]
    },
    {
      "cell_type": "code",
      "execution_count": 107,
      "metadata": {
        "id": "iaKqqzPO2d1r"
      },
      "outputs": [],
      "source": [
        "# Select all columns and excluding these 'business_id_index', 'stars_review', 'user_id_index'\n",
        "columns_to_multiply = [column for column in merged_df.columns if column not in ['business_id_index', 'stars_review', 'user_id_index','stars']]\n",
        "\n",
        "# Perform the prodcut over each column\n",
        "for column in columns_to_multiply:\n",
        "    weighted_merged_df = merged_df.withColumn(column, col(column) * col('stars_review'))\n",
        "# this is the weighted cat matrix\n",
        "#weighted_merged_df.show()\n"
      ]
    },
    {
      "cell_type": "code",
      "execution_count": 108,
      "metadata": {
        "id": "QpHdF8XO5epw"
      },
      "outputs": [],
      "source": [
        "from pyspark.sql.functions import sum\n",
        "\n",
        "# Group per user_id_index and calculate the columns sum\n",
        "user_profile = weighted_merged_df.groupBy('user_id_index').agg(*[sum(column).alias(column) for column in columns_to_multiply])\n",
        "\n",
        "#user_profile.show()\n"
      ]
    },
    {
      "cell_type": "code",
      "execution_count": 109,
      "metadata": {
        "colab": {
          "base_uri": "https://localhost:8080/"
        },
        "id": "t-vd1JxoYFB2",
        "outputId": "fdce18ff-8c86-4f2c-9418-436eacb25b88"
      },
      "outputs": [
        {
          "output_type": "stream",
          "name": "stdout",
          "text": [
            "root\n",
            " |-- user_id_index: double (nullable = false)\n",
            " |--  Acai Bowls: long (nullable = true)\n",
            " |--  Active Life: long (nullable = true)\n",
            " |--  Adult: long (nullable = true)\n",
            " |--  Afghan: long (nullable = true)\n",
            " |--  African: long (nullable = true)\n",
            " |--  American (New): long (nullable = true)\n",
            " |--  American (Traditional): long (nullable = true)\n",
            " |--  Arabic: long (nullable = true)\n",
            " |--  Arcades: long (nullable = true)\n",
            " |--  Argentine: long (nullable = true)\n",
            " |--  Arts & Entertainment: long (nullable = true)\n",
            " |--  Asian Fusion: long (nullable = true)\n",
            " |--  Automotive: long (nullable = true)\n",
            " |--  Bagels: long (nullable = true)\n",
            " |--  Bakeries: long (nullable = true)\n",
            " |--  Bangladeshi: long (nullable = true)\n",
            " |--  Barbeque: long (nullable = true)\n",
            " |--  Bars: long (nullable = true)\n",
            " |--  Bed & Breakfast: long (nullable = true)\n",
            " |--  Beer: long (nullable = true)\n",
            " |--  Beer Bar: long (nullable = true)\n",
            " |--  Beer Gardens: long (nullable = true)\n",
            " |--  Belgian: long (nullable = true)\n",
            " |--  Beverage Store: long (nullable = true)\n",
            " |--  Bowling: long (nullable = true)\n",
            " |--  Brazilian: long (nullable = true)\n",
            " |--  Breakfast & Brunch: long (nullable = true)\n",
            " |--  Breweries: long (nullable = true)\n",
            " |--  Brewpubs: long (nullable = true)\n",
            " |--  British: long (nullable = true)\n",
            " |--  Bubble Tea: long (nullable = true)\n",
            " |--  Buffets: long (nullable = true)\n",
            " |--  Burgers: long (nullable = true)\n",
            " |--  Burmese: long (nullable = true)\n",
            " |--  Butcher: long (nullable = true)\n",
            " |--  Cafes: long (nullable = true)\n",
            " |--  Cafeteria: long (nullable = true)\n",
            " |--  Cajun/Creole: long (nullable = true)\n",
            " |--  Cambodian: long (nullable = true)\n",
            " |--  Cantonese: long (nullable = true)\n",
            " |--  Caribbean: long (nullable = true)\n",
            " |--  Casinos: long (nullable = true)\n",
            " |--  Caterers: long (nullable = true)\n",
            " |--  Cheese Shops: long (nullable = true)\n",
            " |--  Cheesesteaks: long (nullable = true)\n",
            " |--  Chicken Shop: long (nullable = true)\n",
            " |--  Chicken Wings: long (nullable = true)\n",
            " |--  Chinese: long (nullable = true)\n",
            " |--  Chocolatiers & Shops: long (nullable = true)\n",
            " |--  Cocktail Bars: long (nullable = true)\n",
            " |--  Coffee & Tea: long (nullable = true)\n",
            " |--  Coffee Roasteries: long (nullable = true)\n",
            " |--  Comfort Food: long (nullable = true)\n",
            " |--  Convenience Stores: long (nullable = true)\n",
            " |--  Conveyor Belt Sushi: long (nullable = true)\n",
            " |--  Country Clubs: long (nullable = true)\n",
            " |--  Creperies: long (nullable = true)\n",
            " |--  Cuban: long (nullable = true)\n",
            " |--  Cupcakes: long (nullable = true)\n",
            " |--  Custom Cakes: long (nullable = true)\n",
            " |--  Czech: long (nullable = true)\n",
            " |--  Dance Clubs: long (nullable = true)\n",
            " |--  Delis: long (nullable = true)\n",
            " |--  Desserts: long (nullable = true)\n",
            " |--  Dim Sum: long (nullable = true)\n",
            " |--  Diners: long (nullable = true)\n",
            " |--  Dinner Theater: long (nullable = true)\n",
            " |--  Dive Bars: long (nullable = true)\n",
            " |--  Do-It-Yourself Food: long (nullable = true)\n",
            " |--  Dominican: long (nullable = true)\n",
            " |--  Donuts: long (nullable = true)\n",
            " |--  Drugstores: long (nullable = true)\n",
            " |--  Eatertainment: long (nullable = true)\n",
            " |--  Ethiopian: long (nullable = true)\n",
            " |--  Ethnic Food: long (nullable = true)\n",
            " |--  Event Planning & Services: long (nullable = true)\n",
            " |--  Falafel: long (nullable = true)\n",
            " |--  Farmers Market: long (nullable = true)\n",
            " |--  Farms: long (nullable = true)\n",
            " |--  Fast Food: long (nullable = true)\n",
            " |--  Filipino: long (nullable = true)\n",
            " |--  Fish & Chips: long (nullable = true)\n",
            " |--  Fitness & Instruction: long (nullable = true)\n",
            " |--  Florists: long (nullable = true)\n",
            " |--  Flowers & Gifts: long (nullable = true)\n",
            " |--  Food: long (nullable = true)\n",
            " |--  Food Court: long (nullable = true)\n",
            " |--  Food Delivery Services: long (nullable = true)\n",
            " |--  Food Stands: long (nullable = true)\n",
            " |--  Food Trucks: long (nullable = true)\n",
            " |--  French: long (nullable = true)\n",
            " |--  Fruits & Veggies: long (nullable = true)\n",
            " |--  Gas Stations: long (nullable = true)\n",
            " |--  Gastropubs: long (nullable = true)\n",
            " |--  Gay Bars: long (nullable = true)\n",
            " |--  Gelato: long (nullable = true)\n",
            " |--  German: long (nullable = true)\n",
            " |--  Gluten-Free: long (nullable = true)\n",
            " |--  Golf: long (nullable = true)\n",
            " |--  Golf Lessons: long (nullable = true)\n",
            " |--  Greek: long (nullable = true)\n",
            " |--  Grocery: long (nullable = true)\n",
            " |--  Gyms: long (nullable = true)\n",
            " |--  Haitian: long (nullable = true)\n",
            " |--  Halal: long (nullable = true)\n",
            " |--  Hawaiian: long (nullable = true)\n",
            " |--  Health & Medical: long (nullable = true)\n",
            " |--  Health Markets: long (nullable = true)\n",
            " |--  Himalayan/Nepalese: long (nullable = true)\n",
            " |--  Hong Kong Style Cafe: long (nullable = true)\n",
            " |--  Hot Dogs: long (nullable = true)\n",
            " |--  Hot Pot: long (nullable = true)\n",
            " |--  Hotels: long (nullable = true)\n",
            " |--  Hotels & Travel: long (nullable = true)\n",
            " |--  Iberian: long (nullable = true)\n",
            " |--  Ice Cream & Frozen Yogurt: long (nullable = true)\n",
            " |--  Imported Food: long (nullable = true)\n",
            " |--  Indian: long (nullable = true)\n",
            " |--  Indonesian: long (nullable = true)\n",
            " |--  Indoor Playcentre: long (nullable = true)\n",
            " |--  International Grocery: long (nullable = true)\n",
            " |--  Irish: long (nullable = true)\n",
            " |--  Irish Pub: long (nullable = true)\n",
            " |--  Italian: long (nullable = true)\n",
            " |--  Japanese: long (nullable = true)\n",
            " |--  Japanese Curry: long (nullable = true)\n",
            " |--  Jazz & Blues: long (nullable = true)\n",
            " |--  Jewelry: long (nullable = true)\n",
            " |--  Juice Bars & Smoothies: long (nullable = true)\n",
            " |--  Karaoke: long (nullable = true)\n",
            " |--  Kebab: long (nullable = true)\n",
            " |--  Kids Activities: long (nullable = true)\n",
            " |--  Korean: long (nullable = true)\n",
            " |--  Kosher: long (nullable = true)\n",
            " |--  Laotian: long (nullable = true)\n",
            " |--  Latin American: long (nullable = true)\n",
            " |--  Live/Raw Food: long (nullable = true)\n",
            " |--  Local Flavor: long (nullable = true)\n",
            " |--  Local Services: long (nullable = true)\n",
            " |--  Lounges: long (nullable = true)\n",
            " |--  Malaysian: long (nullable = true)\n",
            " |--  Meat Shops: long (nullable = true)\n",
            " |--  Mediterranean: long (nullable = true)\n",
            " |--  Mexican: long (nullable = true)\n",
            " |--  Middle Eastern: long (nullable = true)\n",
            " |--  Modern European: long (nullable = true)\n",
            " |--  Mongolian: long (nullable = true)\n",
            " |--  Moroccan: long (nullable = true)\n",
            " |--  Museums: long (nullable = true)\n",
            " |--  Music Venues: long (nullable = true)\n",
            " |--  New Mexican Cuisine: long (nullable = true)\n",
            " |--  Nightlife: long (nullable = true)\n",
            " |--  Noodles: long (nullable = true)\n",
            " |--  Nutritionists: long (nullable = true)\n",
            " |--  Organic Stores: long (nullable = true)\n",
            " |--  Paint & Sip: long (nullable = true)\n",
            " |--  Pakistani: long (nullable = true)\n",
            " |--  Pan Asian: long (nullable = true)\n",
            " |--  Party & Event Planning: long (nullable = true)\n",
            " |--  Pasta Shops: long (nullable = true)\n",
            " |--  Patisserie/Cake Shop: long (nullable = true)\n",
            " |--  Performing Arts: long (nullable = true)\n",
            " |--  Persian/Iranian: long (nullable = true)\n",
            " |--  Peruvian: long (nullable = true)\n",
            " |--  Pets: long (nullable = true)\n",
            " |--  Pizza: long (nullable = true)\n",
            " |--  Poke: long (nullable = true)\n",
            " |--  Polish: long (nullable = true)\n",
            " |--  Pool Halls: long (nullable = true)\n",
            " |--  Pop-Up Restaurants: long (nullable = true)\n",
            " |--  Portuguese: long (nullable = true)\n",
            " |--  Pretzels: long (nullable = true)\n",
            " |--  Professional Services: long (nullable = true)\n",
            " |--  Pubs: long (nullable = true)\n",
            " |--  Puerto Rican: long (nullable = true)\n",
            " |--  Ramen: long (nullable = true)\n",
            " |--  Recycling Center: long (nullable = true)\n",
            " |--  Resorts: long (nullable = true)\n",
            " |--  Restaurant Supplies: long (nullable = true)\n",
            " |--  Russian: long (nullable = true)\n",
            " |--  Salad: long (nullable = true)\n",
            " |--  Salvadoran: long (nullable = true)\n",
            " |--  Sandwiches: long (nullable = true)\n",
            " |--  Sardinian: long (nullable = true)\n",
            " |--  Seafood: long (nullable = true)\n",
            " |--  Seafood Markets: long (nullable = true)\n",
            " |--  Senegalese: long (nullable = true)\n",
            " |--  Shanghainese: long (nullable = true)\n",
            " |--  Shaved Ice: long (nullable = true)\n",
            " |--  Shopping: long (nullable = true)\n",
            " |--  Shopping Centers: long (nullable = true)\n",
            " |--  Social Clubs: long (nullable = true)\n",
            " |--  Soul Food: long (nullable = true)\n",
            " |--  Soup: long (nullable = true)\n",
            " |--  Southern: long (nullable = true)\n",
            " |--  Spanish: long (nullable = true)\n",
            " |--  Specialty Food: long (nullable = true)\n",
            " |--  Sports Bars: long (nullable = true)\n",
            " |--  Sports Clubs: long (nullable = true)\n",
            " |--  Steakhouses: long (nullable = true)\n",
            " |--  Street Vendors: long (nullable = true)\n",
            " |--  Sushi Bars: long (nullable = true)\n",
            " |--  Syrian: long (nullable = true)\n",
            " |--  Szechuan: long (nullable = true)\n",
            " |--  Tabletop Games: long (nullable = true)\n",
            " |--  Tacos: long (nullable = true)\n",
            " |--  Taiwanese: long (nullable = true)\n",
            " |--  Tapas Bars: long (nullable = true)\n",
            " |--  Tapas/Small Plates: long (nullable = true)\n",
            " |--  Tea Rooms: long (nullable = true)\n",
            " |--  Teppanyaki: long (nullable = true)\n",
            " |--  Tex-Mex: long (nullable = true)\n",
            " |--  Thai: long (nullable = true)\n",
            " |--  Themed Cafes: long (nullable = true)\n",
            " |--  Trinidadian: long (nullable = true)\n",
            " |--  Turkish: long (nullable = true)\n",
            " |--  Ukrainian: long (nullable = true)\n",
            " |--  Uzbek: long (nullable = true)\n",
            " |--  Vegan: long (nullable = true)\n",
            " |--  Vegetarian: long (nullable = true)\n",
            " |--  Venues & Event Spaces: long (nullable = true)\n",
            " |--  Vietnamese: long (nullable = true)\n",
            " |--  Waffles: long (nullable = true)\n",
            " |--  Watches: long (nullable = true)\n",
            " |--  Wedding Planning: long (nullable = true)\n",
            " |--  Whiskey Bars: long (nullable = true)\n",
            " |--  Wholesalers: long (nullable = true)\n",
            " |--  Wine & Spirits: long (nullable = true)\n",
            " |--  Wine Bars: long (nullable = true)\n",
            " |--  Wineries: long (nullable = true)\n",
            " |--  Wraps: long (nullable = true)\n",
            " |--  Yelp Events: long (nullable = true)\n",
            " |--  Yoga: long (nullable = true)\n",
            " |-- AcceptsInsurance: long (nullable = true)\n",
            " |-- AgesAllowed: long (nullable = true)\n",
            " |-- Alcohol: long (nullable = true)\n",
            " |-- BYOB: long (nullable = true)\n",
            " |-- BYOBCorkage: long (nullable = true)\n",
            " |-- BestNights: long (nullable = true)\n",
            " |-- BikeParking: long (nullable = true)\n",
            " |-- BusinessAcceptsBitcoin: long (nullable = true)\n",
            " |-- BusinessAcceptsCreditCards: long (nullable = true)\n",
            " |-- ByAppointmentOnly: long (nullable = true)\n",
            " |-- Caters: long (nullable = true)\n",
            " |-- CoatCheck: long (nullable = true)\n",
            " |-- Corkage: long (nullable = true)\n",
            " |-- DietaryRestrictions: long (nullable = true)\n",
            " |-- DogsAllowed: long (nullable = true)\n",
            " |-- DriveThru: long (nullable = true)\n",
            " |-- GoodForDancing: long (nullable = true)\n",
            " |-- GoodForKids: long (nullable = true)\n",
            " |-- HairSpecializesIn: long (nullable = true)\n",
            " |-- HappyHour: long (nullable = true)\n",
            " |-- HasTV: long (nullable = true)\n",
            " |-- Music: long (nullable = true)\n",
            " |-- NoiseLevel: long (nullable = true)\n",
            " |-- Open24Hours: long (nullable = true)\n",
            " |-- OutdoorSeating: long (nullable = true)\n",
            " |-- RestaurantsAttire: long (nullable = true)\n",
            " |-- RestaurantsCounterService: long (nullable = true)\n",
            " |-- RestaurantsDelivery: long (nullable = true)\n",
            " |-- RestaurantsGoodForGroups: long (nullable = true)\n",
            " |-- RestaurantsPriceRange2: long (nullable = true)\n",
            " |-- RestaurantsReservations: long (nullable = true)\n",
            " |-- RestaurantsTableService: long (nullable = true)\n",
            " |-- RestaurantsTakeOut: long (nullable = true)\n",
            " |-- Smoking: long (nullable = true)\n",
            " |-- WheelchairAccessible: long (nullable = true)\n",
            " |-- WiFi: long (nullable = true)\n",
            " |-- romantic: long (nullable = true)\n",
            " |-- intimate: long (nullable = true)\n",
            " |-- classy: long (nullable = true)\n",
            " |-- hipster: long (nullable = true)\n",
            " |-- divey: long (nullable = true)\n",
            " |-- touristy: long (nullable = true)\n",
            " |-- trendy: long (nullable = true)\n",
            " |-- upscale: long (nullable = true)\n",
            " |-- casual: long (nullable = true)\n",
            " |-- garage: long (nullable = true)\n",
            " |-- street: long (nullable = true)\n",
            " |-- validated: long (nullable = true)\n",
            " |-- lot: long (nullable = true)\n",
            " |-- valet: long (nullable = true)\n",
            " |-- dessert: long (nullable = true)\n",
            " |-- latenight: long (nullable = true)\n",
            " |-- lunch: long (nullable = true)\n",
            " |-- dinner: long (nullable = true)\n",
            " |-- brunch: long (nullable = true)\n",
            " |-- breakfast: double (nullable = true)\n",
            "\n"
          ]
        }
      ],
      "source": [
        "user_profile.printSchema()"
      ]
    },
    {
      "cell_type": "code",
      "execution_count": 110,
      "metadata": {
        "id": "A9Uwq-VX7kGX"
      },
      "outputs": [],
      "source": [
        "from pyspark.ml.feature import MinMaxScaler\n",
        "from pyspark.ml.linalg import Vectors\n",
        "\n",
        "# Selects only the columns to be normalized\n",
        "columns_to_normalize = [column for column in user_profile.columns if column not in ['user_id_index']]\n",
        "\n",
        "# Create a feature vector using the columns to be normalized\n",
        "assembler = VectorAssembler(inputCols=columns_to_normalize, outputCol=\"features\")\n",
        "assembled_df = assembler.transform(user_profile)\n",
        "\n",
        "# Normalize features using MinMaxScaler\n",
        "scaler = MinMaxScaler(inputCol=\"features\", outputCol=\"scaled_features\")\n",
        "scaler_model = scaler.fit(assembled_df)\n",
        "scaled_df = scaler_model.transform(assembled_df)\n",
        "\n",
        "# Select only the desired columns\n",
        "selected_columns = ['user_id_index', 'scaled_features']\n",
        "user_profile_normalized_df = scaled_df.select(selected_columns)\n",
        "\n",
        "\n"
      ]
    },
    {
      "cell_type": "code",
      "execution_count": 111,
      "metadata": {
        "colab": {
          "base_uri": "https://localhost:8080/"
        },
        "id": "2LnfIXafGnW-",
        "outputId": "f1aa989b-b802-458c-9a17-247cb7c8df81"
      },
      "outputs": [
        {
          "output_type": "stream",
          "name": "stdout",
          "text": [
            "+-------------+--------------------+\n",
            "|user_id_index|     scaled_features|\n",
            "+-------------+--------------------+\n",
            "|      14269.0|(289,[3,9,22,23,2...|\n",
            "+-------------+--------------------+\n",
            "only showing top 1 row\n",
            "\n"
          ]
        }
      ],
      "source": [
        "user_profile_normalized_df.show(1)"
      ]
    },
    {
      "cell_type": "code",
      "execution_count": 112,
      "metadata": {
        "colab": {
          "base_uri": "https://localhost:8080/"
        },
        "id": "L5lowNDbcDEv",
        "outputId": "ba58f76b-8b9d-40c6-c739-750ab20be266"
      },
      "outputs": [
        {
          "output_type": "stream",
          "name": "stdout",
          "text": [
            "Number of NaN values in column 'user_id_index': 0\n",
            "Number of NaN values in column 'scaled_features': 0\n"
          ]
        }
      ],
      "source": [
        "from pyspark.sql import functions as F\n",
        "\n",
        "# Specify the columns to check for NaN values\n",
        "nan_check_columns = [\"user_id_index\", \"scaled_features\"]\n",
        "\n",
        "# Count the number of NaN values in the specified columns\n",
        "nan_counts = user_profile_normalized_df.select(*[F.sum(F.col(col).isNull().cast(\"integer\")).alias(col) for col in nan_check_columns]).first()\n",
        "\n",
        "# Print the NaN counts\n",
        "for col in nan_check_columns:\n",
        "    count = nan_counts[col]\n",
        "    print(f\"Number of NaN values in column '{col}': {count}\")\n"
      ]
    },
    {
      "cell_type": "code",
      "execution_count": 113,
      "metadata": {
        "id": "8iwV0voI-PAi"
      },
      "outputs": [],
      "source": [
        "# I also perform normalization for the business matrix\n",
        "\n",
        "from pyspark.ml.feature import MinMaxScaler\n",
        "from pyspark.ml.linalg import Vectors\n",
        "\n",
        "\n",
        "columns_to_normalize = [column for column in merged_df.columns if column not in ['business_id_index']]\n",
        "\n",
        "\n",
        "assembler = VectorAssembler(inputCols=columns_to_normalize, outputCol=\"features\")\n",
        "assembled_df = assembler.transform(merged_df)\n",
        "\n",
        "\n",
        "scaler = MinMaxScaler(inputCol=\"features\", outputCol=\"scaled_features\")\n",
        "scaler_model = scaler.fit(assembled_df)\n",
        "scaled_df = scaler_model.transform(assembled_df)\n",
        "\n",
        "\n",
        "selected_columns = ['business_id_index', 'scaled_features']\n",
        "business_profile_normalized_df = scaled_df.select(selected_columns)\n",
        "\n",
        "\n"
      ]
    },
    {
      "cell_type": "code",
      "execution_count": 114,
      "metadata": {
        "colab": {
          "base_uri": "https://localhost:8080/"
        },
        "id": "UxSfco4ZhcWo",
        "outputId": "bebf574d-dec2-47d8-e9ed-4f61473a1d55"
      },
      "outputs": [
        {
          "output_type": "stream",
          "name": "stdout",
          "text": [
            "root\n",
            " |-- business_id_index: double (nullable = false)\n",
            " |-- scaled_features: vector (nullable = true)\n",
            "\n"
          ]
        }
      ],
      "source": [
        "business_profile_normalized_df.printSchema()"
      ]
    },
    {
      "cell_type": "code",
      "execution_count": 115,
      "metadata": {
        "id": "8QGd8iHyKr1m"
      },
      "outputs": [],
      "source": [
        "user_profile_normalized_df = user_profile_normalized_df.withColumnRenamed(\"scaled_features\", \"user_features\")"
      ]
    },
    {
      "cell_type": "code",
      "execution_count": 116,
      "metadata": {
        "id": "U4ZiieVEKq5C"
      },
      "outputs": [],
      "source": [
        "business_profile_normalized_df = business_profile_normalized_df.withColumnRenamed(\"scaled_features\", \"business_features\")"
      ]
    },
    {
      "cell_type": "code",
      "execution_count": 117,
      "metadata": {
        "id": "NzsuSmHMxemZ"
      },
      "outputs": [],
      "source": [
        "# Union of business profiles and user profiles\n",
        "cross_business_user = business_profile_normalized_df.crossJoin(user_profile_normalized_df)"
      ]
    },
    {
      "cell_type": "code",
      "execution_count": 118,
      "metadata": {
        "colab": {
          "base_uri": "https://localhost:8080/"
        },
        "id": "W05xCr0zxqLL",
        "outputId": "c342b58f-a271-4149-edbc-216f8fbd2b07"
      },
      "outputs": [
        {
          "output_type": "stream",
          "name": "stdout",
          "text": [
            "root\n",
            " |-- business_id_index: double (nullable = false)\n",
            " |-- business_features: vector (nullable = true)\n",
            " |-- user_id_index: double (nullable = false)\n",
            " |-- user_features: vector (nullable = true)\n",
            "\n"
          ]
        }
      ],
      "source": [
        "cross_business_user.printSchema()"
      ]
    },
    {
      "cell_type": "code",
      "execution_count": 119,
      "metadata": {
        "colab": {
          "base_uri": "https://localhost:8080/"
        },
        "id": "oOPZ7Zb6BNuh",
        "outputId": "4f774e03-3e7e-4e14-8d85-edbe756a397b"
      },
      "outputs": [
        {
          "output_type": "stream",
          "name": "stdout",
          "text": [
            "+-----------------+--------------------+-------------+--------------------+\n",
            "|business_id_index|   business_features|user_id_index|       user_features|\n",
            "+-----------------+--------------------+-------------+--------------------+\n",
            "|            128.0|(292,[0,1,5,11,24...|      14269.0|(289,[3,9,22,23,2...|\n",
            "+-----------------+--------------------+-------------+--------------------+\n",
            "only showing top 1 row\n",
            "\n"
          ]
        }
      ],
      "source": [
        "cross_business_user.show(1)"
      ]
    },
    {
      "cell_type": "code",
      "execution_count": 120,
      "metadata": {
        "id": "qKjBd9ZTY16R"
      },
      "outputs": [],
      "source": [
        "from pyspark.ml.linalg import Vectors, VectorUDT\n",
        "from pyspark.sql.functions import udf\n",
        "from pyspark.sql.types import IntegerType\n",
        "\n",
        "# Cosine similarity function\n",
        "def cosine_similarity(v1, v2):\n",
        "    dot_product = float(v1.dot(v2))\n",
        "    norm_v1 = float(v1.norm(2))\n",
        "    norm_v2 = float(v2.norm(2))\n",
        "    similarity = dot_product / (norm_v1 * norm_v2)\n",
        "    return similarity\n",
        "\n",
        "# UDF to truncate or expand feature vectors\n",
        "def resize_features(features, max_dimension):\n",
        "    return Vectors.sparse(max_dimension, features.indices, features.values)\n",
        "\n",
        "# UDF to calculate cosine similarity as a column in a DataFrame\n",
        "cosine_similarity_udf = udf(cosine_similarity)\n",
        "\n",
        "\n",
        "# Find the maximum size between the two DataFrames\n",
        "max_dimension = max(cross_business_user.withColumn(\"size\", udf(lambda x: x.size, IntegerType())(\"business_features\")).selectExpr(\"max(size)\").collect()[0][0],\n",
        "                    cross_business_user.withColumn(\"size\", udf(lambda x: x.size, IntegerType())(\"user_features\")).selectExpr(\"max(size)\").collect()[0][0])\n",
        "\n",
        "# Truncation or expansion of feature vectors\n",
        "cross_business_user = cross_business_user.withColumn(\"business_features_resized\", udf(lambda x: resize_features(x, max_dimension), VectorUDT())(\"business_features\")) \\\n",
        "                                         .withColumn(\"user_features_resized\", udf(lambda x: resize_features(x, max_dimension), VectorUDT())(\"user_features\"))\n",
        "\n",
        "\n"
      ]
    },
    {
      "cell_type": "code",
      "execution_count": 121,
      "metadata": {
        "id": "4lsK9qi5h-LD"
      },
      "outputs": [],
      "source": [
        "# Calculation of cosine similarity between business and user profiles\n",
        "similarity_df = cross_business_user.withColumn(\"similarity\", cosine_similarity_udf(\"business_features_resized\", \"user_features_resized\"))\n",
        "\n"
      ]
    },
    {
      "cell_type": "code",
      "execution_count": 122,
      "metadata": {
        "colab": {
          "base_uri": "https://localhost:8080/"
        },
        "id": "_1CCuVUr76vw",
        "outputId": "be9699df-45bb-4cf1-fba0-d09402429748"
      },
      "outputs": [
        {
          "output_type": "stream",
          "name": "stdout",
          "text": [
            "root\n",
            " |-- business_id_index: double (nullable = false)\n",
            " |-- business_features: vector (nullable = true)\n",
            " |-- user_id_index: double (nullable = false)\n",
            " |-- user_features: vector (nullable = true)\n",
            " |-- business_features_resized: vector (nullable = true)\n",
            " |-- user_features_resized: vector (nullable = true)\n",
            " |-- similarity: string (nullable = true)\n",
            "\n"
          ]
        }
      ],
      "source": [
        "similarity_df.printSchema()"
      ]
    },
    {
      "cell_type": "code",
      "execution_count": 123,
      "metadata": {
        "colab": {
          "base_uri": "https://localhost:8080/"
        },
        "id": "7VDcEyDSqaCj",
        "outputId": "e8aef396-595c-49a8-948a-ef591340b3d7"
      },
      "outputs": [
        {
          "output_type": "stream",
          "name": "stdout",
          "text": [
            "+-----------------+--------------------+-------------+--------------------+-------------------------+---------------------+-------------------+\n",
            "|business_id_index|   business_features|user_id_index|       user_features|business_features_resized|user_features_resized|         similarity|\n",
            "+-----------------+--------------------+-------------+--------------------+-------------------------+---------------------+-------------------+\n",
            "|            128.0|(292,[0,1,5,11,24...|      14269.0|(289,[3,9,22,23,2...|     (292,[0,1,5,11,24...| (292,[3,9,22,23,2...|0.41325208153663356|\n",
            "|            128.0|(292,[0,1,5,11,24...|    1362969.0|(289,[3,9,22,23,2...|     (292,[0,1,5,11,24...| (292,[3,9,22,23,2...| 0.3959575666527556|\n",
            "+-----------------+--------------------+-------------+--------------------+-------------------------+---------------------+-------------------+\n",
            "only showing top 2 rows\n",
            "\n"
          ]
        }
      ],
      "source": [
        "# Similarity visualization\n",
        "similarity_df.show(2)"
      ]
    },
    {
      "cell_type": "code",
      "execution_count": 124,
      "metadata": {
        "id": "YbdSJGgWsOUk"
      },
      "outputs": [],
      "source": [
        "# Select the user of interest\n",
        "user_id_index = 14269.0\n",
        "user_of_interest = cross_business_user.filter(cross_business_user.user_id_index == user_id_index)\n",
        "\n",
        "# Sort by similarity in descending order\n",
        "sorted_similarity = similarity_df.orderBy(\"similarity\", ascending=False)\n",
        "\n",
        "# Filter by the user of interest\n",
        "user_similarity = sorted_similarity.filter(sorted_similarity.user_id_index == user_id_index)\n"
      ]
    },
    {
      "cell_type": "code",
      "execution_count": 125,
      "metadata": {
        "colab": {
          "base_uri": "https://localhost:8080/"
        },
        "id": "y_dSDZFWtFDS",
        "outputId": "3b1027ce-53fc-437d-b07c-6eeb9b012bcd"
      },
      "outputs": [
        {
          "output_type": "stream",
          "name": "stdout",
          "text": [
            "root\n",
            " |-- business_id: string (nullable = true)\n",
            " |--  Acai Bowls: integer (nullable = true)\n",
            " |--  Active Life: integer (nullable = true)\n",
            " |--  Adult: integer (nullable = true)\n",
            " |--  Afghan: integer (nullable = true)\n",
            " |--  African: integer (nullable = true)\n",
            " |--  American (New): integer (nullable = true)\n",
            " |--  American (Traditional): integer (nullable = true)\n",
            " |--  Arabic: integer (nullable = true)\n",
            " |--  Arcades: integer (nullable = true)\n",
            " |--  Argentine: integer (nullable = true)\n",
            " |--  Arts & Entertainment: integer (nullable = true)\n",
            " |--  Asian Fusion: integer (nullable = true)\n",
            " |--  Automotive: integer (nullable = true)\n",
            " |--  Bagels: integer (nullable = true)\n",
            " |--  Bakeries: integer (nullable = true)\n",
            " |--  Bangladeshi: integer (nullable = true)\n",
            " |--  Barbeque: integer (nullable = true)\n",
            " |--  Bars: integer (nullable = true)\n",
            " |--  Bed & Breakfast: integer (nullable = true)\n",
            " |--  Beer: integer (nullable = true)\n",
            " |--  Beer Bar: integer (nullable = true)\n",
            " |--  Beer Gardens: integer (nullable = true)\n",
            " |--  Belgian: integer (nullable = true)\n",
            " |--  Beverage Store: integer (nullable = true)\n",
            " |--  Bowling: integer (nullable = true)\n",
            " |--  Brazilian: integer (nullable = true)\n",
            " |--  Breakfast & Brunch: integer (nullable = true)\n",
            " |--  Breweries: integer (nullable = true)\n",
            " |--  Brewpubs: integer (nullable = true)\n",
            " |--  British: integer (nullable = true)\n",
            " |--  Bubble Tea: integer (nullable = true)\n",
            " |--  Buffets: integer (nullable = true)\n",
            " |--  Burgers: integer (nullable = true)\n",
            " |--  Burmese: integer (nullable = true)\n",
            " |--  Butcher: integer (nullable = true)\n",
            " |--  Cafes: integer (nullable = true)\n",
            " |--  Cafeteria: integer (nullable = true)\n",
            " |--  Cajun/Creole: integer (nullable = true)\n",
            " |--  Cambodian: integer (nullable = true)\n",
            " |--  Cantonese: integer (nullable = true)\n",
            " |--  Caribbean: integer (nullable = true)\n",
            " |--  Casinos: integer (nullable = true)\n",
            " |--  Caterers: integer (nullable = true)\n",
            " |--  Cheese Shops: integer (nullable = true)\n",
            " |--  Cheesesteaks: integer (nullable = true)\n",
            " |--  Chicken Shop: integer (nullable = true)\n",
            " |--  Chicken Wings: integer (nullable = true)\n",
            " |--  Chinese: integer (nullable = true)\n",
            " |--  Chocolatiers & Shops: integer (nullable = true)\n",
            " |--  Cocktail Bars: integer (nullable = true)\n",
            " |--  Coffee & Tea: integer (nullable = true)\n",
            " |--  Coffee Roasteries: integer (nullable = true)\n",
            " |--  Comfort Food: integer (nullable = true)\n",
            " |--  Convenience Stores: integer (nullable = true)\n",
            " |--  Conveyor Belt Sushi: integer (nullable = true)\n",
            " |--  Country Clubs: integer (nullable = true)\n",
            " |--  Creperies: integer (nullable = true)\n",
            " |--  Cuban: integer (nullable = true)\n",
            " |--  Cupcakes: integer (nullable = true)\n",
            " |--  Custom Cakes: integer (nullable = true)\n",
            " |--  Czech: integer (nullable = true)\n",
            " |--  Dance Clubs: integer (nullable = true)\n",
            " |--  Delis: integer (nullable = true)\n",
            " |--  Desserts: integer (nullable = true)\n",
            " |--  Dim Sum: integer (nullable = true)\n",
            " |--  Diners: integer (nullable = true)\n",
            " |--  Dinner Theater: integer (nullable = true)\n",
            " |--  Dive Bars: integer (nullable = true)\n",
            " |--  Do-It-Yourself Food: integer (nullable = true)\n",
            " |--  Dominican: integer (nullable = true)\n",
            " |--  Donuts: integer (nullable = true)\n",
            " |--  Drugstores: integer (nullable = true)\n",
            " |--  Eatertainment: integer (nullable = true)\n",
            " |--  Ethiopian: integer (nullable = true)\n",
            " |--  Ethnic Food: integer (nullable = true)\n",
            " |--  Event Planning & Services: integer (nullable = true)\n",
            " |--  Falafel: integer (nullable = true)\n",
            " |--  Farmers Market: integer (nullable = true)\n",
            " |--  Farms: integer (nullable = true)\n",
            " |--  Fast Food: integer (nullable = true)\n",
            " |--  Filipino: integer (nullable = true)\n",
            " |--  Fish & Chips: integer (nullable = true)\n",
            " |--  Fitness & Instruction: integer (nullable = true)\n",
            " |--  Florists: integer (nullable = true)\n",
            " |--  Flowers & Gifts: integer (nullable = true)\n",
            " |--  Food: integer (nullable = true)\n",
            " |--  Food Court: integer (nullable = true)\n",
            " |--  Food Delivery Services: integer (nullable = true)\n",
            " |--  Food Stands: integer (nullable = true)\n",
            " |--  Food Trucks: integer (nullable = true)\n",
            " |--  French: integer (nullable = true)\n",
            " |--  Fruits & Veggies: integer (nullable = true)\n",
            " |--  Gas Stations: integer (nullable = true)\n",
            " |--  Gastropubs: integer (nullable = true)\n",
            " |--  Gay Bars: integer (nullable = true)\n",
            " |--  Gelato: integer (nullable = true)\n",
            " |--  German: integer (nullable = true)\n",
            " |--  Gluten-Free: integer (nullable = true)\n",
            " |--  Golf: integer (nullable = true)\n",
            " |--  Golf Lessons: integer (nullable = true)\n",
            " |--  Greek: integer (nullable = true)\n",
            " |--  Grocery: integer (nullable = true)\n",
            " |--  Gyms: integer (nullable = true)\n",
            " |--  Haitian: integer (nullable = true)\n",
            " |--  Halal: integer (nullable = true)\n",
            " |--  Hawaiian: integer (nullable = true)\n",
            " |--  Health & Medical: integer (nullable = true)\n",
            " |--  Health Markets: integer (nullable = true)\n",
            " |--  Himalayan/Nepalese: integer (nullable = true)\n",
            " |--  Hong Kong Style Cafe: integer (nullable = true)\n",
            " |--  Hot Dogs: integer (nullable = true)\n",
            " |--  Hot Pot: integer (nullable = true)\n",
            " |--  Hotels: integer (nullable = true)\n",
            " |--  Hotels & Travel: integer (nullable = true)\n",
            " |--  Iberian: integer (nullable = true)\n",
            " |--  Ice Cream & Frozen Yogurt: integer (nullable = true)\n",
            " |--  Imported Food: integer (nullable = true)\n",
            " |--  Indian: integer (nullable = true)\n",
            " |--  Indonesian: integer (nullable = true)\n",
            " |--  Indoor Playcentre: integer (nullable = true)\n",
            " |--  International Grocery: integer (nullable = true)\n",
            " |--  Irish: integer (nullable = true)\n",
            " |--  Irish Pub: integer (nullable = true)\n",
            " |--  Italian: integer (nullable = true)\n",
            " |--  Japanese: integer (nullable = true)\n",
            " |--  Japanese Curry: integer (nullable = true)\n",
            " |--  Jazz & Blues: integer (nullable = true)\n",
            " |--  Jewelry: integer (nullable = true)\n",
            " |--  Juice Bars & Smoothies: integer (nullable = true)\n",
            " |--  Karaoke: integer (nullable = true)\n",
            " |--  Kebab: integer (nullable = true)\n",
            " |--  Kids Activities: integer (nullable = true)\n",
            " |--  Korean: integer (nullable = true)\n",
            " |--  Kosher: integer (nullable = true)\n",
            " |--  Laotian: integer (nullable = true)\n",
            " |--  Latin American: integer (nullable = true)\n",
            " |--  Live/Raw Food: integer (nullable = true)\n",
            " |--  Local Flavor: integer (nullable = true)\n",
            " |--  Local Services: integer (nullable = true)\n",
            " |--  Lounges: integer (nullable = true)\n",
            " |--  Malaysian: integer (nullable = true)\n",
            " |--  Meat Shops: integer (nullable = true)\n",
            " |--  Mediterranean: integer (nullable = true)\n",
            " |--  Mexican: integer (nullable = true)\n",
            " |--  Middle Eastern: integer (nullable = true)\n",
            " |--  Modern European: integer (nullable = true)\n",
            " |--  Mongolian: integer (nullable = true)\n",
            " |--  Moroccan: integer (nullable = true)\n",
            " |--  Museums: integer (nullable = true)\n",
            " |--  Music Venues: integer (nullable = true)\n",
            " |--  New Mexican Cuisine: integer (nullable = true)\n",
            " |--  Nightlife: integer (nullable = true)\n",
            " |--  Noodles: integer (nullable = true)\n",
            " |--  Nutritionists: integer (nullable = true)\n",
            " |--  Organic Stores: integer (nullable = true)\n",
            " |--  Paint & Sip: integer (nullable = true)\n",
            " |--  Pakistani: integer (nullable = true)\n",
            " |--  Pan Asian: integer (nullable = true)\n",
            " |--  Party & Event Planning: integer (nullable = true)\n",
            " |--  Pasta Shops: integer (nullable = true)\n",
            " |--  Patisserie/Cake Shop: integer (nullable = true)\n",
            " |--  Performing Arts: integer (nullable = true)\n",
            " |--  Persian/Iranian: integer (nullable = true)\n",
            " |--  Peruvian: integer (nullable = true)\n",
            " |--  Pets: integer (nullable = true)\n",
            " |--  Pizza: integer (nullable = true)\n",
            " |--  Poke: integer (nullable = true)\n",
            " |--  Polish: integer (nullable = true)\n",
            " |--  Pool Halls: integer (nullable = true)\n",
            " |--  Pop-Up Restaurants: integer (nullable = true)\n",
            " |--  Portuguese: integer (nullable = true)\n",
            " |--  Pretzels: integer (nullable = true)\n",
            " |--  Professional Services: integer (nullable = true)\n",
            " |--  Pubs: integer (nullable = true)\n",
            " |--  Puerto Rican: integer (nullable = true)\n",
            " |--  Ramen: integer (nullable = true)\n",
            " |--  Recycling Center: integer (nullable = true)\n",
            " |--  Resorts: integer (nullable = true)\n",
            " |--  Restaurant Supplies: integer (nullable = true)\n",
            " |--  Russian: integer (nullable = true)\n",
            " |--  Salad: integer (nullable = true)\n",
            " |--  Salvadoran: integer (nullable = true)\n",
            " |--  Sandwiches: integer (nullable = true)\n",
            " |--  Sardinian: integer (nullable = true)\n",
            " |--  Seafood: integer (nullable = true)\n",
            " |--  Seafood Markets: integer (nullable = true)\n",
            " |--  Senegalese: integer (nullable = true)\n",
            " |--  Shanghainese: integer (nullable = true)\n",
            " |--  Shaved Ice: integer (nullable = true)\n",
            " |--  Shopping: integer (nullable = true)\n",
            " |--  Shopping Centers: integer (nullable = true)\n",
            " |--  Social Clubs: integer (nullable = true)\n",
            " |--  Soul Food: integer (nullable = true)\n",
            " |--  Soup: integer (nullable = true)\n",
            " |--  Southern: integer (nullable = true)\n",
            " |--  Spanish: integer (nullable = true)\n",
            " |--  Specialty Food: integer (nullable = true)\n",
            " |--  Sports Bars: integer (nullable = true)\n",
            " |--  Sports Clubs: integer (nullable = true)\n",
            " |--  Steakhouses: integer (nullable = true)\n",
            " |--  Street Vendors: integer (nullable = true)\n",
            " |--  Sushi Bars: integer (nullable = true)\n",
            " |--  Syrian: integer (nullable = true)\n",
            " |--  Szechuan: integer (nullable = true)\n",
            " |--  Tabletop Games: integer (nullable = true)\n",
            " |--  Tacos: integer (nullable = true)\n",
            " |--  Taiwanese: integer (nullable = true)\n",
            " |--  Tapas Bars: integer (nullable = true)\n",
            " |--  Tapas/Small Plates: integer (nullable = true)\n",
            " |--  Tea Rooms: integer (nullable = true)\n",
            " |--  Teppanyaki: integer (nullable = true)\n",
            " |--  Tex-Mex: integer (nullable = true)\n",
            " |--  Thai: integer (nullable = true)\n",
            " |--  Themed Cafes: integer (nullable = true)\n",
            " |--  Trinidadian: integer (nullable = true)\n",
            " |--  Turkish: integer (nullable = true)\n",
            " |--  Ukrainian: integer (nullable = true)\n",
            " |--  Uzbek: integer (nullable = true)\n",
            " |--  Vegan: integer (nullable = true)\n",
            " |--  Vegetarian: integer (nullable = true)\n",
            " |--  Venues & Event Spaces: integer (nullable = true)\n",
            " |--  Vietnamese: integer (nullable = true)\n",
            " |--  Waffles: integer (nullable = true)\n",
            " |--  Watches: integer (nullable = true)\n",
            " |--  Wedding Planning: integer (nullable = true)\n",
            " |--  Whiskey Bars: integer (nullable = true)\n",
            " |--  Wholesalers: integer (nullable = true)\n",
            " |--  Wine & Spirits: integer (nullable = true)\n",
            " |--  Wine Bars: integer (nullable = true)\n",
            " |--  Wineries: integer (nullable = true)\n",
            " |--  Wraps: integer (nullable = true)\n",
            " |--  Yelp Events: integer (nullable = true)\n",
            " |--  Yoga: integer (nullable = true)\n",
            " |-- AcceptsInsurance: integer (nullable = false)\n",
            " |-- AgesAllowed: integer (nullable = false)\n",
            " |-- Alcohol: integer (nullable = false)\n",
            " |-- BYOB: integer (nullable = false)\n",
            " |-- BYOBCorkage: integer (nullable = false)\n",
            " |-- BestNights: integer (nullable = false)\n",
            " |-- BikeParking: integer (nullable = false)\n",
            " |-- BusinessAcceptsBitcoin: integer (nullable = false)\n",
            " |-- BusinessAcceptsCreditCards: integer (nullable = false)\n",
            " |-- ByAppointmentOnly: integer (nullable = false)\n",
            " |-- Caters: integer (nullable = false)\n",
            " |-- CoatCheck: integer (nullable = false)\n",
            " |-- Corkage: integer (nullable = false)\n",
            " |-- DietaryRestrictions: integer (nullable = false)\n",
            " |-- DogsAllowed: integer (nullable = false)\n",
            " |-- DriveThru: integer (nullable = false)\n",
            " |-- GoodForDancing: integer (nullable = false)\n",
            " |-- GoodForKids: integer (nullable = false)\n",
            " |-- HairSpecializesIn: integer (nullable = false)\n",
            " |-- HappyHour: integer (nullable = false)\n",
            " |-- HasTV: integer (nullable = false)\n",
            " |-- Music: integer (nullable = false)\n",
            " |-- NoiseLevel: integer (nullable = false)\n",
            " |-- Open24Hours: integer (nullable = false)\n",
            " |-- OutdoorSeating: integer (nullable = false)\n",
            " |-- RestaurantsAttire: integer (nullable = false)\n",
            " |-- RestaurantsCounterService: integer (nullable = false)\n",
            " |-- RestaurantsDelivery: integer (nullable = false)\n",
            " |-- RestaurantsGoodForGroups: integer (nullable = false)\n",
            " |-- RestaurantsPriceRange2: integer (nullable = false)\n",
            " |-- RestaurantsReservations: integer (nullable = false)\n",
            " |-- RestaurantsTableService: integer (nullable = false)\n",
            " |-- RestaurantsTakeOut: integer (nullable = false)\n",
            " |-- Smoking: integer (nullable = false)\n",
            " |-- WheelchairAccessible: integer (nullable = false)\n",
            " |-- WiFi: integer (nullable = false)\n",
            " |-- romantic: integer (nullable = false)\n",
            " |-- intimate: integer (nullable = false)\n",
            " |-- classy: integer (nullable = false)\n",
            " |-- hipster: integer (nullable = false)\n",
            " |-- divey: integer (nullable = false)\n",
            " |-- touristy: integer (nullable = false)\n",
            " |-- trendy: integer (nullable = false)\n",
            " |-- upscale: integer (nullable = false)\n",
            " |-- casual: integer (nullable = false)\n",
            " |-- garage: integer (nullable = false)\n",
            " |-- street: integer (nullable = false)\n",
            " |-- validated: integer (nullable = false)\n",
            " |-- lot: integer (nullable = false)\n",
            " |-- valet: integer (nullable = false)\n",
            " |-- dessert: integer (nullable = false)\n",
            " |-- latenight: integer (nullable = false)\n",
            " |-- lunch: integer (nullable = false)\n",
            " |-- dinner: integer (nullable = false)\n",
            " |-- brunch: integer (nullable = false)\n",
            " |-- breakfast: integer (nullable = false)\n",
            " |-- name: string (nullable = true)\n",
            " |-- stars: double (nullable = true)\n",
            "\n"
          ]
        }
      ],
      "source": [
        "from pyspark.sql.functions import col\n",
        "df_res_sel = df_final_spark.drop(col('user_id'))\n",
        "df_res_sel.printSchema()"
      ]
    },
    {
      "cell_type": "code",
      "execution_count": 126,
      "metadata": {
        "id": "_nBAH06Ps_fy"
      },
      "outputs": [],
      "source": [
        "# Convert the business_id to numbers\n",
        "from pyspark.ml.feature import StringIndexer\n",
        "\n",
        "# Create a StringIndexer transformer\n",
        "indexer = StringIndexer(inputCol=\"business_id\", outputCol=\"business_id_index\")\n",
        "\n",
        "# Fit the indexer on the df_Review_spark DataFrame\n",
        "indexer_model = indexer.fit(df_res_sel)\n",
        "\n",
        "# Transform the df_Review_spark DataFrame to add the numerical index column\n",
        "df_res_sel = indexer_model.transform(df_res_sel).drop('business_id')\n",
        "\n"
      ]
    },
    {
      "cell_type": "code",
      "execution_count": 127,
      "metadata": {
        "id": "QRqHrow1kIDZ",
        "colab": {
          "base_uri": "https://localhost:8080/"
        },
        "outputId": "8df813b0-bb95-45a8-a959-9fc038208758"
      },
      "outputs": [
        {
          "output_type": "stream",
          "name": "stdout",
          "text": [
            "root\n",
            " |-- stars_review: double (nullable = true)\n",
            " |-- user_id_index: double (nullable = false)\n",
            " |-- business_id_index: double (nullable = false)\n",
            "\n"
          ]
        }
      ],
      "source": [
        "df_review_spark_indexed.printSchema()"
      ]
    },
    {
      "cell_type": "code",
      "source": [
        "df_res_sel.printSchema()"
      ],
      "metadata": {
        "colab": {
          "base_uri": "https://localhost:8080/"
        },
        "id": "-wHoasgHg3oJ",
        "outputId": "352ab198-06de-4512-d55e-789c3394e7be"
      },
      "execution_count": 128,
      "outputs": [
        {
          "output_type": "stream",
          "name": "stdout",
          "text": [
            "root\n",
            " |--  Acai Bowls: integer (nullable = true)\n",
            " |--  Active Life: integer (nullable = true)\n",
            " |--  Adult: integer (nullable = true)\n",
            " |--  Afghan: integer (nullable = true)\n",
            " |--  African: integer (nullable = true)\n",
            " |--  American (New): integer (nullable = true)\n",
            " |--  American (Traditional): integer (nullable = true)\n",
            " |--  Arabic: integer (nullable = true)\n",
            " |--  Arcades: integer (nullable = true)\n",
            " |--  Argentine: integer (nullable = true)\n",
            " |--  Arts & Entertainment: integer (nullable = true)\n",
            " |--  Asian Fusion: integer (nullable = true)\n",
            " |--  Automotive: integer (nullable = true)\n",
            " |--  Bagels: integer (nullable = true)\n",
            " |--  Bakeries: integer (nullable = true)\n",
            " |--  Bangladeshi: integer (nullable = true)\n",
            " |--  Barbeque: integer (nullable = true)\n",
            " |--  Bars: integer (nullable = true)\n",
            " |--  Bed & Breakfast: integer (nullable = true)\n",
            " |--  Beer: integer (nullable = true)\n",
            " |--  Beer Bar: integer (nullable = true)\n",
            " |--  Beer Gardens: integer (nullable = true)\n",
            " |--  Belgian: integer (nullable = true)\n",
            " |--  Beverage Store: integer (nullable = true)\n",
            " |--  Bowling: integer (nullable = true)\n",
            " |--  Brazilian: integer (nullable = true)\n",
            " |--  Breakfast & Brunch: integer (nullable = true)\n",
            " |--  Breweries: integer (nullable = true)\n",
            " |--  Brewpubs: integer (nullable = true)\n",
            " |--  British: integer (nullable = true)\n",
            " |--  Bubble Tea: integer (nullable = true)\n",
            " |--  Buffets: integer (nullable = true)\n",
            " |--  Burgers: integer (nullable = true)\n",
            " |--  Burmese: integer (nullable = true)\n",
            " |--  Butcher: integer (nullable = true)\n",
            " |--  Cafes: integer (nullable = true)\n",
            " |--  Cafeteria: integer (nullable = true)\n",
            " |--  Cajun/Creole: integer (nullable = true)\n",
            " |--  Cambodian: integer (nullable = true)\n",
            " |--  Cantonese: integer (nullable = true)\n",
            " |--  Caribbean: integer (nullable = true)\n",
            " |--  Casinos: integer (nullable = true)\n",
            " |--  Caterers: integer (nullable = true)\n",
            " |--  Cheese Shops: integer (nullable = true)\n",
            " |--  Cheesesteaks: integer (nullable = true)\n",
            " |--  Chicken Shop: integer (nullable = true)\n",
            " |--  Chicken Wings: integer (nullable = true)\n",
            " |--  Chinese: integer (nullable = true)\n",
            " |--  Chocolatiers & Shops: integer (nullable = true)\n",
            " |--  Cocktail Bars: integer (nullable = true)\n",
            " |--  Coffee & Tea: integer (nullable = true)\n",
            " |--  Coffee Roasteries: integer (nullable = true)\n",
            " |--  Comfort Food: integer (nullable = true)\n",
            " |--  Convenience Stores: integer (nullable = true)\n",
            " |--  Conveyor Belt Sushi: integer (nullable = true)\n",
            " |--  Country Clubs: integer (nullable = true)\n",
            " |--  Creperies: integer (nullable = true)\n",
            " |--  Cuban: integer (nullable = true)\n",
            " |--  Cupcakes: integer (nullable = true)\n",
            " |--  Custom Cakes: integer (nullable = true)\n",
            " |--  Czech: integer (nullable = true)\n",
            " |--  Dance Clubs: integer (nullable = true)\n",
            " |--  Delis: integer (nullable = true)\n",
            " |--  Desserts: integer (nullable = true)\n",
            " |--  Dim Sum: integer (nullable = true)\n",
            " |--  Diners: integer (nullable = true)\n",
            " |--  Dinner Theater: integer (nullable = true)\n",
            " |--  Dive Bars: integer (nullable = true)\n",
            " |--  Do-It-Yourself Food: integer (nullable = true)\n",
            " |--  Dominican: integer (nullable = true)\n",
            " |--  Donuts: integer (nullable = true)\n",
            " |--  Drugstores: integer (nullable = true)\n",
            " |--  Eatertainment: integer (nullable = true)\n",
            " |--  Ethiopian: integer (nullable = true)\n",
            " |--  Ethnic Food: integer (nullable = true)\n",
            " |--  Event Planning & Services: integer (nullable = true)\n",
            " |--  Falafel: integer (nullable = true)\n",
            " |--  Farmers Market: integer (nullable = true)\n",
            " |--  Farms: integer (nullable = true)\n",
            " |--  Fast Food: integer (nullable = true)\n",
            " |--  Filipino: integer (nullable = true)\n",
            " |--  Fish & Chips: integer (nullable = true)\n",
            " |--  Fitness & Instruction: integer (nullable = true)\n",
            " |--  Florists: integer (nullable = true)\n",
            " |--  Flowers & Gifts: integer (nullable = true)\n",
            " |--  Food: integer (nullable = true)\n",
            " |--  Food Court: integer (nullable = true)\n",
            " |--  Food Delivery Services: integer (nullable = true)\n",
            " |--  Food Stands: integer (nullable = true)\n",
            " |--  Food Trucks: integer (nullable = true)\n",
            " |--  French: integer (nullable = true)\n",
            " |--  Fruits & Veggies: integer (nullable = true)\n",
            " |--  Gas Stations: integer (nullable = true)\n",
            " |--  Gastropubs: integer (nullable = true)\n",
            " |--  Gay Bars: integer (nullable = true)\n",
            " |--  Gelato: integer (nullable = true)\n",
            " |--  German: integer (nullable = true)\n",
            " |--  Gluten-Free: integer (nullable = true)\n",
            " |--  Golf: integer (nullable = true)\n",
            " |--  Golf Lessons: integer (nullable = true)\n",
            " |--  Greek: integer (nullable = true)\n",
            " |--  Grocery: integer (nullable = true)\n",
            " |--  Gyms: integer (nullable = true)\n",
            " |--  Haitian: integer (nullable = true)\n",
            " |--  Halal: integer (nullable = true)\n",
            " |--  Hawaiian: integer (nullable = true)\n",
            " |--  Health & Medical: integer (nullable = true)\n",
            " |--  Health Markets: integer (nullable = true)\n",
            " |--  Himalayan/Nepalese: integer (nullable = true)\n",
            " |--  Hong Kong Style Cafe: integer (nullable = true)\n",
            " |--  Hot Dogs: integer (nullable = true)\n",
            " |--  Hot Pot: integer (nullable = true)\n",
            " |--  Hotels: integer (nullable = true)\n",
            " |--  Hotels & Travel: integer (nullable = true)\n",
            " |--  Iberian: integer (nullable = true)\n",
            " |--  Ice Cream & Frozen Yogurt: integer (nullable = true)\n",
            " |--  Imported Food: integer (nullable = true)\n",
            " |--  Indian: integer (nullable = true)\n",
            " |--  Indonesian: integer (nullable = true)\n",
            " |--  Indoor Playcentre: integer (nullable = true)\n",
            " |--  International Grocery: integer (nullable = true)\n",
            " |--  Irish: integer (nullable = true)\n",
            " |--  Irish Pub: integer (nullable = true)\n",
            " |--  Italian: integer (nullable = true)\n",
            " |--  Japanese: integer (nullable = true)\n",
            " |--  Japanese Curry: integer (nullable = true)\n",
            " |--  Jazz & Blues: integer (nullable = true)\n",
            " |--  Jewelry: integer (nullable = true)\n",
            " |--  Juice Bars & Smoothies: integer (nullable = true)\n",
            " |--  Karaoke: integer (nullable = true)\n",
            " |--  Kebab: integer (nullable = true)\n",
            " |--  Kids Activities: integer (nullable = true)\n",
            " |--  Korean: integer (nullable = true)\n",
            " |--  Kosher: integer (nullable = true)\n",
            " |--  Laotian: integer (nullable = true)\n",
            " |--  Latin American: integer (nullable = true)\n",
            " |--  Live/Raw Food: integer (nullable = true)\n",
            " |--  Local Flavor: integer (nullable = true)\n",
            " |--  Local Services: integer (nullable = true)\n",
            " |--  Lounges: integer (nullable = true)\n",
            " |--  Malaysian: integer (nullable = true)\n",
            " |--  Meat Shops: integer (nullable = true)\n",
            " |--  Mediterranean: integer (nullable = true)\n",
            " |--  Mexican: integer (nullable = true)\n",
            " |--  Middle Eastern: integer (nullable = true)\n",
            " |--  Modern European: integer (nullable = true)\n",
            " |--  Mongolian: integer (nullable = true)\n",
            " |--  Moroccan: integer (nullable = true)\n",
            " |--  Museums: integer (nullable = true)\n",
            " |--  Music Venues: integer (nullable = true)\n",
            " |--  New Mexican Cuisine: integer (nullable = true)\n",
            " |--  Nightlife: integer (nullable = true)\n",
            " |--  Noodles: integer (nullable = true)\n",
            " |--  Nutritionists: integer (nullable = true)\n",
            " |--  Organic Stores: integer (nullable = true)\n",
            " |--  Paint & Sip: integer (nullable = true)\n",
            " |--  Pakistani: integer (nullable = true)\n",
            " |--  Pan Asian: integer (nullable = true)\n",
            " |--  Party & Event Planning: integer (nullable = true)\n",
            " |--  Pasta Shops: integer (nullable = true)\n",
            " |--  Patisserie/Cake Shop: integer (nullable = true)\n",
            " |--  Performing Arts: integer (nullable = true)\n",
            " |--  Persian/Iranian: integer (nullable = true)\n",
            " |--  Peruvian: integer (nullable = true)\n",
            " |--  Pets: integer (nullable = true)\n",
            " |--  Pizza: integer (nullable = true)\n",
            " |--  Poke: integer (nullable = true)\n",
            " |--  Polish: integer (nullable = true)\n",
            " |--  Pool Halls: integer (nullable = true)\n",
            " |--  Pop-Up Restaurants: integer (nullable = true)\n",
            " |--  Portuguese: integer (nullable = true)\n",
            " |--  Pretzels: integer (nullable = true)\n",
            " |--  Professional Services: integer (nullable = true)\n",
            " |--  Pubs: integer (nullable = true)\n",
            " |--  Puerto Rican: integer (nullable = true)\n",
            " |--  Ramen: integer (nullable = true)\n",
            " |--  Recycling Center: integer (nullable = true)\n",
            " |--  Resorts: integer (nullable = true)\n",
            " |--  Restaurant Supplies: integer (nullable = true)\n",
            " |--  Russian: integer (nullable = true)\n",
            " |--  Salad: integer (nullable = true)\n",
            " |--  Salvadoran: integer (nullable = true)\n",
            " |--  Sandwiches: integer (nullable = true)\n",
            " |--  Sardinian: integer (nullable = true)\n",
            " |--  Seafood: integer (nullable = true)\n",
            " |--  Seafood Markets: integer (nullable = true)\n",
            " |--  Senegalese: integer (nullable = true)\n",
            " |--  Shanghainese: integer (nullable = true)\n",
            " |--  Shaved Ice: integer (nullable = true)\n",
            " |--  Shopping: integer (nullable = true)\n",
            " |--  Shopping Centers: integer (nullable = true)\n",
            " |--  Social Clubs: integer (nullable = true)\n",
            " |--  Soul Food: integer (nullable = true)\n",
            " |--  Soup: integer (nullable = true)\n",
            " |--  Southern: integer (nullable = true)\n",
            " |--  Spanish: integer (nullable = true)\n",
            " |--  Specialty Food: integer (nullable = true)\n",
            " |--  Sports Bars: integer (nullable = true)\n",
            " |--  Sports Clubs: integer (nullable = true)\n",
            " |--  Steakhouses: integer (nullable = true)\n",
            " |--  Street Vendors: integer (nullable = true)\n",
            " |--  Sushi Bars: integer (nullable = true)\n",
            " |--  Syrian: integer (nullable = true)\n",
            " |--  Szechuan: integer (nullable = true)\n",
            " |--  Tabletop Games: integer (nullable = true)\n",
            " |--  Tacos: integer (nullable = true)\n",
            " |--  Taiwanese: integer (nullable = true)\n",
            " |--  Tapas Bars: integer (nullable = true)\n",
            " |--  Tapas/Small Plates: integer (nullable = true)\n",
            " |--  Tea Rooms: integer (nullable = true)\n",
            " |--  Teppanyaki: integer (nullable = true)\n",
            " |--  Tex-Mex: integer (nullable = true)\n",
            " |--  Thai: integer (nullable = true)\n",
            " |--  Themed Cafes: integer (nullable = true)\n",
            " |--  Trinidadian: integer (nullable = true)\n",
            " |--  Turkish: integer (nullable = true)\n",
            " |--  Ukrainian: integer (nullable = true)\n",
            " |--  Uzbek: integer (nullable = true)\n",
            " |--  Vegan: integer (nullable = true)\n",
            " |--  Vegetarian: integer (nullable = true)\n",
            " |--  Venues & Event Spaces: integer (nullable = true)\n",
            " |--  Vietnamese: integer (nullable = true)\n",
            " |--  Waffles: integer (nullable = true)\n",
            " |--  Watches: integer (nullable = true)\n",
            " |--  Wedding Planning: integer (nullable = true)\n",
            " |--  Whiskey Bars: integer (nullable = true)\n",
            " |--  Wholesalers: integer (nullable = true)\n",
            " |--  Wine & Spirits: integer (nullable = true)\n",
            " |--  Wine Bars: integer (nullable = true)\n",
            " |--  Wineries: integer (nullable = true)\n",
            " |--  Wraps: integer (nullable = true)\n",
            " |--  Yelp Events: integer (nullable = true)\n",
            " |--  Yoga: integer (nullable = true)\n",
            " |-- AcceptsInsurance: integer (nullable = false)\n",
            " |-- AgesAllowed: integer (nullable = false)\n",
            " |-- Alcohol: integer (nullable = false)\n",
            " |-- BYOB: integer (nullable = false)\n",
            " |-- BYOBCorkage: integer (nullable = false)\n",
            " |-- BestNights: integer (nullable = false)\n",
            " |-- BikeParking: integer (nullable = false)\n",
            " |-- BusinessAcceptsBitcoin: integer (nullable = false)\n",
            " |-- BusinessAcceptsCreditCards: integer (nullable = false)\n",
            " |-- ByAppointmentOnly: integer (nullable = false)\n",
            " |-- Caters: integer (nullable = false)\n",
            " |-- CoatCheck: integer (nullable = false)\n",
            " |-- Corkage: integer (nullable = false)\n",
            " |-- DietaryRestrictions: integer (nullable = false)\n",
            " |-- DogsAllowed: integer (nullable = false)\n",
            " |-- DriveThru: integer (nullable = false)\n",
            " |-- GoodForDancing: integer (nullable = false)\n",
            " |-- GoodForKids: integer (nullable = false)\n",
            " |-- HairSpecializesIn: integer (nullable = false)\n",
            " |-- HappyHour: integer (nullable = false)\n",
            " |-- HasTV: integer (nullable = false)\n",
            " |-- Music: integer (nullable = false)\n",
            " |-- NoiseLevel: integer (nullable = false)\n",
            " |-- Open24Hours: integer (nullable = false)\n",
            " |-- OutdoorSeating: integer (nullable = false)\n",
            " |-- RestaurantsAttire: integer (nullable = false)\n",
            " |-- RestaurantsCounterService: integer (nullable = false)\n",
            " |-- RestaurantsDelivery: integer (nullable = false)\n",
            " |-- RestaurantsGoodForGroups: integer (nullable = false)\n",
            " |-- RestaurantsPriceRange2: integer (nullable = false)\n",
            " |-- RestaurantsReservations: integer (nullable = false)\n",
            " |-- RestaurantsTableService: integer (nullable = false)\n",
            " |-- RestaurantsTakeOut: integer (nullable = false)\n",
            " |-- Smoking: integer (nullable = false)\n",
            " |-- WheelchairAccessible: integer (nullable = false)\n",
            " |-- WiFi: integer (nullable = false)\n",
            " |-- romantic: integer (nullable = false)\n",
            " |-- intimate: integer (nullable = false)\n",
            " |-- classy: integer (nullable = false)\n",
            " |-- hipster: integer (nullable = false)\n",
            " |-- divey: integer (nullable = false)\n",
            " |-- touristy: integer (nullable = false)\n",
            " |-- trendy: integer (nullable = false)\n",
            " |-- upscale: integer (nullable = false)\n",
            " |-- casual: integer (nullable = false)\n",
            " |-- garage: integer (nullable = false)\n",
            " |-- street: integer (nullable = false)\n",
            " |-- validated: integer (nullable = false)\n",
            " |-- lot: integer (nullable = false)\n",
            " |-- valet: integer (nullable = false)\n",
            " |-- dessert: integer (nullable = false)\n",
            " |-- latenight: integer (nullable = false)\n",
            " |-- lunch: integer (nullable = false)\n",
            " |-- dinner: integer (nullable = false)\n",
            " |-- brunch: integer (nullable = false)\n",
            " |-- breakfast: integer (nullable = false)\n",
            " |-- name: string (nullable = true)\n",
            " |-- stars: double (nullable = true)\n",
            " |-- business_id_index: double (nullable = false)\n",
            "\n"
          ]
        }
      ]
    },
    {
      "cell_type": "code",
      "source": [
        "df_res_sel = df_res_sel.withColumnRenamed(\"business_id_index\", \"df_res_sel_business_id_index\")"
      ],
      "metadata": {
        "id": "kAjV4N6khEtN"
      },
      "execution_count": 129,
      "outputs": []
    },
    {
      "cell_type": "code",
      "execution_count": 130,
      "metadata": {
        "id": "McM6safwJLGL"
      },
      "outputs": [],
      "source": [
        "historical_data_stars = df_review_spark_indexed.filter(col('user_id_index') == 14269.0).join(df_res_sel, on=col('business_id_index')==col('df_res_sel_business_id_index')).select('user_id_index','business_id_index','name','stars_review')"
      ]
    },
    {
      "cell_type": "code",
      "execution_count": 131,
      "metadata": {
        "id": "w4-7M-unJcP3",
        "colab": {
          "base_uri": "https://localhost:8080/"
        },
        "outputId": "70ee23ca-76b7-48c0-c3e5-2c91e4b0c19b"
      },
      "outputs": [
        {
          "output_type": "stream",
          "name": "stdout",
          "text": [
            "root\n",
            " |-- user_id_index: double (nullable = false)\n",
            " |-- business_id_index: double (nullable = false)\n",
            " |-- name: string (nullable = true)\n",
            " |-- stars_review: double (nullable = true)\n",
            "\n"
          ]
        }
      ],
      "source": [
        "historical_data_stars.printSchema()"
      ]
    },
    {
      "cell_type": "code",
      "execution_count": 132,
      "metadata": {
        "id": "gOWR_xUrLXMT"
      },
      "outputs": [],
      "source": [
        "#Union with the DataFrame business_profiles_df to obtain information about recommended businesses\n",
        "df_res_sel = df_res_sel.withColumnRenamed('business_id_index','df_res_sel_business_id_index')\n",
        "recommended_businesses = user_similarity.join(df_res_sel, user_similarity.business_id_index == df_res_sel.df_res_sel_business_id_index, how='inner').drop('df_res_sel_business_id_index').select(\"business_id_index\",\"name\",\"business_features\",\"user_id_index\",\"user_features\",\"business_features_resized\",\"user_features_resized\",\"similarity\")\n",
        "\n",
        "#Visualize the recommended business\n",
        "#recommended_businesses.show(5)"
      ]
    },
    {
      "cell_type": "code",
      "execution_count": 133,
      "metadata": {
        "id": "WLXL-o9kMZcK",
        "colab": {
          "base_uri": "https://localhost:8080/"
        },
        "outputId": "0d2a6153-72a3-4fdf-b7d6-46a9514f8461"
      },
      "outputs": [
        {
          "output_type": "stream",
          "name": "stdout",
          "text": [
            "root\n",
            " |-- business_id_index: double (nullable = false)\n",
            " |-- name: string (nullable = true)\n",
            " |-- business_features: vector (nullable = true)\n",
            " |-- user_id_index: double (nullable = false)\n",
            " |-- user_features: vector (nullable = true)\n",
            " |-- business_features_resized: vector (nullable = true)\n",
            " |-- user_features_resized: vector (nullable = true)\n",
            " |-- similarity: string (nullable = true)\n",
            "\n"
          ]
        }
      ],
      "source": [
        "recommended_businesses.printSchema()"
      ]
    },
    {
      "cell_type": "markdown",
      "metadata": {
        "id": "0pmxPtrX66HJ"
      },
      "source": [
        "Introducing the historical data for the predictions"
      ]
    },
    {
      "cell_type": "code",
      "execution_count": 134,
      "metadata": {
        "id": "i6NP9OaBJqDQ"
      },
      "outputs": [],
      "source": [
        "from pyspark.sql.functions import udf\n",
        "from pyspark.sql.types import ArrayType, DoubleType\n",
        "\n",
        "# Define a UDF (User Defined Function) to convert the struct column to an array of double\n",
        "convert_array_udf = udf(lambda struct_col: struct_col[\"values\"], ArrayType(DoubleType()))\n",
        "\n",
        "# Apply the UDF to convert the column to the correct type in 'recommended_businesses'\n",
        "recommended_businesses = recommended_businesses.withColumn(\"business_features\", convert_array_udf(\"business_features\"))\n",
        "\n",
        "ground_truth = cross_business_user.withColumn(\"business_features_resized\", convert_array_udf(\"business_features_resized\"))\n",
        "\n",
        "\n",
        "# Perform the join and select the desired columns\n",
        "predictions = recommended_businesses.join(historical_data_stars, [\"user_id_index\", \"business_id_index\"], how=\"inner\") \\\n",
        "                                    .na.fill(0) \\\n",
        "                                    .select(\"user_id_index\", \"business_id_index\", \"business_features\", \"stars_review\")\n",
        "\n"
      ]
    },
    {
      "cell_type": "code",
      "execution_count": 135,
      "metadata": {
        "id": "KSMRCrkxJwvI",
        "colab": {
          "base_uri": "https://localhost:8080/"
        },
        "outputId": "0909ac3b-ff46-475c-99e1-1067899e6366"
      },
      "outputs": [
        {
          "output_type": "stream",
          "name": "stdout",
          "text": [
            "root\n",
            " |-- user_id_index: double (nullable = false)\n",
            " |-- business_id_index: double (nullable = false)\n",
            " |-- business_features: array (nullable = true)\n",
            " |    |-- element: double (containsNull = true)\n",
            " |-- stars_review: double (nullable = false)\n",
            "\n"
          ]
        }
      ],
      "source": [
        "predictions.printSchema()"
      ]
    },
    {
      "cell_type": "code",
      "execution_count": 136,
      "metadata": {
        "id": "PpMqckBgNlsu"
      },
      "outputs": [],
      "source": [
        "from pyspark.sql.functions import col, expr\n",
        "from pyspark.ml.evaluation import RankingEvaluator\n",
        "\n",
        "# Sort the recommendations for each user by relevance score\n",
        "predictions = predictions.withColumn(\"user_id_index\", col(\"user_id_index\").cast(\"integer\"))\n",
        "predictions = predictions.orderBy(\"user_id_index\", col(\"stars_review\").desc())\n",
        "\n",
        "# Group recommendations for each user and create a list of recommended businesses\n",
        "grouped_predictions = predictions.groupBy(\"user_id_index\").agg(expr(\"collect_list(business_id_index) as recommendations\"))\n",
        "\n",
        "\n",
        "# Merge test data with recommendations\n",
        "joined_data = ground_truth.select(\n",
        "    col('business_id_index').alias('business_id_index_gt'),\n",
        "    col('user_id_index').alias('user_id_index_gt'),\n",
        "    col('business_features_resized')\n",
        ").join(\n",
        "    grouped_predictions,\n",
        "    on=col('user_id_index_gt') == col(\"user_id_index\")\n",
        ").join(\n",
        "    predictions.select(\"user_id_index\", \"business_id_index\", \"stars_review\"),\n",
        "    on=col('business_id_index') == col(\"business_id_index_gt\"),\n",
        "    how=\"left\"\n",
        ")\n",
        "\n",
        "joined_data = joined_data.withColumn(\"business_id_index_gt\", col(\"business_id_index_gt\").cast(\"integer\"))\n",
        "joined_data = joined_data.withColumn(\"user_id_index_gt\", col(\"user_id_index_gt\").cast(\"integer\"))\n",
        "\n"
      ]
    },
    {
      "cell_type": "markdown",
      "metadata": {
        "id": "E75ihFGf6u0C"
      },
      "source": [
        "Evaluation of my recommender system with NDCG"
      ]
    },
    {
      "cell_type": "code",
      "execution_count": 137,
      "metadata": {
        "id": "GoM_OZpQN0eH",
        "colab": {
          "base_uri": "https://localhost:8080/"
        },
        "outputId": "cd171e0c-ee79-4675-8a60-fbe58663d36e"
      },
      "outputs": [
        {
          "output_type": "stream",
          "name": "stdout",
          "text": [
            "NDCG: 0.33141829507855797\n"
          ]
        }
      ],
      "source": [
        "from pyspark.sql.functions import expr\n",
        "\n",
        "# NDCG calculation\n",
        "ndcg = (\n",
        "    joined_data\n",
        "    .withColumn(\"dcg\", expr(\"1 / (log2(row_number() over (partition by user_id_index_gt order by stars_review desc)) + 1)\"))\n",
        "    .withColumn(\"idcg\", expr(\"1 / (log2(5) + 1)\"))\n",
        "    .groupBy(\"user_id_index_gt\")\n",
        "    .agg(expr(\"sum(dcg) as dcg_sum\"), expr(\"sum(idcg) as idcg_sum\"))\n",
        "    .select(expr(\"dcg_sum / idcg_sum\").alias(\"ndcg\"))\n",
        "    .collect()[0][0]\n",
        ")\n",
        "\n",
        "print(\"NDCG:\", ndcg)\n"
      ]
    }
  ],
  "metadata": {
    "colab": {
      "toc_visible": true,
      "provenance": [],
      "collapsed_sections": [
        "qmjbl2xmKWic"
      ]
    },
    "kernelspec": {
      "display_name": "Python 3",
      "name": "python3"
    },
    "language_info": {
      "name": "python"
    }
  },
  "nbformat": 4,
  "nbformat_minor": 0
}